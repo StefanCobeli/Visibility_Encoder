{
 "cells": [
  {
   "cell_type": "markdown",
   "id": "a03d8211",
   "metadata": {},
   "source": [
    "Steps:\n",
    "\n",
    "\n",
    "1. Read data.\n",
    "2. Train test splits.\n",
    "3. Split train in multiple fragments 50, 100, ..., 20k\n",
    "\n",
    "\n",
    "4. Train Ridge / dummy regressor on field.\n",
    "5. Train NeRF on train split.\n",
    "5. record the two performances on test set."
   ]
  },
  {
   "cell_type": "markdown",
   "id": "aced3c3e",
   "metadata": {},
   "source": [
    "# Zip code analysis / geographical region investigation"
   ]
  },
  {
   "cell_type": "code",
   "execution_count": 1,
   "id": "5b097da0",
   "metadata": {},
   "outputs": [
    {
     "data": {
      "text/plain": [
       "array([100])"
      ]
     },
     "execution_count": 1,
     "metadata": {},
     "output_type": "execute_result"
    }
   ],
   "source": [
    "import numpy as np\n",
    "# train_percentages = np.arange(10, 101, 10)\n",
    "train_percentages = np.arange(100, 101, 10)\n",
    "train_percentages"
   ]
  },
  {
   "cell_type": "markdown",
   "id": "0a88b302",
   "metadata": {},
   "source": [
    "# 0. Data Preparation / Physicial location Splits \n"
   ]
  },
  {
   "cell_type": "code",
   "execution_count": 2,
   "id": "4687498d",
   "metadata": {},
   "outputs": [],
   "source": [
    "# 1. Read data.\n",
    "from utils.scripts.architectures.train_location_encoder import process_locations_visibility_data_frame\n",
    "import numpy as np\n",
    "import pandas as pd\n",
    "\n",
    "data_loc = \"./utils/assets/data\"\n",
    "\n",
    "# vis_df_n, norm_params, non_empty_classes = process_locations_visibility_data_frame(f\"{data_loc}/locations.csv\")\n",
    "\n",
    "# vis_raw_df = pd.read_csv(f\"{data_loc}/locations.csv\")\n",
    "vis_raw_df = pd.read_csv(f\"{data_loc}/fullVisibilityData_11182024.csv\")\n",
    "# np.random.seed(1)\n",
    "# vis_raw_df = vis_raw_df.sample(frac=1)\n",
    "# splits_folder_name = \"splits_physical\"\n",
    "splits_folder_name = \"semantics_final\"\n"
   ]
  },
  {
   "cell_type": "code",
   "execution_count": 3,
   "id": "5de54195",
   "metadata": {},
   "outputs": [],
   "source": [
    "# vis_raw_df.shape[0]/6\n",
    "# (vis_raw_df.shape[0] * .19), (vis_raw_df.shape[0] * .20), 15000/6\n",
    "\n",
    "# num_test_physical_locations = 800\n",
    "num_test_physical_locations = 2500"
   ]
  },
  {
   "cell_type": "code",
   "execution_count": 4,
   "id": "94efaf10",
   "metadata": {},
   "outputs": [
    {
     "name": "stdout",
     "output_type": "stream",
     "text": [
      "Detected 13,116 physical locations and shuffled their order.\n",
      "Splited in 10,616 train and 2,500 test locations.\n",
      "Sorted data frame by physical location.\n",
      "\n",
      "Taken 15,000 test samples according to the 2500 test location indexes.\n",
      "Normalizing each label value by: 518,400\n",
      "Selected label indexes: [0 1 2 3 4 5 6 7] [ True  True  True  True  True  True  True  True]\n",
      "\n",
      "Normalized f_xyz between -1 ([-1. -1. -1. -1. -1. -1. -1. -1.]) and 1 ([ 1.          1.         -0.7119213  -0.77133873  0.23229938  0.99790509\n",
      "  1.         -0.99418596]), considering the maximum label row value of 518400\n",
      "Taken 63,696 train samples according to the 10,616 train location indexes.\n"
     ]
    }
   ],
   "source": [
    "#Physical location shuffling:\n",
    "\n",
    "#1. location indexes sorted based on total number of locations\n",
    "location_indexes = np.arange(vis_raw_df.shape[0] // 6) #6 directions for each camera locations\n",
    "#1.b. shuffle location indexes\n",
    "np.random.seed(1)\n",
    "np.random.shuffle(location_indexes) #Inplace shuffling\n",
    "location_indexes\n",
    "print(f\"Detected {len(location_indexes):,} physical locations and shuffled their order.\")\n",
    "\n",
    "\n",
    "#2.a. test indexes are the first 800 (18% of 4372 total locations) shuffled locations indexes\n",
    "test_indexes = location_indexes[:num_test_physical_locations]\n",
    "#2.b train indexes are [800:] - based on training_percentages define train indexes splits\n",
    "full_train_indexes = location_indexes[num_test_physical_locations:]\n",
    "print(f\"Splited in {len(full_train_indexes):,} train and {len(test_indexes):,} test locations.\")\n",
    "\n",
    "\n",
    "#3. sort vis_df by x,y,z. \n",
    "vis_df_n = vis_raw_df.sort_values(by=[\"x\", \"y\", \"z\"]).reset_index(drop=True)\n",
    "print(\"Sorted data frame by physical location.\")\n",
    "\n",
    "#4. map location indexes to tuples of 6 rows.\n",
    "test_sample_indexes = [i for ti in test_indexes for i in (np.arange(6) + 6 * ti)]\n",
    "test_df = vis_df_n.take(test_sample_indexes)\n",
    "print(f\"\\nTaken {test_df.shape[0]:,} test samples according to the {len(test_indexes)} test location indexes.\")\n",
    "file_name = f\"{data_loc}/{splits_folder_name}/test_set_{test_df.shape[0]}\"\n",
    "test_df.to_csv(f\"{file_name}.csv\", index=False)\n",
    "test_df, _, _ = process_locations_visibility_data_frame(f\"{file_name}.csv\")\n",
    "test_df.to_json(f\"{file_name}.json\", orient=\"records\", indent=4)\n",
    "# test_df.to_json(f\"{data_loc}/{splits_folder_name}/test_set_{test_df.shape[0]}.json\", orient=\"records\", indent=4)\n",
    "\n",
    "full_train_sample_indexes = [i for ti in full_train_indexes for i in (np.arange(6) + 6 * ti)]\n",
    "full_train_df = vis_df_n.take(full_train_sample_indexes)\n",
    "print(f\"Taken {full_train_df.shape[0]:,} train samples according to the {len(full_train_indexes):,} train location indexes.\")\n",
    "full_train_df.to_json(f\"{data_loc}/{splits_folder_name}/train_set_{full_train_df.shape[0]}.json\", orient=\"records\", indent=4)\n"
   ]
  },
  {
   "cell_type": "code",
   "execution_count": 5,
   "id": "e02dca1d",
   "metadata": {
    "scrolled": true
   },
   "outputs": [
    {
     "name": "stdout",
     "output_type": "stream",
     "text": [
      "Normalizing each label value by: 518,400\n",
      "Selected label indexes: [0 1 2 3 4 5 6 7] [ True  True  True  True  True  True  True  True]\n",
      "\n",
      "Normalized f_xyz between -1 ([-1. -1. -1. -1. -1. -1. -1. -1.]) and 1 ([ 1.          1.          0.10277392 -0.80943287  0.13684799  1.\n",
      "  1.         -0.98428241]), considering the maximum label row value of 518400\n",
      "\n",
      "Created train splits for the percentages: \n",
      "\t100%.\n"
     ]
    }
   ],
   "source": [
    "\n",
    "\n",
    "#5. Create train df fractions:\n",
    "\n",
    "train_fractions = train_percentages/100\n",
    "for fraction in train_fractions:\n",
    "    num_train_samples = int(fraction * len(full_train_sample_indexes))\n",
    "    train_df = full_train_df[:num_train_samples]\n",
    "    \n",
    "    file_name = f\"./utils/assets/data/{splits_folder_name}/train_set_{int(fraction * 100)}-percent\"\n",
    "    \n",
    "    np.random.seed(1)\n",
    "    train_df.sample(frac=1).to_csv(f\"{file_name}.csv\", index=False)\n",
    "    \n",
    "    \n",
    "    train_df, _, _ = process_locations_visibility_data_frame(f\"{file_name}.csv\")\n",
    "    train_df.to_json(f\"{file_name}.json\", orient=\"records\", indent=4)\n",
    "#     break\n",
    "    \n",
    "print(f\"\\nCreated train splits for the percentages: \\n\\t{'%   '.join(train_percentages.astype(str))}%.\")"
   ]
  },
  {
   "cell_type": "markdown",
   "id": "c74a46cf",
   "metadata": {},
   "source": [
    "# 1. Train simple ground truth interpolator"
   ]
  },
  {
   "cell_type": "code",
   "execution_count": 4,
   "id": "2b2e63c7",
   "metadata": {},
   "outputs": [],
   "source": [
    "import pandas as pd\n",
    "\n",
    "\n",
    "# splits_folder_name = \"splits_physical\"\n",
    "splits_folder_name = \"semantics_final\"\n",
    "\n",
    "test_df  = pd.read_json(f\"{data_loc}/{splits_folder_name}/test_set_4800.json\")"
   ]
  },
  {
   "cell_type": "markdown",
   "id": "c62853f1",
   "metadata": {},
   "source": [
    "# 2. Train `NeRF` interpolator."
   ]
  },
  {
   "cell_type": "code",
   "execution_count": 6,
   "id": "a3baa3ce",
   "metadata": {
    "scrolled": true
   },
   "outputs": [
    {
     "name": "stdout",
     "output_type": "stream",
     "text": [
      "1. Training on 10% of the data:\n",
      "Found 4 classes appearing more than 5.0%: [' building' ' water' ' tree' ' sky']\n",
      "Training data percentace 100.00% - 1,714 samples, for 350 epochs:\n"
     ]
    },
    {
     "name": "stderr",
     "output_type": "stream",
     "text": [
      "Epoch 350 / 350- Training loss 0.13354 - test loss 0.17609: 100%|█████████████████████████████████████████████████████████████████████████████████████████████| 350/350 [02:06<00:00,  2.77it/s]\n"
     ]
    },
    {
     "name": "stdout",
     "output_type": "stream",
     "text": [
      "Model weights saved at:\n",
      "\t./utils/assets/data/splits_physical/models/encoder_10.pt\n",
      "\n",
      "Training for \n",
      "\t350     epochs took: \n",
      "\t126s, for an average of: \n",
      "\t0.4s per epoch.\n",
      "2. Training on 20% of the data:\n",
      "Found 4 classes appearing more than 5.0%: [' building' ' water' ' tree' ' sky']\n",
      "Training data percentace 100.00% - 3,428 samples, for 350 epochs:\n"
     ]
    },
    {
     "name": "stderr",
     "output_type": "stream",
     "text": [
      "Epoch 350 / 350- Training loss 0.12762 - test loss 0.16861: 100%|█████████████████████████████████████████████████████████████████████████████████████████████| 350/350 [04:17<00:00,  1.36it/s]\n"
     ]
    },
    {
     "name": "stdout",
     "output_type": "stream",
     "text": [
      "Model weights saved at:\n",
      "\t./utils/assets/data/splits_physical/models/encoder_20.pt\n",
      "\n",
      "Training for \n",
      "\t350     epochs took: \n",
      "\t257s, for an average of: \n",
      "\t0.7s per epoch.\n",
      "3. Training on 30% of the data:\n",
      "Found 4 classes appearing more than 5.0%: [' building' ' water' ' tree' ' sky']\n",
      "Training data percentace 100.00% - 5,143 samples, for 350 epochs:\n"
     ]
    },
    {
     "name": "stderr",
     "output_type": "stream",
     "text": [
      "Epoch 350 / 350- Training loss 0.11861 - test loss 0.16822: 100%|█████████████████████████████████████████████████████████████████████████████████████████████| 350/350 [07:35<00:00,  1.30s/it]\n"
     ]
    },
    {
     "name": "stdout",
     "output_type": "stream",
     "text": [
      "Model weights saved at:\n",
      "\t./utils/assets/data/splits_physical/models/encoder_30.pt\n",
      "\n",
      "Training for \n",
      "\t350     epochs took: \n",
      "\t455s, for an average of: \n",
      "\t1.3s per epoch.\n",
      "4. Training on 40% of the data:\n",
      "Found 4 classes appearing more than 5.0%: [' building' ' water' ' tree' ' sky']\n",
      "Training data percentace 100.00% - 6,857 samples, for 350 epochs:\n"
     ]
    },
    {
     "name": "stderr",
     "output_type": "stream",
     "text": [
      "Epoch 350 / 350- Training loss 0.11249 - test loss 0.15491: 100%|█████████████████████████████████████████████████████████████████████████████████████████████| 350/350 [12:07<00:00,  2.08s/it]\n"
     ]
    },
    {
     "name": "stdout",
     "output_type": "stream",
     "text": [
      "Model weights saved at:\n",
      "\t./utils/assets/data/splits_physical/models/encoder_40.pt\n",
      "\n",
      "Training for \n",
      "\t350     epochs took: \n",
      "\t727s, for an average of: \n",
      "\t2.1s per epoch.\n",
      "5. Training on 50% of the data:\n",
      "Found 4 classes appearing more than 5.0%: [' building' ' water' ' tree' ' sky']\n",
      "Training data percentace 100.00% - 8,572 samples, for 350 epochs:\n"
     ]
    },
    {
     "name": "stderr",
     "output_type": "stream",
     "text": [
      "Epoch 350 / 350- Training loss 0.10650 - test loss 0.15855: 100%|█████████████████████████████████████████████████████████████████████████████████████████████| 350/350 [13:30<00:00,  2.32s/it]\n"
     ]
    },
    {
     "name": "stdout",
     "output_type": "stream",
     "text": [
      "Model weights saved at:\n",
      "\t./utils/assets/data/splits_physical/models/encoder_50.pt\n",
      "\n",
      "Training for \n",
      "\t350     epochs took: \n",
      "\t811s, for an average of: \n",
      "\t2.3s per epoch.\n",
      "6. Training on 60% of the data:\n",
      "Found 4 classes appearing more than 5.0%: [' building' ' water' ' tree' ' sky']\n",
      "Training data percentace 100.00% - 10,287 samples, for 350 epochs:\n"
     ]
    },
    {
     "name": "stderr",
     "output_type": "stream",
     "text": [
      "Epoch 350 / 350- Training loss 0.10470 - test loss 0.14388: 100%|█████████████████████████████████████████████████████████████████████████████████████████████| 350/350 [14:01<00:00,  2.40s/it]\n"
     ]
    },
    {
     "name": "stdout",
     "output_type": "stream",
     "text": [
      "Model weights saved at:\n",
      "\t./utils/assets/data/splits_physical/models/encoder_60.pt\n",
      "\n",
      "Training for \n",
      "\t350     epochs took: \n",
      "\t841s, for an average of: \n",
      "\t2.4s per epoch.\n",
      "7. Training on 70% of the data:\n",
      "Found 4 classes appearing more than 5.0%: [' building' ' water' ' tree' ' sky']\n",
      "Training data percentace 100.00% - 12,001 samples, for 350 epochs:\n"
     ]
    },
    {
     "name": "stderr",
     "output_type": "stream",
     "text": [
      "Epoch 350 / 350- Training loss 0.10578 - test loss 0.13881: 100%|█████████████████████████████████████████████████████████████████████████████████████████████| 350/350 [15:04<00:00,  2.58s/it]\n"
     ]
    },
    {
     "name": "stdout",
     "output_type": "stream",
     "text": [
      "Model weights saved at:\n",
      "\t./utils/assets/data/splits_physical/models/encoder_70.pt\n",
      "\n",
      "Training for \n",
      "\t350     epochs took: \n",
      "\t905s, for an average of: \n",
      "\t2.6s per epoch.\n",
      "8. Training on 80% of the data:\n",
      "Found 4 classes appearing more than 5.0%: [' building' ' water' ' tree' ' sky']\n",
      "Training data percentace 100.00% - 13,716 samples, for 350 epochs:\n"
     ]
    },
    {
     "name": "stderr",
     "output_type": "stream",
     "text": [
      "Epoch 350 / 350- Training loss 0.10535 - test loss 0.13387: 100%|█████████████████████████████████████████████████████████████████████████████████████████████| 350/350 [19:44<00:00,  3.39s/it]\n"
     ]
    },
    {
     "name": "stdout",
     "output_type": "stream",
     "text": [
      "Model weights saved at:\n",
      "\t./utils/assets/data/splits_physical/models/encoder_80.pt\n",
      "\n",
      "Training for \n",
      "\t350     epochs took: \n",
      "\t1,185s, for an average of: \n",
      "\t3.4s per epoch.\n",
      "9. Training on 90% of the data:\n",
      "Found 4 classes appearing more than 5.0%: [' building' ' water' ' tree' ' sky']\n",
      "Training data percentace 100.00% - 15,430 samples, for 350 epochs:\n"
     ]
    },
    {
     "name": "stderr",
     "output_type": "stream",
     "text": [
      "Epoch 350 / 350- Training loss 0.10587 - test loss 0.15024: 100%|█████████████████████████████████████████████████████████████████████████████████████████████| 350/350 [11:18<00:00,  1.94s/it]\n"
     ]
    },
    {
     "name": "stdout",
     "output_type": "stream",
     "text": [
      "Model weights saved at:\n",
      "\t./utils/assets/data/splits_physical/models/encoder_90.pt\n",
      "\n",
      "Training for \n",
      "\t350     epochs took: \n",
      "\t679s, for an average of: \n",
      "\t1.9s per epoch.\n",
      "10. Training on 100% of the data:\n",
      "Found 4 classes appearing more than 5.0%: [' building' ' water' ' tree' ' sky']\n",
      "Training data percentace 100.00% - 17,145 samples, for 350 epochs:\n"
     ]
    },
    {
     "name": "stderr",
     "output_type": "stream",
     "text": [
      "Epoch 350 / 350- Training loss 0.10460 - test loss 0.13126: 100%|█████████████████████████████████████████████████████████████████████████████████████████████| 350/350 [11:25<00:00,  1.96s/it]"
     ]
    },
    {
     "name": "stdout",
     "output_type": "stream",
     "text": [
      "Model weights saved at:\n",
      "\t./utils/assets/data/splits_physical/models/encoder_100.pt\n",
      "\n",
      "Training for \n",
      "\t350     epochs took: \n",
      "\t685s, for an average of: \n",
      "\t2.0s per epoch.\n"
     ]
    },
    {
     "name": "stderr",
     "output_type": "stream",
     "text": [
      "\n"
     ]
    }
   ],
   "source": [
    "from utils.scripts.architectures.train_location_encoder \\\n",
    "import get_location_visibility_encoder, process_locations_visibility_data_frame\\\n",
    ", get_location_visibility_loaders, run_one_epoch_location_encoder, train_model_on_data\n",
    "\n",
    "\n",
    "from utils.scripts.architectures.torch_nerf_src import network\n",
    "\n",
    "import numpy as np\n",
    "import pandas as pd\n",
    "import torch\n",
    "\n",
    "\n",
    "from tqdm.notebook import tqdm\n",
    "\n",
    "data_loc   = \"./utils/assets/data\"\n",
    "ne  = 350\n",
    "sli = [0,1,5,6] #[' building' ' water' ' road ' ' sidewalk' ' surface' ' tree' ' sky']# \n",
    "# sli = [0,1,2,3,4,5,6,7]#['building', 'water', 'road ', 'sidewalk', 'surface', 'tree', 'sky', 'miscellaneous']\n",
    "\n",
    "\n",
    "\n",
    "# train_percentages = np.arange(10, 101, 10)\n",
    "\n",
    "for i, percentage in enumerate(train_percentages):\n",
    "    print(f\"{i+1}. Training on {percentage}% of the data:\")\n",
    "    file_store = f\"{data_loc}/{splits_folder_namesplits_physical}/train_set_{percentage}-percent.csv\"\n",
    "    model_name = f\"encoder_{percentage}.pt\"\n",
    "    # Train NeRF for ne epochs\n",
    "    encoder_net, tr_losses_history, test_losses_history, vdf \\\n",
    "    = train_model_on_data(data_path=file_store, num_epochs=ne, selected_label_indexes=sli, model_name=model_name)\n",
    "#     break\n",
    "\n"
   ]
  },
  {
   "cell_type": "markdown",
   "id": "69e4632a",
   "metadata": {},
   "source": [
    "# 2.b Compute `NeRF` predictions"
   ]
  },
  {
   "cell_type": "code",
   "execution_count": 30,
   "id": "59daef89",
   "metadata": {
    "scrolled": true
   },
   "outputs": [
    {
     "name": "stderr",
     "output_type": "stream",
     "text": [
      "\r",
      "0it [00:00, ?it/s]"
     ]
    },
    {
     "name": "stdout",
     "output_type": "stream",
     "text": [
      "Surface not initialized properly. Can only predict from raw position and direction.\n"
     ]
    },
    {
     "name": "stderr",
     "output_type": "stream",
     "text": [
      "\r",
      "1it [00:15, 15.22s/it]"
     ]
    },
    {
     "name": "stdout",
     "output_type": "stream",
     "text": [
      "Surface not initialized properly. Can only predict from raw position and direction.\n"
     ]
    },
    {
     "name": "stderr",
     "output_type": "stream",
     "text": [
      "\r",
      "2it [00:31, 15.74s/it]"
     ]
    },
    {
     "name": "stdout",
     "output_type": "stream",
     "text": [
      "Surface not initialized properly. Can only predict from raw position and direction.\n"
     ]
    },
    {
     "name": "stderr",
     "output_type": "stream",
     "text": [
      "\r",
      "3it [00:46, 15.53s/it]"
     ]
    },
    {
     "name": "stdout",
     "output_type": "stream",
     "text": [
      "Surface not initialized properly. Can only predict from raw position and direction.\n"
     ]
    },
    {
     "name": "stderr",
     "output_type": "stream",
     "text": [
      "\r",
      "4it [01:01, 15.35s/it]"
     ]
    },
    {
     "name": "stdout",
     "output_type": "stream",
     "text": [
      "Surface not initialized properly. Can only predict from raw position and direction.\n"
     ]
    },
    {
     "name": "stderr",
     "output_type": "stream",
     "text": [
      "\r",
      "5it [01:16, 15.19s/it]"
     ]
    },
    {
     "name": "stdout",
     "output_type": "stream",
     "text": [
      "Surface not initialized properly. Can only predict from raw position and direction.\n"
     ]
    },
    {
     "name": "stderr",
     "output_type": "stream",
     "text": [
      "\r",
      "6it [01:31, 15.23s/it]"
     ]
    },
    {
     "name": "stdout",
     "output_type": "stream",
     "text": [
      "Surface not initialized properly. Can only predict from raw position and direction.\n"
     ]
    },
    {
     "name": "stderr",
     "output_type": "stream",
     "text": [
      "\r",
      "7it [01:47, 15.28s/it]"
     ]
    },
    {
     "name": "stdout",
     "output_type": "stream",
     "text": [
      "Surface not initialized properly. Can only predict from raw position and direction.\n"
     ]
    },
    {
     "name": "stderr",
     "output_type": "stream",
     "text": [
      "\r",
      "8it [02:02, 15.25s/it]"
     ]
    },
    {
     "name": "stdout",
     "output_type": "stream",
     "text": [
      "Surface not initialized properly. Can only predict from raw position and direction.\n"
     ]
    },
    {
     "name": "stderr",
     "output_type": "stream",
     "text": [
      "\r",
      "9it [02:18, 15.39s/it]"
     ]
    },
    {
     "name": "stdout",
     "output_type": "stream",
     "text": [
      "Surface not initialized properly. Can only predict from raw position and direction.\n"
     ]
    },
    {
     "name": "stderr",
     "output_type": "stream",
     "text": [
      "10it [02:33, 15.34s/it]\n"
     ]
    }
   ],
   "source": [
    "from tqdm import tqdm\n",
    "# train_percentages = np.arange(10, 101, 10)\n",
    "\n",
    "# Initialize NeRFS model with weights of trainedNeRF model\n",
    "model_path      = f\"./utils/assets/data/{splits_folder_name}/models\"\n",
    "info_dict       = pd.read_json(f\"{model_path}/training_info_350.json\").to_dict()[0]\n",
    "norm_params                = (torch.tensor(info_dict[\"xyz_centroid\"]), torch.tensor(info_dict[\"xyz_max-min\"]), torch.tensor(info_dict[\"xyzh_centroid\"]), torch.tensor(info_dict[\"xyzh_max-min\"]))\n",
    "    \n",
    "nerf_predictions_per_percentage = {}\n",
    "nerf_predictions = []\n",
    "\n",
    "for i, percentage in tqdm(enumerate(train_percentages)):\n",
    "    trained_encoder            = network.nerfs.NeRFS(norm_params=norm_params, surface_type=\"square\", pos_dim=info_dict[\"enc_input_size\"], output_dim=info_dict[\"num_present_classes\"],  view_dir_dim=info_dict[\"enc_input_size\"])\n",
    "    trained_encoder.load_state_dict(torch.load(f\"{model_path}/encoder_{percentage}.pt\"))\n",
    "    \n",
    "    for i in range(test_df.shape[0]):\n",
    "        xyz  = torch.tensor(test_df.values[:,:6][i].astype(float)[:3])\n",
    "        xyzh = torch.tensor(test_df.values[:,:6][i].astype(float)[3:])\n",
    "\n",
    "        _,_, prediction = trained_encoder.predict_from_raw(xyz, xyzh)\n",
    "\n",
    "\n",
    "        nerf_predictions.append(prediction.detach().numpy()[0])\n",
    "    \n",
    "    nerf_predictions = np.vstack(nerf_predictions)\n",
    "    nerf_predictions_per_percentage[percentage] = nerf_predictions\n",
    "    nerf_predictions = []\n",
    "    \n",
    "# nerf_predictions.shape"
   ]
  },
  {
   "cell_type": "markdown",
   "id": "fba63fa7",
   "metadata": {},
   "source": [
    "# 3.  comparison between `NeRF` and vanilla interpolator"
   ]
  },
  {
   "cell_type": "markdown",
   "id": "d2462463",
   "metadata": {},
   "source": [
    "# Try a number of different vanilla regressors:"
   ]
  },
  {
   "cell_type": "code",
   "execution_count": 36,
   "id": "8bce1121",
   "metadata": {},
   "outputs": [
    {
     "name": "stdout",
     "output_type": "stream",
     "text": [
      "1 Neighbor test:\n"
     ]
    },
    {
     "name": "stderr",
     "output_type": "stream",
     "text": [
      "100%|███████████████████████████████████████████████████████████████████████████████████████████████████████████████████████████████████████████████████████████| 10/10 [00:01<00:00,  9.08it/s]\n"
     ]
    },
    {
     "name": "stdout",
     "output_type": "stream",
     "text": [
      "2 Neighbors test:\n"
     ]
    },
    {
     "name": "stderr",
     "output_type": "stream",
     "text": [
      "100%|███████████████████████████████████████████████████████████████████████████████████████████████████████████████████████████████████████████████████████████| 10/10 [00:01<00:00,  8.33it/s]\n"
     ]
    },
    {
     "name": "stdout",
     "output_type": "stream",
     "text": [
      "3 Neighbors test:\n"
     ]
    },
    {
     "name": "stderr",
     "output_type": "stream",
     "text": [
      "100%|███████████████████████████████████████████████████████████████████████████████████████████████████████████████████████████████████████████████████████████| 10/10 [00:01<00:00,  8.69it/s]\n"
     ]
    },
    {
     "name": "stdout",
     "output_type": "stream",
     "text": [
      "4 Neighbors test:\n"
     ]
    },
    {
     "name": "stderr",
     "output_type": "stream",
     "text": [
      "100%|███████████████████████████████████████████████████████████████████████████████████████████████████████████████████████████████████████████████████████████| 10/10 [00:01<00:00,  8.87it/s]\n"
     ]
    },
    {
     "name": "stdout",
     "output_type": "stream",
     "text": [
      "5 Neighbors test:\n"
     ]
    },
    {
     "name": "stderr",
     "output_type": "stream",
     "text": [
      "100%|███████████████████████████████████████████████████████████████████████████████████████████████████████████████████████████████████████████████████████████| 10/10 [00:01<00:00,  8.13it/s]\n"
     ]
    },
    {
     "name": "stdout",
     "output_type": "stream",
     "text": [
      "6 Neighbors test:\n"
     ]
    },
    {
     "name": "stderr",
     "output_type": "stream",
     "text": [
      "100%|███████████████████████████████████████████████████████████████████████████████████████████████████████████████████████████████████████████████████████████| 10/10 [00:01<00:00,  7.73it/s]\n"
     ]
    },
    {
     "name": "stdout",
     "output_type": "stream",
     "text": [
      "7 Neighbors test:\n"
     ]
    },
    {
     "name": "stderr",
     "output_type": "stream",
     "text": [
      "100%|███████████████████████████████████████████████████████████████████████████████████████████████████████████████████████████████████████████████████████████| 10/10 [00:01<00:00,  9.11it/s]\n"
     ]
    },
    {
     "name": "stdout",
     "output_type": "stream",
     "text": [
      "10 Neighbors test:\n"
     ]
    },
    {
     "name": "stderr",
     "output_type": "stream",
     "text": [
      "100%|███████████████████████████████████████████████████████████████████████████████████████████████████████████████████████████████████████████████████████████| 10/10 [00:01<00:00,  8.23it/s]\n"
     ]
    },
    {
     "name": "stdout",
     "output_type": "stream",
     "text": [
      "15 Neighbors test:\n"
     ]
    },
    {
     "name": "stderr",
     "output_type": "stream",
     "text": [
      "100%|███████████████████████████████████████████████████████████████████████████████████████████████████████████████████████████████████████████████████████████| 10/10 [00:01<00:00,  7.94it/s]\n"
     ]
    },
    {
     "name": "stdout",
     "output_type": "stream",
     "text": [
      "20 Neighbors test:\n"
     ]
    },
    {
     "name": "stderr",
     "output_type": "stream",
     "text": [
      "100%|███████████████████████████████████████████████████████████████████████████████████████████████████████████████████████████████████████████████████████████| 10/10 [00:01<00:00,  7.39it/s]\n"
     ]
    }
   ],
   "source": [
    "# 4. Train Ridge / dummy regressor on field.\n",
    "\n",
    "import numpy as np\n",
    "import matplotlib.pyplot as plt\n",
    "\n",
    "from sklearn.neighbors import KNeighborsRegressor\n",
    "\n",
    "from sklearn.ensemble import RandomForestRegressor\n",
    "from sklearn.linear_model import Ridge\n",
    "\n",
    "vanilla_predictors = {\n",
    "                    \"1 Neighbor\" : KNeighborsRegressor(n_neighbors=1),\\\n",
    "                    \"2 Neighbors\" : KNeighborsRegressor(n_neighbors=2),\\\n",
    "                    \"3 Neighbors\" : KNeighborsRegressor(n_neighbors=3),\\\n",
    "                    \"4 Neighbors\" : KNeighborsRegressor(n_neighbors=4),\\\n",
    "                    \"5 Neighbors\" : KNeighborsRegressor(n_neighbors=5),\\\n",
    "                    \"6 Neighbors\" : KNeighborsRegressor(n_neighbors=6),\\\n",
    "                    \"7 Neighbors\" : KNeighborsRegressor(n_neighbors=7),\\\n",
    "                    \"10 Neighbors\" : KNeighborsRegressor(n_neighbors=10),\\\n",
    "                    \"15 Neighbors\" : KNeighborsRegressor(n_neighbors=15),\\\n",
    "                    \"20 Neighbors\" : KNeighborsRegressor(n_neighbors=20),\\\n",
    "#                     \"50 Neighbors\" : KNeighborsRegressor(n_neighbors=50),\\\n",
    "#                      \"Random Forest\" : RandomForestRegressor(max_depth=7, random_state=0),\n",
    "#                      \"Ridge\" : Ridge(alpha=1.0),\\\n",
    "                     }\n",
    "\n",
    "predictors_map = {}\n",
    "\n",
    "for predictor_name in vanilla_predictors:\n",
    "    print(f\"{predictor_name} test:\")\n",
    "    \n",
    "    predictor = vanilla_predictors[predictor_name]\n",
    "    \n",
    "    vanilla_predictions_per_percentage = {}\n",
    "    vanilla_predictions = []\n",
    "\n",
    "\n",
    "    test_df  = pd.read_json(f\"{data_loc}/{splits_folder_name}/test_set_4800.json\")\n",
    "    X_test = test_df[[\"xn\", \"yn\", \"zn\", \"xhn\", \"yhn\", \"zhn\"]].values\n",
    "    y_test = np.vstack(test_df[\"f_xyz\"].values)\n",
    "\n",
    "    for percentage in tqdm(train_percentages):\n",
    "\n",
    "        train_df = pd.read_json(f\"{data_loc}/{splits_folder_namesplits_physical}/train_set_{percentage}-percent.json\")\n",
    "\n",
    "        X = train_df[[\"xn\", \"yn\", \"zn\", \"xhn\", \"yhn\", \"zhn\"]].values\n",
    "        y = np.vstack(train_df[\"f_xyz\"].values)\n",
    "\n",
    "        predictor.fit(X, y)\n",
    "\n",
    "        vanilla_predictions = predictor.predict(X_test)\n",
    "\n",
    "        vanilla_predictions_per_percentage[percentage] = vanilla_predictions\n",
    "    \n",
    "    predictors_map[predictor_name] = vanilla_predictions_per_percentage\n"
   ]
  },
  {
   "cell_type": "markdown",
   "id": "ab880a04",
   "metadata": {},
   "source": [
    "# 3.b. Criterion comparisons between NeRF and vanilla interpolator¶"
   ]
  },
  {
   "cell_type": "code",
   "execution_count": 42,
   "id": "c3a456e2",
   "metadata": {},
   "outputs": [
    {
     "name": "stderr",
     "output_type": "stream",
     "text": [
      "10it [00:00, 9506.58it/s]\n",
      "10it [00:00, 3247.87it/s]\n",
      "10it [00:00, 5938.42it/s]\n",
      "10it [00:00, 2901.03it/s]\n",
      "10it [00:00, 2247.75it/s]\n"
     ]
    },
    {
     "data": {
      "image/png": "[encoded data removed]",
      "text/plain": [
       "<Figure size 640x480 with 1 Axes>"
      ]
     },
     "metadata": {},
     "output_type": "display_data"
    }
   ],
   "source": [
    "import torch\n",
    "criterion   = torch.nn.MSELoss(reduction='none')\n",
    "y_test = np.vstack(test_df[\"f_xyz\"].values)\n",
    "\n",
    "nerf_mses = []\n",
    "vanilla_mses = []\n",
    "vanilla_mses_per_predictor = {}\n",
    "\n",
    "# Compute criterion for both NERF and Vanilla.\n",
    "#Needs to already be computed:\n",
    "#1. vanilla_predictions_per_percentage\n",
    "#2. nerf_predictions_per_percentage\n",
    "\n",
    "for i, percentage in tqdm(enumerate(train_percentages)):\n",
    "    nerf_predictions = nerf_predictions_per_percentage[percentage]\n",
    "    nerf_mse         = criterion(torch.tensor(nerf_predictions), torch.tensor(y_test)).mean()\n",
    "\n",
    "    nerf_mses.append(nerf_mse.detach().numpy())\n",
    "\n",
    "for predictor_name in list(predictors_map.keys()):#[::-1]:\n",
    "    if predictor_name in [\"Ridge\", \"Random Forest\", \"20 Neighbors\", \"15 Neighbors\"\\\n",
    "                          , \"7 Neighbors\", \"6 Neighbors\", \"5 Neighbors\", \"1 Neighbor\"]:\n",
    "        continue\n",
    "    \n",
    "    vanilla_predictions_per_percentage = predictors_map[predictor_name]\n",
    "    \n",
    "    for i, percentage in tqdm(enumerate(train_percentages)):\n",
    "        vanilla_predictions = vanilla_predictions_per_percentage[percentage]\n",
    "        vanilla_mse         = criterion(torch.tensor(vanilla_predictions), torch.tensor(y_test)).mean()\n",
    "\n",
    "        vanilla_mses.append(vanilla_mse.detach().numpy())\n",
    "        \n",
    "    vanilla_mses_per_predictor[predictor_name] = vanilla_mses\n",
    "    vanilla_mses = []\n",
    "    \n",
    "#     if predictor_name == \"2 Neighbors\":\n",
    "#         predictor_name = \n",
    "\n",
    "import matplotlib.pyplot as plt\n",
    "\n",
    "plt.plot(nerf_mses, label=\"Ours\")\n",
    "for predictor_name in vanilla_mses_per_predictor:\n",
    "    vanilla_mses = vanilla_mses_per_predictor[predictor_name]\n",
    "    plt.plot(vanilla_mses, label=predictor_name)\n",
    "plt.legend(title=\"Interpolators\")\n",
    "\n",
    "num_train_samples_str = (train_df.shape[0] * train_percentages/100).astype(int).astype(str)\n",
    "num_samples_in_k      = [f\"{s[:-3]}k\" for s in num_train_samples_str]\n",
    "\n",
    "plt.xticks(np.arange(len(nerf_mses)), labels=[f\"{tp}%\\n{nk}\" for \\\n",
    "                                              tp, nk in zip(train_percentages, num_samples_in_k)])\n",
    "plt.xlabel(\"Training set percentage\")\n",
    "plt.ylabel(\"MSE\")\n",
    "plt.title(\"Test Set Mean MSE as training set grows from 2k to 21k samples.\")\n",
    "plt.grid()\n",
    "\n",
    "\n",
    "plt.show()"
   ]
  },
  {
   "cell_type": "code",
   "execution_count": 33,
   "id": "656498b0",
   "metadata": {},
   "outputs": [
    {
     "data": {
      "text/plain": [
       "({'2 Neighbors': [array(0.07448182),\n",
       "   array(0.06148795),\n",
       "   array(0.0556464),\n",
       "   array(0.05342686),\n",
       "   array(0.04682428),\n",
       "   array(0.04220485),\n",
       "   array(0.0404186),\n",
       "   array(0.035877),\n",
       "   array(0.03501105),\n",
       "   array(0.03399733)],\n",
       "  '5 Neighbors': [array(0.06795554),\n",
       "   array(0.05744756),\n",
       "   array(0.05187696),\n",
       "   array(0.05011879),\n",
       "   array(0.0441432),\n",
       "   array(0.04042518),\n",
       "   array(0.0385951),\n",
       "   array(0.03492178),\n",
       "   array(0.03247029),\n",
       "   array(0.03184269)],\n",
       "  '10 Neighbors': [array(0.06955068),\n",
       "   array(0.05842049),\n",
       "   array(0.0528776),\n",
       "   array(0.0505654),\n",
       "   array(0.04613081),\n",
       "   array(0.0428561),\n",
       "   array(0.04192284),\n",
       "   array(0.03837071),\n",
       "   array(0.03704432),\n",
       "   array(0.03589184)]},\n",
       " [array(0.05130732),\n",
       "  array(0.03941988),\n",
       "  array(0.03241356),\n",
       "  array(0.03101142),\n",
       "  array(0.0260278),\n",
       "  array(0.02683409),\n",
       "  array(0.02447186),\n",
       "  array(0.02313715),\n",
       "  array(0.0215481),\n",
       "  array(0.02054334)])"
      ]
     },
     "execution_count": 33,
     "metadata": {},
     "output_type": "execute_result"
    }
   ],
   "source": [
    "vanilla_mses_per_predictor, nerf_mses"
   ]
  },
  {
   "cell_type": "code",
   "execution_count": 51,
   "id": "25e23d89",
   "metadata": {},
   "outputs": [
    {
     "data": {
      "text/plain": [
       "['2k', '4k', '6k', '8k', '10k', '12k', '14k', '16k', '19k', '21k']"
      ]
     },
     "execution_count": 51,
     "metadata": {},
     "output_type": "execute_result"
    }
   ],
   "source": [
    "num_train_samples_str = (train_df.shape[0] * train_percentages/100).astype(int).astype(str)\n",
    "num_samples_in_k = [f\"{s[:-3]}k\" for s in num_train_samples_str]\n",
    "num_samples_in_k"
   ]
  },
  {
   "cell_type": "code",
   "execution_count": 49,
   "id": "b56938b2",
   "metadata": {},
   "outputs": [
    {
     "data": {
      "text/plain": [
       "(array([ 10,  20,  30,  40,  50,  60,  70,  80,  90, 100]),\n",
       " array(['2123', '4246', '6369', '8492', '10616', '12739', '14862', '16985', '19108', '21232'], dtype='<U21'))"
      ]
     },
     "execution_count": 49,
     "metadata": {},
     "output_type": "execute_result"
    }
   ],
   "source": [
    "train_percentages, (train_df.shape[0] * train_percentages/100).astype(int).astype(str)"
   ]
  },
  {
   "cell_type": "code",
   "execution_count": 16,
   "id": "e01e8424",
   "metadata": {},
   "outputs": [
    {
     "data": {
      "text/plain": [
       "[<matplotlib.lines.Line2D at 0x3129963a0>]"
      ]
     },
     "execution_count": 16,
     "metadata": {},
     "output_type": "execute_result"
    },
    {
     "data": {
      "image/png": "[encoded data removed]",
      "text/plain": [
       "<Figure size 640x480 with 1 Axes>"
      ]
     },
     "metadata": {},
     "output_type": "display_data"
    }
   ],
   "source": []
  },
  {
   "cell_type": "code",
   "execution_count": null,
   "id": "5d2b02e9",
   "metadata": {},
   "outputs": [],
   "source": []
  },
  {
   "cell_type": "code",
   "execution_count": 36,
   "id": "39e75533",
   "metadata": {},
   "outputs": [
    {
     "data": {
      "text/plain": [
       "(tensor(0.0420, dtype=torch.float64), tensor(0.1628, dtype=torch.float64))"
      ]
     },
     "execution_count": 36,
     "metadata": {},
     "output_type": "execute_result"
    }
   ],
   "source": [
    "criterion(torch.tensor(nerf_predictions), torch.tensor(y_test)).mean()\\\n",
    "          , criterion(torch.tensor(vanilla_predictions), torch.tensor(y_test)).mean()"
   ]
  },
  {
   "cell_type": "code",
   "execution_count": 39,
   "id": "4891ec20",
   "metadata": {},
   "outputs": [
    {
     "data": {
      "text/plain": [
       "(tensor(0.0420, dtype=torch.float64), tensor(0.1628, dtype=torch.float64))"
      ]
     },
     "execution_count": 39,
     "metadata": {},
     "output_type": "execute_result"
    }
   ],
   "source": [
    "criterion(torch.tensor(nerf_predictions), torch.tensor(y_test)).mean(axis=1).mean()\\\n",
    "          , criterion(torch.tensor(vanilla_predictions), torch.tensor(y_test)).mean(axis=1).mean()"
   ]
  },
  {
   "cell_type": "code",
   "execution_count": 38,
   "id": "23651679",
   "metadata": {},
   "outputs": [
    {
     "data": {
      "text/plain": [
       "(tensor([0.0762, 0.0137, 0.0344, 0.0437], dtype=torch.float64),\n",
       " tensor([0.3179, 0.0571, 0.0746, 0.2015], dtype=torch.float64))"
      ]
     },
     "execution_count": 38,
     "metadata": {},
     "output_type": "execute_result"
    }
   ],
   "source": [
    "criterion(torch.tensor(nerf_predictions), torch.tensor(y_test)).mean(axis=0)\\\n",
    "          , criterion(torch.tensor(vanilla_predictions), torch.tensor(y_test)).mean(axis=0)"
   ]
  },
  {
   "cell_type": "markdown",
   "id": "71d18358",
   "metadata": {},
   "source": [
    "# 4. Replicate interpolation test for multiple training percentages and models."
   ]
  },
  {
   "cell_type": "code",
   "execution_count": null,
   "id": "88642fff",
   "metadata": {},
   "outputs": [],
   "source": []
  },
  {
   "cell_type": "markdown",
   "id": "b9479b3a",
   "metadata": {},
   "source": [
    "# Drafts"
   ]
  },
  {
   "cell_type": "code",
   "execution_count": 33,
   "id": "fca63da8",
   "metadata": {
    "scrolled": true
   },
   "outputs": [
    {
     "data": {
      "text/plain": [
       "(tensor([4.7924e-03, 1.8183e-07, 2.3490e-02, 8.3328e-04], dtype=torch.float64),\n",
       " tensor([2.6367, 0.0028, 0.2110, 1.0106], dtype=torch.float64),\n",
       " tensor(0.0073, dtype=torch.float64),\n",
       " tensor(0.9653, dtype=torch.float64))"
      ]
     },
     "execution_count": 33,
     "metadata": {},
     "output_type": "execute_result"
    }
   ],
   "source": [
    "criterion   = torch.nn.MSELoss(reduction='none')\n",
    "\n",
    "criterion(torch.tensor(nerf_predictions[0]), torch.tensor(y_test[0]))\\\n",
    "          , criterion(torch.tensor(vanilla_predictions[0]), torch.tensor(y_test[0])),\\\n",
    "criterion(torch.tensor(nerf_predictions[0]), torch.tensor(y_test[0])).mean()\\\n",
    "          , criterion(torch.tensor(vanilla_predictions[0]), torch.tensor(y_test[0])).mean()"
   ]
  },
  {
   "cell_type": "code",
   "execution_count": 29,
   "id": "842ff024",
   "metadata": {},
   "outputs": [
    {
     "data": {
      "text/plain": [
       "(array([ 0.8190328 , -0.9995736 , -0.8460536 , -0.91780937], dtype=float32),\n",
       " array([-0.735547  , -0.94720399, -0.54001446,  0.11634165]),\n",
       " array([ 0.88825989, -1.        , -0.99931717, -0.88894272]))"
      ]
     },
     "execution_count": 29,
     "metadata": {},
     "output_type": "execute_result"
    }
   ],
   "source": [
    "nerf_predictions[0], vanilla_predictions[0], y_test[0]"
   ]
  },
  {
   "cell_type": "markdown",
   "id": "eac93bc5",
   "metadata": {},
   "source": [
    "# Test `NeRFS` and `NeRF` return the same resutls"
   ]
  },
  {
   "cell_type": "code",
   "execution_count": 44,
   "id": "92a5ec0f",
   "metadata": {},
   "outputs": [
    {
     "name": "stdout",
     "output_type": "stream",
     "text": [
      "NeRF prediction\n",
      "tensor([2152.9542,   23.2385,  958.9914], dtype=torch.float64) tensor([ 7.3868, 80.1305, -7.2787], dtype=torch.float64) tensor([[-0.4327, -0.7639, -0.6330, -0.2706]], grad_fn=<TanhBackward0>)\n",
      "\n",
      "NeRFS prediction\n",
      "(tensor([2152.9542,   23.2385,  958.9914], dtype=torch.float64), tensor([ 7.3868, 80.1305, -7.2787], dtype=torch.float64), tensor([[-0.4327, -0.7639, -0.6330, -0.2706]], grad_fn=<TanhBackward0>))\n"
     ]
    }
   ],
   "source": [
    "import torch\n",
    "\n",
    "xyz  = torch.tensor(vdf.values[:,:6][0].astype(float)[:3])\n",
    "xyzh = torch.tensor(vdf.values[:,:6][0].astype(float)[3:])\n",
    "\n",
    "#1. NeRF - !needs normalized inputs.\n",
    "norm_pos = (xyz - norm_params[0]) / norm_params[1]\n",
    "pos      = norm_pos.unsqueeze(0)\n",
    "view_dir = (xyzh - norm_params[2]) / norm_params[3]\n",
    "view_dir = view_dir.unsqueeze(0)\n",
    "\n",
    "print(\"NeRF prediction\")\n",
    "print(xyz, xyzh, encoder_net(pos, view_dir, from_raw=True)) #NeRF needs normalized inputs.\n",
    "\n",
    "\n",
    "#2. NeRFS \n",
    "print(\"\\nNeRFS prediction\")\n",
    "print(trained_encoder.predict_from_raw(xyz, xyzh))"
   ]
  },
  {
   "cell_type": "code",
   "execution_count": null,
   "id": "7759123a",
   "metadata": {},
   "outputs": [],
   "source": [
    "\n",
    "train_df[[\"xn\", \"yn\", \"zn\", \"xhn\", \"yhn\", \"zhn\"]].values.shape\n",
    "np.vstack(train_df[\"f_xyz\"].values).shape"
   ]
  },
  {
   "cell_type": "code",
   "execution_count": null,
   "id": "93d54c99",
   "metadata": {},
   "outputs": [],
   "source": [
    "\n",
    "n_samples, n_features = 10, 5\n",
    "rng = np.random.RandomState(0)\n",
    "y = rng.randn(n_samples)\n",
    "X = rng.randn(n_samples, n_features)\n",
    "clf = Ridge(alpha=1.0)\n",
    "clf.fit(X, y)"
   ]
  },
  {
   "cell_type": "markdown",
   "id": "ef2fe452",
   "metadata": {},
   "source": [
    "# Original data splits not considering separate physical locations in train and test"
   ]
  },
  {
   "cell_type": "code",
   "execution_count": 6,
   "id": "e07156c7",
   "metadata": {},
   "outputs": [],
   "source": [
    "# 1. Read data.\n",
    "from utils.scripts.architectures.train_location_encoder import process_locations_visibility_data_frame\n",
    "import numpy as np\n",
    "import pandas as pd\n",
    "\n",
    "data_loc = \"./utils/assets/data\"\n",
    "\n",
    "vis_df_n, norm_params, non_empty_classes = process_locations_visibility_data_frame(f\"{data_loc}/locations.csv\")\n",
    "\n",
    "vis_raw_df = pd.read_csv(f\"{data_loc}/locations.csv\")\n",
    "# np.random.seed(1)\n",
    "# vis_raw_df = vis_raw_df.sample(frac=1)\n",
    "\n",
    "# 2. Train test splits.\n",
    "np.random.seed(1)\n",
    "visual_df = vis_df_n.sample(frac=1)\n",
    "visual_df.to_json(f\"{data_loc}/splits/full_dataset_{visual_df.shape[0]}.json\", orient=\"records\", indent=4)\n",
    "test_df       = visual_df[:5000]\n",
    "full_train_df = visual_df[5000:]\n",
    "test_df.to_json(f\"{data_loc}/splits/test_set_{test_df.shape[0]}.json\", orient=\"records\", indent=4)\n",
    "\n",
    "# 3. Split train in multiple fragments 50, 100, ..., 20k\n",
    "train_fractions = train_percentages/100#[1, .8, .6, .4, .2, .1]\n",
    "\n",
    "for fraction in train_fractions:\n",
    "    num_train_samples = int(fraction * full_train_df.shape[0])\n",
    "    train_df = full_train_df[:num_train_samples]\n",
    "    \n",
    "    file_name = f\"./utils/assets/data/splits/train_set_{int(fraction * 100)}-percent\"\n",
    "    train_df.to_json(f\"{file_name}.json\", orient=\"records\", indent=4)\n",
    "    \n",
    "    vis_raw_df[5000:5000+num_train_samples].to_csv(f\"{file_name}.csv\", index=False)\n",
    "    \n",
    "\n"
   ]
  },
  {
   "cell_type": "markdown",
   "id": "241e5cd7",
   "metadata": {},
   "source": [
    "# Original Interpolator experiment"
   ]
  },
  {
   "cell_type": "code",
   "execution_count": 5,
   "id": "37c483a5",
   "metadata": {},
   "outputs": [
    {
     "data": {
      "image/png": "[encoded data removed]",
      "text/plain": [
       "<Figure size 640x480 with 1 Axes>"
      ]
     },
     "metadata": {},
     "output_type": "display_data"
    }
   ],
   "source": [
    "# 4. Train Ridge / dummy regressor on field.\n",
    "\n",
    "from sklearn.linear_model import Ridge\n",
    "from sklearn.neighbors import KNeighborsRegressor\n",
    "import numpy as np\n",
    "import matplotlib.pyplot as plt\n",
    "\n",
    "\n",
    "\n",
    "train_percentages = [10, 20, 40, 60, 80, 100]\n",
    "\n",
    "r2_scores = []\n",
    "\n",
    "\n",
    "# for i, percentage in tqdm(enumerate(train_percentages)):\n",
    "\n",
    "for percentage in train_percentages:\n",
    "    \n",
    "#     test_df  = pd.read_json(f\"{data_loc}/splits/test_set_5000.json\")\n",
    "#     train_df = pd.read_json(f\"{data_loc}/splits/train_set_{percentage}-percent.json\")\n",
    "\n",
    "    test_df  = pd.read_json(f\"{data_loc}/{splits_folder_name}/test_set_4800.json\")\n",
    "    train_df = pd.read_json(f\"{data_loc}/{splits_folder_name}/train_set_{percentage}-percent.json\")\n",
    "\n",
    "    X = train_df[[\"xn\", \"yn\", \"zn\", \"xhn\", \"yhn\", \"zhn\"]].values\n",
    "    y = np.vstack(train_df[\"f_xyz\"].values)\n",
    "\n",
    "    #clf = Ridge(alpha=1.0)\n",
    "    clf = KNeighborsRegressor(2)\n",
    "    clf.fit(X, y)\n",
    "\n",
    "    X_test = test_df[[\"xn\", \"yn\", \"zn\", \"xhn\", \"yhn\", \"zhn\"]].values\n",
    "    y_test = np.vstack(test_df[\"f_xyz\"].values)\n",
    "\n",
    "    r2_score = clf.score(X_test, y_test)\n",
    "    r2_scores.append(r2_score)\n",
    "\n",
    "    \n",
    "vanilla_predictions = clf.predict(X_test)\n",
    "vanilla_predictions.shape    \n",
    "\n",
    "plt.plot(r2_scores, label=\"Ridge\")\n",
    "plt.legend()\n",
    "plt.show()\n",
    "\n"
   ]
  }
 ],
 "metadata": {
  "kernelspec": {
   "display_name": "Python [conda env:visibility_encoder]",
   "language": "python",
   "name": "conda-env-visibility_encoder-py"
  },
  "language_info": {
   "codemirror_mode": {
    "name": "ipython",
    "version": 3
   },
   "file_extension": ".py",
   "mimetype": "text/x-python",
   "name": "python",
   "nbconvert_exporter": "python",
   "pygments_lexer": "ipython3",
   "version": "3.9.13"
  }
 },
 "nbformat": 4,
 "nbformat_minor": 5
}
