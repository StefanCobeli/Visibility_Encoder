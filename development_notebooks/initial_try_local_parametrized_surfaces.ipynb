{
 "cells": [
  {
   "cell_type": "markdown",
   "id": "61fcc899",
   "metadata": {},
   "source": [
    "# Torch Bezier surfaces:\n",
    "\n",
    "https://github.com/rafcc/pytorch-bsf?tab=readme-ov-file\n",
    "\n",
    "`!pip install pytorch-bsf`"
   ]
  },
  {
   "cell_type": "code",
   "execution_count": 23,
   "id": "00a7d678",
   "metadata": {},
   "outputs": [
    {
     "name": "stdout",
     "output_type": "stream",
     "text": [
      "tensor([0.2929, 1.0000, 1.7071])\n"
     ]
    },
    {
     "ename": "ValueError",
     "evalue": "only one element tensors can be converted to Python scalars",
     "output_type": "error",
     "traceback": [
      "\u001b[0;31m---------------------------------------------------------------------------\u001b[0m",
      "\u001b[0;31mValueError\u001b[0m                                Traceback (most recent call last)",
      "Cell \u001b[0;32mIn [23], line 59\u001b[0m\n\u001b[1;32m     57\u001b[0m u \u001b[38;5;241m=\u001b[39m torch\u001b[38;5;241m.\u001b[39mlinspace(\u001b[38;5;241m0\u001b[39m, \u001b[38;5;241m1\u001b[39m, \u001b[38;5;241m10\u001b[39m)\n\u001b[1;32m     58\u001b[0m v \u001b[38;5;241m=\u001b[39m torch\u001b[38;5;241m.\u001b[39mlinspace(\u001b[38;5;241m0\u001b[39m, \u001b[38;5;241m1\u001b[39m, \u001b[38;5;241m10\u001b[39m)\n\u001b[0;32m---> 59\u001b[0m points_on_surface \u001b[38;5;241m=\u001b[39m \u001b[43mbezier_surface\u001b[49m\u001b[43m(\u001b[49m\u001b[43mu\u001b[49m\u001b[43m[\u001b[49m\u001b[43m:\u001b[49m\u001b[43m,\u001b[49m\u001b[43m \u001b[49m\u001b[38;5;28;43;01mNone\u001b[39;49;00m\u001b[43m]\u001b[49m\u001b[43m,\u001b[49m\u001b[43m \u001b[49m\u001b[43mv\u001b[49m\u001b[43m[\u001b[49m\u001b[38;5;28;43;01mNone\u001b[39;49;00m\u001b[43m,\u001b[49m\u001b[43m \u001b[49m\u001b[43m:\u001b[49m\u001b[43m]\u001b[49m\u001b[43m,\u001b[49m\u001b[43m \u001b[49m\u001b[43mcontrol_points\u001b[49m\u001b[43m)\u001b[49m\n\u001b[1;32m     61\u001b[0m \u001b[38;5;28mprint\u001b[39m(\u001b[38;5;124m\"\u001b[39m\u001b[38;5;124mPoints on the Bézier surface:\u001b[39m\u001b[38;5;124m\"\u001b[39m)\n\u001b[1;32m     62\u001b[0m \u001b[38;5;28mprint\u001b[39m(points_on_surface)\n",
      "Cell \u001b[0;32mIn [23], line 51\u001b[0m, in \u001b[0;36mbezier_surface\u001b[0;34m(u, v, control_points)\u001b[0m\n\u001b[1;32m     49\u001b[0m \u001b[38;5;28;01mdef\u001b[39;00m \u001b[38;5;21mbezier_surface\u001b[39m(u, v, control_points):\n\u001b[1;32m     50\u001b[0m     m, n \u001b[38;5;241m=\u001b[39m control_points\u001b[38;5;241m.\u001b[39mshape[\u001b[38;5;241m0\u001b[39m] \u001b[38;5;241m-\u001b[39m \u001b[38;5;241m1\u001b[39m, control_points\u001b[38;5;241m.\u001b[39mshape[\u001b[38;5;241m1\u001b[39m] \u001b[38;5;241m-\u001b[39m \u001b[38;5;241m1\u001b[39m\n\u001b[0;32m---> 51\u001b[0m     bu \u001b[38;5;241m=\u001b[39m \u001b[43mbernstein_poly\u001b[49m\u001b[43m(\u001b[49m\u001b[43mtorch\u001b[49m\u001b[38;5;241;43m.\u001b[39;49m\u001b[43marange\u001b[49m\u001b[43m(\u001b[49m\u001b[43mm\u001b[49m\u001b[43m \u001b[49m\u001b[38;5;241;43m+\u001b[39;49m\u001b[43m \u001b[49m\u001b[38;5;241;43m1\u001b[39;49m\u001b[43m)\u001b[49m\u001b[38;5;241;43m.\u001b[39;49m\u001b[43mreshape\u001b[49m\u001b[43m(\u001b[49m\u001b[38;5;241;43m-\u001b[39;49m\u001b[38;5;241;43m1\u001b[39;49m\u001b[43m,\u001b[49m\u001b[43m \u001b[49m\u001b[38;5;241;43m1\u001b[39;49m\u001b[43m)\u001b[49m\u001b[43m,\u001b[49m\u001b[43m \u001b[49m\u001b[43mm\u001b[49m\u001b[43m,\u001b[49m\u001b[43m \u001b[49m\u001b[43mu\u001b[49m\u001b[43m)\u001b[49m\n\u001b[1;32m     52\u001b[0m     bv \u001b[38;5;241m=\u001b[39m bernstein_poly(torch\u001b[38;5;241m.\u001b[39marange(n \u001b[38;5;241m+\u001b[39m \u001b[38;5;241m1\u001b[39m)\u001b[38;5;241m.\u001b[39mreshape(\u001b[38;5;241m-\u001b[39m\u001b[38;5;241m1\u001b[39m, \u001b[38;5;241m1\u001b[39m), n, v)\n\u001b[1;32m     53\u001b[0m     surface \u001b[38;5;241m=\u001b[39m torch\u001b[38;5;241m.\u001b[39meinsum(\u001b[38;5;124m'\u001b[39m\u001b[38;5;124mim,jn,ij->mn\u001b[39m\u001b[38;5;124m'\u001b[39m, bu, bv, control_points)\n",
      "Cell \u001b[0;32mIn [23], line 44\u001b[0m, in \u001b[0;36mbernstein_poly\u001b[0;34m(i, n, t)\u001b[0m\n\u001b[1;32m     43\u001b[0m \u001b[38;5;28;01mdef\u001b[39;00m \u001b[38;5;21mbernstein_poly\u001b[39m(i, n, t):\n\u001b[0;32m---> 44\u001b[0m     \u001b[38;5;28;01mreturn\u001b[39;00m \u001b[43mtorch\u001b[49m\u001b[38;5;241;43m.\u001b[39;49m\u001b[43mtensor\u001b[49m\u001b[43m(\u001b[49m\n\u001b[1;32m     45\u001b[0m \u001b[43m        \u001b[49m\u001b[43m[\u001b[49m\u001b[43mtorch\u001b[49m\u001b[38;5;241;43m.\u001b[39;49m\u001b[43mprod\u001b[49m\u001b[43m(\u001b[49m\u001b[43mtorch\u001b[49m\u001b[38;5;241;43m.\u001b[39;49m\u001b[43marange\u001b[49m\u001b[43m(\u001b[49m\u001b[38;5;241;43m1\u001b[39;49m\u001b[43m,\u001b[49m\u001b[43m \u001b[49m\u001b[43mn\u001b[49m\u001b[43m \u001b[49m\u001b[38;5;241;43m+\u001b[39;49m\u001b[43m \u001b[49m\u001b[38;5;241;43m1\u001b[39;49m\u001b[43m)\u001b[49m\u001b[43m)\u001b[49m\u001b[43m \u001b[49m\u001b[38;5;241;43m/\u001b[39;49m\u001b[43m \u001b[49m\u001b[43m(\u001b[49m\u001b[43mtorch\u001b[49m\u001b[38;5;241;43m.\u001b[39;49m\u001b[43mprod\u001b[49m\u001b[43m(\u001b[49m\u001b[43mtorch\u001b[49m\u001b[38;5;241;43m.\u001b[39;49m\u001b[43marange\u001b[49m\u001b[43m(\u001b[49m\u001b[38;5;241;43m1\u001b[39;49m\u001b[43m,\u001b[49m\u001b[43m \u001b[49m\u001b[43mi\u001b[49m\u001b[43m \u001b[49m\u001b[38;5;241;43m+\u001b[39;49m\u001b[43m \u001b[49m\u001b[38;5;241;43m1\u001b[39;49m\u001b[43m)\u001b[49m\u001b[43m)\u001b[49m\u001b[43m \u001b[49m\u001b[38;5;241;43m*\u001b[39;49m\u001b[43m \u001b[49m\u001b[43mtorch\u001b[49m\u001b[38;5;241;43m.\u001b[39;49m\u001b[43mprod\u001b[49m\u001b[43m(\u001b[49m\u001b[43mtorch\u001b[49m\u001b[38;5;241;43m.\u001b[39;49m\u001b[43marange\u001b[49m\u001b[43m(\u001b[49m\u001b[38;5;241;43m1\u001b[39;49m\u001b[43m,\u001b[49m\u001b[43m \u001b[49m\u001b[43mn\u001b[49m\u001b[43m \u001b[49m\u001b[38;5;241;43m-\u001b[39;49m\u001b[43m \u001b[49m\u001b[43mi\u001b[49m\u001b[43m \u001b[49m\u001b[38;5;241;43m+\u001b[39;49m\u001b[43m \u001b[49m\u001b[38;5;241;43m1\u001b[39;49m\u001b[43m)\u001b[49m\u001b[43m)\u001b[49m\u001b[43m)\u001b[49m\u001b[43m \u001b[49m\u001b[38;5;241;43m*\u001b[39;49m\u001b[43m \u001b[49m\u001b[43mt\u001b[49m\u001b[38;5;241;43m*\u001b[39;49m\u001b[38;5;241;43m*\u001b[39;49m\u001b[43mi\u001b[49m\u001b[43m \u001b[49m\u001b[38;5;241;43m*\u001b[39;49m\u001b[43m \u001b[49m\u001b[43m(\u001b[49m\u001b[38;5;241;43m1\u001b[39;49m\u001b[43m \u001b[49m\u001b[38;5;241;43m-\u001b[39;49m\u001b[43m \u001b[49m\u001b[43mt\u001b[49m\u001b[43m)\u001b[49m\u001b[38;5;241;43m*\u001b[39;49m\u001b[38;5;241;43m*\u001b[39;49m\u001b[43m(\u001b[49m\u001b[43mn\u001b[49m\u001b[43m \u001b[49m\u001b[38;5;241;43m-\u001b[39;49m\u001b[43m \u001b[49m\u001b[43mi\u001b[49m\u001b[43m)\u001b[49m\u001b[43m \u001b[49m\u001b[38;5;28;43;01mfor\u001b[39;49;00m\u001b[43m \u001b[49m\u001b[43mi\u001b[49m\u001b[43m \u001b[49m\u001b[38;5;129;43;01min\u001b[39;49;00m\u001b[43m \u001b[49m\u001b[38;5;28;43mrange\u001b[39;49m\u001b[43m(\u001b[49m\u001b[43mn\u001b[49m\u001b[43m \u001b[49m\u001b[38;5;241;43m+\u001b[39;49m\u001b[43m \u001b[49m\u001b[38;5;241;43m1\u001b[39;49m\u001b[43m)\u001b[49m\u001b[43m]\u001b[49m\n\u001b[1;32m     46\u001b[0m \u001b[43m    \u001b[49m\u001b[43m)\u001b[49m\n",
      "\u001b[0;31mValueError\u001b[0m: only one element tensors can be converted to Python scalars"
     ]
    }
   ],
   "source": [
    "import torch\n",
    "\n",
    "def half_sphere_point(params, c, s):\n",
    "    # Ensure inputs are torch tensors\n",
    "    params = torch.tensor(params, dtype=torch.float32)\n",
    "    c = torch.tensor(c, dtype=torch.float32)\n",
    "    s = torch.tensor(s, dtype=torch.float32)\n",
    "    \n",
    "    # Parameters p1 and p2\n",
    "    p1, p2 = params[0], params[1]\n",
    "    \n",
    "    # Calculate the radius using the distance between center c and surface point s\n",
    "    r = torch.sqrt(torch.sum((s - c) ** 2))\n",
    "    \n",
    "    # Map p1 and p2 to angles theta and phi\n",
    "    theta = p1 * 2 * torch.pi  # azimuthal angle, range: [0, 2*pi]\n",
    "    phi = p2 * (torch.pi / 2)  # polar angle, range: [0, pi/2] for half sphere\n",
    "    \n",
    "    # Spherical to Cartesian coordinates\n",
    "    x = r * torch.sin(phi) * torch.cos(theta) + c[0]\n",
    "    y = r * torch.sin(phi) * torch.sin(theta) + c[1]\n",
    "    z = r * torch.cos(phi) + c[2]\n",
    "    \n",
    "    # Return the 3D point as a torch tensor\n",
    "    return torch.tensor([x, y, z])\n",
    "\n",
    "# Example usage\n",
    "params = [0.5, 0.5]  # Example parameters\n",
    "c = [1.0, 1.0, 1.0]  # Center of the sphere\n",
    "s = [2.0, 1.0, 1.0]  # Point on the surface of the sphere\n",
    "\n",
    "point = half_sphere_point(params, c, s)\n",
    "print(point)\n",
    "\n",
    "# Define the control points\n",
    "control_points = torch.tensor([\n",
    "    [[0.0, 0.0, 0.0], [1.0, 0.0, 0.0], [2.0, 0.0, 0.0]],\n",
    "    [[0.0, 1.0, 0.0], [1.0, 1.0, 2.0], [2.0, 1.0, 0.0]],\n",
    "    [[0.0, 2.0, 0.0], [1.0, 2.0, 0.0], [2.0, 2.0, 0.0]]\n",
    "])\n",
    "\n",
    "# Define the Bernstein basis function\n",
    "def bernstein_poly(i, n, t):\n",
    "    return torch.tensor(\n",
    "        [torch.prod(torch.arange(1, n + 1)) / (torch.prod(torch.arange(1, i + 1)) * torch.prod(torch.arange(1, n - i + 1))) * t**i * (1 - t)**(n - i) for i in range(n + 1)]\n",
    "    )\n",
    "\n",
    "# Define the surface function\n",
    "def bezier_surface(u, v, control_points):\n",
    "    m, n = control_points.shape[0] - 1, control_points.shape[1] - 1\n",
    "    bu = bernstein_poly(torch.arange(m + 1).reshape(-1, 1), m, u)\n",
    "    bv = bernstein_poly(torch.arange(n + 1).reshape(-1, 1), n, v)\n",
    "    surface = torch.einsum('im,jn,ij->mn', bu, bv, control_points)\n",
    "    return surface\n",
    "\n",
    "# Sample points on the surface\n",
    "u = torch.linspace(0, 1, 10)\n",
    "v = torch.linspace(0, 1, 10)\n",
    "points_on_surface = bezier_surface(u[:, None], v[None, :], control_points)\n",
    "\n",
    "print(\"Points on the Bézier surface:\")\n",
    "print(points_on_surface)"
   ]
  },
  {
   "cell_type": "code",
   "execution_count": null,
   "id": "7823734c",
   "metadata": {},
   "outputs": [],
   "source": []
  },
  {
   "cell_type": "code",
   "execution_count": 22,
   "id": "2d792fdb",
   "metadata": {},
   "outputs": [
    {
     "name": "stderr",
     "output_type": "stream",
     "text": [
      "GPU available: True (mps), used: True\n",
      "TPU available: False, using: 0 TPU cores\n",
      "IPU available: False, using: 0 IPUs\n",
      "HPU available: False, using: 0 HPUs\n",
      "/opt/homebrew/Caskroom/miniforge/base/envs/3D/lib/python3.9/site-packages/pytorch_lightning/loops/utilities.py:72: `max_epochs` was not set. Setting it to 1000 epochs. To train without an epoch limit, set `max_epochs=-1`.\n",
      "/opt/homebrew/Caskroom/miniforge/base/envs/3D/lib/python3.9/site-packages/pytorch_lightning/trainer/configuration_validator.py:74: You defined a `validation_step` but have no `val_dataloader`. Skipping val loop.\n",
      "\n",
      "  | Name           | Type          | Params\n",
      "-------------------------------------------------\n",
      "0 | control_points | ControlPoints | 45    \n",
      "-------------------------------------------------\n",
      "45        Trainable params\n",
      "0         Non-trainable params\n",
      "45        Total params\n",
      "0.000     Total estimated model params size (MB)\n",
      "/opt/homebrew/Caskroom/miniforge/base/envs/3D/lib/python3.9/site-packages/pytorch_lightning/trainer/connectors/data_connector.py:441: The 'train_dataloader' does not have many workers which may be a bottleneck. Consider increasing the value of the `num_workers` argument` to `num_workers=7` in the `DataLoader` to improve performance.\n",
      "/opt/homebrew/Caskroom/miniforge/base/envs/3D/lib/python3.9/site-packages/pytorch_lightning/loops/fit_loop.py:293: The number of training batches (1) is smaller than the logging interval Trainer(log_every_n_steps=50). Set a lower value for log_every_n_steps if you want to see logs for the training epoch.\n"
     ]
    },
    {
     "name": "stdout",
     "output_type": "stream",
     "text": [
      "[[0.1, 0.1, 0.8], [0.7, 0.2, 0.1]] -> tensor([[ 0.3162,  0.8536, -0.0343],\n",
      "        [ 0.3521,  0.5171, -0.4544]], grad_fn=<AddBackward0>)\n"
     ]
    }
   ],
   "source": [
    "# Sample 100 points:\n",
    "import numpy as np\n",
    "np.random.seed(1)\n",
    "\n",
    "num_samples = 10\n",
    "t_parameters = np.random.rand(num_samples)\n",
    "t_parameters = np.vstack([t_parameters, 1-t_parameters]).T\n",
    "t_parameters\n",
    "\n",
    "bs(t_parameters)\n",
    "\n",
    "ts = 100 + 100 * torch.rand((4, 3))\n",
    "xs = 1 - ts * ts  # values corresponding to the parameters\n",
    "\n",
    "\n",
    "ts\n",
    "\n",
    "bs = torch_bsf.fit(params=ts, values=xs, degree=4)\n",
    "\n",
    "# Predict by the trained model\n",
    "t = [\n",
    "    [0.1, 0.1, 0.8],\n",
    "    [0.7, 0.2, 0.1],\n",
    "]\n",
    "x = bs(t)\n",
    "print(f\"{t} -> {x}\")"
   ]
  },
  {
   "cell_type": "code",
   "execution_count": null,
   "id": "a61a9bfb",
   "metadata": {},
   "outputs": [],
   "source": [
    "import open3d as o3d\n",
    "from utils.scripts.archive.scene_loading_2 import get_highlighed_o3d_locations\n",
    "from utils.scripts.interest_heuristic_0    import get_o3d_pcd_from_coordinates"
   ]
  },
  {
   "cell_type": "code",
   "execution_count": null,
   "id": "d197b823",
   "metadata": {},
   "outputs": [],
   "source": [
    "get_o3d_pcd_from_coordinates"
   ]
  },
  {
   "cell_type": "code",
   "execution_count": 3,
   "id": "d7e6a275",
   "metadata": {},
   "outputs": [
    {
     "data": {
      "text/plain": [
       "tensor([[0.9600, 0.3600],\n",
       "        [0.5100, 0.9100]], grad_fn=<AddBackward0>)"
      ]
     },
     "execution_count": 3,
     "metadata": {},
     "output_type": "execute_result"
    }
   ],
   "source": [
    "bs()"
   ]
  },
  {
   "cell_type": "code",
   "execution_count": null,
   "id": "62ca00c8",
   "metadata": {},
   "outputs": [],
   "source": []
  },
  {
   "cell_type": "markdown",
   "id": "5707d9d6",
   "metadata": {},
   "source": [
    "# Torch variant\n",
    "\n",
    "See:\n",
    "\n",
    "`from utils.scripts.dev_experiments import parametrized_surfaces`"
   ]
  },
  {
   "cell_type": "code",
   "execution_count": 9,
   "id": "29bc20c5",
   "metadata": {},
   "outputs": [
    {
     "data": {
      "text/plain": [
       "{'input_pos': tensor([[-0.4517, -0.0206, -0.3463, -0.0623, -0.1044,  0.0430,  0.8922,  0.9998,\n",
       "           0.9381,  0.9981,  0.9945,  0.9991, -0.8060, -0.0411, -0.6497, -0.1243,\n",
       "          -0.2076,  0.0860,  0.5920,  0.9992,  0.7602,  0.9922,  0.9782,  0.9963,\n",
       "          -0.9542, -0.0822, -0.9878, -0.2467, -0.4061,  0.1714, -0.2992,  0.9966,\n",
       "           0.1558,  0.9691,  0.9138,  0.9852,  0.5709, -0.1639, -0.3078, -0.4782,\n",
       "          -0.7422,  0.3377, -0.8210,  0.9865, -0.9514,  0.8783,  0.6702,  0.9413,\n",
       "          -0.9375, -0.3233,  0.5857, -0.8399, -0.9948,  0.6357,  0.3481,  0.9463,\n",
       "           0.8105,  0.5427, -0.1018,  0.7719]]),\n",
       " 'input_dir': tensor([[-0.6527, -0.6119,  0.9495, -0.9117,  0.2025,  0.9814, -0.7576,  0.7909,\n",
       "           0.3138, -0.4109, -0.9793,  0.1918,  0.9890, -0.9680,  0.5960,  0.7492,\n",
       "          -0.3966,  0.3764,  0.1480,  0.2510, -0.8030, -0.6624,  0.9180, -0.9265,\n",
       "           0.2928, -0.4860, -0.9571, -0.9925, -0.7282, -0.6975, -0.9562, -0.8740,\n",
       "           0.2897, -0.1225,  0.6854,  0.7166, -0.5600,  0.8495, -0.5545,  0.2432,\n",
       "          -0.9982, -0.9996,  0.8285,  0.5276, -0.8322, -0.9700, -0.0605,  0.0271,\n",
       "          -0.9279,  0.8964,  0.9229, -0.4718,  0.1207, -0.0542,  0.3728, -0.4433,\n",
       "           0.3851,  0.8817, -0.9927, -0.9985]]),\n",
       " 'output': tensor([[0., 1., 0., 0.]]),\n",
       " 'image_name': ['no_image_name'],\n",
       " 'input_pos_raw': tensor([[-0.4687, -0.0206, -0.3536]], grad_fn=<SliceBackward0>),\n",
       " 'input_dir_raw': tensor([[-0.0623, -0.1045,  0.0431]], grad_fn=<SliceBackward0>)}"
      ]
     },
     "execution_count": 9,
     "metadata": {},
     "output_type": "execute_result"
    }
   ],
   "source": [
    "from utils.gradient_walk_utils import intialize_input_as_tensor, initialize_trained_encoder\n",
    "\n",
    "trained_encoder, info_dict = initialize_trained_encoder()\n",
    "\n",
    "sample_batch    = intialize_input_as_tensor([0,0,0,0,0,0], [0,1,0,0], info_dict)\n",
    "sample_batch"
   ]
  },
  {
   "cell_type": "code",
   "execution_count": null,
   "id": "e893b3b8",
   "metadata": {},
   "outputs": [],
   "source": [
    "sample_batch"
   ]
  },
  {
   "cell_type": "code",
   "execution_count": 12,
   "id": "1c609186",
   "metadata": {},
   "outputs": [
    {
     "data": {
      "text/plain": [
       "tensor([[-0.4687, -0.0206, -0.3536]], requires_grad=True)"
      ]
     },
     "execution_count": 12,
     "metadata": {},
     "output_type": "execute_result"
    }
   ],
   "source": [
    "torch.autograd.Variable(sample_batch[\"input_pos_raw\"], requires_grad=True)"
   ]
  },
  {
   "cell_type": "code",
   "execution_count": null,
   "id": "6f943c56",
   "metadata": {},
   "outputs": [],
   "source": [
    "intialize_input_as_tensor([0,0,0], [0,1,0,0])"
   ]
  },
  {
   "cell_type": "code",
   "execution_count": null,
   "id": "a0f87ca0",
   "metadata": {},
   "outputs": [],
   "source": [
    "torch.tensor()"
   ]
  },
  {
   "cell_type": "code",
   "execution_count": null,
   "id": "1f511d62",
   "metadata": {},
   "outputs": [],
   "source": [
    "\n",
    "def torch_parametric_rectangle(i, j, p, e):\n",
    "    \"\"\"\n",
    "    i, j - parameters of the location on the rectangle [0, 1]\n",
    "    p - center of the rectangle\n",
    "    e - external point to the rectangle\n",
    "    \"\"\"  \n",
    "    i = torch.tensor([float(i)], requires_grad=True)\n",
    "    j = torch.tensor([float(j)], requires_grad=True)\n",
    "    \n",
    "    pe      = e - p \n",
    "    pe_norm = torch.norm(pe)\n",
    "    orient  = torch.tensor([1, 1, (-pe[0] - pe[1]) / pe[2]])\n",
    "    orient  = orient / torch.norm(orient)"
   ]
  },
  {
   "cell_type": "code",
   "execution_count": 33,
   "id": "57092128",
   "metadata": {
    "scrolled": true
   },
   "outputs": [
    {
     "name": "stdout",
     "output_type": "stream",
     "text": [
      "tensor([-1.], grad_fn=<MulBackward0>) tensor([-1.], grad_fn=<MulBackward0>)\n",
      "\u001b[1;33m[Open3D WARNING] GLFW Error: Cocoa: Failed to find service port for display\u001b[0;m\n",
      "\u001b[1;33m[Open3D WARNING] GLFW Error: Cocoa: Failed to find service port for display\u001b[0;m\n",
      "tensor([-1.], grad_fn=<MulBackward0>) tensor([-0.8000], grad_fn=<MulBackward0>)\n",
      "\u001b[1;33m[Open3D WARNING] GLFW Error: Cocoa: Failed to find service port for display\u001b[0;m\n",
      "\u001b[1;33m[Open3D WARNING] GLFW Error: Cocoa: Failed to find service port for display\u001b[0;m\n",
      "tensor([-1.], grad_fn=<MulBackward0>) tensor([-0.6000], grad_fn=<MulBackward0>)\n",
      "\u001b[1;33m[Open3D WARNING] GLFW Error: Cocoa: Failed to find service port for display\u001b[0;m\n",
      "\u001b[1;33m[Open3D WARNING] GLFW Error: Cocoa: Failed to find service port for display\u001b[0;m\n",
      "tensor([-1.], grad_fn=<MulBackward0>) tensor([-0.4000], grad_fn=<MulBackward0>)\n",
      "\u001b[1;33m[Open3D WARNING] GLFW Error: Cocoa: Failed to find service port for display\u001b[0;m\n",
      "\u001b[1;33m[Open3D WARNING] GLFW Error: Cocoa: Failed to find service port for display\u001b[0;m\n",
      "tensor([-1.], grad_fn=<MulBackward0>) tensor([-0.2000], grad_fn=<MulBackward0>)\n",
      "\u001b[1;33m[Open3D WARNING] GLFW Error: Cocoa: Failed to find service port for display\u001b[0;m\n",
      "\u001b[1;33m[Open3D WARNING] GLFW Error: Cocoa: Failed to find service port for display\u001b[0;m\n",
      "tensor([-1.], grad_fn=<MulBackward0>) tensor([0.], grad_fn=<MulBackward0>)\n",
      "\u001b[1;33m[Open3D WARNING] GLFW Error: Cocoa: Failed to find service port for display\u001b[0;m\n",
      "\u001b[1;33m[Open3D WARNING] GLFW Error: Cocoa: Failed to find service port for display\u001b[0;m\n",
      "tensor([-1.], grad_fn=<MulBackward0>) tensor([0.2000], grad_fn=<MulBackward0>)\n",
      "\u001b[1;33m[Open3D WARNING] GLFW Error: Cocoa: Failed to find service port for display\u001b[0;m\n",
      "\u001b[1;33m[Open3D WARNING] GLFW Error: Cocoa: Failed to find service port for display\u001b[0;m\n",
      "tensor([-1.], grad_fn=<MulBackward0>) tensor([0.4000], grad_fn=<MulBackward0>)\n",
      "\u001b[1;33m[Open3D WARNING] GLFW Error: Cocoa: Failed to find service port for display\u001b[0;m\n",
      "\u001b[1;33m[Open3D WARNING] GLFW Error: Cocoa: Failed to find service port for display\u001b[0;m\n",
      "tensor([-1.], grad_fn=<MulBackward0>) tensor([0.6000], grad_fn=<MulBackward0>)\n",
      "\u001b[1;33m[Open3D WARNING] GLFW Error: Cocoa: Failed to find service port for display\u001b[0;m\n",
      "\u001b[1;33m[Open3D WARNING] GLFW Error: Cocoa: Failed to find service port for display\u001b[0;m\n",
      "tensor([-1.], grad_fn=<MulBackward0>) tensor([0.8000], grad_fn=<MulBackward0>)\n",
      "\u001b[1;33m[Open3D WARNING] GLFW Error: Cocoa: Failed to find service port for display\u001b[0;m\n",
      "\u001b[1;33m[Open3D WARNING] GLFW Error: Cocoa: Failed to find service port for display\u001b[0;m\n"
     ]
    }
   ],
   "source": [
    "a, b = 0, 0\n",
    "# a, b = .5, .5\n",
    "# a, b = 1, 0\n",
    "# a, b = 0, 0\n",
    "# a, b = .25, .25 #angle, distnace to center\n",
    "f, l, u, z = [0.9,-0.5,0], [6,2.4,2.7], [-.3,-.5, 0.8], 0.7\n",
    "\n",
    "for b in np.arange(10) * .1:\n",
    "\n",
    "    new_loc_pcd = get_highlighed_o3d_locations(surface_parametric(a, b, p, c, r, surface_type, debugging=True).detach().numpy(), color=[1,0,1])[0]\n",
    "\n",
    "    #new_loc_pcd = get_highlighed_o3d_locations(surface_parametric(a, b, p, c, r, \"sphere\", debugging=True).detach().numpy(), color=[1,0,1])[0]\n",
    "\n",
    "    o3d.visualization.draw_geometries([c_center_pcd, origin_pcd, points_on_circ_pcd, new_loc_pcd]\\\n",
    "                                     , front=f, lookat=l, up=u, zoom=z)\n",
    "    \n",
    "#     break"
   ]
  },
  {
   "cell_type": "code",
   "execution_count": null,
   "id": "99bbd4b6",
   "metadata": {},
   "outputs": [],
   "source": [
    "f, l, u, z = [0,0,1], [10,10,0], [0,1,0], 1.6"
   ]
  },
  {
   "cell_type": "code",
   "execution_count": 15,
   "id": "d7a05b05",
   "metadata": {},
   "outputs": [
    {
     "data": {
      "text/plain": [
       "[PointCloud with 100 points.]"
      ]
     },
     "execution_count": 15,
     "metadata": {},
     "output_type": "execute_result"
    }
   ],
   "source": [
    "get_highlighed_o3d_locations(surface_parametric(1, 1, p, c, r).detach().numpy(), color=[1,0,1])"
   ]
  },
  {
   "cell_type": "code",
   "execution_count": 7,
   "id": "6906e8da",
   "metadata": {},
   "outputs": [
    {
     "data": {
      "text/plain": [
       "(tensor([0.1648], requires_grad=True),\n",
       " tensor([0.5897], requires_grad=True),\n",
       " tensor([10., 10., 10.]),\n",
       " tensor([0., 0., 0.]),\n",
       " 10)"
      ]
     },
     "execution_count": 7,
     "metadata": {},
     "output_type": "execute_result"
    }
   ],
   "source": [
    "a, b, p, c, r"
   ]
  },
  {
   "cell_type": "code",
   "execution_count": null,
   "id": "4be91f65",
   "metadata": {},
   "outputs": [],
   "source": []
  },
  {
   "cell_type": "code",
   "execution_count": null,
   "id": "3c25189c",
   "metadata": {},
   "outputs": [],
   "source": []
  },
  {
   "cell_type": "code",
   "execution_count": 20,
   "id": "7eef4ca9",
   "metadata": {},
   "outputs": [
    {
     "data": {
      "text/plain": [
       "tensor([3.8707], grad_fn=<MulBackward0>)"
      ]
     },
     "execution_count": 20,
     "metadata": {},
     "output_type": "execute_result"
    }
   ],
   "source": [
    "10*torch.rand(1, requires_grad=True)"
   ]
  },
  {
   "cell_type": "code",
   "execution_count": null,
   "id": "01beef67",
   "metadata": {},
   "outputs": [],
   "source": [
    "torch.constant_pad_nd10*torch.rand(1, requires_grad=True)"
   ]
  },
  {
   "cell_type": "code",
   "execution_count": 16,
   "id": "33fb1db8",
   "metadata": {},
   "outputs": [
    {
     "data": {
      "text/plain": [
       "(tensor([10., 10., 10.], grad_fn=<AddBackward0>),\n",
       " tensor([10., 10., 10.], grad_fn=<AddBackward0>),\n",
       " tensor([ 5.3535e-07, -1.2247e+01, -1.2247e+01]))"
      ]
     },
     "execution_count": 16,
     "metadata": {},
     "output_type": "execute_result"
    }
   ],
   "source": [
    "surface_type=\"circle\" \n",
    "surface_type=\"sphere\" \n",
    "surface_type=\"square\" \n",
    "\n",
    "surface_parametric(0.5,0.5, p, c, r, \"square\"), surface_parametric(0,0, p, c, r, \"circle\")\\\n",
    ", surface_parametric(1.25, .25, p, c, r, \"sphere\")"
   ]
  },
  {
   "cell_type": "code",
   "execution_count": null,
   "id": "e94fdb66",
   "metadata": {},
   "outputs": [],
   "source": []
  },
  {
   "cell_type": "code",
   "execution_count": null,
   "id": "7f298101",
   "metadata": {},
   "outputs": [],
   "source": []
  },
  {
   "cell_type": "code",
   "execution_count": 23,
   "id": "9d033667",
   "metadata": {},
   "outputs": [
    {
     "data": {
      "text/plain": [
       "(tensor([10., 10., 10.], grad_fn=<AddBackward0>),\n",
       " tensor([-1.1536, 12.9886, 18.1650], grad_fn=<AddBackward0>))"
      ]
     },
     "execution_count": 23,
     "metadata": {},
     "output_type": "execute_result"
    }
   ],
   "source": [
    "circle_parametric(0,0,p,c,r,\"circle\"), circle_parametric(0,0,p,c,r,\"square\")"
   ]
  },
  {
   "cell_type": "code",
   "execution_count": 4,
   "id": "af45bd65",
   "metadata": {},
   "outputs": [
    {
     "data": {
      "text/plain": [
       "tensor([0.5062], requires_grad=True)"
      ]
     },
     "execution_count": 4,
     "metadata": {},
     "output_type": "execute_result"
    }
   ],
   "source": [
    "torch.rand(1, requires_grad=True)"
   ]
  },
  {
   "cell_type": "code",
   "execution_count": 18,
   "id": "ef01285b",
   "metadata": {
    "scrolled": true
   },
   "outputs": [
    {
     "data": {
      "text/plain": [
       "tensor([1.], requires_grad=True)"
      ]
     },
     "execution_count": 18,
     "metadata": {},
     "output_type": "execute_result"
    }
   ],
   "source": [
    "torch.tensor([float(1)], requires_grad=True)"
   ]
  },
  {
   "cell_type": "code",
   "execution_count": 6,
   "id": "ab92ab21",
   "metadata": {},
   "outputs": [
    {
     "data": {
      "text/plain": [
       "tensor([0.6783], requires_grad=True)"
      ]
     },
     "execution_count": 6,
     "metadata": {},
     "output_type": "execute_result"
    }
   ],
   "source": [
    "torch.tensor(torch.rand(1, requires_grad=True), requires_grad=True)"
   ]
  },
  {
   "cell_type": "code",
   "execution_count": null,
   "id": "3dda1243",
   "metadata": {},
   "outputs": [],
   "source": []
  },
  {
   "cell_type": "code",
   "execution_count": null,
   "id": "6091228f",
   "metadata": {},
   "outputs": [],
   "source": [
    "origin = "
   ]
  },
  {
   "cell_type": "code",
   "execution_count": null,
   "id": "19c9563e",
   "metadata": {},
   "outputs": [],
   "source": []
  },
  {
   "cell_type": "code",
   "execution_count": null,
   "id": "3d11eb92",
   "metadata": {},
   "outputs": [],
   "source": []
  },
  {
   "cell_type": "code",
   "execution_count": null,
   "id": "d6006c76",
   "metadata": {},
   "outputs": [],
   "source": []
  },
  {
   "cell_type": "markdown",
   "id": "df423d88",
   "metadata": {},
   "source": [
    "# Working torch variant:"
   ]
  },
  {
   "cell_type": "code",
   "execution_count": 11,
   "id": "e34d9aa8",
   "metadata": {},
   "outputs": [],
   "source": [
    "import torch\n",
    "import numpy as np\n",
    "\n",
    "import open3d as o3d\n",
    "import seaborn as sns\n",
    "\n",
    "\n",
    "from utils.scripts.archive.scene_loading_2 import get_highlighed_o3d_locations\n",
    "from utils.scripts.interest_heuristic_0    import get_o3d_pcd_from_coordinates\n",
    "\n",
    "\n",
    "    \n",
    "    \n",
    "\n",
    "def surface_parametric(a, b, p, c, r, surface_type=\"circle\", lL=None, debugging=False):\n",
    "    \n",
    "    a = torch.tensor([float(a)], requires_grad=True)\n",
    "    b = torch.tensor([float(b)], requires_grad=True)\n",
    "    \n",
    "    # Calculate the vector pc\n",
    "    pc      = c - p\n",
    "    pc_norm = torch.norm(pc)\n",
    "    orient  = torch.tensor([1,1, (- pc[0] - pc[1]) / pc[2]])\n",
    "    orient  = orient / torch.norm(orient)\n",
    "\n",
    "    # Normalize pc to get the direction\n",
    "    pc_normalized = pc / pc_norm\n",
    "\n",
    "    # Find a vector perpendicular to pc\n",
    "    v_perpendicular = torch.cross(pc_normalized, orient)\n",
    "\n",
    "    # Normalize v_perpendicular\n",
    "    v_perpendicular_normalized = v_perpendicular / torch.norm(v_perpendicular)\n",
    "    \n",
    "    if surface_type ==\"circle\":\n",
    "        # Calculate angle theta\n",
    "        theta = 2 * np.pi * a\n",
    "        # Calculate the point on the circle\n",
    "        circle_point = p + r * (torch.cos(theta) * orient + torch.sin(theta) * v_perpendicular_normalized)\n",
    "        # Interpolate between p and the circle_point using parameter b\n",
    "        final_point = (1 - b) * p + b * circle_point\n",
    "    if surface_type == \"square\":\n",
    "        # Calculate the point on the circle\n",
    "        if lL is None:\n",
    "            lL = (r, r)\n",
    "        l, L = lL\n",
    "        a = l * (a - .5) * 2\n",
    "        b = L * (b -.5) * 2 \n",
    "        if debugging:\n",
    "            print(a, b)\n",
    "        square_point = p + r * (a * orient + (b) * v_perpendicular_normalized)\n",
    "        final_point  = square_point\n",
    "        \n",
    "    if surface_type == \"sphere\":  \n",
    "        r     = pc_norm\n",
    "        theta = a * torch.pi     #between 0 and pi\n",
    "        phi   = b * 2 * torch.pi #between 0 and 2*pi\n",
    "\n",
    "        x = c[0] + r * torch.sin(theta) * torch.cos(phi)\n",
    "        y = c[1] + r * torch.sin(theta) * torch.sin(phi)\n",
    "        z = c[2] + r * torch.cos(theta)\n",
    "\n",
    "        final_point = c + torch.tensor([r * torch.sin(theta) * torch.cos(phi),0,0])\n",
    "        final_point = final_point + torch.tensor([0, r * torch.sin(theta) * torch.sin(phi),0])\n",
    "        final_point = final_point + torch.tensor([0, 0, r * torch.cos(theta)])\n",
    "        #pass\n",
    "    \n",
    "    \n",
    "\n",
    "    return final_point\n",
    "\n",
    "\n",
    "\n",
    "\n",
    "# Example usage\n",
    "p = torch.tensor([10, 10, 10], dtype=torch.float, requires_grad=False)  # Center point\n",
    "c = torch.tensor([0, 0, 0], dtype=torch.float, requires_grad=False)  # Point on the circle\n",
    "r = 10  # Radius\n",
    "\n",
    "# Generate random values for a and b\n",
    "a = torch.rand(1, requires_grad=True)\n",
    "b = torch.rand(1, requires_grad=True)\n",
    "\n",
    "# orient = torch.tensor([0, 1, 0], dtype=torch.float, requires_grad=False)\n",
    "\n",
    "# Calculate the point on the circle using parameters a and b\n",
    "# point_on_circle = surface_parametric(a, b, p, c, r)\n",
    "\n",
    "surface_type=\"circle\" \n",
    "surface_type=\"sphere\" \n",
    "# surface_type=\"square\" \n",
    "n_points = 1000\n",
    "# points_on_circle = torch.tensor([circle_parametric(np.random.rand(), np.random.rand(), p, c, r) for i in range(n_points)])\n",
    "# points_on_circle = [surface_parametric(torch.rand(1, requires_grad=True)\\\n",
    "#                                       , torch.rand(1, requires_grad=True)\\\n",
    "#                                       , p, c, r, surface_type) for i in range(n_points)]\n",
    "\n",
    "# points_on_circle = [surface_parametric(0\\\n",
    "#                                       , torch.rand(1, requires_grad=True)\\\n",
    "#                                       , p, c, r, surface_type) for i in range(n_points)]\n",
    "\n",
    "points_on_circle = [surface_parametric(torch.rand(1, requires_grad=True)*.5\\\n",
    "                                      , torch.rand(1, requires_grad=True)\\\n",
    "                                      , p, c, r, surface_type) for i in range(n_points)]\n",
    "\n",
    "points_on_circle = torch.vstack(points_on_circle).detach().numpy()\n",
    "\n",
    "# print(\"Point on the circle:\", point_on_circle)\n",
    "\n",
    "points_on_circ_pcd = get_o3d_pcd_from_coordinates(points_on_circle, [0,1,0])\n",
    "\n",
    "\n",
    "# circ_pcd     = get_o3d_pcd_from_coordinates(circle_points, [0,1,0]) #green\n",
    "c_center_pcd = get_highlighed_o3d_locations(p, color=[1,0,0])[0] #red\n",
    "origin_pcd   = get_highlighed_o3d_locations(c, color=[0,0,1])[0] # blue\n",
    "\n",
    "\n",
    "# a, b = 1, 1 #angle, distnace to center\n",
    "# a, b = 0.2, 1\n",
    "a, b = .5, .5\n",
    "# a, b = 1, 0\n",
    "# a, b = 0, 0\n",
    "# a, b = .25, .25 #angle, distnace to center\n",
    "\n",
    "new_loc_pcd = get_highlighed_o3d_locations(surface_parametric(a, b, p, c, r, surface_type, debugging=True).detach().numpy(), color=[1,0,1])[0]\n",
    "\n",
    "new_loc_pcd = get_highlighed_o3d_locations(surface_parametric(a, b, p, c, r, \"sphere\", debugging=True).detach().numpy(), color=[1,0,1])[0]\n",
    "\n",
    "# o3d.visualization.draw_geometries([c_center_pcd, origin_pcd, points_on_circ_pcd, new_loc_pcd])"
   ]
  },
  {
   "cell_type": "code",
   "execution_count": 14,
   "id": "9a7694c3",
   "metadata": {},
   "outputs": [
    {
     "data": {
      "text/plain": [
       "(tensor([0., 0., 0.]), tensor([10., 10., 10.]))"
      ]
     },
     "execution_count": 14,
     "metadata": {},
     "output_type": "execute_result"
    }
   ],
   "source": [
    "c, p"
   ]
  },
  {
   "cell_type": "code",
   "execution_count": 19,
   "id": "c707475d",
   "metadata": {},
   "outputs": [
    {
     "data": {
      "text/plain": [
       "tensor([10., 10., 11.], grad_fn=<MaximumBackward0>)"
      ]
     },
     "execution_count": 19,
     "metadata": {},
     "output_type": "execute_result"
    }
   ],
   "source": [
    "torch.max(p, torch.tensor([1.,2.,11.], requires_grad=True))"
   ]
  },
  {
   "cell_type": "code",
   "execution_count": 26,
   "id": "dfc24102",
   "metadata": {},
   "outputs": [
    {
     "data": {
      "text/plain": [
       "tensor([[10., 10., 10.],\n",
       "        [ 0.,  0.,  0.]])"
      ]
     },
     "execution_count": 26,
     "metadata": {},
     "output_type": "execute_result"
    }
   ],
   "source": [
    "torch.vstack([p, c])"
   ]
  },
  {
   "cell_type": "code",
   "execution_count": 14,
   "id": "37017457",
   "metadata": {},
   "outputs": [],
   "source": [
    "f, l, u, z = [0,0,1], [10,10,0], [0,1,0], 1.6"
   ]
  },
  {
   "cell_type": "markdown",
   "id": "3338eedd",
   "metadata": {},
   "source": [
    "# Circle"
   ]
  },
  {
   "cell_type": "code",
   "execution_count": 19,
   "id": "d51a3310",
   "metadata": {},
   "outputs": [
    {
     "name": "stdout",
     "output_type": "stream",
     "text": [
      "\u001b[1;33m[Open3D WARNING] GLFW Error: Cocoa: Failed to find service port for display\u001b[0;m\n"
     ]
    }
   ],
   "source": [
    "st = \"circle\"\n",
    "\n",
    "points_on_circle = torch.vstack([surface_parametric(\n",
    "                    np.random.rand(1)\\\n",
    "                  , np.random.rand(1)\\\n",
    "                  , p, c, r, st) for i in range(1000)]\n",
    ").detach().numpy()\n",
    "points_on_circ_pcd = get_o3d_pcd_from_coordinates(points_on_circle, [0,1,0])\n",
    "\n",
    "a, b = .25, .75\n",
    "new_loc_pcd = get_highlighed_o3d_locations(surface_parametric(a, b, p, c, r, st).detach().numpy(), color=[1,0,1])[0]\n",
    "\n",
    "o3d.visualization.draw_geometries([c_center_pcd, origin_pcd, points_on_circ_pcd, new_loc_pcd], front=f, lookat=l, up=u, zoom=z)"
   ]
  },
  {
   "cell_type": "markdown",
   "id": "97931c95",
   "metadata": {},
   "source": [
    "# Rectangle"
   ]
  },
  {
   "cell_type": "code",
   "execution_count": 16,
   "id": "bc9fdac7",
   "metadata": {},
   "outputs": [
    {
     "name": "stdout",
     "output_type": "stream",
     "text": [
      "tensor([-0.5000], grad_fn=<MulBackward0>) tensor([1.], grad_fn=<MulBackward0>)\n",
      "\u001b[1;33m[Open3D WARNING] GLFW Error: Cocoa: Failed to find service port for display\u001b[0;m\n"
     ]
    }
   ],
   "source": [
    "np.random.seed(1)\n",
    "\n",
    "lL = (1, 2)\n",
    "\n",
    "st = \"square\"\n",
    "\n",
    "points_on_circle = torch.vstack([surface_parametric(\n",
    "                    np.random.rand(1)\\\n",
    "                  , np.random.rand(1)\\\n",
    "                  , p, c, r, st, lL, False) for i in range(1000)]\n",
    ").detach().numpy()\n",
    "points_on_circ_pcd = get_o3d_pcd_from_coordinates(points_on_circle, [0,1,0])\n",
    "\n",
    "a, b = .25, .75\n",
    "new_loc_pcd = get_highlighed_o3d_locations(surface_parametric(a, b, p, c, r, st, lL, True).detach().numpy(), color=[1,0,1])[0]\n",
    "\n",
    "o3d.visualization.draw_geometries([c_center_pcd, origin_pcd, points_on_circ_pcd, new_loc_pcd], front=f, lookat=l, up=u, zoom=z)"
   ]
  },
  {
   "cell_type": "markdown",
   "id": "b07a6e4f",
   "metadata": {},
   "source": [
    "# Full Sphere"
   ]
  },
  {
   "cell_type": "code",
   "execution_count": 17,
   "id": "a2eef845",
   "metadata": {
    "scrolled": true
   },
   "outputs": [
    {
     "name": "stdout",
     "output_type": "stream",
     "text": [
      "\u001b[1;33m[Open3D WARNING] GLFW Error: Cocoa: Failed to find service port for display\u001b[0;m\n"
     ]
    }
   ],
   "source": [
    "st = \"sphere\"\n",
    "points_on_circle = np.vstack([surface_parametric(torch.rand(1, requires_grad=True)\\\n",
    "                                      , torch.rand(1, requires_grad=True)\\\n",
    "                                      , p, c, r, st) for i in range(n_points)]\n",
    ")\n",
    "points_on_circ_pcd = get_o3d_pcd_from_coordinates(points_on_circle, [0,1,0])\n",
    "\n",
    "a, b = .25, .5\n",
    "new_loc_pcd = get_highlighed_o3d_locations(surface_parametric(a, b, p, c, r, st).detach().numpy(), color=[1,0,1])[0]\n",
    "\n",
    "o3d.visualization.draw_geometries([c_center_pcd, origin_pcd, points_on_circ_pcd, new_loc_pcd], front=f, lookat=l, up=u, zoom=z)"
   ]
  },
  {
   "cell_type": "markdown",
   "id": "c65db3ad",
   "metadata": {},
   "source": [
    "# Half a Sphere"
   ]
  },
  {
   "cell_type": "code",
   "execution_count": 18,
   "id": "c279bedb",
   "metadata": {},
   "outputs": [
    {
     "name": "stdout",
     "output_type": "stream",
     "text": [
      "\u001b[1;33m[Open3D WARNING] GLFW Error: Cocoa: Failed to find service port for display\u001b[0;m\n"
     ]
    }
   ],
   "source": [
    "st = \"sphere\"\n",
    "points_on_circle = np.vstack([surface_parametric(torch.rand(1, requires_grad=True)*.5\\\n",
    "                                      , torch.rand(1, requires_grad=True)\\\n",
    "                                      , p, c, r, st) for i in range(n_points)]\n",
    ")\n",
    "points_on_circ_pcd = get_o3d_pcd_from_coordinates(points_on_circle, [0,1,0])\n",
    "\n",
    "a, b = .25, .5\n",
    "new_loc_pcd = get_highlighed_o3d_locations(surface_parametric(a, b, p, c, r, st).detach().numpy(), color=[1,0,1])[0]\n",
    "\n",
    "o3d.visualization.draw_geometries([c_center_pcd, origin_pcd, points_on_circ_pcd, new_loc_pcd], front=f, lookat=l, up=u, zoom=z)"
   ]
  },
  {
   "cell_type": "markdown",
   "id": "84624671",
   "metadata": {},
   "source": [
    "parametrized surfaces:"
   ]
  },
  {
   "cell_type": "markdown",
   "id": "4881f4e8",
   "metadata": {},
   "source": [
    "# Numpy variant"
   ]
  },
  {
   "cell_type": "code",
   "execution_count": 1,
   "id": "413bbfc7",
   "metadata": {},
   "outputs": [
    {
     "name": "stdout",
     "output_type": "stream",
     "text": [
      "\u001b[1;33m[Open3D WARNING] GLFW Error: Cocoa: Failed to find service port for display\u001b[0;m\n",
      "\u001b[1;33m[Open3D WARNING] GLFW Error: Cocoa: Failed to find service port for display\u001b[0;m\n"
     ]
    }
   ],
   "source": [
    "import open3d as o3d\n",
    "import seaborn as sns\n",
    "\n",
    "\n",
    "from utils.scripts.archive.scene_loading_2 import get_highlighed_o3d_locations\n",
    "from utils.scripts.interest_heuristic_0    import get_o3d_pcd_from_coordinates\n",
    "\n",
    "import numpy as np\n",
    "x, y, z    = 12,12,12\n",
    "cx, cy, cz = 0,0,0\n",
    "r = 4\n",
    "\n",
    "# Define the points p and c\n",
    "p = np.array([x, y, z])  # Center point\n",
    "c = np.array([cx, cy, cz])  # Point on the circle\n",
    "\n",
    "# Calculate the vector pc\n",
    "pc = c - p\n",
    "\n",
    "# Normalize pc to get the direction\n",
    "pc_normalized = pc / np.linalg.norm(pc)\n",
    "\n",
    "# Find a vector perpendicular to pc\n",
    "# We can use the cross product with any vector that is not parallel to pc\n",
    "# For simplicity, we'll choose the x-axis vector [1, 0, 0]\n",
    "v_perpendicular = np.cross(pc_normalized, [1, 0, 0])\n",
    "\n",
    "# Normalize v_perpendicular\n",
    "v_perpendicular_normalized = v_perpendicular / np.linalg.norm(v_perpendicular)\n",
    "\n",
    "# Now we have two perpendicular vectors: pc_normalized and v_perpendicular_normalized\n",
    "# We can use them to parametrize the circle\n",
    "# The parametric equation of a circle in 3D is:\n",
    "# x = cx + r * cos(t)\n",
    "# y = cy + r * sin(t)\n",
    "# z = cz\n",
    "\n",
    "# Generate t values from 0 to 2*pi\n",
    "t_values = np.linspace(0, 2 * np.pi, 100)\n",
    "\n",
    "# Parametric equations of the circle\n",
    "circle_points = c + r * (np.cos(t_values)[:, np.newaxis] * pc_normalized +\n",
    "                         np.sin(t_values)[:, np.newaxis] * v_perpendicular_normalized)\n",
    "\n",
    "circ_pcd     = get_o3d_pcd_from_coordinates(circle_points, [0,1,0]) #green\n",
    "c_center_pcd = get_highlighed_o3d_locations(p, color=[1,0,0])[0] #red\n",
    "origin_pcd   = get_highlighed_o3d_locations(c, color=[0,0,1])[0] # blue\n",
    "\n",
    "\n",
    "o3d.visualization.draw_geometries([c_center_pcd, origin_pcd, circ_pcd])"
   ]
  },
  {
   "cell_type": "code",
   "execution_count": 28,
   "id": "af455037",
   "metadata": {},
   "outputs": [
    {
     "name": "stdout",
     "output_type": "stream",
     "text": [
      "Point on the circle: [ 0.05225199  2.01768091 -1.91317693]\n",
      "\u001b[1;33m[Open3D WARNING] GLFW Error: Cocoa: Failed to find service port for display\u001b[0;m\n",
      "\u001b[1;33m[Open3D WARNING] GLFW Error: Cocoa: Failed to find service port for display\u001b[0;m\n"
     ]
    }
   ],
   "source": [
    "import numpy as np\n",
    "\n",
    "def circle_parametric(a, b, p, c, r, orientation=[1,0,0]):\n",
    "    # Calculate the vector pc\n",
    "    pc = c - p\n",
    "\n",
    "    # Normalize pc to get the direction\n",
    "    pc_normalized = pc / np.linalg.norm(pc)\n",
    "\n",
    "    # Find a vector perpendicular to pc\n",
    "    # We can use the cross product with any vector that is not parallel to pc\n",
    "    # For simplicity, we'll choose the x-axis vector [1, 0, 0]\n",
    "    v_perpendicular = np.cross(pc_normalized, [1, 0, 0])\n",
    "\n",
    "    # Normalize v_perpendicular\n",
    "    v_perpendicular_normalized = v_perpendicular / np.linalg.norm(v_perpendicular)\n",
    "\n",
    "    # Calculate angle theta\n",
    "    theta = 2 * np.pi * a\n",
    "\n",
    "    # Calculate the point on the circle\n",
    "    circle_point = c + r * (np.cos(theta) * pc_normalized + np.sin(theta) * v_perpendicular_normalized)\n",
    "\n",
    "    # Interpolate between p and the circle_point using parameter b\n",
    "    final_point = (1 - b) * p + b * circle_point\n",
    "\n",
    "    return final_point\n",
    "\n",
    "# Example usage\n",
    "p = np.array([0, 0, 0])  # Center point\n",
    "c = np.array([1, 1, 1])  # Point on the circle\n",
    "r = 4  # Radius\n",
    "\n",
    "# Generate random values for a and b\n",
    "a = np.random.rand()\n",
    "b = np.random.rand()\n",
    "\n",
    "# Calculate the point on the circle using parameters a and b\n",
    "point_on_circle = circle_parametric(a, b, p, c, r)\n",
    "\n",
    "n_points = 1000\n",
    "points_on_circle = np.array([circle_parametric(np.random.rand(), np.random.rand(), p, c, r) for i in range(n_points)])\n",
    "\n",
    "print(\"Point on the circle:\", point_on_circle)\n",
    "\n",
    "points_on_circ_pcd = get_o3d_pcd_from_coordinates(points_on_circle, [1,0,1])\n",
    "\n",
    "\n",
    "o3d.visualization.draw_geometries([c_center_pcd, origin_pcd, circ_pcd, points_on_circ_pcd])"
   ]
  },
  {
   "cell_type": "code",
   "execution_count": 22,
   "id": "7a27f194",
   "metadata": {},
   "outputs": [
    {
     "data": {
      "text/plain": [
       "(tensor([0.9432], requires_grad=True),\n",
       " tensor([0.8846], grad_fn=<MulBackward0>))"
      ]
     },
     "execution_count": 22,
     "metadata": {},
     "output_type": "execute_result"
    }
   ],
   "source": [
    "a, b*2"
   ]
  },
  {
   "cell_type": "code",
   "execution_count": 24,
   "id": "444a71ae",
   "metadata": {},
   "outputs": [
    {
     "data": {
      "text/plain": [
       "tensor([0.9432, 0.8846])"
      ]
     },
     "execution_count": 24,
     "metadata": {},
     "output_type": "execute_result"
    }
   ],
   "source": [
    "torch.tensor([a,b*2])"
   ]
  },
  {
   "cell_type": "code",
   "execution_count": 20,
   "id": "23df4172",
   "metadata": {},
   "outputs": [
    {
     "data": {
      "text/plain": [
       "(tensor(17.3205), 3.141592653589793)"
      ]
     },
     "execution_count": 20,
     "metadata": {},
     "output_type": "execute_result"
    }
   ],
   "source": [
    "torch.norm(p-c), torch.pi"
   ]
  },
  {
   "cell_type": "code",
   "execution_count": null,
   "id": "1d8a1b89",
   "metadata": {},
   "outputs": [],
   "source": []
  },
  {
   "cell_type": "code",
   "execution_count": 34,
   "id": "5c1d36c2",
   "metadata": {},
   "outputs": [
    {
     "data": {
      "text/plain": [
       "tensor(3.)"
      ]
     },
     "execution_count": 34,
     "metadata": {},
     "output_type": "execute_result"
    }
   ],
   "source": [
    "torch.dot(p-c, p-c)"
   ]
  },
  {
   "cell_type": "code",
   "execution_count": 44,
   "id": "9f5cb384",
   "metadata": {},
   "outputs": [
    {
     "data": {
      "text/plain": [
       "tensor([ 1.,  1., -2.])"
      ]
     },
     "execution_count": 44,
     "metadata": {},
     "output_type": "execute_result"
    }
   ],
   "source": [
    "torch.tensor([1,1, (- (p-c)[0] - (p-c)[1]) / (p-c)[2] ])"
   ]
  },
  {
   "cell_type": "code",
   "execution_count": 41,
   "id": "34ba3819",
   "metadata": {},
   "outputs": [
    {
     "ename": "TypeError",
     "evalue": "expected Tensor as element 0 in argument 0, but got list",
     "output_type": "error",
     "traceback": [
      "\u001b[0;31m---------------------------------------------------------------------------\u001b[0m",
      "\u001b[0;31mTypeError\u001b[0m                                 Traceback (most recent call last)",
      "Cell \u001b[0;32mIn[41], line 1\u001b[0m\n\u001b[0;32m----> 1\u001b[0m \u001b[43mtorch\u001b[49m\u001b[38;5;241;43m.\u001b[39;49m\u001b[43mhstack\u001b[49m\u001b[43m(\u001b[49m\u001b[43m[\u001b[49m\u001b[43m[\u001b[49m\u001b[38;5;241;43m1\u001b[39;49m\u001b[43m]\u001b[49m\u001b[43m,\u001b[49m\u001b[43m[\u001b[49m\u001b[38;5;241;43m1\u001b[39;49m\u001b[43m]\u001b[49m\u001b[43m,\u001b[49m\u001b[43m \u001b[49m\u001b[43m(\u001b[49m\u001b[43mp\u001b[49m\u001b[38;5;241;43m-\u001b[39;49m\u001b[43mc\u001b[49m\u001b[43m)\u001b[49m\u001b[43m[\u001b[49m\u001b[38;5;241;43m0\u001b[39;49m\u001b[43m]\u001b[49m\u001b[43m,\u001b[49m\u001b[43m \u001b[49m\u001b[43m(\u001b[49m\u001b[43mp\u001b[49m\u001b[38;5;241;43m-\u001b[39;49m\u001b[43mc\u001b[49m\u001b[43m)\u001b[49m\u001b[43m[\u001b[49m\u001b[38;5;241;43m1\u001b[39;49m\u001b[43m]\u001b[49m\u001b[43m,\u001b[49m\u001b[43m \u001b[49m\u001b[43m(\u001b[49m\u001b[43mp\u001b[49m\u001b[38;5;241;43m-\u001b[39;49m\u001b[43mc\u001b[49m\u001b[43m)\u001b[49m\u001b[43m[\u001b[49m\u001b[38;5;241;43m2\u001b[39;49m\u001b[43m]\u001b[49m\u001b[43m]\u001b[49m\u001b[43m)\u001b[49m\n",
      "\u001b[0;31mTypeError\u001b[0m: expected Tensor as element 0 in argument 0, but got list"
     ]
    }
   ],
   "source": [
    "torch.hstack([[1],[1], (p-c)[0], (p-c)[1], (p-c)[2]])"
   ]
  },
  {
   "cell_type": "code",
   "execution_count": 9,
   "id": "d872d9dc",
   "metadata": {},
   "outputs": [
    {
     "data": {
      "text/plain": [
       "tensor([0.3598, 0.0456, 0.2027], grad_fn=<AddBackward0>)"
      ]
     },
     "execution_count": 9,
     "metadata": {},
     "output_type": "execute_result"
    }
   ],
   "source": [
    "[circle_parametric(torch.rand(1, requires_grad=True), torch.rand(1, requires_grad=True), p, c, r, orient) for i in range(n_points)]"
   ]
  },
  {
   "cell_type": "code",
   "execution_count": 8,
   "id": "2ee6e9eb",
   "metadata": {},
   "outputs": [
    {
     "ename": "ValueError",
     "evalue": "only one element tensors can be converted to Python scalars",
     "output_type": "error",
     "traceback": [
      "\u001b[0;31m---------------------------------------------------------------------------\u001b[0m",
      "\u001b[0;31mValueError\u001b[0m                                Traceback (most recent call last)",
      "Cell \u001b[0;32mIn[8], line 1\u001b[0m\n\u001b[0;32m----> 1\u001b[0m \u001b[43mtorch\u001b[49m\u001b[38;5;241;43m.\u001b[39;49m\u001b[43mtensor\u001b[49m\u001b[43m(\u001b[49m\u001b[43m[\u001b[49m\u001b[43mcircle_parametric\u001b[49m\u001b[43m(\u001b[49m\u001b[43mtorch\u001b[49m\u001b[38;5;241;43m.\u001b[39;49m\u001b[43mrand\u001b[49m\u001b[43m(\u001b[49m\u001b[38;5;241;43m1\u001b[39;49m\u001b[43m,\u001b[49m\u001b[43m \u001b[49m\u001b[43mrequires_grad\u001b[49m\u001b[38;5;241;43m=\u001b[39;49m\u001b[38;5;28;43;01mTrue\u001b[39;49;00m\u001b[43m)\u001b[49m\u001b[43m,\u001b[49m\u001b[43mtorch\u001b[49m\u001b[38;5;241;43m.\u001b[39;49m\u001b[43mrand\u001b[49m\u001b[43m(\u001b[49m\u001b[38;5;241;43m1\u001b[39;49m\u001b[43m,\u001b[49m\u001b[43m \u001b[49m\u001b[43mrequires_grad\u001b[49m\u001b[38;5;241;43m=\u001b[39;49m\u001b[38;5;28;43;01mTrue\u001b[39;49;00m\u001b[43m)\u001b[49m\u001b[43m,\u001b[49m\u001b[43m \u001b[49m\u001b[43mp\u001b[49m\u001b[43m,\u001b[49m\u001b[43m \u001b[49m\u001b[43mc\u001b[49m\u001b[43m,\u001b[49m\u001b[43m \u001b[49m\u001b[43mr\u001b[49m\u001b[43m,\u001b[49m\u001b[43m \u001b[49m\u001b[43morient\u001b[49m\u001b[43m)\u001b[49m\u001b[43m \u001b[49m\u001b[38;5;28;43;01mfor\u001b[39;49;00m\u001b[43m \u001b[49m\u001b[43mi\u001b[49m\u001b[43m \u001b[49m\u001b[38;5;129;43;01min\u001b[39;49;00m\u001b[43m \u001b[49m\u001b[38;5;28;43mrange\u001b[39;49m\u001b[43m(\u001b[49m\u001b[38;5;241;43m100\u001b[39;49m\u001b[43m)\u001b[49m\u001b[43m]\u001b[49m\u001b[43m)\u001b[49m\n",
      "\u001b[0;31mValueError\u001b[0m: only one element tensors can be converted to Python scalars"
     ]
    }
   ],
   "source": [
    "torch.tensor([circle_parametric(torch.rand(1, requires_grad=True),torch.rand(1, requires_grad=True), p, c, r, orient) for i in range(100)])"
   ]
  },
  {
   "cell_type": "code",
   "execution_count": null,
   "id": "94d2355c",
   "metadata": {},
   "outputs": [],
   "source": []
  },
  {
   "cell_type": "code",
   "execution_count": 25,
   "id": "1744beb2",
   "metadata": {},
   "outputs": [
    {
     "name": "stdout",
     "output_type": "stream",
     "text": [
      "Point on the sphere for a = 0, b = 0: [ 4.58220874e-16  0.00000000e+00 -3.74165739e+00]\n",
      "Point on the sphere for a = 1, b = 1: [0.         0.         3.74165739]\n"
     ]
    }
   ],
   "source": [
    "import numpy as np\n",
    "\n",
    "def sphere(a, b, p, c):\n",
    "    # Calculate the vector pc\n",
    "    pc = c - p\n",
    "    \n",
    "    # Calculate the radius of the sphere\n",
    "    r = np.linalg.norm(pc)\n",
    "    \n",
    "    # Calculate theta and phi based on a and b\n",
    "    theta = np.arccos(2 * b - 1)  # theta varies from 0 to pi\n",
    "    phi = 2 * np.pi * a  # phi varies from 0 to 2*pi\n",
    "    \n",
    "    # Calculate the point on the surface of the sphere\n",
    "    x = c[0] + r * np.sin(theta) * np.cos(phi)\n",
    "    y = c[1] + r * np.sin(theta) * np.sin(phi)\n",
    "    z = c[2] + r * np.cos(theta)\n",
    "    \n",
    "    return np.array([x, y, z])\n",
    "\n",
    "# Example usage\n",
    "p = np.array([1, 2, 3])  # Arbitrary point in 3D space\n",
    "c = np.array([0, 0, 0])  # Center point of the sphere\n",
    "\n",
    "# Generate points on the sphere for a = 0, b = 0 and a = 1, b = 1\n",
    "point_on_sphere_1 = sphere(0, 0, p, c)\n",
    "point_on_sphere_2 = sphere(1, 1, p, c)\n",
    "\n",
    "print(\"Point on the sphere for a = 0, b = 0:\", point_on_sphere_1)\n",
    "print(\"Point on the sphere for a = 1, b = 1:\", point_on_sphere_2)\n"
   ]
  }
 ],
 "metadata": {
  "kernelspec": {
   "display_name": "Python [conda env:3D]",
   "language": "python",
   "name": "conda-env-3D-py"
  },
  "language_info": {
   "codemirror_mode": {
    "name": "ipython",
    "version": 3
   },
   "file_extension": ".py",
   "mimetype": "text/x-python",
   "name": "python",
   "nbconvert_exporter": "python",
   "pygments_lexer": "ipython3",
   "version": "3.9.13"
  }
 },
 "nbformat": 4,
 "nbformat_minor": 5
}
