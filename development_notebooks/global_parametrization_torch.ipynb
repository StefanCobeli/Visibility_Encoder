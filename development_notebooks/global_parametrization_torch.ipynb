{
 "cells": [
  {
   "cell_type": "markdown",
   "id": "d85a0cf3",
   "metadata": {},
   "source": [
    "Check / Run the following `from utils.scripts.dev_experiments import parametrized_surfaces`\n",
    "for a demo of the four surfaces.\n",
    "\n",
    "\n",
    "1. lp - paramters - locations drawn from parameter space - a, b in [0, 1]\n",
    "2. lr - locations from surface corresppoding to lp / ab"
   ]
  },
  {
   "cell_type": "code",
   "execution_count": 1,
   "id": "c6b5a9c1",
   "metadata": {
    "scrolled": true
   },
   "outputs": [
    {
     "name": "stdout",
     "output_type": "stream",
     "text": [
      "Locs mins and maxs: [   0.   10.    8. -180.  -90. -180.] [3002.  112. 2171.  180.   90.  180.]\n",
      "Targets mins and maxs: [-1. -1. -1. -1.] [1. 1. 1. 1.]\n"
     ]
    },
    {
     "data": {
      "text/plain": [
       "(array([1406.54009895,   61.762011  , 1061.20413751]),\n",
       " 3001.246931488514,\n",
       " array([ 22.43477189,  37.63691096, -15.5006524 ]),\n",
       " 359.99998089890255)"
      ]
     },
     "execution_count": 1,
     "metadata": {},
     "output_type": "execute_result"
    }
   ],
   "source": [
    "from utils.gradient_walk_utils import *\n",
    "\n",
    "vis_df, normp, _   = process_locations_visibility_data_frame(\"./utils/assets/test_data/locations_example.csv\")  \n",
    "locs_array         = vis_df.values[:,:6].astype(float)\n",
    "targets_array = (np.vstack((vis_df[\"f_xyz\"]))).tolist()\n",
    "    \n",
    "_, info_dict = initialize_trained_encoder()\n",
    "norm_params     = (info_dict[\"xyz_centroid\"], info_dict[\"xyz_max-min\"], info_dict[\"xyzh_centroid\"], info_dict[\"xyzh_max-min\"])\n",
    "\n",
    "print(\"Locs mins and maxs:\", locs_array.min(axis=0).round(), locs_array.max(axis=0).round())\n",
    "print(\"Targets mins and maxs:\", np.min(targets_array, axis=0).round(), np.max(targets_array, axis=0).round())\n",
    "\n",
    "norm_params"
   ]
  },
  {
   "cell_type": "markdown",
   "id": "2b170c27",
   "metadata": {},
   "source": [
    "# Visualization of Standard shapes above city."
   ]
  },
  {
   "cell_type": "markdown",
   "id": "51a9b90e",
   "metadata": {},
   "source": [
    "# Redesign of `intialize_input_as_tensor` for suface walking\n",
    "\n",
    "`intialize_input_as_tensor`\n",
    "\n",
    "inputs: (a,b) - parameters of point;\n",
    "(p, c, ...) - surface parameters (for plane: point on plane and point outside; for sphere: center and point on surface)\n",
    "norm_params\n",
    "\n",
    "outputs:\n",
    "sample_batch <- data_loader with (a,b), (p,c) and norm_params\n",
    "\n",
    "\n",
    "Implemented `EncoderNeRFSDataset` and moved to `utils.scripts.architectures.torch_nerf_src.network.nerfs.EncoderNeRFSDataset`"
   ]
  },
  {
   "cell_type": "markdown",
   "id": "1a74918c",
   "metadata": {},
   "source": [
    "# Redesign of NeRF"
   ]
  },
  {
   "cell_type": "markdown",
   "id": "e7ae0379",
   "metadata": {},
   "source": [
    "# Query multiple locations moved to and adaption of \n",
    "\n",
    "the `query_locations` method from `utils.gradient_walk_utils.py`"
   ]
  },
  {
   "cell_type": "markdown",
   "id": "319cdfe1",
   "metadata": {},
   "source": [
    "# Square"
   ]
  },
  {
   "cell_type": "code",
   "execution_count": 2,
   "id": "54600264",
   "metadata": {},
   "outputs": [
    {
     "name": "stdout",
     "output_type": "stream",
     "text": [
      "Locs mins and maxs: [   0.   10.    8. -180.  -90. -180.] [3002.  112. 2171.  180.   90.  180.]\n"
     ]
    }
   ],
   "source": [
    "#Square parameters\n",
    "from utils.gradient_walk_utils import query_locations_on_surface, process_locations_visibility_data_frame, torch, np\n",
    "\n",
    "vis_df, normp, _   = process_locations_visibility_data_frame(\"./utils/assets/test_data/locations_example.csv\")  \n",
    "locs_array         = vis_df.values[:,:6].astype(float)\n",
    "print(\"Locs mins and maxs:\", locs_array.min(axis=0).round(), locs_array.max(axis=0).round())\n",
    "\n",
    "p                  = torch.tensor(locs_array.min(axis=0)[:3]) + torch.tensor([-300, 50, -300])\n",
    "# p                  = torch.tensor(locs_array.min(axis=0)[:3]) + torch.tensor([-300, -100, -300])\n",
    "c                  = p - torch.tensor([.01, 50, .01])\n",
    "r                  = torch.tensor([3500., -2500.])\n",
    "# r                  = torch.tensor([3500., 2500.])\n",
    "surface_basis      = (p, c, r); surface_type=\"square\"\n",
    "\n",
    "desired_distribution = torch.tensor([0,1,0,0]).to(torch.float32)\n",
    "\n",
    "# al_df = query_locations_on_surface(desired_distribution, surface_basis, surface_type, num_locations=10, search_intervals=np.ones(4) * .2, lt=.01, at=10, max_steps = 100)\n",
    "    "
   ]
  },
  {
   "cell_type": "code",
   "execution_count": 6,
   "id": "44ff0361",
   "metadata": {
    "scrolled": false
   },
   "outputs": [
    {
     "name": "stdout",
     "output_type": "stream",
     "text": [
      "Random seed set as 2\n",
      "Adjusted lrate to 0.25\n"
     ]
    },
    {
     "name": "stderr",
     "output_type": "stream",
     "text": [
      "  9%|██████████████▎                                                                                                                                                | 9/100 [00:00<00:01, 73.22it/s]\n"
     ]
    }
   ],
   "source": [
    "num_locations=10#10000\n",
    "seed=2; lrate=5*1e-3\n",
    "lrate = 1\n",
    "al_df = query_locations_on_surface(desired_distribution, surface_basis, surface_type\\\n",
    "               , num_locations=num_locations, search_intervals=np.ones(4) * .5, lt=.01, lrate=lrate, max_steps = 50\\\n",
    "                                 , seed=seed)\n"
   ]
  },
  {
   "cell_type": "code",
   "execution_count": null,
   "id": "d55f6ef0",
   "metadata": {},
   "outputs": [],
   "source": []
  },
  {
   "cell_type": "code",
   "execution_count": 13,
   "id": "9a2c5e2b",
   "metadata": {},
   "outputs": [
    {
     "data": {
      "text/plain": [
       "(500000.0, 0.0001, 100000)"
      ]
     },
     "execution_count": 13,
     "metadata": {},
     "output_type": "execute_result"
    }
   ],
   "source": [
    "ratio_surface_lrate = 2500 / (5*1e-3)\n",
    "\n",
    "ratio_surface_lrate, 10e-5, 10**5\n"
   ]
  },
  {
   "cell_type": "code",
   "execution_count": 9,
   "id": "990cadba",
   "metadata": {},
   "outputs": [
    {
     "data": {
      "text/plain": [
       "tensor(2500.)"
      ]
     },
     "execution_count": 9,
     "metadata": {},
     "output_type": "execute_result"
    }
   ],
   "source": [
    "surface_basis[2].abs().min()"
   ]
  },
  {
   "cell_type": "code",
   "execution_count": 6,
   "id": "3b20f900",
   "metadata": {},
   "outputs": [
    {
     "data": {
      "text/plain": [
       "(0.005,\n",
       " (tensor([-299.5460,   60.0000, -292.3067], dtype=torch.float64),\n",
       "  tensor([-299.5560,   10.0000, -292.3167], dtype=torch.float64),\n",
       "  tensor([ 3500., -2500.])))"
      ]
     },
     "execution_count": 6,
     "metadata": {},
     "output_type": "execute_result"
    }
   ],
   "source": [
    "lrate, surface_basis"
   ]
  },
  {
   "cell_type": "code",
   "execution_count": 5,
   "id": "ebead3a4",
   "metadata": {
    "scrolled": true
   },
   "outputs": [
    {
     "data": {
      "text/html": [
       "<div>\n",
       "<style scoped>\n",
       "    .dataframe tbody tr th:only-of-type {\n",
       "        vertical-align: middle;\n",
       "    }\n",
       "\n",
       "    .dataframe tbody tr th {\n",
       "        vertical-align: top;\n",
       "    }\n",
       "\n",
       "    .dataframe thead th {\n",
       "        text-align: right;\n",
       "    }\n",
       "</style>\n",
       "<table border=\"1\" class=\"dataframe\">\n",
       "  <thead>\n",
       "    <tr style=\"text-align: right;\">\n",
       "      <th></th>\n",
       "      <th>x</th>\n",
       "      <th>y</th>\n",
       "      <th>z</th>\n",
       "      <th>xh</th>\n",
       "      <th>yh</th>\n",
       "      <th>zh</th>\n",
       "      <th>f_xyz</th>\n",
       "      <th>residual</th>\n",
       "      <th>steps</th>\n",
       "      <th>start_locs</th>\n",
       "      <th>start_views</th>\n",
       "    </tr>\n",
       "  </thead>\n",
       "  <tbody>\n",
       "    <tr>\n",
       "      <th>7</th>\n",
       "      <td>683.431013</td>\n",
       "      <td>59.614407</td>\n",
       "      <td>654.611811</td>\n",
       "      <td>172.180905</td>\n",
       "      <td>-45.506072</td>\n",
       "      <td>174.405410</td>\n",
       "      <td>[0.1436091, 0.27147597, 0.056812316, 0.50671595]</td>\n",
       "      <td>0.202840</td>\n",
       "      <td>50</td>\n",
       "      <td>[468.4178786916862, 59.61028740140845, 890.242...</td>\n",
       "      <td>[172.18090493911308, -45.506071581489465, 174....</td>\n",
       "    </tr>\n",
       "    <tr>\n",
       "      <th>3</th>\n",
       "      <td>967.587928</td>\n",
       "      <td>59.488887</td>\n",
       "      <td>998.683089</td>\n",
       "      <td>-179.759061</td>\n",
       "      <td>-21.488591</td>\n",
       "      <td>-179.911740</td>\n",
       "      <td>[0.24750331, 0.0020461977, 0.19700226, 0.512081]</td>\n",
       "      <td>0.339552</td>\n",
       "      <td>50</td>\n",
       "      <td>[1009.6863438791256, 59.484165559680164, 980.2...</td>\n",
       "      <td>[-179.75906051161584, -21.48859088907611, -179...</td>\n",
       "    </tr>\n",
       "    <tr>\n",
       "      <th>0</th>\n",
       "      <td>1817.466101</td>\n",
       "      <td>59.384767</td>\n",
       "      <td>669.924299</td>\n",
       "      <td>4.651403</td>\n",
       "      <td>55.322153</td>\n",
       "      <td>-3.827867</td>\n",
       "      <td>[0.47027674, 0.00015583634, 0.05108729, 0.4119...</td>\n",
       "      <td>0.348300</td>\n",
       "      <td>50</td>\n",
       "      <td>[1851.6964681357192, 59.37977986876808, 660.65...</td>\n",
       "      <td>[4.651403025228793, 55.32215347809179, -3.8278...</td>\n",
       "    </tr>\n",
       "    <tr>\n",
       "      <th>9</th>\n",
       "      <td>-92.130991</td>\n",
       "      <td>59.747120</td>\n",
       "      <td>765.942145</td>\n",
       "      <td>170.948641</td>\n",
       "      <td>4.058931</td>\n",
       "      <td>-179.353967</td>\n",
       "      <td>[0.5131822, 2.9802322e-08, 0.014545888, 0.3905...</td>\n",
       "      <td>0.354024</td>\n",
       "      <td>50</td>\n",
       "      <td>[-115.84921092284371, 59.74648304975068, 792.8...</td>\n",
       "      <td>[170.94864138448915, 4.05893055193142, -179.35...</td>\n",
       "    </tr>\n",
       "    <tr>\n",
       "      <th>1</th>\n",
       "      <td>2084.451282</td>\n",
       "      <td>59.449684</td>\n",
       "      <td>78.028097</td>\n",
       "      <td>141.849687</td>\n",
       "      <td>76.097158</td>\n",
       "      <td>-142.674225</td>\n",
       "      <td>[0.24966565, 0.0020986795, 0.0183177, 0.6396234]</td>\n",
       "      <td>0.366898</td>\n",
       "      <td>50</td>\n",
       "      <td>[2085.142782713403, 59.46062967988153, 22.5551...</td>\n",
       "      <td>[141.8496870596135, 76.09715798174335, -142.67...</td>\n",
       "    </tr>\n",
       "    <tr>\n",
       "      <th>4</th>\n",
       "      <td>1652.363682</td>\n",
       "      <td>59.506149</td>\n",
       "      <td>227.509489</td>\n",
       "      <td>0.504237</td>\n",
       "      <td>13.331760</td>\n",
       "      <td>-0.116275</td>\n",
       "      <td>[0.66255915, 2.938509e-05, 0.037321895, 0.2800...</td>\n",
       "      <td>0.379681</td>\n",
       "      <td>50</td>\n",
       "      <td>[1534.2439979159765, 59.52065935725601, 273.00...</td>\n",
       "      <td>[0.5042374926421115, 13.331760009483776, -0.11...</td>\n",
       "    </tr>\n",
       "    <tr>\n",
       "      <th>5</th>\n",
       "      <td>624.988349</td>\n",
       "      <td>59.404872</td>\n",
       "      <td>1761.774943</td>\n",
       "      <td>168.115303</td>\n",
       "      <td>28.077021</td>\n",
       "      <td>-174.343194</td>\n",
       "      <td>[0.5168609, 0.0, 0.0026072562, 0.5025636]</td>\n",
       "      <td>0.379931</td>\n",
       "      <td>50</td>\n",
       "      <td>[557.7976210778988, 59.428376735151275, 1711.3...</td>\n",
       "      <td>[168.11530268312447, 28.07702117546572, -174.3...</td>\n",
       "    </tr>\n",
       "    <tr>\n",
       "      <th>6</th>\n",
       "      <td>404.731512</td>\n",
       "      <td>59.361153</td>\n",
       "      <td>2200.847652</td>\n",
       "      <td>8.454487</td>\n",
       "      <td>44.470205</td>\n",
       "      <td>-5.944632</td>\n",
       "      <td>[0.25537923, 6.467104e-06, 0.018846303, 0.6881...</td>\n",
       "      <td>0.384765</td>\n",
       "      <td>5</td>\n",
       "      <td>[397.0508686494581, 59.36997342859962, 2164.38...</td>\n",
       "      <td>[8.454487111958258, 44.47020454675007, -5.9446...</td>\n",
       "    </tr>\n",
       "    <tr>\n",
       "      <th>8</th>\n",
       "      <td>-13.075384</td>\n",
       "      <td>59.860993</td>\n",
       "      <td>116.951769</td>\n",
       "      <td>0.880825</td>\n",
       "      <td>68.672175</td>\n",
       "      <td>-0.820510</td>\n",
       "      <td>[0.76592153, 1.1622906e-06, 0.046084464, 0.154...</td>\n",
       "      <td>0.403190</td>\n",
       "      <td>50</td>\n",
       "      <td>[-116.39099387101257, 59.90704987570441, -10.2...</td>\n",
       "      <td>[0.8808245330075454, 68.67217529797857, -0.820...</td>\n",
       "    </tr>\n",
       "    <tr>\n",
       "      <th>2</th>\n",
       "      <td>-294.561024</td>\n",
       "      <td>59.896206</td>\n",
       "      <td>222.198773</td>\n",
       "      <td>159.678867</td>\n",
       "      <td>71.789352</td>\n",
       "      <td>-160.619035</td>\n",
       "      <td>[0.88321686, 8.940697e-08, 0.0046443343, 0.110...</td>\n",
       "      <td>0.448069</td>\n",
       "      <td>5</td>\n",
       "      <td>[-250.88996038607567, 59.88540509149332, 232.5...</td>\n",
       "      <td>[159.6788674075439, 71.78935156593802, -160.61...</td>\n",
       "    </tr>\n",
       "  </tbody>\n",
       "</table>\n",
       "</div>"
      ],
      "text/plain": [
       "             x          y            z          xh         yh          zh  \\\n",
       "7   683.431013  59.614407   654.611811  172.180905 -45.506072  174.405410   \n",
       "3   967.587928  59.488887   998.683089 -179.759061 -21.488591 -179.911740   \n",
       "0  1817.466101  59.384767   669.924299    4.651403  55.322153   -3.827867   \n",
       "9   -92.130991  59.747120   765.942145  170.948641   4.058931 -179.353967   \n",
       "1  2084.451282  59.449684    78.028097  141.849687  76.097158 -142.674225   \n",
       "4  1652.363682  59.506149   227.509489    0.504237  13.331760   -0.116275   \n",
       "5   624.988349  59.404872  1761.774943  168.115303  28.077021 -174.343194   \n",
       "6   404.731512  59.361153  2200.847652    8.454487  44.470205   -5.944632   \n",
       "8   -13.075384  59.860993   116.951769    0.880825  68.672175   -0.820510   \n",
       "2  -294.561024  59.896206   222.198773  159.678867  71.789352 -160.619035   \n",
       "\n",
       "                                               f_xyz  residual  steps  \\\n",
       "7   [0.1436091, 0.27147597, 0.056812316, 0.50671595]  0.202840     50   \n",
       "3   [0.24750331, 0.0020461977, 0.19700226, 0.512081]  0.339552     50   \n",
       "0  [0.47027674, 0.00015583634, 0.05108729, 0.4119...  0.348300     50   \n",
       "9  [0.5131822, 2.9802322e-08, 0.014545888, 0.3905...  0.354024     50   \n",
       "1   [0.24966565, 0.0020986795, 0.0183177, 0.6396234]  0.366898     50   \n",
       "4  [0.66255915, 2.938509e-05, 0.037321895, 0.2800...  0.379681     50   \n",
       "5          [0.5168609, 0.0, 0.0026072562, 0.5025636]  0.379931     50   \n",
       "6  [0.25537923, 6.467104e-06, 0.018846303, 0.6881...  0.384765      5   \n",
       "8  [0.76592153, 1.1622906e-06, 0.046084464, 0.154...  0.403190     50   \n",
       "2  [0.88321686, 8.940697e-08, 0.0046443343, 0.110...  0.448069      5   \n",
       "\n",
       "                                          start_locs  \\\n",
       "7  [468.4178786916862, 59.61028740140845, 890.242...   \n",
       "3  [1009.6863438791256, 59.484165559680164, 980.2...   \n",
       "0  [1851.6964681357192, 59.37977986876808, 660.65...   \n",
       "9  [-115.84921092284371, 59.74648304975068, 792.8...   \n",
       "1  [2085.142782713403, 59.46062967988153, 22.5551...   \n",
       "4  [1534.2439979159765, 59.52065935725601, 273.00...   \n",
       "5  [557.7976210778988, 59.428376735151275, 1711.3...   \n",
       "6  [397.0508686494581, 59.36997342859962, 2164.38...   \n",
       "8  [-116.39099387101257, 59.90704987570441, -10.2...   \n",
       "2  [-250.88996038607567, 59.88540509149332, 232.5...   \n",
       "\n",
       "                                         start_views  \n",
       "7  [172.18090493911308, -45.506071581489465, 174....  \n",
       "3  [-179.75906051161584, -21.48859088907611, -179...  \n",
       "0  [4.651403025228793, 55.32215347809179, -3.8278...  \n",
       "9  [170.94864138448915, 4.05893055193142, -179.35...  \n",
       "1  [141.8496870596135, 76.09715798174335, -142.67...  \n",
       "4  [0.5042374926421115, 13.331760009483776, -0.11...  \n",
       "5  [168.11530268312447, 28.07702117546572, -174.3...  \n",
       "6  [8.454487111958258, 44.47020454675007, -5.9446...  \n",
       "8  [0.8808245330075454, 68.67217529797857, -0.820...  \n",
       "2  [159.6788674075439, 71.78935156593802, -160.61...  "
      ]
     },
     "execution_count": 5,
     "metadata": {},
     "output_type": "execute_result"
    }
   ],
   "source": [
    "al_df.sort_values(\"residual\")#.values"
   ]
  },
  {
   "cell_type": "code",
   "execution_count": 41,
   "id": "c96b0f3c",
   "metadata": {
    "scrolled": true
   },
   "outputs": [
    {
     "data": {
      "text/html": [
       "<div>\n",
       "<style scoped>\n",
       "    .dataframe tbody tr th:only-of-type {\n",
       "        vertical-align: middle;\n",
       "    }\n",
       "\n",
       "    .dataframe tbody tr th {\n",
       "        vertical-align: top;\n",
       "    }\n",
       "\n",
       "    .dataframe thead th {\n",
       "        text-align: right;\n",
       "    }\n",
       "</style>\n",
       "<table border=\"1\" class=\"dataframe\">\n",
       "  <thead>\n",
       "    <tr style=\"text-align: right;\">\n",
       "      <th></th>\n",
       "      <th>x</th>\n",
       "      <th>y</th>\n",
       "      <th>z</th>\n",
       "      <th>xh</th>\n",
       "      <th>yh</th>\n",
       "      <th>zh</th>\n",
       "      <th>f_xyz</th>\n",
       "      <th>image_name</th>\n",
       "      <th>xn</th>\n",
       "      <th>yn</th>\n",
       "      <th>zn</th>\n",
       "      <th>xhn</th>\n",
       "      <th>yhn</th>\n",
       "      <th>zhn</th>\n",
       "      <th>f_xyz_raw</th>\n",
       "    </tr>\n",
       "  </thead>\n",
       "  <tbody>\n",
       "    <tr>\n",
       "      <th>22013</th>\n",
       "      <td>1188.171308</td>\n",
       "      <td>101.826521</td>\n",
       "      <td>857.988393</td>\n",
       "      <td>-18.015064</td>\n",
       "      <td>71.600458</td>\n",
       "      <td>17.149449</td>\n",
       "      <td>[-0.07826805114746094, -0.8024654388427734, -0...</td>\n",
       "      <td>pos1834-2-visibility-70</td>\n",
       "      <td>-0.072759</td>\n",
       "      <td>0.013349</td>\n",
       "      <td>-0.06771</td>\n",
       "      <td>-0.112361</td>\n",
       "      <td>0.094343</td>\n",
       "      <td>0.090695</td>\n",
       "      <td>[483253, 103565, 15, 1577, 3237, 60484, 396445...</td>\n",
       "    </tr>\n",
       "  </tbody>\n",
       "</table>\n",
       "</div>"
      ],
      "text/plain": [
       "                 x           y           z         xh         yh         zh  \\\n",
       "22013  1188.171308  101.826521  857.988393 -18.015064  71.600458  17.149449   \n",
       "\n",
       "                                                   f_xyz  \\\n",
       "22013  [-0.07826805114746094, -0.8024654388427734, -0...   \n",
       "\n",
       "                    image_name        xn        yn       zn       xhn  \\\n",
       "22013  pos1834-2-visibility-70 -0.072759  0.013349 -0.06771 -0.112361   \n",
       "\n",
       "            yhn       zhn                                          f_xyz_raw  \n",
       "22013  0.094343  0.090695  [483253, 103565, 15, 1577, 3237, 60484, 396445...  "
      ]
     },
     "execution_count": 41,
     "metadata": {},
     "output_type": "execute_result"
    }
   ],
   "source": [
    "# set_seed(1)\n",
    "# # np.random.randint(locs_array.shape[0])\n",
    "# selected_dir_id = np.random.randint(locs_array.shape[0])\n",
    "# torch.tensor(locs_array[selected_dir_id][3:], requires_grad=False), selected_dir_id\n",
    "\n",
    "vis_df[np.isclose(vis_df[\"xh\"], -18.015063)]"
   ]
  },
  {
   "cell_type": "code",
   "execution_count": 6,
   "id": "0f7e77c6",
   "metadata": {},
   "outputs": [
    {
     "data": {
      "text/plain": [
       "(3001.7009020996093, 0.4539706110954284, 2170.659092773438, 7.693322181701668)"
      ]
     },
     "execution_count": 6,
     "metadata": {},
     "output_type": "execute_result"
    }
   ],
   "source": [
    "vis_df.x.max(axis=0), vis_df.x.min(axis=0), vis_df.z.max(axis=0), vis_df.z.min(axis=0)"
   ]
  },
  {
   "cell_type": "code",
   "execution_count": 4,
   "id": "fafde54e",
   "metadata": {},
   "outputs": [
    {
     "data": {
      "text/plain": [
       "(3092.54268551275, 23.833769621604475, 2204.5479609429385, -124.01382004643011)"
      ]
     },
     "execution_count": 4,
     "metadata": {},
     "output_type": "execute_result"
    }
   ],
   "source": [
    "al_df.x.max(axis=0), al_df.x.min(axis=0), al_df.z.max(axis=0), al_df.z.min(axis=0)"
   ]
  },
  {
   "cell_type": "code",
   "execution_count": 29,
   "id": "919eeabc",
   "metadata": {},
   "outputs": [
    {
     "name": "stdout",
     "output_type": "stream",
     "text": [
      "Random seed set as 3\n"
     ]
    },
    {
     "name": "stderr",
     "output_type": "stream",
     "text": [
      "  8%|██████▉                                                                                | 4/50 [00:00<00:06,  7.13it/s]\n"
     ]
    },
    {
     "data": {
      "text/html": [
       "<div>\n",
       "<style scoped>\n",
       "    .dataframe tbody tr th:only-of-type {\n",
       "        vertical-align: middle;\n",
       "    }\n",
       "\n",
       "    .dataframe tbody tr th {\n",
       "        vertical-align: top;\n",
       "    }\n",
       "\n",
       "    .dataframe thead th {\n",
       "        text-align: right;\n",
       "    }\n",
       "</style>\n",
       "<table border=\"1\" class=\"dataframe\">\n",
       "  <thead>\n",
       "    <tr style=\"text-align: right;\">\n",
       "      <th></th>\n",
       "      <th>x</th>\n",
       "      <th>y</th>\n",
       "      <th>z</th>\n",
       "      <th>xh</th>\n",
       "      <th>yh</th>\n",
       "      <th>zh</th>\n",
       "      <th>f_xyz</th>\n",
       "      <th>residual</th>\n",
       "      <th>steps</th>\n",
       "      <th>start_locs</th>\n",
       "    </tr>\n",
       "  </thead>\n",
       "  <tbody>\n",
       "    <tr>\n",
       "      <th>0</th>\n",
       "      <td>-291.890955</td>\n",
       "      <td>59.938889</td>\n",
       "      <td>5.593534</td>\n",
       "      <td>53.363154</td>\n",
       "      <td>-53.719148</td>\n",
       "      <td>47.279738</td>\n",
       "      <td>[0.058315217, 7.748604e-07, 0.0041100383, 0.92...</td>\n",
       "      <td>0.465267</td>\n",
       "      <td>4</td>\n",
       "      <td>[-284.6764827881592, 59.94424081720685, -28.38...</td>\n",
       "    </tr>\n",
       "    <tr>\n",
       "      <th>1</th>\n",
       "      <td>1367.858216</td>\n",
       "      <td>59.180409</td>\n",
       "      <td>2138.244443</td>\n",
       "      <td>15.057304</td>\n",
       "      <td>70.006000</td>\n",
       "      <td>-14.520026</td>\n",
       "      <td>[0.8690649, 0.00040614605, 0.0067893565, 0.132...</td>\n",
       "      <td>0.443004</td>\n",
       "      <td>50</td>\n",
       "      <td>[1356.1828128724296, 59.181290439766144, 2145....</td>\n",
       "    </tr>\n",
       "    <tr>\n",
       "      <th>2</th>\n",
       "      <td>159.111846</td>\n",
       "      <td>59.820033</td>\n",
       "      <td>148.870985</td>\n",
       "      <td>-175.389615</td>\n",
       "      <td>-44.852598</td>\n",
       "      <td>-177.152769</td>\n",
       "      <td>[0.8335923, 8.881092e-06, 0.12012726, 0.04824391]</td>\n",
       "      <td>0.427904</td>\n",
       "      <td>50</td>\n",
       "      <td>[152.31844750203467, 59.81967928056126, 157.43...</td>\n",
       "    </tr>\n",
       "    <tr>\n",
       "      <th>3</th>\n",
       "      <td>306.163836</td>\n",
       "      <td>59.577188</td>\n",
       "      <td>1216.042931</td>\n",
       "      <td>160.051851</td>\n",
       "      <td>8.400306</td>\n",
       "      <td>-177.206512</td>\n",
       "      <td>[0.030054867, 8.940697e-08, 0.014302403, 0.902...</td>\n",
       "      <td>0.453696</td>\n",
       "      <td>50</td>\n",
       "      <td>[214.77466868089442, 59.61236928394557, 1131.5...</td>\n",
       "    </tr>\n",
       "    <tr>\n",
       "      <th>4</th>\n",
       "      <td>2997.485310</td>\n",
       "      <td>59.259856</td>\n",
       "      <td>111.380754</td>\n",
       "      <td>4.425768</td>\n",
       "      <td>23.721638</td>\n",
       "      <td>-1.667201</td>\n",
       "      <td>[0.08157992, 0.09314045, 0.021163613, 0.7533778]</td>\n",
       "      <td>0.349269</td>\n",
       "      <td>50</td>\n",
       "      <td>[2980.663476452286, 59.26511816419307, 101.893...</td>\n",
       "    </tr>\n",
       "  </tbody>\n",
       "</table>\n",
       "</div>"
      ],
      "text/plain": [
       "             x          y            z          xh         yh          zh  \\\n",
       "0  -291.890955  59.938889     5.593534   53.363154 -53.719148   47.279738   \n",
       "1  1367.858216  59.180409  2138.244443   15.057304  70.006000  -14.520026   \n",
       "2   159.111846  59.820033   148.870985 -175.389615 -44.852598 -177.152769   \n",
       "3   306.163836  59.577188  1216.042931  160.051851   8.400306 -177.206512   \n",
       "4  2997.485310  59.259856   111.380754    4.425768  23.721638   -1.667201   \n",
       "\n",
       "                                               f_xyz  residual  steps  \\\n",
       "0  [0.058315217, 7.748604e-07, 0.0041100383, 0.92...  0.465267      4   \n",
       "1  [0.8690649, 0.00040614605, 0.0067893565, 0.132...  0.443004     50   \n",
       "2  [0.8335923, 8.881092e-06, 0.12012726, 0.04824391]  0.427904     50   \n",
       "3  [0.030054867, 8.940697e-08, 0.014302403, 0.902...  0.453696     50   \n",
       "4   [0.08157992, 0.09314045, 0.021163613, 0.7533778]  0.349269     50   \n",
       "\n",
       "                                          start_locs  \n",
       "0  [-284.6764827881592, 59.94424081720685, -28.38...  \n",
       "1  [1356.1828128724296, 59.181290439766144, 2145....  \n",
       "2  [152.31844750203467, 59.81967928056126, 157.43...  \n",
       "3  [214.77466868089442, 59.61236928394557, 1131.5...  \n",
       "4  [2980.663476452286, 59.26511816419307, 101.893...  "
      ]
     },
     "execution_count": 29,
     "metadata": {},
     "output_type": "execute_result"
    }
   ],
   "source": [
    "seed          = np.random.randint(10)\n",
    "al_df_test    = query_locations_on_surface(desired_distribution, surface_basis, surface_type\\\n",
    "       , num_locations=5, search_intervals=np.ones(4) * .5, lt=.01, lrate=5*1e-3, max_steps = 50, seed=seed)\n",
    "al_df_test"
   ]
  },
  {
   "cell_type": "code",
   "execution_count": null,
   "id": "338459d9",
   "metadata": {},
   "outputs": [],
   "source": [
    "def query_plane_locations_page():\n",
    "    \n",
    "    seed          = np.random.randint(10)\n",
    "    si = np.ones(4) * .5# search intervals\n",
    "    lt =.01\n",
    "    lr = 5*1e-3\n",
    "    ms = 50\n",
    "    \n",
    "    try:\n",
    "        data                 = request.json\n",
    "        query_df             = pd.DataFrame(data)\n",
    "        \n",
    "        p = torch.tensor([float(x) for x in query_df[\"point_on_plane\"].values[0]]).to(torch.float32)\n",
    "        c = torch.tensor([float(x) for x in query_df[\"point_plus_normal\"].values[0]]).to(torch.float32)\n",
    "        r = torch.tensor([float(x) for x in query_df[\"r\"].values[0]]).to(torch.float32)\n",
    "        \n",
    "        desired_distribution = torch.tensor([float(x) for x in query_df[\"f_xyz\"].values[0]]).to(torch.float32)\n",
    "        surface_basis      = (p, c, r); surface_type         = \"square\"\n",
    "        num_locations        = int(query_df[\"num_locations\"].values[0])\n",
    "        if \"seed\" in query_df:\n",
    "            seed = int(query_df[\"seed\"])\n",
    "    except Exception as e:\n",
    "        print(e)\n",
    "        print(f\"Invalid JSON sent in the request - an example of query locations file is in:\")\n",
    "        print(\"\\t ./utils/assets/query_locations/query_location.json\")\n",
    "        return jsonify([{\"\":\"Invalid JSON\"}])\n",
    "\n",
    "\n",
    "    \n",
    "    \n",
    "    al_df    = query_locations_on_surface(desired_distribution, surface_basis, surface_type\\\n",
    "       , num_locations=num_locations, search_intervals=si, lt=lt, lrate=lr, max_steps = ms, seed=seed)\n",
    "    \n",
    "    al_df.to_csv(\"./utils/assets/query_locations/query_location_square.csv\", index=False)\n",
    "\n",
    "    return al_df.to_json(orient=\"records\", indent=4)\n"
   ]
  },
  {
   "cell_type": "code",
   "execution_count": null,
   "id": "3755654d",
   "metadata": {},
   "outputs": [],
   "source": []
  },
  {
   "cell_type": "code",
   "execution_count": 4,
   "id": "edf50976",
   "metadata": {
    "scrolled": true
   },
   "outputs": [
    {
     "data": {
      "text/html": [
       "<div>\n",
       "<style scoped>\n",
       "    .dataframe tbody tr th:only-of-type {\n",
       "        vertical-align: middle;\n",
       "    }\n",
       "\n",
       "    .dataframe tbody tr th {\n",
       "        vertical-align: top;\n",
       "    }\n",
       "\n",
       "    .dataframe thead th {\n",
       "        text-align: right;\n",
       "    }\n",
       "</style>\n",
       "<table border=\"1\" class=\"dataframe\">\n",
       "  <thead>\n",
       "    <tr style=\"text-align: right;\">\n",
       "      <th></th>\n",
       "      <th>x</th>\n",
       "      <th>y</th>\n",
       "      <th>z</th>\n",
       "      <th>xh</th>\n",
       "      <th>yh</th>\n",
       "      <th>zh</th>\n",
       "      <th>f_xyz</th>\n",
       "      <th>residual</th>\n",
       "      <th>steps</th>\n",
       "      <th>start_locs</th>\n",
       "    </tr>\n",
       "  </thead>\n",
       "  <tbody>\n",
       "    <tr>\n",
       "      <th>0</th>\n",
       "      <td>2331.398721</td>\n",
       "      <td>59.313060</td>\n",
       "      <td>511.446657</td>\n",
       "      <td>169.475510</td>\n",
       "      <td>-13.339927</td>\n",
       "      <td>177.407808</td>\n",
       "      <td>[0.44988412, 1.6152859e-05, 0.023779929, 0.550...</td>\n",
       "      <td>0.376605</td>\n",
       "      <td>50</td>\n",
       "      <td>[2352.024930413132, 59.329924358267, 406.50064...</td>\n",
       "    </tr>\n",
       "    <tr>\n",
       "      <th>1</th>\n",
       "      <td>3085.236298</td>\n",
       "      <td>58.852592</td>\n",
       "      <td>2059.952772</td>\n",
       "      <td>-179.602453</td>\n",
       "      <td>-32.677798</td>\n",
       "      <td>-179.657208</td>\n",
       "      <td>[0.14438352, 0.6819801, 0.015190393, 0.2537226]</td>\n",
       "      <td>0.046647</td>\n",
       "      <td>50</td>\n",
       "      <td>[2938.233419205298, 58.87251946126664, 2107.31...</td>\n",
       "    </tr>\n",
       "    <tr>\n",
       "      <th>2</th>\n",
       "      <td>23.833751</td>\n",
       "      <td>59.886415</td>\n",
       "      <td>-47.759209</td>\n",
       "      <td>12.961296</td>\n",
       "      <td>-6.500593</td>\n",
       "      <td>1.207512</td>\n",
       "      <td>[0.7824905, 2.9802322e-08, 0.0068010986, 0.228...</td>\n",
       "      <td>0.416096</td>\n",
       "      <td>50</td>\n",
       "      <td>[-13.636148441258998, 59.893613210578856, -46....</td>\n",
       "    </tr>\n",
       "    <tr>\n",
       "      <th>3</th>\n",
       "      <td>1610.675223</td>\n",
       "      <td>59.351240</td>\n",
       "      <td>1041.272723</td>\n",
       "      <td>3.150878</td>\n",
       "      <td>17.458228</td>\n",
       "      <td>-1.152477</td>\n",
       "      <td>[0.8418507, 3.1292439e-06, 0.028662175, 0.1048...</td>\n",
       "      <td>0.430129</td>\n",
       "      <td>50</td>\n",
       "      <td>[1527.3734783116736, 59.36400624872048, 1060.7...</td>\n",
       "    </tr>\n",
       "    <tr>\n",
       "      <th>4</th>\n",
       "      <td>2704.656848</td>\n",
       "      <td>58.899788</td>\n",
       "      <td>2204.548561</td>\n",
       "      <td>-1.183525</td>\n",
       "      <td>81.000447</td>\n",
       "      <td>1.169005</td>\n",
       "      <td>[0.40823305, 0.028917253, 0.019873947, 0.4456615]</td>\n",
       "      <td>0.327166</td>\n",
       "      <td>1</td>\n",
       "      <td>[2704.6568478181503, 58.89978840136989, 2204.5...</td>\n",
       "    </tr>\n",
       "  </tbody>\n",
       "</table>\n",
       "</div>"
      ],
      "text/plain": [
       "             x          y            z          xh         yh          zh  \\\n",
       "0  2331.398721  59.313060   511.446657  169.475510 -13.339927  177.407808   \n",
       "1  3085.236298  58.852592  2059.952772 -179.602453 -32.677798 -179.657208   \n",
       "2    23.833751  59.886415   -47.759209   12.961296  -6.500593    1.207512   \n",
       "3  1610.675223  59.351240  1041.272723    3.150878  17.458228   -1.152477   \n",
       "4  2704.656848  58.899788  2204.548561   -1.183525  81.000447    1.169005   \n",
       "\n",
       "                                               f_xyz  residual  steps  \\\n",
       "0  [0.44988412, 1.6152859e-05, 0.023779929, 0.550...  0.376605     50   \n",
       "1    [0.14438352, 0.6819801, 0.015190393, 0.2537226]  0.046647     50   \n",
       "2  [0.7824905, 2.9802322e-08, 0.0068010986, 0.228...  0.416096     50   \n",
       "3  [0.8418507, 3.1292439e-06, 0.028662175, 0.1048...  0.430129     50   \n",
       "4  [0.40823305, 0.028917253, 0.019873947, 0.4456615]  0.327166      1   \n",
       "\n",
       "                                          start_locs  \n",
       "0  [2352.024930413132, 59.329924358267, 406.50064...  \n",
       "1  [2938.233419205298, 58.87251946126664, 2107.31...  \n",
       "2  [-13.636148441258998, 59.893613210578856, -46....  \n",
       "3  [1527.3734783116736, 59.36400624872048, 1060.7...  \n",
       "4  [2704.6568478181503, 58.89978840136989, 2204.5...  "
      ]
     },
     "execution_count": 4,
     "metadata": {},
     "output_type": "execute_result"
    }
   ],
   "source": [
    "al_df.head()"
   ]
  },
  {
   "cell_type": "raw",
   "id": "23caf3eb",
   "metadata": {},
   "source": []
  },
  {
   "cell_type": "code",
   "execution_count": 12,
   "id": "87f02ee8",
   "metadata": {},
   "outputs": [],
   "source": [
    "al_df[[\"x\", \"y\", \"z\", \"residual\", \"steps\"]].to_csv(f\"./square_x_locations_test_{num_locations}.json\", index=False)"
   ]
  },
  {
   "cell_type": "code",
   "execution_count": 13,
   "id": "9a7a6271",
   "metadata": {},
   "outputs": [],
   "source": [
    "al_df.to_csv(f\"./square_locations_test_{num_locations}.json\", index=False)\n"
   ]
  },
  {
   "cell_type": "code",
   "execution_count": null,
   "id": "23b36c01",
   "metadata": {},
   "outputs": [],
   "source": []
  },
  {
   "cell_type": "code",
   "execution_count": 7,
   "id": "6f5b3ca4",
   "metadata": {},
   "outputs": [
    {
     "data": {
      "text/plain": [
       "array([array([2352.02493041,   59.32992436,  406.50064593]),\n",
       "       array([2938.23341921,   58.87251946, 2107.31669326]),\n",
       "       array([-13.63614844,  59.89361321, -46.28259977]), ...,\n",
       "       array([3059.47763897,   58.93479284, 1674.70555643]),\n",
       "       array([ -96.959442  ,   59.65523165, 1228.94854496]),\n",
       "       array([701.74107173,  59.68875023, 262.65509618])], dtype=object)"
      ]
     },
     "execution_count": 7,
     "metadata": {},
     "output_type": "execute_result"
    }
   ],
   "source": [
    "al_df[\"start_locs\"].values"
   ]
  },
  {
   "cell_type": "code",
   "execution_count": 14,
   "id": "59983b49",
   "metadata": {},
   "outputs": [
    {
     "data": {
      "text/plain": [
       "Text(0.5, 1.0, 'square: [-300.   60. -292.] residuals distirbution')"
      ]
     },
     "execution_count": 14,
     "metadata": {},
     "output_type": "execute_result"
    },
    {
     "data": {
      "image/png": "[encoded data removed]",
      "text/plain": [
       "<Figure size 640x480 with 1 Axes>"
      ]
     },
     "metadata": {},
     "output_type": "display_data"
    }
   ],
   "source": [
    "from utils.gradient_walk_utils import analyze_queried_locations, o3d\n",
    "\n",
    "#Square\n",
    "# geometries, achieved_locs, loss_colors, scaled_residuals, err_pallete, filtered_ids \\\n",
    "geometries = analyze_queried_locations(al_df, n_colors = 5, res_filter_threshold = .3, draw_o3d=False)\n",
    "\n",
    "f,l,u,z = [0,0,1], [1700,-10,1350], [0,-1,0], .4\n",
    "# o3d.visualization.draw_geometries(geometries, front=f,lookat=l,up=u,zoom=z)\n",
    "# o3d.visualization.draw_geometries(geometries[1:], front=f,lookat=l,up=u,zoom=1.5*z)\n",
    "# o3d.visualization.draw_geometries(geometries[2:], front=f,lookat=l,up=u,zoom=1.5*z)\n",
    "geometries\n",
    "\n",
    "import matplotlib.pyplot as plt\n",
    "al_df[\"residual\"].hist()\n",
    "plt.title(f\"{surface_type}: {str(p.detach().numpy().round())} residuals distirbution\")"
   ]
  },
  {
   "cell_type": "code",
   "execution_count": null,
   "id": "d340e238",
   "metadata": {},
   "outputs": [],
   "source": []
  },
  {
   "cell_type": "code",
   "execution_count": 30,
   "id": "b3e84ae5",
   "metadata": {},
   "outputs": [
    {
     "name": "stdout",
     "output_type": "stream",
     "text": [
      "\u001b[1;33m[Open3D WARNING] GLFW Error: Cocoa: Failed to find service port for display\u001b[0;m\n"
     ]
    }
   ],
   "source": [
    "geometries\n",
    "o3d.visualization.draw_geometries(geometries[2:], front=f,lookat=l,up=u,zoom=1.5*z)"
   ]
  },
  {
   "cell_type": "code",
   "execution_count": 34,
   "id": "4f2b64f4",
   "metadata": {},
   "outputs": [
    {
     "name": "stdout",
     "output_type": "stream",
     "text": [
      "\u001b[1;33m[Open3D WARNING] GLFW Error: Cocoa: Failed to find service port for display\u001b[0;m\n",
      "\u001b[1;33m[Open3D WARNING] GLFW Error: Cocoa: Failed to find service port for display\u001b[0;m\n"
     ]
    },
    {
     "data": {
      "text/plain": [
       "Text(0.5, 1.0, 'square: [-300.   60. -292.] residuals distirbution')"
      ]
     },
     "execution_count": 34,
     "metadata": {},
     "output_type": "execute_result"
    },
    {
     "data": {
      "image/png": "[encoded data removed]",
      "text/plain": [
       "<Figure size 640x480 with 1 Axes>"
      ]
     },
     "metadata": {},
     "output_type": "display_data"
    }
   ],
   "source": [
    "from utils.gradient_walk_utils import analyze_queried_locations, o3d\n",
    "\n",
    "#Square\n",
    "# geometries, achieved_locs, loss_colors, scaled_residuals, err_pallete, filtered_ids \\\n",
    "geometries = analyze_queried_locations(al_df, n_colors = 5, res_filter_threshold = .3, draw_o3d=False)\n",
    "\n",
    "f,l,u,z = [0,0,1], [1700,-10,1350], [0,-1,0], .4\n",
    "# o3d.visualization.draw_geometries(geometries, front=f,lookat=l,up=u,zoom=z)\n",
    "o3d.visualization.draw_geometries(geometries[1:], front=f,lookat=l,up=u,zoom=1.5*z)\n",
    "o3d.visualization.draw_geometries(geometries[2:], front=f,lookat=l,up=u,zoom=1.5*z)\n",
    "geometries\n",
    "\n",
    "import matplotlib.pyplot as plt\n",
    "al_df[\"residual\"].hist()\n",
    "plt.title(f\"{surface_type}: {str(p.detach().numpy().round())} residuals distirbution\")"
   ]
  },
  {
   "cell_type": "markdown",
   "id": "2c066e1d",
   "metadata": {},
   "source": [
    "# Sphere"
   ]
  },
  {
   "cell_type": "code",
   "execution_count": 17,
   "id": "983d632b",
   "metadata": {},
   "outputs": [
    {
     "name": "stdout",
     "output_type": "stream",
     "text": [
      "Locs mins and maxs: [   0.   10.    8. -180.  -90. -180.] [3002.  112. 2171.  180.   90.  180.]\n"
     ]
    }
   ],
   "source": [
    "#Spehere parameters\n",
    "from utils.gradient_walk_utils import query_locations_on_surface, process_locations_visibility_data_frame, torch, np\n",
    "\n",
    "vis_df, normp, _   = process_locations_visibility_data_frame(\"./utils/assets/test_data/locations_example.csv\")  \n",
    "locs_array         = vis_df.values[:,:6].astype(float)\n",
    "print(\"Locs mins and maxs:\", locs_array.min(axis=0).round(), locs_array.max(axis=0).round())\n",
    "\n",
    "\n",
    "height_offest = 1500\n",
    "p                  = torch.tensor(locs_array.mean(axis=0)[:3]) + torch.tensor([0, height_offest, 0])\n",
    "c                  = p - torch.tensor([.01, height_offest, .01])\n",
    "r                  = None#torch.tensor([3500., -2500.])\n",
    "surface_basis      = (p, c, r); surface_type=\"sphere\"\n",
    "\n",
    "desired_distribution = torch.tensor([0,1,0,0]).to(torch.float32)\n",
    "\n",
    "# al_df = query_locations_on_surface(desired_distribution, surface_basis, surface_type, num_locations=10, search_intervals=np.ones(4) * .2, lt=.01, at=10, max_steps = 100)\n",
    "    "
   ]
  },
  {
   "cell_type": "code",
   "execution_count": 24,
   "id": "fe74e048",
   "metadata": {
    "scrolled": true
   },
   "outputs": [
    {
     "name": "stdout",
     "output_type": "stream",
     "text": [
      "Random seed set as 1\n"
     ]
    },
    {
     "name": "stderr",
     "output_type": "stream",
     "text": [
      " 10%|████████████▊                                                                                                                   | 999/10000 [01:12<10:50, 13.84it/s]\n"
     ]
    }
   ],
   "source": [
    "si = np.ones(4) * .1\n",
    "lr = 1e-4\n",
    "ms = 50\n",
    "\n",
    "al_df = query_locations_on_surface(desired_distribution, surface_basis, surface_type\\\n",
    "               , num_locations=1000, search_intervals=si, lt=.01, lrate=lr, max_steps = ms)\n",
    "    "
   ]
  },
  {
   "cell_type": "code",
   "execution_count": 25,
   "id": "dca62d96",
   "metadata": {},
   "outputs": [
    {
     "data": {
      "text/plain": [
       "Text(0.5, 1.0, 'sphere: [1407. 1562. 1061.] residuals distirbution\\nsi:[0.1 0.1 0.1 0.1]; lr:0.0001; ms:50')"
      ]
     },
     "execution_count": 25,
     "metadata": {},
     "output_type": "execute_result"
    },
    {
     "data": {
      "image/png": "[encoded data removed]",
      "text/plain": [
       "<Figure size 640x480 with 1 Axes>"
      ]
     },
     "metadata": {},
     "output_type": "display_data"
    }
   ],
   "source": [
    "#sphere\n",
    "geometries = analyze_queried_locations(al_df, n_colors = 5, res_filter_threshold = .3, draw_o3d=False)\n",
    "\n",
    "f,l,u,z = [0,0,1], [1700,-10,1350], [0,-1,0], .4\n",
    "# o3d.visualization.draw_geometries(geometries, front=f,lookat=l,up=u,zoom=z)\n",
    "# o3d.visualization.draw_geometries(geometries[1:], front=f,lookat=l,up=u,zoom=1.5*z)\n",
    "geometries\n",
    "\n",
    "\n",
    "\n",
    "import matplotlib.pyplot as plt\n",
    "\n",
    "al_df[\"residual\"].hist()\n",
    "plt.title(f\"{surface_type}: {str(p.detach().numpy().round())} residuals distirbution\"+\\\n",
    "         f\"\\nsi:{si}; lr:{lr}; ms:{ms}\")"
   ]
  },
  {
   "cell_type": "markdown",
   "id": "52b84a9d",
   "metadata": {},
   "source": [
    "# Semi Sphere"
   ]
  },
  {
   "cell_type": "code",
   "execution_count": 13,
   "id": "f7a0d5b2",
   "metadata": {},
   "outputs": [
    {
     "name": "stdout",
     "output_type": "stream",
     "text": [
      "Locs mins and maxs: [   0.   10.    8. -180.  -90. -180.] [3002.  112. 2171.  180.   90.  180.]\n"
     ]
    }
   ],
   "source": [
    "#Semi Sphere parameters\n",
    "from utils.gradient_walk_utils import query_locations_on_surface, process_locations_visibility_data_frame, torch, np\n",
    "\n",
    "vis_df, normp, _   = process_locations_visibility_data_frame(\"./utils/assets/test_data/locations_example.csv\")  \n",
    "locs_array         = vis_df.values[:,:6].astype(float)\n",
    "print(\"Locs mins and maxs:\", locs_array.min(axis=0).round(), locs_array.max(axis=0).round())\n",
    "\n",
    "\n",
    "height_offest      = 1500\n",
    "# p                  = torch.tensor(locs_array.mean(axis=0)[:3]) + torch.tensor([0, height_offest, 0])\n",
    "p                  = torch.tensor(locs_array.mean(axis=0)[:3]) + torch.tensor([0, height_offest, 0])\n",
    "c                  = p - torch.tensor([.01, height_offest, .01])\n",
    "r                  = torch.tensor([.5, 1])#None#torch.tensor([3500., -2500.])\n",
    "surface_basis      = (p, c, r); surface_type=\"semisphere\"\n",
    "\n",
    "desired_distribution = torch.tensor([0,1,0,0]).to(torch.float32)\n",
    "\n",
    "# al_df = query_locations_on_surface(desired_distribution, surface_basis, surface_type, num_locations=10, search_intervals=np.ones(4) * .2, lt=.01, at=10, max_steps = 100)\n",
    "    "
   ]
  },
  {
   "cell_type": "code",
   "execution_count": 14,
   "id": "3ebfb1e4",
   "metadata": {
    "scrolled": true
   },
   "outputs": [
    {
     "name": "stdout",
     "output_type": "stream",
     "text": [
      "Random seed set as 1\n"
     ]
    },
    {
     "name": "stderr",
     "output_type": "stream",
     "text": [
      " 10%|████████████▊                                                                                                                   | 999/10000 [01:02<09:27, 15.86it/s]\n"
     ]
    }
   ],
   "source": [
    "al_df = query_locations_on_surface(desired_distribution, surface_basis, surface_type\\\n",
    "       , num_locations=1000, search_intervals=np.ones(4) * .5, lt=.01, lrate=10*1e-3, max_steps = 50)\n",
    "    "
   ]
  },
  {
   "cell_type": "code",
   "execution_count": 16,
   "id": "2eb4bd35",
   "metadata": {},
   "outputs": [
    {
     "data": {
      "text/plain": [
       "Text(0.5, 1.0, 'semisphere: [1407. 1562. 1061.] residuals distirbution')"
      ]
     },
     "execution_count": 16,
     "metadata": {},
     "output_type": "execute_result"
    },
    {
     "data": {
      "image/png": "[encoded data removed]",
      "text/plain": [
       "<Figure size 640x480 with 1 Axes>"
      ]
     },
     "metadata": {},
     "output_type": "display_data"
    }
   ],
   "source": [
    "#sphere\n",
    "from utils.gradient_walk_utils import analyze_queried_locations, o3d\n",
    "\n",
    "# geometries, achieved_locs, loss_colors, scaled_residuals, err_pallete, filtered_ids \\\n",
    "geometries = analyze_queried_locations(al_df, n_colors = 5, res_filter_threshold = .5, draw_o3d=False)\n",
    "# geometries = analyze_queried_locations(al_df, n_colors = 5, res_filter_threshold = .55, draw_o3d=False)\n",
    "\n",
    "f,l,u,z = [0,0,1], [1700,-10,1350], [0,1,0], .4\n",
    "# o3d.visualization.draw_geometries(geometries, front=f,lookat=l,up=u,zoom=z)\n",
    "# o3d.visualization.draw_geometries(geometries[1:], front=f,lookat=l,up=u,zoom=1.5*z)\n",
    "geometries\n",
    "\n",
    "\n",
    "\n",
    "import matplotlib.pyplot as plt\n",
    "al_df[\"residual\"].hist()\n",
    "plt.title(f\"{surface_type}: {str(p.detach().numpy().round())} residuals distirbution\")"
   ]
  },
  {
   "cell_type": "markdown",
   "id": "64fbc51e",
   "metadata": {},
   "source": [
    "# No constraints:"
   ]
  },
  {
   "cell_type": "code",
   "execution_count": 19,
   "id": "de6057bd",
   "metadata": {
    "scrolled": false
   },
   "outputs": [
    {
     "name": "stderr",
     "output_type": "stream",
     "text": [
      " 10%|████████████▊                                                                                                                   | 9999/100000 [02:53<26:01, 57.65it/s]\n"
     ]
    }
   ],
   "source": [
    "al_df = query_locations([0,1,0,0], 10000, lt=.5, debugging=True, max_steps=10)"
   ]
  },
  {
   "cell_type": "code",
   "execution_count": 20,
   "id": "874ba533",
   "metadata": {},
   "outputs": [
    {
     "data": {
      "text/plain": [
       "array([[ 614.66090349,  106.90975189,  222.33747405],\n",
       "       [ 425.67709351,   57.31066895,  238.27900696],\n",
       "       [ 128.07272649,   61.92591858,  777.8683001 ],\n",
       "       ...,\n",
       "       [ 425.67709351,   57.31066895,  238.27900696],\n",
       "       [2913.9760022 ,   73.0384481 , 1607.96673018],\n",
       "       [1486.0579043 ,   44.85497093, 1167.15239492]])"
      ]
     },
     "execution_count": 20,
     "metadata": {},
     "output_type": "execute_result"
    }
   ],
   "source": [
    "al_df[\"start_locs\"] = al_df[\"start_locs\"].apply(lambda l: l[:3])\n",
    "np.vstack(al_df[\"start_locs\"])"
   ]
  },
  {
   "cell_type": "code",
   "execution_count": 38,
   "id": "f0856847",
   "metadata": {},
   "outputs": [
    {
     "data": {
      "text/html": [
       "<svg  width=\"275\" height=\"55\"><rect x=\"0\" y=\"0\" width=\"55\" height=\"55\" style=\"fill:#5c72c7;stroke-width:2;stroke:rgb(255,255,255)\"/><rect x=\"55\" y=\"0\" width=\"55\" height=\"55\" style=\"fill:#a7b2dd;stroke-width:2;stroke:rgb(255,255,255)\"/><rect x=\"110\" y=\"0\" width=\"55\" height=\"55\" style=\"fill:#f2f1f1;stroke-width:2;stroke:rgb(255,255,255)\"/><rect x=\"165\" y=\"0\" width=\"55\" height=\"55\" style=\"fill:#dd9ea8;stroke-width:2;stroke:rgb(255,255,255)\"/><rect x=\"220\" y=\"0\" width=\"55\" height=\"55\" style=\"fill:#c94c61;stroke-width:2;stroke:rgb(255,255,255)\"/></svg>"
      ],
      "text/plain": [
       "[(0.36204382014945136, 0.44664865598964026, 0.7797854956034019),\n",
       " (0.6567985471377976, 0.698864053178378, 0.8654949793642184),\n",
       " (0.9493716134251703, 0.9459894173976073, 0.9462461884791474),\n",
       " (0.868000881668597, 0.6176791780011968, 0.6598968275206677),\n",
       " (0.788209084547896, 0.297185896991587, 0.38061616432868334)]"
      ]
     },
     "execution_count": 38,
     "metadata": {},
     "output_type": "execute_result"
    }
   ],
   "source": [
    "sns.diverging_palette(260, 5, as_cmap=False, n=5, s=60)"
   ]
  },
  {
   "cell_type": "code",
   "execution_count": 42,
   "id": "b2a2406c",
   "metadata": {},
   "outputs": [],
   "source": [
    "def analyze_queried_locations(al_df=None, n_colors = 5, res_filter_threshold = .5, draw_o3d=True):\n",
    "    \"\"\"Invistigate queried locations Color Scene by label categories and label pallete: VIS 2024 figure \n",
    "    developed in iNeRF_adaption.ipynb\"\"\"\n",
    "    vis_df, normp, _   = process_locations_visibility_data_frame(\"./utils/assets/test_data/locations_example.csv\")\n",
    "\n",
    "    \n",
    "    targets_array = ((np.vstack(vis_df[\"f_xyz\"])+1)/2)\n",
    "    locs_array    = (vis_df.values)[:,:3]\n",
    "    geometries    = []\n",
    "    if \"start_locs\" in al_df:\n",
    "        start_locs   = np.vstack(al_df[\"start_locs\"].values)\n",
    "        strat_colors = np.ones_like(start_locs) * .8\n",
    "        start_pcd = get_o3d_pcd_from_coordinates(start_locs, strat_colors)\n",
    "        geometries.append(start_pcd)\n",
    "\n",
    "    #start_locs    = locs_array#np.vstack(al_df[\"start_locs\"].values)[:,:3]#np.vstack([l[0] for l in locations])[:,:3]\n",
    "    #start_targets = ((np.vstack(vis_df[\"f_xyz\"])+1)/2)#np.array([t[0] for t in targets])\n",
    "    \n",
    "    if al_df is not None:\n",
    "        achieved_locs = al_df.values[:,:3]#np.vstack([l[1] for l in locations])[:,:3]\n",
    "        mean_losses   = np.array(al_df[\"residual\"].values)\n",
    "        scaled_residuals = mean_losses #/ mean_losses.max()\n",
    "        filtered_ids  = np.where(scaled_residuals<res_filter_threshold)[0] #np.where(np.array(mean_losses)<.5)[0]\n",
    "        #err_pallete = sns.color_palette(\"coolwarm\", n_colors=n_colors)# Blue to Orange\n",
    "        #err_pallete = sns.diverging_palette(125, 5, as_cmap=False, n=n_colors, s=60)# Greento Red\n",
    "        err_pallete = sns.diverging_palette(260, 5, as_cmap=False, n=n_colors, s=60) # Blue to Red\n",
    "        loss_colors = np.array([err_pallete[::-1][int(ml*n_colors)-1] for ml in scaled_residuals])\n",
    "#         loss_ids = [int(ml*n_colors-1) for ml in mean_losses - mean_losses.min()]\n",
    "#         loss_colors = np.array([[err_pallete[::-1][li] for li in loss_ids]])\n",
    "\n",
    "\n",
    "    ###Label colors pallete\n",
    "    label_pallete        = sns.color_palette(\"tab10\", n_colors=4) #[Buildings, Water, Trees, Sky]\n",
    "    label_pallete[1]     = label_pallete[0]; label_pallete[0] = (0.549, 0.471, 0.318); label_pallete[3] = (1, 0.847, 0.012) #ffd803\n",
    "    full_dominant_label  = np.argmax(targets_array > np.array(targets_array).mean(axis=0), axis=1)\n",
    "    #start_dominant_label = np.argmax(start_targets > start_targets.mean(axis=0), axis=1)\n",
    "    #start_label_colors = np.take(label_pallete, start_dominant_label, axis=0)\n",
    "    full_locs = locs_array[:,:3][full_dominant_label!=3]\n",
    "    full_label_colors  = np.take(label_pallete, full_dominant_label, axis=0)[full_dominant_label!=3]\n",
    "    # full_label_colors = np.hstack([full_label_colors, np.ones((full_label_colors.shape[0], 1))*.2])\n",
    "\n",
    "    #O3D point cloud assembly:\n",
    "    # full_pcd      = get_o3d_pcd_from_coordinates(locs_array[:,:3], [0,1,0])\n",
    "    full_pcd      = get_o3d_pcd_from_coordinates(full_locs, full_label_colors)\n",
    "    # start_pcd     = get_o3d_pcd_from_coordinates(start_locs, [0,1,0])\n",
    "    # start_pcd    = get_o3d_pcd_from_coordinates(start_locs, start_label_colors)\n",
    "    geometries.append(full_pcd)# = [full_pcd]\n",
    "    \n",
    "    if al_df is not None:\n",
    "        #adapted_pcd  = get_o3d_pcd_from_coordinates(achieved_locs, loss_colors)\n",
    "        filtered_pcd = get_o3d_pcd_from_coordinates(achieved_locs[filtered_ids], loss_colors[filtered_ids])\n",
    "        geometries.append(filtered_pcd)\n",
    "\n",
    "    if draw_o3d:\n",
    "        # o3d.visualization.draw_geometries([start_pcd])\n",
    "        # o3d.visualization.draw_geometries([full_pcd])\n",
    "        # o3d.visualization.draw_geometries([full_pcd, adapted_pcd])\n",
    "        o3d.visualization.draw_geometries(geometries)\n",
    "\n",
    "    #return geometries\n",
    "    return geometries, achieved_locs, loss_colors, scaled_residuals, err_pallete, filtered_ids\n",
    "\n",
    "geometries, achieved_locs, loss_colors, scaled_residuals, err_pallete, filtered_id\\\n",
    "= analyze_queried_locations(al_df, n_colors = 5, res_filter_threshold = .95, draw_o3d=False)"
   ]
  },
  {
   "cell_type": "code",
   "execution_count": null,
   "id": "a1c15a59",
   "metadata": {},
   "outputs": [],
   "source": []
  },
  {
   "cell_type": "code",
   "execution_count": 27,
   "id": "c5b49557",
   "metadata": {},
   "outputs": [
    {
     "name": "stdout",
     "output_type": "stream",
     "text": [
      "\u001b[1;33m[Open3D WARNING] GLFW Error: Cocoa: Failed to find service port for display\u001b[0;m\n",
      "\u001b[1;33m[Open3D WARNING] GLFW Error: Cocoa: Failed to find service port for display\u001b[0;m\n"
     ]
    },
    {
     "data": {
      "text/plain": [
       "[PointCloud with 10000 points.,\n",
       " PointCloud with 22435 points.,\n",
       " PointCloud with 10000 points.]"
      ]
     },
     "execution_count": 27,
     "metadata": {},
     "output_type": "execute_result"
    }
   ],
   "source": [
    "#No constraints:\n",
    "geometries = analyze_queried_locations(al_df, n_colors = 5, res_filter_threshold = .95, draw_o3d=False)\n",
    "\n",
    "f,l,u,z = [0,0,1], [1700,-10,1350], [0,-1,0], .4\n",
    "o3d.visualization.draw_geometries(geometries, front=f,lookat=l,up=u,zoom=z)\n",
    "o3d.visualization.draw_geometries(geometries[1:], front=f,lookat=l,up=u,zoom=1.5*z)\n",
    "geometries"
   ]
  },
  {
   "cell_type": "markdown",
   "id": "8343858b",
   "metadata": {},
   "source": [
    "# Color Scene by label categories and label pallete: VIS 2024 figure\n",
    "\n",
    "Copied from `iNeRF_adaption.ipynb`"
   ]
  },
  {
   "cell_type": "code",
   "execution_count": null,
   "id": "746b7dc2",
   "metadata": {},
   "outputs": [],
   "source": [
    "geometries, achieved_locs, loss_colors, scaled_residuals, err_pallete, filtered_ids \\\n",
    "= analyze_queried_locations(al_df, n_colors = 5, res_filter_threshold = .3, draw_o3d=False)\n",
    "\n",
    "f,l,u,z = [0,0,1], [1700,-10,1350], [0,-1,0], .4\n",
    "o3d.visualization.draw_geometries(geometries, front=f,lookat=l,up=u,zoom=z)\n",
    "o3d.visualization.draw_geometries(geometries[1:], front=f,lookat=l,up=u,zoom=1.5*z)\n",
    "geometries"
   ]
  },
  {
   "cell_type": "code",
   "execution_count": 17,
   "id": "e1d1ce8c",
   "metadata": {},
   "outputs": [
    {
     "data": {
      "text/plain": [
       "[PointCloud with 1000 points.,\n",
       " PointCloud with 22435 points.,\n",
       " PointCloud with 122 points.]"
      ]
     },
     "execution_count": 17,
     "metadata": {},
     "output_type": "execute_result"
    }
   ],
   "source": [
    "{\n",
    "\t\"class_name\" : \"ViewTrajectory\",\n",
    "\t\"interval\" : 29,\n",
    "\t\"is_loop\" : false,\n",
    "\t\"trajectory\" : \n",
    "\t[\n",
    "\t\t{\n",
    "\t\t\t\"boundingbox_max\" : [ 3200.3344484068975, 111.92591857910141, 2207.0061089261485 ],\n",
    "\t\t\t\"boundingbox_min\" : [ -298.98250404064339, -91.182808326747804, -292.21756021773371 ],\n",
    "\t\t\t\"field_of_view\" : 60.0,\n",
    "\t\t\t\"front\" : [ 0.066616892983401454, -0.048562666621585752, 0.99659613534261648 ],\n",
    "\t\t\t\"lookat\" : [ 1672.3072095293769, -11.975631938405158, 1347.280789310626 ],\n",
    "\t\t\t\"up\" : [ -0.024899493391479264, -0.99858473284934401, -0.046995175806160999 ],\n",
    "\t\t\t\"zoom\" : 0.40399999999999969\n",
    "\t\t}\n",
    "\t],\n",
    "\t\"version_major\" : 1,\n",
    "\t\"version_minor\" : 0\n",
    "}"
   ]
  },
  {
   "cell_type": "code",
   "execution_count": 7,
   "id": "2d192cfe",
   "metadata": {},
   "outputs": [
    {
     "data": {
      "text/html": [
       "<svg  width=\"275\" height=\"55\"><rect x=\"0\" y=\"0\" width=\"55\" height=\"55\" style=\"fill:#4f8349;stroke-width:2;stroke:rgb(255,255,255)\"/><rect x=\"55\" y=\"0\" width=\"55\" height=\"55\" style=\"fill:#9fbb9c;stroke-width:2;stroke:rgb(255,255,255)\"/><rect x=\"110\" y=\"0\" width=\"55\" height=\"55\" style=\"fill:#f2f1f1;stroke-width:2;stroke:rgb(255,255,255)\"/><rect x=\"165\" y=\"0\" width=\"55\" height=\"55\" style=\"fill:#dd9ea8;stroke-width:2;stroke:rgb(255,255,255)\"/><rect x=\"220\" y=\"0\" width=\"55\" height=\"55\" style=\"fill:#c94c61;stroke-width:2;stroke:rgb(255,255,255)\"/></svg>"
      ],
      "text/plain": [
       "[(0.30909560504027705, 0.5145606713101922, 0.2844928808093271),\n",
       " (0.6242340979665029, 0.7352377397989348, 0.6112772410019935),\n",
       " (0.9493716134251703, 0.9459894173976073, 0.9462461884791474),\n",
       " (0.868000881668597, 0.6176791780011968, 0.6598968275206677),\n",
       " (0.788209084547896, 0.297185896991587, 0.38061616432868334)]"
      ]
     },
     "execution_count": 7,
     "metadata": {},
     "output_type": "execute_result"
    }
   ],
   "source": [
    "sns.diverging_palette(125, 5, as_cmap=False, n=5, s=60)\n",
    "# sns.diverging_palette(260, 5, as_cmap=False, n=5, s=60) \n",
    "# sns.color_palette(\"coolwarm\", n_colors=5)"
   ]
  },
  {
   "cell_type": "code",
   "execution_count": 8,
   "id": "2e7362f9",
   "metadata": {},
   "outputs": [],
   "source": [
    "from utils.gradient_walk_utils import analyze_queried_locations\n",
    "# analyze_queried_locations(al_df, n_colors = 5, res_filter_threshold = .3)"
   ]
  },
  {
   "cell_type": "code",
   "execution_count": 10,
   "id": "0866a884",
   "metadata": {
    "scrolled": true
   },
   "outputs": [],
   "source": [
    "# achieved_locs[filtered_ids]"
   ]
  },
  {
   "cell_type": "code",
   "execution_count": 25,
   "id": "00d0560a",
   "metadata": {},
   "outputs": [
    {
     "name": "stdout",
     "output_type": "stream",
     "text": [
      "\u001b[1;33m[Open3D WARNING] GLFW Error: Cocoa: Failed to find service port for display\u001b[0;m\n"
     ]
    }
   ],
   "source": [
    "o3d.visualization.draw_geometries([geometries[1]])"
   ]
  },
  {
   "cell_type": "code",
   "execution_count": 23,
   "id": "10325b9b",
   "metadata": {},
   "outputs": [
    {
     "name": "stdout",
     "output_type": "stream",
     "text": [
      "\u001b[1;33m[Open3D WARNING] GLFW Error: Cocoa: Failed to find service port for display\u001b[0;m\n"
     ]
    }
   ],
   "source": [
    "geometries, achieved_locs, loss_colors, scaled_residuals, err_pallete, filtered_ids = analyze_queried_locations(al_df, n_colors = 5, res_filter_threshold = .25)\n",
    "\n"
   ]
  },
  {
   "cell_type": "code",
   "execution_count": 10,
   "id": "be2a695f",
   "metadata": {},
   "outputs": [
    {
     "data": {
      "text/plain": [
       "array([0.10258442, 0.11996873, 0.2313216 , 0.2384442 , 0.25002621,\n",
       "       0.27183361, 0.30354048, 0.3109563 , 0.32246069, 0.32266239,\n",
       "       0.3413628 , 0.343381  , 0.34759642, 0.36378131, 0.38475755,\n",
       "       0.39065075, 0.40312904, 0.42872039, 0.4287595 , 0.42883302,\n",
       "       0.45137102, 0.4585009 , 0.46345691, 0.46563529, 0.511109  ,\n",
       "       0.52511682, 0.53779605, 0.55623355, 0.58524093, 0.59535509,\n",
       "       0.60408826, 0.6248424 , 0.63319358, 0.64807873, 0.65053079,\n",
       "       0.65799246, 0.66459229, 0.67796999, 0.68125998, 0.6845743 ,\n",
       "       0.69011954, 0.70009738, 0.72685792, 0.72733082, 0.72812511,\n",
       "       0.72831386, 0.72845793, 0.7298853 , 0.73137593, 0.73158441,\n",
       "       0.73187601, 0.73623778, 0.73704817, 0.73715804, 0.73831942,\n",
       "       0.73925875, 0.74326899, 0.74480623, 0.74720332, 0.74925148,\n",
       "       0.75048241, 0.75460204, 0.75467637, 0.75561322, 0.75575687,\n",
       "       0.7574279 , 0.75773729, 0.76006095, 0.7662087 , 0.76779915,\n",
       "       0.76925582, 0.77600318, 0.78539473, 0.79148533, 0.80281021,\n",
       "       0.81345236, 0.81668393, 0.818417  , 0.81897805, 0.82132816])"
      ]
     },
     "execution_count": 10,
     "metadata": {},
     "output_type": "execute_result"
    }
   ],
   "source": [
    "np.sort(scaled_residuals[filtered_ids])#.sort()"
   ]
  },
  {
   "cell_type": "code",
   "execution_count": 13,
   "id": "a9e9f1b4",
   "metadata": {},
   "outputs": [
    {
     "data": {
      "text/plain": [
       "array([0.13732926, 0.4280477 , 0.42565313, 0.38947308, 0.30594176,\n",
       "       0.36664111, 0.36125082, 0.47585642, 0.38725132, 0.24045417,\n",
       "       0.31903235, 0.4051861 , 0.34840655, 0.44721639, 0.24700602,\n",
       "       0.49599428, 0.23842017, 0.36185202, 0.11813491, 0.36764277,\n",
       "       0.29377758, 0.46475265, 0.46540782, 0.43318637, 0.45828783,\n",
       "       0.49078265, 0.44631317, 0.45763617, 0.17603487, 0.27996562,\n",
       "       0.49537347, 0.33047141, 0.37218576, 0.29777638, 0.44192717,\n",
       "       0.15674244, 0.41532488, 0.47995999, 0.33301179, 0.41042358,\n",
       "       0.42533499, 0.47708356, 0.43016246, 0.38190208, 0.4038339 ,\n",
       "       0.465883  , 0.37786298, 0.40191663, 0.4368654 ])"
      ]
     },
     "execution_count": 13,
     "metadata": {},
     "output_type": "execute_result"
    }
   ],
   "source": [
    "scaled_residuals[filtered_ids]"
   ]
  },
  {
   "cell_type": "markdown",
   "id": "b772b049",
   "metadata": {},
   "source": [
    "# Display Trajectory from start to end point in O3D"
   ]
  },
  {
   "cell_type": "markdown",
   "id": "8194b419",
   "metadata": {},
   "source": [
    "## Snippet moved in loop of `query_locations_on_surface` method"
   ]
  },
  {
   "cell_type": "code",
   "execution_count": 37,
   "id": "d89a9f0e",
   "metadata": {},
   "outputs": [
    {
     "name": "stderr",
     "output_type": "stream",
     "text": [
      "Gradient norm: a 3.7258, b 4.6403, dir 0.0139: 100%|██████████████████████████████████████████████████████████████████████████████████████| 10/10 [00:00<00:00, 288.72it/s]\n"
     ]
    },
    {
     "data": {
      "text/plain": [
       "(array([863.28973783, 109.59535318, 568.09168986]),\n",
       " dict_keys(['final_residual', 'trajectory', 'predictions', 'gradients_norm', 'loss_trajectory', 'inputs']),\n",
       " 0.0454215407371521,\n",
       " array([0.18, 0.65, 0.04, 0.17], dtype=float32),\n",
       " dict_keys(['final_residual', 'trajectory', 'predictions', 'gradients_norm', 'loss_trajectory', 'inputs']))"
      ]
     },
     "execution_count": 37,
     "metadata": {},
     "output_type": "execute_result"
    }
   ],
   "source": [
    "## Snippet moved in loop of `query_locations_on_surface` method\n",
    "\n",
    "from torch.utils.data import Dataset\n",
    "from utils.scripts.architectures.torch_nerf_src import network\n",
    "\n",
    "from utils.gradient_walk_utils import gradient_walk_on_surface, analyze_queried_locations \n",
    "  \n",
    "\n",
    "p                  = torch.tensor(locs_array.min(axis=0)[:3]) + torch.tensor([-300, 100, -300])\n",
    "c                  = p - torch.tensor([.01, 50, .01])\n",
    "r                  = torch.tensor([3500., -2500.]); surface_type=\"square\"\n",
    "# view_dir           = torch.tensor(locs_array[0][3:], requires_grad=True) # Critical change for acceptable results view_dir to random picking\n",
    "view_dir           = torch.tensor(locs_array[np.random.randint(locs_array.shape[0])][3:], requires_grad=True) # change view_dir to random picking\n",
    "desired_target     = torch.tensor([0,1,0,0]).to(torch.float32)\n",
    "\n",
    "a, b               = torch.rand(2)  \n",
    "parameters         = (a, b)\n",
    "surface_basis      = (p, c, r)\n",
    "\n",
    "raw_pos, debugging_dict = gradient_walk_on_surface(parameters, view_dir, desired_target, surface_basis, surface_type\\\n",
    "             , intervals=np.ones(4) * .1, n_steps=10, loss_threshold=0.1, debugging_return=True, verbose=True)\n",
    "\n",
    "raw_pos, debugging_dict.keys(), debugging_dict[\"final_residual\"], debugging_dict[\"predictions\"][-1].round(2)\\\n",
    ", debugging_dict.keys()\n"
   ]
  },
  {
   "cell_type": "code",
   "execution_count": 38,
   "id": "a66b82e8",
   "metadata": {},
   "outputs": [
    {
     "name": "stdout",
     "output_type": "stream",
     "text": [
      "\u001b[1;33m[Open3D WARNING] GLFW Error: Cocoa: Failed to find service port for display\u001b[0;m\n"
     ]
    },
    {
     "data": {
      "image/png": "[encoded data removed]",
      "text/plain": [
       "<Figure size 640x480 with 2 Axes>"
      ]
     },
     "metadata": {},
     "output_type": "display_data"
    },
    {
     "name": "stdout",
     "output_type": "stream",
     "text": [
      "[[0.11 0.14 0.34 0.32]\n",
      " [0.15 0.46 0.15 0.26]\n",
      " [0.16 0.3  0.18 0.45]\n",
      " [0.15 0.5  0.07 0.33]\n",
      " [0.14 0.63 0.04 0.23]\n",
      " [0.15 0.71 0.03 0.16]\n",
      " [0.16 0.73 0.03 0.15]\n",
      " [0.18 0.71 0.04 0.15]\n",
      " [0.16 0.67 0.04 0.17]\n",
      " [0.18 0.65 0.04 0.17]]\n"
     ]
    }
   ],
   "source": [
    "points  = []\n",
    "surface = network.nerfs.ParametricSurface(p,c,r, surface_type)\n",
    "predictions = debugging_dict[\"predictions\"]\n",
    "\n",
    "trajectory     = debugging_dict[\"trajectory\"]\n",
    "gradients_norm = debugging_dict[\"gradients_norm\"]\n",
    "\n",
    "for i in range(1000):\n",
    "    a, b = torch.rand(2)\n",
    "    #point = surface_parametric(a, b, p.detach().numpy(), c, r, surface_type) \n",
    "    point = surface.parametrize(a, b)\n",
    "    points.append(point.detach().numpy())\n",
    "points = np.vstack(points)\n",
    "\n",
    "import open3d as o3d\n",
    "from utils.scripts.archive.scene_loading_2 import get_highlighed_o3d_locations\n",
    "from utils.scripts.interest_heuristic_0    import get_o3d_pcd_from_coordinates\n",
    "\n",
    "full_labeled_pcd = analyze_queried_locations(draw_o3d=False)[0]\n",
    "training_pcd     = full_labeled_pcd\n",
    "# training_pcd       = get_o3d_pcd_from_coordinates(locs_array[:,:3], colors=[1, 0.5, 0])\n",
    "# good_pcd           = get_o3d_pcd_from_coordinates(good_points, colors=[0,1, 0])\n",
    "# bad_pcd           = get_o3d_pcd_from_coordinates(bad_points, colors=[1, 0, 0])\n",
    "full_pcd         = get_o3d_pcd_from_coordinates(points, colors=[0,1, 0])\n",
    "traj_pcd         = get_o3d_pcd_from_coordinates(np.vstack(trajectory), colors=[1,0,0])\n",
    "\n",
    "start_point = get_highlighed_o3d_locations(trajectory[0], radius=50)[0]\n",
    "\n",
    "end_point = get_highlighed_o3d_locations(trajectory[-1], radius=50, color=(0,.5,.5))[0]\n",
    "\n",
    "# o3d.visualization.draw_geometries([training_pcd, good_pcd, bad_pcd])\n",
    "o3d.visualization.draw_geometries([training_pcd, full_pcd, traj_pcd, start_point, end_point])\n",
    "\n",
    "import matplotlib.pyplot as plt\n",
    "fig, ax = plt.subplots(1, 2)\n",
    "\n",
    "ax[0].plot(np.vstack(gradients_norm)[:,0], label=\"a\")\n",
    "ax[0].plot(np.vstack(gradients_norm)[:,1], label=\"b\")\n",
    "ax[0].plot(np.vstack(gradients_norm)[:,2], label=\"dir\")\n",
    "ax[0].legend(title=\"Losses\")\n",
    "ax[1].plot(np.vstack(predictions)[:,1], label=\"water prediction\")\n",
    "plt.show()\n",
    "\n",
    "print(np.vstack(predictions).round(2))"
   ]
  },
  {
   "cell_type": "markdown",
   "id": "a3b601a4",
   "metadata": {},
   "source": [
    "# Others"
   ]
  },
  {
   "cell_type": "code",
   "execution_count": 27,
   "id": "3c8cd697",
   "metadata": {},
   "outputs": [
    {
     "data": {
      "text/plain": [
       "<matplotlib.legend.Legend at 0x10560eb20>"
      ]
     },
     "execution_count": 27,
     "metadata": {},
     "output_type": "execute_result"
    },
    {
     "data": {
      "image/png": "[encoded data removed]",
      "text/plain": [
       "<Figure size 640x480 with 1 Axes>"
      ]
     },
     "metadata": {},
     "output_type": "display_data"
    }
   ],
   "source": [
    "import matplotlib.pyplot as plt\n",
    "\n",
    "plt.plot(np.vstack(gradients_norm)[:,0], label=\"a\")\n",
    "plt.plot(np.vstack(gradients_norm)[:,1], label=\"b\")\n",
    "plt.plot(np.vstack(gradients_norm)[:,2], label=\"dir\")\n",
    "plt.legend(title=\"Losses\")"
   ]
  },
  {
   "cell_type": "markdown",
   "id": "819be20b",
   "metadata": {},
   "source": [
    "Check / Run the following `from utils.scripts.dev_experiments import parametrized_surfaces`\n",
    "for a demo of the four surfaces.\n",
    "\n",
    "\n",
    "1. lp - paramters - locations drawn from parameter space - a, b in [0, 1]\n",
    "2. lr - locations from surface corresppoding to lp / ab"
   ]
  },
  {
   "cell_type": "code",
   "execution_count": 5,
   "id": "6c3eb8b1",
   "metadata": {},
   "outputs": [
    {
     "data": {
      "text/plain": [
       "([4.303650379180908,\n",
       "  109.85212707519531,\n",
       "  143.2198028564453,\n",
       "  170.35742488462282,\n",
       "  4.10353935883233,\n",
       "  -179.30343161194511],\n",
       " tensor([[-0.7306, -1.0000, -0.9792,  0.7082]], grad_fn=<TanhBackward0>))"
      ]
     },
     "execution_count": 5,
     "metadata": {},
     "output_type": "execute_result"
    }
   ],
   "source": [
    "trained_encoder_old, info_dict = initialize_trained_encoder()\n",
    "mock_location = torch.hstack([rp, rv]).detach().numpy().tolist()\n",
    "sample_batch = intialize_input_as_tensor(mock_location, [0,0,0,0], info_dict)\n",
    "input_pos = torch.autograd.Variable(sample_batch[\"input_pos_raw\"], requires_grad=True)\n",
    "input_dir = sample_batch[\"input_dir_raw\"]\n",
    "output = trained_encoder_old(input_pos, input_dir, from_raw=True)\n",
    "\n",
    "mock_location, output"
   ]
  },
  {
   "cell_type": "markdown",
   "id": "0dfdf6f2",
   "metadata": {},
   "source": [
    "# correct approach\n",
    "\n",
    "Normalization __after__ parametrization:\n",
    "\n",
    "Inputs of NN need to be normalized, not the surface itself.\n",
    "\n",
    "## Conclusion: \n",
    "\n",
    "Dataloader needs to output [a, b] and normalization parameters.\n",
    "\n",
    "Both projection and normalization need to happen in the Network / differentiable tracked."
   ]
  },
  {
   "cell_type": "markdown",
   "id": "bfbb3310",
   "metadata": {},
   "source": [
    "# Dummy variables `a,b,p,c,`"
   ]
  },
  {
   "cell_type": "code",
   "execution_count": 30,
   "id": "52baef6c",
   "metadata": {},
   "outputs": [
    {
     "name": "stdout",
     "output_type": "stream",
     "text": [
      "ab: tensor(0.8696) tensor(0.5291)\n",
      "lp: tensor([0.8696, 0.5291], requires_grad=True)\n",
      "final point: tensor([ 0.1303,  0.1714, -0.3017], dtype=torch.float64,\n",
      "       grad_fn=<DivBackward0>)\n"
     ]
    }
   ],
   "source": [
    "from utils.gradient_walk_utils import *\n",
    "norm_min, norm_dev = 2, 8\n",
    "\n",
    "a, b = torch.rand(2); print(\"ab:\", a, b); lp = torch.tensor([a,b], requires_grad=True); print(\"lp:\", lp)\n",
    "p, c = torch.ones(3) * 2, torch.ones(3) * 10; r=torch.tensor(2.) #[2,2,2],[10,10,10]#\n",
    "\n",
    "lr = surface_parametric(a, b, p, c, r, \"square\")#; print(\"lr:\", lr)\n",
    "lr = (lr - norm_min) / norm_dev; print(\"final point:\", lr)"
   ]
  },
  {
   "cell_type": "markdown",
   "id": "c36987f5",
   "metadata": {},
   "source": [
    "Normalization __before__ parametrization:"
   ]
  },
  {
   "cell_type": "code",
   "execution_count": 29,
   "id": "b8e88067",
   "metadata": {},
   "outputs": [
    {
     "name": "stdout",
     "output_type": "stream",
     "text": [
      "ab: tensor(0.0143) tensor(0.2931)\n",
      "lp: tensor([0.0143, 0.2931], requires_grad=True)\n",
      "final point: tensor([-0.4158, -2.7569,  3.1728], dtype=torch.float64,\n",
      "       grad_fn=<AddBackward0>)\n"
     ]
    }
   ],
   "source": [
    "from utils.gradient_walk_utils import *\n",
    "norm_min, norm_dev = 2, 8\n",
    "\n",
    "a, b = torch.rand(2); print(\"ab:\", a, b); lp = torch.tensor([a,b], requires_grad=True); print(\"lp:\", lp)\n",
    "p, c = torch.ones(3) * 2, torch.ones(3) * 10; r=torch.tensor(2) #[2,2,2],[10,10,10]#\n",
    "p, c = (p - norm_min) / norm_dev, (c - norm_min) / norm_dev \n",
    "\n",
    "lr = surface_parametric(a, b, p, c, r, \"square\"); print(\"final point:\", lr)"
   ]
  },
  {
   "cell_type": "markdown",
   "id": "d8af062b",
   "metadata": {},
   "source": [
    "# Visualization of Standard shapes above city."
   ]
  },
  {
   "cell_type": "code",
   "execution_count": 153,
   "id": "253cd478",
   "metadata": {},
   "outputs": [
    {
     "name": "stdout",
     "output_type": "stream",
     "text": [
      "Points within bounds:  7453  out of  10000\n",
      "\u001b[1;33m[Open3D WARNING] GLFW Error: Cocoa: Failed to find service port for display\u001b[0;m\n"
     ]
    }
   ],
   "source": [
    "from utils.gradient_walk_utils import *\n",
    "\n",
    "vis_df, normp, _   = process_locations_visibility_data_frame(\"./utils/assets/test_data/locations_example.csv\")  \n",
    "locs_array         = vis_df.values[:,:6].astype(float)\n",
    "targets_array = (np.vstack((vis_df[\"f_xyz\"]))).tolist()\n",
    "    \n",
    "trained_encoder, info_dict = initialize_trained_encoder()\n",
    "norm_params     = (info_dict[\"xyz_centroid\"], info_dict[\"xyz_max-min\"], info_dict[\"xyzh_centroid\"], info_dict[\"xyzh_max-min\"])\n",
    "    \n",
    "# intialize_input_as_tensor(p, c, info_dict)\n",
    "\n",
    "norm_params\n",
    "# c = torch.tensor(locs_array[1][:3]) + torch.ones(3) * .1\n",
    "\n",
    "p = torch.tensor(locs_array.mean(axis=0)[:3]) + torch.tensor([.01, 50, .01]); r=2000; surface_type=\"circle\"\n",
    "# p = torch.tensor(locs_array.mean(axis=0)[:3]) - torch.tensor([.01, 2000, .01]); r=3200; surface_type=\"sphere\"\n",
    "p = torch.tensor(locs_array.mean(axis=0)[:3]) - torch.tensor([.01, 500, .01]); r=2000; surface_type=\"sphere\"\n",
    "p = torch.tensor(locs_array.min(axis=0)[:3]) + torch.tensor([-300, 100, -300]); r=(3500, -2500); surface_type=\"square\"\n",
    "\n",
    "\n",
    "# p = torch.tensor(locs_array[0][:3])\n",
    "c = p - torch.tensor([.01, 50, .01])\n",
    "\n",
    "# surface_parametric(1,1,[592,51,104],c,100)\n",
    "surface_parametric(1,1,c,p,r,surface_type)\n",
    "\n",
    "import open3d as o3d\n",
    "from utils.scripts.archive.scene_loading_2 import get_highlighed_o3d_locations\n",
    "from utils.scripts.interest_heuristic_0    import get_o3d_pcd_from_coordinates\n",
    "\n",
    "n_points = 10000\n",
    "points_on_circle = [surface_parametric(torch.rand(1, requires_grad=True)\\\n",
    "                                      , torch.rand(1, requires_grad=True)\\\n",
    "                                      , p, c, r, surface_type) for i in range(n_points)]\n",
    "\n",
    "points_on_circle = torch.vstack(points_on_circle).detach().numpy()\n",
    "\n",
    "print(\"Points within bounds: \", ((points_on_circle < locs_array.max(axis=0)[:3]).all(axis=1) \\\n",
    " & (points_on_circle > locs_array.min(axis=0)[:3]).all(axis=1)).sum(), \" out of \", n_points)\n",
    "# print(\"Point on the circle:\", point_on_circle)\n",
    "# locs_array    = vis_df.values[:,:3].astype(float)\n",
    "\n",
    "locs_array\n",
    "training_pcd       = get_o3d_pcd_from_coordinates(locs_array[:,:3], colors=[1, 0.5, 0])\n",
    "points_on_circ_pcd = get_o3d_pcd_from_coordinates(points_on_circle, colors = [.05,.5,.75])\n",
    "\n",
    "o3d.visualization.draw_geometries([training_pcd, points_on_circ_pcd])"
   ]
  },
  {
   "cell_type": "markdown",
   "id": "fb4371b9",
   "metadata": {},
   "source": [
    "# Visual Check if points are within bounds or not:"
   ]
  },
  {
   "cell_type": "code",
   "execution_count": 155,
   "id": "fab29c89",
   "metadata": {},
   "outputs": [
    {
     "name": "stdout",
     "output_type": "stream",
     "text": [
      "Locs mins and maxs: [   0.   10.    8. -180.  -90. -180.] [3002.  112. 2171.  180.   90.  180.]\n",
      "Points within bounds: 7432\n",
      "\u001b[1;33m[Open3D WARNING] GLFW Error: Cocoa: Failed to find service port for display\u001b[0;m\n"
     ]
    }
   ],
   "source": [
    "# nerfs = NeRFS(norm_params, 6)\n",
    "\n",
    "from utils.gradient_walk_utils import *\n",
    "# set_seed(1)\n",
    "\n",
    "vis_df, normp, _   = process_locations_visibility_data_frame(\"./utils/assets/test_data/locations_example.csv\")  \n",
    "locs_array         = vis_df.values[:,:6].astype(float)\n",
    "print(\"Locs mins and maxs:\", locs_array.min(axis=0).round(), locs_array.max(axis=0).round())\n",
    "targets_array      = (np.vstack((vis_df[\"f_xyz\"]))).tolist()   \n",
    "trained_encoder, info_dict = initialize_trained_encoder()\n",
    "norm_params        = (info_dict[\"xyz_centroid\"], info_dict[\"xyz_max-min\"], info_dict[\"xyzh_centroid\"], info_dict[\"xyzh_max-min\"])\n",
    "p                  = torch.tensor(locs_array.min(axis=0)[:3]) + torch.tensor([-300, 100, -300]); r=(3500, -2500); surface_type=\"square\"\n",
    "c                  = p - torch.tensor([.01, 50, .01])\n",
    "\n",
    "trained_encoder = NeRFS(p, c, r, norm_params, surface_type=surface_type, pos_dim=info_dict[\"enc_input_size\"], output_dim=info_dict[\"num_present_classes\"]\\\n",
    "    ,  view_dir_dim=info_dict[\"enc_input_size\"], feat_dim=256)\n",
    "\n",
    "trained_encoder.load_state_dict(torch.load(f\"./utils/assets/models/encoder_350.pt\"))\n",
    "\n",
    "conds = []\n",
    "good_points = []\n",
    "bad_points = []\n",
    "\n",
    "for i in range(10000):\n",
    "    a, b = torch.rand(2)#; print(\"ab:\", a, b)\n",
    "    #, (trained_encoder(a,b, a).detach().numpy() < locs_array.max(axis=0)[:3]).all()\\\n",
    "    #trained_encoder(a,b, a)\\\n",
    "    point = trained_encoder(a,b, a).detach().numpy()\n",
    "    cond = ((point < locs_array.max(axis=0)[:3]) & (point > locs_array.min(axis=0)[:3])).sum() > 2\n",
    "    if cond:\n",
    "        good_points.append(point)\n",
    "    else:\n",
    "        bad_points.append(point)\n",
    "    conds.append(cond)\n",
    "    \n",
    "bad_points = np.vstack(bad_points)\n",
    "good_points = np.vstack(good_points)\n",
    "print(\"Points within bounds:\", sum(conds)   )\n",
    "import open3d as o3d\n",
    "from utils.scripts.archive.scene_loading_2 import get_highlighed_o3d_locations\n",
    "from utils.scripts.interest_heuristic_0    import get_o3d_pcd_from_coordinates\n",
    "\n",
    "\n",
    "training_pcd       = get_o3d_pcd_from_coordinates(locs_array[:,:3], colors=[1, 0.5, 0])\n",
    "good_pcd           = get_o3d_pcd_from_coordinates(good_points, colors=[0,1, 0])\n",
    "bad_pcd           = get_o3d_pcd_from_coordinates(bad_points, colors=[1, 0, 0])\n",
    "\n",
    "\n",
    "o3d.visualization.draw_geometries([training_pcd, good_pcd, bad_pcd])\n",
    "\n"
   ]
  },
  {
   "cell_type": "code",
   "execution_count": 13,
   "id": "07aecf05",
   "metadata": {},
   "outputs": [
    {
     "name": "stdout",
     "output_type": "stream",
     "text": [
      "ab: tensor(0.1792) tensor(0.7918)\n",
      "lp: tensor([0.1792, 0.7918], requires_grad=True)\n",
      "final point: tensor([-0.4683, -0.0195, -0.3530], dtype=torch.float64,\n",
      "       grad_fn=<DivBackward0>)\n"
     ]
    },
    {
     "data": {
      "text/plain": [
       "{'a': tensor(0.1792, requires_grad=True),\n",
       " 'b': tensor(0.7918, requires_grad=True),\n",
       " 'p': tensor([2., 2., 2.], requires_grad=True),\n",
       " 'c': tensor([10., 10., 10.], requires_grad=True),\n",
       " 'r': tensor([2., 2.], requires_grad=True),\n",
       " 'surface_type': 'square',\n",
       " 'norm_params': (array([1406.54009895,   61.762011  , 1061.20413751]),\n",
       "  3001.246931488514,\n",
       "  array([ 22.43477189,  37.63691096, -15.5006524 ]),\n",
       "  359.99998089890255)}"
      ]
     },
     "execution_count": 13,
     "metadata": {},
     "output_type": "execute_result"
    }
   ],
   "source": [
    "\n",
    "from torch.utils.data import Dataset\n",
    "from utils.scripts.architectures.torch_nerf_src import network\n",
    "    \n",
    "\n",
    "a, b = torch.rand(2); print(\"ab:\", a, b); lp = torch.tensor([a,b], requires_grad=True); print(\"lp:\", lp)\n",
    "p, c = torch.ones(3) * 2, torch.ones(3) * 10; r=torch.tensor([2., 2.]) #[2,2,2],[10,10,10]#\n",
    "\n",
    "lr = surface_parametric(a, b, p, c, r, \"square\")#; print(\"lr:\", lr)\n",
    "lr = (lr - torch.tensor(norm_params[0])) / torch.tensor(norm_params[1]); print(\"final point:\", lr)\n",
    "    \n",
    "param_ds = network.nerfs.EncoderNeRFSDataset(a, b, p, c, r, \"square\", norm_params)\n",
    "# sample_batch = torch.utils.data.DataLoader(dataset=param_ds).sampler.data_source[:1]\n",
    "sample_batch = param_ds[0]\n",
    "sample_batch"
   ]
  },
  {
   "cell_type": "markdown",
   "id": "40239283",
   "metadata": {},
   "source": [
    "# Test normalization in Torch model is same as in legacy implementation"
   ]
  },
  {
   "cell_type": "code",
   "execution_count": 48,
   "id": "ffe532cb",
   "metadata": {},
   "outputs": [],
   "source": [
    "\n",
    "from torch.utils.data import Dataset\n",
    "from utils.scripts.architectures.torch_nerf_src import network\n",
    "  \n",
    "trained_encoder, info_dict = initialize_trained_encoder()\n",
    "norm_params        = (torch.tensor(info_dict[\"xyz_centroid\"], requires_grad=True)\\\n",
    "                      , torch.tensor(info_dict[\"xyz_max-min\"], requires_grad=True)\\\n",
    "                     , torch.tensor(info_dict[\"xyzh_centroid\"], requires_grad=True)\\\n",
    "                    , torch.tensor(info_dict[\"xyzh_max-min\"], requires_grad=True))\n",
    "\n",
    "for i in range(1000):    \n",
    "\n",
    "    a, b = torch.rand(2)  \n",
    "    p                  = torch.tensor(locs_array.min(axis=0)[:3]) + torch.tensor([-300, 100, -300])\n",
    "    r                  = torch.tensor([3500., -2500.]); surface_type=\"square\"\n",
    "    c                  = p - torch.tensor([.01, 50, .01])\n",
    "    view_dir           = torch.tensor(locs_array[0][3:], requires_grad=True)\n",
    "    param_ds = network.nerfs.EncoderNeRFSDataset(a, b, p, c, r, view_dir, \"square\", norm_params)\n",
    "\n",
    "    # sample_batch = torch.utils.data.DataLoader(dataset=param_ds).sampler.data_source[:1]\n",
    "    sample_batch = param_ds[0]\n",
    "    sample_batch\n",
    "\n",
    "\n",
    "    trained_encoder = NeRFS(p, c, r, norm_params, surface_type=surface_type, pos_dim=info_dict[\"enc_input_size\"], output_dim=info_dict[\"num_present_classes\"]\\\n",
    "        ,  view_dir_dim=info_dict[\"enc_input_size\"], feat_dim=256)\n",
    "\n",
    "\n",
    "    trained_encoder.load_state_dict(torch.load(f\"./utils/assets/models/encoder_350.pt\"))\n",
    "\n",
    "    # here trained_encoder was just returning the xyz location and its normalization.\n",
    "    pos, norm_pos = trained_encoder(sample_batch[\"a\"], sample_batch[\"b\"], sample_batch[\"view_dir\"])\n",
    " \n",
    "    stop = np.isclose(norm_pos.detach().numpy(), (intialize_input_as_tensor(pos.detach().numpy().tolist()+[1,1,1], [0,0,0,0], info_dict)[\"input_pos_raw\"]).detach().numpy())\n",
    "    if not(stop.all()):\n",
    "        print(i, stop)\n",
    "        break"
   ]
  },
  {
   "cell_type": "markdown",
   "id": "febaf09c",
   "metadata": {},
   "source": []
  },
  {
   "cell_type": "markdown",
   "id": "610fb82a",
   "metadata": {},
   "source": [
    "# NerFS and Parmateric surface classes - moved to:\n",
    "\n",
    "`utils.scripts.architectures.torch_nerf_src.network.nerfs.py`"
   ]
  },
  {
   "cell_type": "code",
   "execution_count": 2,
   "id": "8f4f1d64",
   "metadata": {},
   "outputs": [],
   "source": [
    "from utils.geometry_utils import surface_parametric\n",
    "from utils.scripts.architectures.torch_nerf_src import signal_encoder\n",
    "import torch.nn as nn\n",
    "class NeRFS(nn.Module):\n",
    "    \"\"\"\n",
    "    NeRFS - NeRF on a surface with parametric imputs.\n",
    "    A multi-layer perceptron (MLP) used for learning neural radiance fields.\n",
    "\n",
    "    For architecture details, please refer to 'NeRF: Representing Scenes as\n",
    "    Neural Radiance Fields for View Synthesis (ECCV 2020, Best paper honorable mention)'.\n",
    "\n",
    "    Attributes:\n",
    "        pos_dim (int): Dimensionality of coordinate vectors of sample points.\n",
    "        view_dir_dim (int): Dimensionality of view direction vectors.\n",
    "        feat_dim (int): Dimensionality of feature vector within forward propagation.\n",
    "    \"\"\"\n",
    "\n",
    "    def __init__(\n",
    "        self,\n",
    "        p,\n",
    "        c,\n",
    "        r,\n",
    "        norm_params: tuple,\n",
    "        pos_dim: int,\n",
    "        output_dim: int = 3,\n",
    "        view_dir_dim: int = 3,\n",
    "        feat_dim: int = 256,\n",
    "        surface_type: str = \"square\"\n",
    "    ):\n",
    "        \"\"\"\n",
    "        Constructor of class 'NeRF'.\n",
    "\n",
    "        Args:\n",
    "            pos_dim (int): Dimensionality of coordinate vectors of sample points.\n",
    "            view_dir_dim (int): Dimensionality of view direction vectors.\n",
    "            feat_dim (int): Dimensionality of feature vector within forward propagation.\n",
    "                Set to 256 by default following the paper.\n",
    "        \"\"\"\n",
    "        super().__init__()\n",
    "\n",
    "        # rgb_dim = 3\n",
    "        rgb_dim = output_dim\n",
    "        self.output_dim = output_dim\n",
    "        density_dim = 1\n",
    "\n",
    "        self._pos_dim = pos_dim\n",
    "        self._view_dir_dim = view_dir_dim\n",
    "        self._feat_dim = feat_dim\n",
    "\n",
    "        # fully-connected layers\n",
    "        self.fc_in = nn.Linear(self._pos_dim, self._feat_dim)\n",
    "        self.fc_1 = nn.Linear(self._feat_dim, self._feat_dim)\n",
    "        self.fc_2 = nn.Linear(self._feat_dim, self._feat_dim)\n",
    "        self.fc_3 = nn.Linear(self._feat_dim, self._feat_dim)\n",
    "        self.fc_4 = nn.Linear(self._feat_dim, self._feat_dim)\n",
    "        self.fc_5 = nn.Linear(self._feat_dim + self._pos_dim, self._feat_dim)\n",
    "        self.fc_6 = nn.Linear(self._feat_dim, self._feat_dim)\n",
    "        self.fc_7 = nn.Linear(self._feat_dim, self._feat_dim)\n",
    "        self.fc_8 = nn.Linear(self._feat_dim, self._feat_dim + density_dim)\n",
    "        self.fc_9 = nn.Linear(self._feat_dim + self._view_dir_dim, self._feat_dim // 2)\n",
    "        self.fc_out = nn.Linear(self._feat_dim // 2, rgb_dim)\n",
    "\n",
    "        # activation layer\n",
    "        self.relu_actvn = nn.ReLU()\n",
    "        # self.sigmoid_actvn = nn.Sigmoid()\n",
    "        self.sigmoid_actvn = nn.Tanh()\n",
    "\n",
    "        #Hardcoded positional_encoder\n",
    "        self.positional_encoder  = signal_encoder.positional_encoder.PositionalEncoder(pos_dim + view_dir_dim, 10, False)#, return_raw=return_raw)\n",
    "\n",
    "        self.surface_type = surface_type\n",
    "        self.norm_params  = norm_params\n",
    "        self.p = p\n",
    "        self.c = c\n",
    "        self.r = r\n",
    "        #self.surface_parametric = surface_parametric\n",
    "        self.surface = ParametricSurface(self.p,self.c,self.r,self.surface_type)\n",
    "        \n",
    "    def forward(\n",
    "        self,\n",
    "        a: torch.Tensor,\n",
    "        b: torch.Tensor,\n",
    "        view_dir: torch.Tensor,\n",
    "        on_surface: torch.Tensor=torch.empty(0)\n",
    "    ) -> torch.Tensor:\n",
    "        \"\"\"\n",
    "        Predicts color and density.\n",
    "\n",
    "        Given sample point coordinates and view directions,\n",
    "        predict the corresponding radiance (RGB) and density (sigma).\n",
    "\n",
    "        Args:\n",
    "            pos (torch.Tensor): \n",
    "\n",
    "        Returns:\n",
    "            sigma (torch.Tensor): Tensor of shape (N, ).\n",
    "        \"\"\"\n",
    "        \n",
    "        #raw_pos = surface_parametric(a, b, self.p, self.c, self.r, self.surface_type) \n",
    "        raw_pos = self.surface.parametrize(a,b)\n",
    "        raw_view = view_dir\n",
    "        #print(pos.dtype)\n",
    "        \n",
    "        #1. Normalize position and direction\n",
    "        \n",
    "        norm_pos = (raw_pos - self.norm_params[0]) / self.norm_params[1]\n",
    "        pos      = norm_pos.unsqueeze(0)\n",
    "        view_dir = (view_dir - self.norm_params[2]) / self.norm_params[3]\n",
    "        view_dir = view_dir.unsqueeze(0)\n",
    "        \n",
    "        #print(\"Normalized inputs:\", pos, view_dir)\n",
    "        input_matrix = torch.vstack([pos[:, 0], pos[:, 1], pos[:, 2]\\\n",
    "                         , view_dir[:, 0], view_dir[:, 1], view_dir[:, 2]]).T\n",
    "        \n",
    "        encoded_input = self.positional_encoder.encode((input_matrix))\n",
    "\n",
    "        pos          = encoded_input[:,:encoded_input.shape[1]//2]\n",
    "        view_dir     = encoded_input[:,encoded_input.shape[1]//2:]    \n",
    "        #print(pos.dtype)\n",
    "        #print(\"Encoded inputs:\", pos, view_dir)\n",
    "\n",
    "\n",
    "        x = self.relu_actvn(self.fc_in(pos))\n",
    "        x = self.relu_actvn(self.fc_1(x))\n",
    "        x = self.relu_actvn(self.fc_2(x))\n",
    "        x = self.relu_actvn(self.fc_3(x))\n",
    "        x = self.relu_actvn(self.fc_4(x))\n",
    "\n",
    "        x = torch.cat([pos, x], dim=-1)\n",
    "\n",
    "        x = self.relu_actvn(self.fc_5(x))\n",
    "        x = self.relu_actvn(self.fc_6(x))\n",
    "        x = self.relu_actvn(self.fc_7(x))\n",
    "        x = self.fc_8(x)\n",
    "\n",
    "        #sigma = self.relu_actvn(x[:, 0])\n",
    "        x = torch.cat([x[:, 1:], view_dir], dim=-1)\n",
    "\n",
    "        x = self.relu_actvn(self.fc_9(x))\n",
    "        rgb = self.sigmoid_actvn(self.fc_out(x))\n",
    "\n",
    "        #return rgb\n",
    "        return raw_pos, raw_view, rgb\n",
    "        #return sigma, rgb\n",
    "\n",
    "import torch\n",
    "\n",
    "\n",
    "class ParametricSurface:\n",
    "    \"\"\"\n",
    "    Base class for Parametric Surfaces.\n",
    "    \"\"\"\n",
    "\n",
    "    def __init__(self, p, c, r, surface_type):\n",
    "        self.p            = p#torch.tensor(p)\n",
    "        self.c            = c#torch.tensor(c)\n",
    "        self.r            = r#torch.tensor(r)\n",
    "        self.surface_type = surface_type\n",
    "        \n",
    "        pc      = c - p\n",
    "        \n",
    "        pc_norm = torch.norm(pc)\n",
    "        pc      = pc / pc_norm\n",
    "        self.pc = pc\n",
    "        orient  = torch.tensor([1,1, (- pc[0] - pc[1]) / pc[2]])\n",
    "        self.orient  = orient / torch.norm(orient)\n",
    "\n",
    "        # Normalize pc to get the direction\n",
    "        self.pc_normalized = pc / pc_norm\n",
    "\n",
    "        # Find a vector perpendicular to pc\n",
    "        self.v_perpendicular = torch.cross(self.pc_normalized, self.orient)\n",
    "\n",
    "        # Normalize v_perpendicular\n",
    "        self.v_perpendicular_normalized = self.v_perpendicular / torch.norm(self.v_perpendicular)\n",
    "\n",
    "    def parametrize(self, a: torch.Tensor, b: torch.Tensor) -> torch.Tensor:\n",
    "        #p,c,r,surface_type = self.p,self.c,self.r,self.surface_type\n",
    "    \n",
    "        \n",
    "        l, L = self.r\n",
    "        a    = l * a#  * 2\n",
    "        b    = L * b#  * 2 \n",
    "\n",
    "        square_point = self.p + a * self.v_perpendicular_normalized + b * self.orient \n",
    "        final_point  = square_point\n",
    "        return final_point\n",
    "\n",
    "# ParametricSurface(p,c,r,surface_type).parametrize(a,b)"
   ]
  },
  {
   "cell_type": "markdown",
   "id": "37cadab7",
   "metadata": {},
   "source": [
    "# Gradient Walk over surface method:"
   ]
  },
  {
   "cell_type": "code",
   "execution_count": 3,
   "id": "c49f2324",
   "metadata": {},
   "outputs": [
    {
     "name": "stderr",
     "output_type": "stream",
     "text": [
      "Gradient norm: a 2.3300, b 1.7458, dir 0.0302: 100%|██████████████████████████████████████████████████████████████████████████████████████| 10/10 [00:00<00:00, 204.57it/s]\n"
     ]
    },
    {
     "data": {
      "text/plain": [
       "(array([166.94180109, 109.72347578, 623.82662149]),\n",
       " array([1.5235415e-01, 8.6426735e-07, 1.0934025e-02, 8.0666673e-01],\n",
       "       dtype=float32))"
      ]
     },
     "execution_count": 3,
     "metadata": {},
     "output_type": "execute_result"
    }
   ],
   "source": [
    "def gradient_walk_on_surface(parameters, view_dir, desired_target, surface_basis, surface_type, intervals=np.ones(4) * .1, n_steps=10, loss_threshold=0.1, debugging_return=True, verbose=True):\n",
    "    ''' \n",
    "    parameters - (init_a, init_b)\n",
    "    desired_target\n",
    "    \n",
    "    returns either\n",
    "        raw_pos, perc_pred\n",
    "    or if debugging_return:\n",
    "        raw_pos, deb_dict\n",
    "    '''\n",
    "    #Intial parameters\n",
    "    init_a, init_b = parameters\n",
    "    p, c, r        = surface_basis\n",
    "    #0. Load trained model\n",
    "    #TODO: pcr to be mixed in a single paramters variable.\n",
    "    trained_encoder, info_dict = initialize_trained_encoder()\n",
    "    norm_params                = (torch.tensor(info_dict[\"xyz_centroid\"]), torch.tensor(info_dict[\"xyz_max-min\"]), torch.tensor(info_dict[\"xyzh_centroid\"]), torch.tensor(info_dict[\"xyzh_max-min\"]))\n",
    "    trained_encoder            = network.nerfs.NeRFS(p, c, r, norm_params, surface_type=surface_type, pos_dim=info_dict[\"enc_input_size\"], output_dim=info_dict[\"num_present_classes\"],  view_dir_dim=info_dict[\"enc_input_size\"])\n",
    "    trained_encoder.load_state_dict(torch.load(f\"./utils/assets/models/encoder_350.pt\"))\n",
    "    criterion                  = torch.nn.MSELoss(reduction='none')\n",
    "    \n",
    "    #0. Load data to torch dataset\n",
    "    #TODO: remove pcr from dataset condructor and surface_type\n",
    "    param_ds     = network.nerfs.EncoderNeRFSDataset(init_a, init_b, p, c, r, view_dir, desired_target, \"square\", norm_params)\n",
    "    sample_batch = param_ds[0]\n",
    "    input_a, input_b, input_dir = sample_batch[\"a\"], sample_batch[\"b\"], sample_batch[\"view_dir\"]\n",
    "    lrate      = 5*1e-2\n",
    "    optimizer  = torch.optim.Adam(params=[input_a, input_b, view_dir], lr=lrate)\n",
    "    \n",
    "    gradients_norm  = []; predictions = []; trajectory = []; loss_trajectory = []; inputs = []\n",
    "    parsing_bar     = tqdm(range(n_steps))\n",
    "    \n",
    "    for i in parsing_bar:\n",
    "\n",
    "        inputs.append((input_a.detach().numpy().tolist(), input_b.detach().numpy().tolist(), input_dir.detach().numpy().tolist()))\n",
    "        ##### a. Predict output distribution\n",
    "        raw_pos, raw_view, output     = trained_encoder(input_a, input_b, input_dir)\n",
    "        prediction = (output.detach().numpy()); labels = sample_batch[\"output\"]\n",
    "        \n",
    "        perc_pred         = (prediction[0] + 1) / 2\n",
    "        predictions.append(perc_pred)\n",
    "        trajectory.append((raw_pos.detach().numpy()))\n",
    "\n",
    "        #Adaptive labels to interval:\n",
    "        if intervals is not None:\n",
    "            interval_target = interval_desired_target_loss(prediction, labels.numpy(), intervals)\n",
    "            labels          = interval_target\n",
    "\n",
    "        ##### b. Compute loss\n",
    "        loss      = criterion(output,labels)\n",
    "\n",
    "        ##### c. Gradient step using optimizer:\n",
    "        optimizer.zero_grad()\n",
    "        loss.mean().backward(retain_graph=True)\n",
    "        #loss.mean().backward()\n",
    "        a_grad, b_grad, dir_grad = input_a.grad, input_b.grad, input_dir.grad\n",
    "        optimizer.step()\n",
    "        if not((0 < input_a.item() < 1) and (0 < input_b.item() < 1)):\n",
    "            break\n",
    "\n",
    "        ##### d. Log found gradients and predictions as percentages\n",
    "        loss_trajectory.append(loss.detach().numpy())\n",
    "\n",
    "        pos_grad_norm     = (np.linalg.norm(a_grad), np.linalg.norm(b_grad), np.linalg.norm(dir_grad))\n",
    "        gradients_norm.append(pos_grad_norm)\n",
    "        \n",
    "        if verbose:\n",
    "            parsing_bar.set_description(f\"Gradient norm: a {pos_grad_norm[0]:.4f}, b {pos_grad_norm[1]:.4f}, dir {pos_grad_norm[2]:.4f}\")\n",
    "\n",
    "        if loss.mean() < loss_threshold:\n",
    "            break\n",
    "            \n",
    "    desired_percentages = (sample_batch[\"output\"] + 1) / 2\n",
    "    actual_percentages  = torch.Tensor(predictions[-1])\n",
    "    # if MSE residual:\n",
    "    final_residual = criterion(desired_percentages, actual_percentages).mean().detach().item()\n",
    "    # # if RMSE residual:\n",
    "    # final_residual = torch.sqrt(criterion(desired_percentages, actual_percentages)).mean().detach().item()\n",
    "    #print(final_residual, desired_percentages, actual_percentages.detach().numpy().round(2))\n",
    "    \n",
    "    raw_pos = trajectory[-1]\n",
    "    if debugging_return:\n",
    "        debugging_dict = {\"final_residual\":final_residual, \"trajectory\":trajectory, \"predictions\":predictions, \"gradients_norm\":gradients_norm, \"loss_trajectory\":loss_trajectory, \"inputs\":inputs}\n",
    "        return raw_pos, debugging_dict\n",
    "    else:\n",
    "        return raw_pos, perc_pred\n",
    "    \n",
    "    \n",
    "from torch.utils.data import Dataset\n",
    "from utils.scripts.architectures.torch_nerf_src import network\n",
    "  \n",
    "\n",
    "p                  = torch.tensor(locs_array.min(axis=0)[:3]) + torch.tensor([-300, 100, -300])\n",
    "r                  = torch.tensor([3500., -2500.]); surface_type=\"square\"\n",
    "c                  = p - torch.tensor([.01, 50, .01])\n",
    "view_dir           = torch.tensor(locs_array[0][3:], requires_grad=True)\n",
    "desired_target     = torch.tensor([0,1,0,0]).to(torch.float32)\n",
    "\n",
    "a, b               = torch.rand(2)  \n",
    "parameters         = (a, b)\n",
    "surface_basis      = (p,c,r)\n",
    "\n",
    "raw_pos, perc_pred = gradient_walk_on_surface(parameters, view_dir, desired_target, surface_basis, surface_type\\\n",
    "             , intervals=np.ones(4) * .1, n_steps=10, loss_threshold=0.1, debugging_return=False, verbose=True)\n",
    "\n",
    "raw_pos, perc_pred \n"
   ]
  },
  {
   "cell_type": "code",
   "execution_count": 54,
   "id": "e79b0a64",
   "metadata": {
    "scrolled": true
   },
   "outputs": [
    {
     "name": "stderr",
     "output_type": "stream",
     "text": [
      "Gradient norm: a 11.8134, b 1.8620, dir 0.1015: 100%|███████████████████████████████████████████████████████████████████████████████████| 100/100 [00:00<00:00, 328.41it/s]\n"
     ]
    },
    {
     "name": "stdout",
     "output_type": "stream",
     "text": [
      "0.2492370903491974 tensor([0., 1., 0., 0.]) [0.02 0.24 0.06 0.64]\n"
     ]
    }
   ],
   "source": [
    "\n",
    "from torch.utils.data import Dataset\n",
    "from utils.scripts.architectures.torch_nerf_src import network\n",
    "  \n",
    "trained_encoder, info_dict = initialize_trained_encoder()\n",
    "norm_params        = (torch.tensor(info_dict[\"xyz_centroid\"])\\\n",
    "                      , torch.tensor(info_dict[\"xyz_max-min\"])\\\n",
    "                     , torch.tensor(info_dict[\"xyzh_centroid\"])\\\n",
    "                    , torch.tensor(info_dict[\"xyzh_max-min\"]))\n",
    "\n",
    "\n",
    "\n",
    "p                  = torch.tensor(locs_array.min(axis=0)[:3]) + torch.tensor([-300, 100, -300])\n",
    "# p                  = torch.tensor(locs_array.min(axis=0)[:3]) + torch.tensor([-300, 0, -300])\n",
    "# p                  = torch.tensor(locs_array.min(axis=0)[:3]) + torch.tensor([-300, 50, -300])\n",
    "# r                  = torch.tensor([3000., -2000.]); surface_type=\"square\"\n",
    "r                  = torch.tensor([3500., -2500.]); surface_type=\"square\"\n",
    "c                  = p - torch.tensor([.01, 50, .01])\n",
    "view_dir           = torch.tensor(locs_array[0][3:], requires_grad=True)\n",
    "\n",
    "# desired_target            = torch.tensor([0,0,1,0]).to(torch.float32)\n",
    "# desired_target            = torch.tensor([0,.5,.5,0]).to(torch.float32)\n",
    "desired_target            = torch.tensor([0,1,0,0]).to(torch.float32)\n",
    "\n",
    "init_a, init_b     = torch.rand(2)  \n",
    "param_ds = network.nerfs.EncoderNeRFSDataset(init_a, init_b, p, c, r, view_dir, desired_target, \"square\", norm_params)\n",
    "# print(p,c,r)\n",
    "# print()\n",
    "# sample_batch = torch.utils.data.DataLoader(dataset=param_ds).sampler.data_source[:1]\n",
    "sample_batch = param_ds[0]\n",
    "sample_batch\n",
    "\n",
    "\n",
    "trained_encoder = network.nerfs.NeRFS(p, c, r, norm_params, surface_type=surface_type, pos_dim=info_dict[\"enc_input_size\"], output_dim=info_dict[\"num_present_classes\"]\\\n",
    "    ,  view_dir_dim=info_dict[\"enc_input_size\"], feat_dim=256)\n",
    "# print(trained_encoder.surface.p, trained_encoder.surface.c, trained_encoder.surface.r)\n",
    "\n",
    "# print()\n",
    "# print(p,c,r)\n",
    "\n",
    "trained_encoder.load_state_dict(torch.load(f\"./utils/assets/models/encoder_350.pt\"))\n",
    " \n",
    "#rp, rv, pr = trained_encoder(sample_batch[\"a\"], sample_batch[\"b\"], sample_batch[\"view_dir\"])\n",
    "# stop = np.isclose(norm_pos.detach().numpy(), (intialize_input_as_tensor(pos.detach().numpy().tolist()+[1,1,1], [0,0,0,0], info_dict)[\"input_pos_raw\"]).detach().numpy())\n",
    "#rp, rv, pr\n",
    "\n",
    "criterion       = torch.nn.MSELoss(reduction='none')\n",
    "gradients_norm  = []\n",
    "predictions     = []\n",
    "trajectory      = []\n",
    "loss_trajectory = []\n",
    "inputs = []\n",
    "n_steps         = 100\n",
    "parsing_bar     = tqdm(range(n_steps))\n",
    "intervals       = np.ones(4) * .1#np.ones(4) * .2\n",
    "\n",
    "input_a, input_b, input_dir = sample_batch[\"a\"], sample_batch[\"b\"], sample_batch[\"view_dir\"]\n",
    "lrate      = 5*1e-2#.05#1e-2#.05 #1e-2\n",
    "# optimizer  = torch.optim.Adam(params=[input_b, input_dir], lr=lrate)\n",
    "# optimizer  = torch.optim.Adam(params=[input_a, input_dir], lr=lrate)\n",
    "optimizer  = torch.optim.Adam(params=[input_a, input_b, view_dir], lr=lrate)\n",
    "# optimizer  = torch.optim.RMSprop(params=[input_a, input_b, view_dir], lr=lrate)\n",
    "# scheduler  = torch.optim.lr_scheduler.LinearLR(optimizer)\n",
    "# optimizer  = torch.optim.Adam(params=[input_a, input_b], lr=lrate)\n",
    "loss_threshold =.1\n",
    "\n",
    "for i in parsing_bar:\n",
    "\n",
    "    inputs.append((input_a.detach().numpy().tolist(), input_b.detach().numpy().tolist(), input_dir.detach().numpy().tolist()))\n",
    "    ##### a. Predict output distribution\n",
    "    raw_pos, raw_view, output     = trained_encoder(input_a, input_b, input_dir)\n",
    "    #trajectory.append(raw_pos.detach().numpy().tolist())\n",
    "    #output     = trained_encoder(input_pos, input_dir, from_raw=True)\n",
    "    prediction = (output.detach().numpy())\n",
    "    labels     = sample_batch[\"output\"]\n",
    "    \n",
    "    trajectory.append(raw_pos.detach().numpy())\n",
    "    perc_pred         = (prediction[0] + 1) / 2\n",
    "    predictions.append(perc_pred)\n",
    "\n",
    "    #Adaptive labels to interval:\n",
    "    if intervals is not None:\n",
    "        interval_target = interval_desired_target_loss(prediction, labels.numpy(), intervals)\n",
    "        #print(np.round(prediction, 2), np.round(labels, 2), np.round(interval_target, 2))\n",
    "        labels          = interval_target\n",
    "        # print(labels, interval_target)\n",
    "\n",
    "    ##### b. Compute loss\n",
    "    loss      = criterion(output,labels)\n",
    "\n",
    "    ##### c. Gradient step using optimizer:\n",
    "    optimizer.zero_grad()\n",
    "    #loss.mean().backward()\n",
    "    loss.mean().backward(retain_graph=True)\n",
    "#     loss.mean().backward()\n",
    "    #pos_grad, dir_grad = input_pos.grad, input_dir.grad\n",
    "    a_grad, b_grad, dir_grad = input_a.grad, input_b.grad, input_dir.grad\n",
    "    #print(input_a, input_b, p,c)\n",
    "    #print(trained_encoder.surface.p, trained_encoder.surface.c, trained_encoder.surface.r);print()\n",
    "    #print(p,c,r)\n",
    "    optimizer.step()\n",
    "#     input_a = input_a.clamp(0,1); input_b = input_b.clamp(0,1)\n",
    "#     if i % (n_steps//5) == 1:\n",
    "#         scheduler.step()\n",
    "    #print(input_a, input_b,p,c)\n",
    "    #print(trained_encoder.surface.p, trained_encoder.surface.c, trained_encoder.surface.r)\n",
    "    #print(p,c,r)\n",
    "#     break\n",
    "\n",
    "    ##### d. Log found gradients and predictions\n",
    "    loss_trajectory.append(loss.detach().numpy())\n",
    "\n",
    "    pos_grad_norm     = (np.linalg.norm(a_grad), np.linalg.norm(b_grad), np.linalg.norm(dir_grad))\n",
    "    gradients_norm.append(pos_grad_norm)\n",
    "\n",
    "\n",
    "    #if verbose:\n",
    "    parsing_bar.set_description(f\"Gradient norm: a {pos_grad_norm[0]:.4f}, b {pos_grad_norm[1]:.4f}, dir {pos_grad_norm[2]:.4f}\")\n",
    "\n",
    "    ##### add location to trajectory\n",
    "    #scaled_loc = rescale_from_norm_params(input_pos.detach().numpy()[0], info_dict[\"xyz_centroid\"], info_dict[\"xyz_max-min\"])\n",
    "    #scaled_dir = rescale_from_norm_params(input_dir.detach().numpy()[0], info_dict[\"xyzh_centroid\"], info_dict[\"xyzh_max-min\"])\n",
    "\n",
    "    #actual_loc = np.hstack([p.detach().numpy(), view_dir.detach().numpy()])\n",
    "    #actual_loc = input_pos.detach().numpy()[0]\n",
    "    #trajectory.append(actual_loc)\n",
    "    #trajectory.append(actual_loc.tolist())\n",
    "#     input_a = torch.max(torch.tensor(0), input_a)\n",
    "#     input_a = torch.min(torch.tensor(1), input_b)\n",
    "#     input_b = torch.max(torch.tensor(0), input_b)\n",
    "#     input_b = torch.min(torch.tensor(1), input_b)\n",
    "\n",
    "    if loss.mean() < loss_threshold:\n",
    "        break\n",
    "final_residual = 0\n",
    "# print(sample_batch[\"output\"].detach().numpy()[0], desired_target, predictions[-1])\n",
    "desired_percentages = (sample_batch[\"output\"] + 1) / 2\n",
    "actual_percentages  = torch.Tensor(predictions[-1])\n",
    "# if MSE residual:\n",
    "final_residual = criterion(desired_percentages, actual_percentages).mean().detach().item()\n",
    "# # if RMSE residual:\n",
    "# final_residual = torch.sqrt(criterion(desired_percentages, actual_percentages)).mean().detach().item()\n",
    "\n",
    "print(final_residual, desired_percentages, actual_percentages.detach().numpy().round(2))\n",
    "# performed_steps = i\n",
    "# if debugging_return:\n",
    "#     return actual_loc, perc_pred, trajectory, gradients_norm, predictions, loss_trajectory, performed_steps, final_residual\n",
    "\n",
    "# return actual_loc, perc_pred"
   ]
  },
  {
   "cell_type": "markdown",
   "id": "16980c12",
   "metadata": {},
   "source": [
    "# Analysis of returned location"
   ]
  },
  {
   "cell_type": "code",
   "execution_count": 55,
   "id": "78bb3617",
   "metadata": {},
   "outputs": [
    {
     "name": "stdout",
     "output_type": "stream",
     "text": [
      "\u001b[1;33m[Open3D WARNING] GLFW Error: Cocoa: Failed to find service port for display\u001b[0;m\n"
     ]
    },
    {
     "data": {
      "image/png": "[encoded data removed]",
      "text/plain": [
       "<Figure size 640x480 with 1 Axes>"
      ]
     },
     "metadata": {},
     "output_type": "display_data"
    },
    {
     "data": {
      "image/png": "[encoded data removed]",
      "text/plain": [
       "<Figure size 640x480 with 1 Axes>"
      ]
     },
     "metadata": {},
     "output_type": "display_data"
    },
    {
     "name": "stdout",
     "output_type": "stream",
     "text": [
      "[[0.12 0.   0.02 0.83]\n",
      " [0.13 0.   0.01 0.83]\n",
      " [0.12 0.   0.02 0.82]\n",
      " [0.11 0.   0.03 0.82]\n",
      " [0.12 0.   0.06 0.78]\n",
      " [0.04 0.04 0.11 0.77]\n",
      " [0.06 0.02 0.16 0.71]\n",
      " [0.05 0.06 0.16 0.69]\n",
      " [0.04 0.12 0.12 0.71]\n",
      " [0.02 0.26 0.07 0.69]]\n"
     ]
    }
   ],
   "source": [
    "\n",
    "# p                  = torch.tensor(locs_array.min(axis=0)[:3]) + torch.tensor([-300, 100, -300])\n",
    "# r                  = torch.tensor([3500., -2500.]); surface_type=\"square\"\n",
    "# c                  = p - torch.tensor([.01, 50, .01])\n",
    "points = []\n",
    "for i in range(1000):\n",
    "    a, b = torch.rand(2)#; print(\"ab:\", a, b)\n",
    "    #, (trained_encoder(a,b, a).detach().numpy() < locs_array.max(axis=0)[:3]).all()\\\n",
    "    #trained_encoder(a,b, a)\\\n",
    "    #point = trained_encoder(a, b, a).detach().numpy()\n",
    "    point = surface_parametric(a, b, p.detach().numpy(), c, r, surface_type) \n",
    "    points.append(point.detach().numpy())\n",
    "points = np.vstack(points)\n",
    "#     cond = ((point < locs_array.max(axis=0)[:3]) & (point > locs_array.min(axis=0)[:3])).sum() > 2\n",
    "#     if cond:\n",
    "#         good_points.append(point)\n",
    "#     else:\n",
    "#         bad_points.append(point)\n",
    "#     conds.append(cond)\n",
    "    \n",
    "# bad_points = np.vstack(bad_points)\n",
    "# good_points = np.vstack(good_points)\n",
    "# print(\"Points within bounds:\", sum(conds)   )\n",
    "import open3d as o3d\n",
    "from utils.scripts.archive.scene_loading_2 import get_highlighed_o3d_locations\n",
    "from utils.scripts.interest_heuristic_0    import get_o3d_pcd_from_coordinates\n",
    "\n",
    "\n",
    "training_pcd       = get_o3d_pcd_from_coordinates(locs_array[:,:3], colors=[1, 0.5, 0])\n",
    "# good_pcd           = get_o3d_pcd_from_coordinates(good_points, colors=[0,1, 0])\n",
    "# bad_pcd           = get_o3d_pcd_from_coordinates(bad_points, colors=[1, 0, 0])\n",
    "full_pcd           = get_o3d_pcd_from_coordinates(points, colors=[0,1, 0])\n",
    "traj_pcd          = get_o3d_pcd_from_coordinates(np.vstack(trajectory), colors=[1,0,0])\n",
    "\n",
    "start_point = get_highlighed_o3d_locations(trained_encoder.surface.parametrize(torch.tensor(inputs[0][0])\n",
    "                                                                               , torch.tensor(inputs[0][1])).detach().numpy(), radius=50)[0]\n",
    "\n",
    "end_point = get_highlighed_o3d_locations(trained_encoder.surface.parametrize(input_a,input_b).detach().numpy(), radius=50, color=(0,.5,.5))[0]\n",
    "\n",
    "# o3d.visualization.draw_geometries([training_pcd, good_pcd, bad_pcd])\n",
    "o3d.visualization.draw_geometries([training_pcd, full_pcd, traj_pcd, start_point, end_point])\n",
    "\n",
    "import matplotlib.pyplot as plt\n",
    "\n",
    "plt.plot(np.vstack(gradients_norm)[:,0], label=\"a\")\n",
    "plt.plot(np.vstack(gradients_norm)[:,1], label=\"b\")\n",
    "plt.plot(np.vstack(gradients_norm)[:,2], label=\"dir\")\n",
    "plt.legend(title=\"Losses\")\n",
    "plt.show()\n",
    "plt.plot(np.vstack(predictions)[:,1])\n",
    "plt.show()\n",
    "\n",
    "print(np.vstack(predictions).round(2)[::10])"
   ]
  },
  {
   "cell_type": "markdown",
   "id": "ce0061b9",
   "metadata": {},
   "source": [
    "# Query multiple locations moved to and adaption of \n",
    "\n",
    "the `query_locations` method from `utils.gradient_walk_utils.py`"
   ]
  },
  {
   "cell_type": "code",
   "execution_count": 1,
   "id": "cc5fc4b3",
   "metadata": {
    "scrolled": true
   },
   "outputs": [
    {
     "name": "stdout",
     "output_type": "stream",
     "text": [
      "Locs mins and maxs: [   0.   10.    8. -180.  -90. -180.] [3002.  112. 2171.  180.   90.  180.]\n",
      "Random seed set as 1\n"
     ]
    },
    {
     "name": "stderr",
     "output_type": "stream",
     "text": [
      "  9%|████████████                                                                                                                          | 9/100 [00:00<00:05, 17.43it/s]\n"
     ]
    },
    {
     "data": {
      "text/html": [
       "<div>\n",
       "<style scoped>\n",
       "    .dataframe tbody tr th:only-of-type {\n",
       "        vertical-align: middle;\n",
       "    }\n",
       "\n",
       "    .dataframe tbody tr th {\n",
       "        vertical-align: top;\n",
       "    }\n",
       "\n",
       "    .dataframe thead th {\n",
       "        text-align: right;\n",
       "    }\n",
       "</style>\n",
       "<table border=\"1\" class=\"dataframe\">\n",
       "  <thead>\n",
       "    <tr style=\"text-align: right;\">\n",
       "      <th></th>\n",
       "      <th>x</th>\n",
       "      <th>y</th>\n",
       "      <th>z</th>\n",
       "      <th>xh</th>\n",
       "      <th>yh</th>\n",
       "      <th>zh</th>\n",
       "      <th>f_xyz</th>\n",
       "      <th>residual</th>\n",
       "      <th>steps</th>\n",
       "      <th>start_locs</th>\n",
       "    </tr>\n",
       "  </thead>\n",
       "  <tbody>\n",
       "    <tr>\n",
       "      <th>0</th>\n",
       "      <td>3179.183794</td>\n",
       "      <td>109.101175</td>\n",
       "      <td>723.087093</td>\n",
       "      <td>172.184157</td>\n",
       "      <td>-14.080755</td>\n",
       "      <td>177.556125</td>\n",
       "      <td>[0.14156461, 0.37973633, 0.033387184, 0.43429017]</td>\n",
       "      <td>0.148623</td>\n",
       "      <td>66</td>\n",
       "      <td>[2352.024930413132, 109.329924358267, 406.5006...</td>\n",
       "    </tr>\n",
       "    <tr>\n",
       "      <th>1</th>\n",
       "      <td>3125.861368</td>\n",
       "      <td>108.888979</td>\n",
       "      <td>1837.393510</td>\n",
       "      <td>-179.711969</td>\n",
       "      <td>-32.832168</td>\n",
       "      <td>-179.655879</td>\n",
       "      <td>[0.17062116, 0.66834885, 0.030838966, 0.22205997]</td>\n",
       "      <td>0.047341</td>\n",
       "      <td>5</td>\n",
       "      <td>[2938.233419205298, 108.87251946126665, 2107.3...</td>\n",
       "    </tr>\n",
       "    <tr>\n",
       "      <th>2</th>\n",
       "      <td>-188.611131</td>\n",
       "      <td>109.953615</td>\n",
       "      <td>-171.317596</td>\n",
       "      <td>12.659534</td>\n",
       "      <td>-6.213569</td>\n",
       "      <td>1.450502</td>\n",
       "      <td>[0.7824762, 1.1920929e-07, 0.000761956, 0.2107...</td>\n",
       "      <td>0.414172</td>\n",
       "      <td>2</td>\n",
       "      <td>[-13.636148441258998, 109.89361321057885, -46....</td>\n",
       "    </tr>\n",
       "    <tr>\n",
       "      <th>3</th>\n",
       "      <td>944.015094</td>\n",
       "      <td>109.525134</td>\n",
       "      <td>838.461466</td>\n",
       "      <td>-0.367251</td>\n",
       "      <td>15.764150</td>\n",
       "      <td>0.947543</td>\n",
       "      <td>[0.034044594, 0.4559417, 0.03286317, 0.44048]</td>\n",
       "      <td>0.123065</td>\n",
       "      <td>100</td>\n",
       "      <td>[1527.3734783116736, 109.36400624872049, 1060....</td>\n",
       "    </tr>\n",
       "    <tr>\n",
       "      <th>4</th>\n",
       "      <td>3027.746269</td>\n",
       "      <td>108.846225</td>\n",
       "      <td>2149.277704</td>\n",
       "      <td>-1.323319</td>\n",
       "      <td>80.999969</td>\n",
       "      <td>1.022138</td>\n",
       "      <td>[0.1832729, 0.23927197, 0.036827564, 0.5277006]</td>\n",
       "      <td>0.223030</td>\n",
       "      <td>3</td>\n",
       "      <td>[2704.6568478181503, 108.89978840136989, 2204....</td>\n",
       "    </tr>\n",
       "    <tr>\n",
       "      <th>5</th>\n",
       "      <td>3098.095585</td>\n",
       "      <td>109.112679</td>\n",
       "      <td>746.657491</td>\n",
       "      <td>161.149410</td>\n",
       "      <td>69.468903</td>\n",
       "      <td>-162.177511</td>\n",
       "      <td>[0.1848836, 0.14483058, 0.03573492, 0.6088046]</td>\n",
       "      <td>0.284354</td>\n",
       "      <td>1</td>\n",
       "      <td>[3098.0955845122958, 109.11267886332803, 746.6...</td>\n",
       "    </tr>\n",
       "    <tr>\n",
       "      <th>6</th>\n",
       "      <td>496.889778</td>\n",
       "      <td>109.544650</td>\n",
       "      <td>1188.009528</td>\n",
       "      <td>2.202879</td>\n",
       "      <td>60.542303</td>\n",
       "      <td>-5.099040</td>\n",
       "      <td>[0.0972707, 0.006998807, 0.2037664, 0.48643753]</td>\n",
       "      <td>0.318414</td>\n",
       "      <td>100</td>\n",
       "      <td>[1223.2680353969515, 109.22998998793398, 2034....</td>\n",
       "    </tr>\n",
       "    <tr>\n",
       "      <th>7</th>\n",
       "      <td>-184.089661</td>\n",
       "      <td>109.910979</td>\n",
       "      <td>37.344456</td>\n",
       "      <td>13.090294</td>\n",
       "      <td>66.409925</td>\n",
       "      <td>-12.259582</td>\n",
       "      <td>[0.24460956, 9.298325e-06, 0.0071406662, 0.718...</td>\n",
       "      <td>0.394015</td>\n",
       "      <td>3</td>\n",
       "      <td>[166.06690497715803, 109.87686145078904, -142....</td>\n",
       "    </tr>\n",
       "    <tr>\n",
       "      <th>8</th>\n",
       "      <td>3095.174255</td>\n",
       "      <td>109.204891</td>\n",
       "      <td>288.518174</td>\n",
       "      <td>170.324863</td>\n",
       "      <td>21.800863</td>\n",
       "      <td>-176.496081</td>\n",
       "      <td>[0.11417198, 0.117868304, 0.038537353, 0.7056696]</td>\n",
       "      <td>0.322662</td>\n",
       "      <td>5</td>\n",
       "      <td>[2443.7334095977276, 109.29227478497408, 503.0...</td>\n",
       "    </tr>\n",
       "    <tr>\n",
       "      <th>9</th>\n",
       "      <td>3040.565460</td>\n",
       "      <td>109.331651</td>\n",
       "      <td>-290.674026</td>\n",
       "      <td>-7.280800</td>\n",
       "      <td>75.581850</td>\n",
       "      <td>5.195833</td>\n",
       "      <td>[0.14799216, 0.12125227, 0.049990624, 0.5943638]</td>\n",
       "      <td>0.287467</td>\n",
       "      <td>70</td>\n",
       "      <td>[2248.9307514172533, 109.48856953019661, -283....</td>\n",
       "    </tr>\n",
       "  </tbody>\n",
       "</table>\n",
       "</div>"
      ],
      "text/plain": [
       "             x           y            z          xh         yh          zh  \\\n",
       "0  3179.183794  109.101175   723.087093  172.184157 -14.080755  177.556125   \n",
       "1  3125.861368  108.888979  1837.393510 -179.711969 -32.832168 -179.655879   \n",
       "2  -188.611131  109.953615  -171.317596   12.659534  -6.213569    1.450502   \n",
       "3   944.015094  109.525134   838.461466   -0.367251  15.764150    0.947543   \n",
       "4  3027.746269  108.846225  2149.277704   -1.323319  80.999969    1.022138   \n",
       "5  3098.095585  109.112679   746.657491  161.149410  69.468903 -162.177511   \n",
       "6   496.889778  109.544650  1188.009528    2.202879  60.542303   -5.099040   \n",
       "7  -184.089661  109.910979    37.344456   13.090294  66.409925  -12.259582   \n",
       "8  3095.174255  109.204891   288.518174  170.324863  21.800863 -176.496081   \n",
       "9  3040.565460  109.331651  -290.674026   -7.280800  75.581850    5.195833   \n",
       "\n",
       "                                               f_xyz  residual  steps  \\\n",
       "0  [0.14156461, 0.37973633, 0.033387184, 0.43429017]  0.148623     66   \n",
       "1  [0.17062116, 0.66834885, 0.030838966, 0.22205997]  0.047341      5   \n",
       "2  [0.7824762, 1.1920929e-07, 0.000761956, 0.2107...  0.414172      2   \n",
       "3      [0.034044594, 0.4559417, 0.03286317, 0.44048]  0.123065    100   \n",
       "4    [0.1832729, 0.23927197, 0.036827564, 0.5277006]  0.223030      3   \n",
       "5     [0.1848836, 0.14483058, 0.03573492, 0.6088046]  0.284354      1   \n",
       "6    [0.0972707, 0.006998807, 0.2037664, 0.48643753]  0.318414    100   \n",
       "7  [0.24460956, 9.298325e-06, 0.0071406662, 0.718...  0.394015      3   \n",
       "8  [0.11417198, 0.117868304, 0.038537353, 0.7056696]  0.322662      5   \n",
       "9   [0.14799216, 0.12125227, 0.049990624, 0.5943638]  0.287467     70   \n",
       "\n",
       "                                          start_locs  \n",
       "0  [2352.024930413132, 109.329924358267, 406.5006...  \n",
       "1  [2938.233419205298, 108.87251946126665, 2107.3...  \n",
       "2  [-13.636148441258998, 109.89361321057885, -46....  \n",
       "3  [1527.3734783116736, 109.36400624872049, 1060....  \n",
       "4  [2704.6568478181503, 108.89978840136989, 2204....  \n",
       "5  [3098.0955845122958, 109.11267886332803, 746.6...  \n",
       "6  [1223.2680353969515, 109.22998998793398, 2034....  \n",
       "7  [166.06690497715803, 109.87686145078904, -142....  \n",
       "8  [2443.7334095977276, 109.29227478497408, 503.0...  \n",
       "9  [2248.9307514172533, 109.48856953019661, -283....  "
      ]
     },
     "execution_count": 1,
     "metadata": {},
     "output_type": "execute_result"
    }
   ],
   "source": [
    "\n",
    "def query_locations_on_surface(desired_distribution, surface_basis, surface_type, num_locations=10, search_intervals=np.ones(4) * .2, lt=.01, at=10, max_steps = 100, seed=1):\n",
    "    set_seed(seed)\n",
    "    \n",
    "    n_trials  = num_locations * 10\n",
    "    #Needed just for view_dir intialization\n",
    "    vis_df, normp, _   = process_locations_visibility_data_frame(\"./utils/assets/test_data/locations_example.csv\")  \n",
    "    locs_array         = vis_df.values[:,:6].astype(float)\n",
    "    \n",
    "    ach_locs    = []\n",
    "    debug_dicts = []\n",
    "\n",
    "    for i in tqdm(range(n_trials)):\n",
    "        \n",
    "        view_dir           = torch.tensor(locs_array[np.random.randint(locs_array.shape[0])][3:], requires_grad=True) # change view_dir to random picking\n",
    "        a, b               = torch.rand(2) \n",
    "        parameters         = (a, b)\n",
    "        \n",
    "        raw_pos, debugging_dict = gradient_walk_on_surface(parameters, view_dir, desired_distribution, surface_basis, surface_type\\\n",
    "                 , intervals=search_intervals, n_steps=max_steps, loss_threshold=lt, debugging_return=True, verbose=False)\n",
    "        \n",
    "        ach_locs.append(np.hstack([raw_pos, debugging_dict[\"last_view_dir\"]]))\n",
    "        debug_dicts.append(debugging_dict)\n",
    "        \n",
    "        if len(ach_locs) >= num_locations:\n",
    "            break \n",
    "        \n",
    "    al_df               = pd.DataFrame(data=ach_locs, columns=vis_df.columns.values[:6])#achived locations data frame\n",
    "    \n",
    "    al_df[\"f_xyz\"]      = [d[\"predictions\"][-1] for d in debug_dicts]\n",
    "    al_df[\"residual\"]   = [d[\"final_residual\"] for d in debug_dicts]\n",
    "    al_df[\"steps\"]      = [len(d[\"trajectory\"]) for d in debug_dicts]\n",
    "    al_df[\"start_locs\"] = [d[\"trajectory\"][0] for d in debug_dicts]\n",
    "    \n",
    "    return al_df\n",
    "\n",
    "\n",
    "\n",
    "vis_df, normp, _   = process_locations_visibility_data_frame(\"./utils/assets/test_data/locations_example.csv\")  \n",
    "locs_array         = vis_df.values[:,:6].astype(float)\n",
    "print(\"Locs mins and maxs:\", locs_array.min(axis=0).round(), locs_array.max(axis=0).round())\n",
    "\n",
    "p                  = torch.tensor(locs_array.min(axis=0)[:3]) + torch.tensor([-300, 100, -300])\n",
    "c                  = p - torch.tensor([.01, 50, .01])\n",
    "r                  = torch.tensor([3500., -2500.])\n",
    "surface_basis      = (p, c, r); surface_type=\"square\"\n",
    "\n",
    "desired_distribution = torch.tensor([0,1,0,0]).to(torch.float32)\n",
    "\n",
    "al_df = query_locations_on_surface(desired_distribution, surface_basis, surface_type, num_locations=10, search_intervals=np.ones(4) * .2, lt=.01, at=10, max_steps = 100)\n",
    "    \n",
    "    \n",
    "    "
   ]
  }
 ],
 "metadata": {
  "kernelspec": {
   "display_name": "Python [conda env:3D]",
   "language": "python",
   "name": "conda-env-3D-py"
  },
  "language_info": {
   "codemirror_mode": {
    "name": "ipython",
    "version": 3
   },
   "file_extension": ".py",
   "mimetype": "text/x-python",
   "name": "python",
   "nbconvert_exporter": "python",
   "pygments_lexer": "ipython3",
   "version": "3.9.13"
  }
 },
 "nbformat": 4,
 "nbformat_minor": 5
}
