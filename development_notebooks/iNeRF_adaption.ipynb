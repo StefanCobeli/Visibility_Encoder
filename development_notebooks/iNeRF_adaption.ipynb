{
 "cells": [
  {
   "cell_type": "markdown",
   "id": "4384b9ab",
   "metadata": {},
   "source": [
    "# Motivation, why gradient should be a thing!\n",
    "\n",
    "- In which papers is this hinted?\n",
    "- Why not just jumping from one place to the next?\n",
    "\n",
    "\n",
    "- What constitutes a good path?\n",
    "    - the shortest path? (if points A and B are well defined)\n",
    "    - Along the gradient? - Would this not get stuck in a local minima? - case in which A is defined, but destination B is hypothetical. \n",
    "    - maximizing availability to data (aside of some categories)?\n",
    "\n",
    "\n",
    "    \n",
    "Smootheness of camera movement?"
   ]
  },
  {
   "cell_type": "code",
   "execution_count": 3,
   "id": "f28060fa",
   "metadata": {
    "scrolled": false
   },
   "outputs": [
    {
     "name": "stderr",
     "output_type": "stream",
     "text": [
      "  8%|████████▊                                                                                                     | 4/50 [00:00<00:02, 22.65it/s]\n"
     ]
    },
    {
     "data": {
      "text/html": [
       "<div>\n",
       "<style scoped>\n",
       "    .dataframe tbody tr th:only-of-type {\n",
       "        vertical-align: middle;\n",
       "    }\n",
       "\n",
       "    .dataframe tbody tr th {\n",
       "        vertical-align: top;\n",
       "    }\n",
       "\n",
       "    .dataframe thead th {\n",
       "        text-align: right;\n",
       "    }\n",
       "</style>\n",
       "<table border=\"1\" class=\"dataframe\">\n",
       "  <thead>\n",
       "    <tr style=\"text-align: right;\">\n",
       "      <th></th>\n",
       "      <th>x</th>\n",
       "      <th>y</th>\n",
       "      <th>z</th>\n",
       "      <th>xh</th>\n",
       "      <th>yh</th>\n",
       "      <th>zh</th>\n",
       "      <th>f_xyz</th>\n",
       "      <th>residual</th>\n",
       "      <th>steps</th>\n",
       "      <th>start_locs</th>\n",
       "    </tr>\n",
       "  </thead>\n",
       "  <tbody>\n",
       "    <tr>\n",
       "      <th>0</th>\n",
       "      <td>510.392272</td>\n",
       "      <td>-9.302419</td>\n",
       "      <td>273.367834</td>\n",
       "      <td>183.362079</td>\n",
       "      <td>-26.505721</td>\n",
       "      <td>190.308445</td>\n",
       "      <td>[0.03, 0.65, 0.07, 0.29]</td>\n",
       "      <td>0.183734</td>\n",
       "      <td>3</td>\n",
       "      <td>[614.660903491211, 106.9097518920898, 222.3374...</td>\n",
       "    </tr>\n",
       "    <tr>\n",
       "      <th>1</th>\n",
       "      <td>473.247252</td>\n",
       "      <td>102.936362</td>\n",
       "      <td>282.896581</td>\n",
       "      <td>-172.976514</td>\n",
       "      <td>-26.782629</td>\n",
       "      <td>-172.671230</td>\n",
       "      <td>[0.08, 0.54, 0.06, 0.35]</td>\n",
       "      <td>0.237205</td>\n",
       "      <td>1</td>\n",
       "      <td>[425.6770935058594, 57.31066894531245, 238.279...</td>\n",
       "    </tr>\n",
       "    <tr>\n",
       "      <th>2</th>\n",
       "      <td>180.738463</td>\n",
       "      <td>73.937985</td>\n",
       "      <td>727.666357</td>\n",
       "      <td>-3.198767</td>\n",
       "      <td>0.122591</td>\n",
       "      <td>2.727945</td>\n",
       "      <td>[0.36, 0.0, 0.34, 0.2]</td>\n",
       "      <td>0.477108</td>\n",
       "      <td>9</td>\n",
       "      <td>[128.07272649023437, 61.92591857910139, 777.86...</td>\n",
       "    </tr>\n",
       "    <tr>\n",
       "      <th>3</th>\n",
       "      <td>528.842955</td>\n",
       "      <td>109.262419</td>\n",
       "      <td>1374.969763</td>\n",
       "      <td>-19.315121</td>\n",
       "      <td>20.296716</td>\n",
       "      <td>-9.884805</td>\n",
       "      <td>[0.03, 0.16, 0.59, 0.09]</td>\n",
       "      <td>0.388574</td>\n",
       "      <td>9</td>\n",
       "      <td>[512.4059445800781, 92.41173934936492, 1459.27...</td>\n",
       "    </tr>\n",
       "    <tr>\n",
       "      <th>4</th>\n",
       "      <td>2912.981017</td>\n",
       "      <td>-0.688180</td>\n",
       "      <td>753.140783</td>\n",
       "      <td>-7.943850</td>\n",
       "      <td>88.195779</td>\n",
       "      <td>-5.784535</td>\n",
       "      <td>[0.22, 0.42, 0.03, 0.34]</td>\n",
       "      <td>0.289773</td>\n",
       "      <td>1</td>\n",
       "      <td>[2853.2402990722658, 58.738909721374334, 811.7...</td>\n",
       "    </tr>\n",
       "  </tbody>\n",
       "</table>\n",
       "</div>"
      ],
      "text/plain": [
       "             x           y            z          xh         yh          zh  \\\n",
       "0   510.392272   -9.302419   273.367834  183.362079 -26.505721  190.308445   \n",
       "1   473.247252  102.936362   282.896581 -172.976514 -26.782629 -172.671230   \n",
       "2   180.738463   73.937985   727.666357   -3.198767   0.122591    2.727945   \n",
       "3   528.842955  109.262419  1374.969763  -19.315121  20.296716   -9.884805   \n",
       "4  2912.981017   -0.688180   753.140783   -7.943850  88.195779   -5.784535   \n",
       "\n",
       "                      f_xyz  residual  steps  \\\n",
       "0  [0.03, 0.65, 0.07, 0.29]  0.183734      3   \n",
       "1  [0.08, 0.54, 0.06, 0.35]  0.237205      1   \n",
       "2    [0.36, 0.0, 0.34, 0.2]  0.477108      9   \n",
       "3  [0.03, 0.16, 0.59, 0.09]  0.388574      9   \n",
       "4  [0.22, 0.42, 0.03, 0.34]  0.289773      1   \n",
       "\n",
       "                                          start_locs  \n",
       "0  [614.660903491211, 106.9097518920898, 222.3374...  \n",
       "1  [425.6770935058594, 57.31066894531245, 238.279...  \n",
       "2  [128.07272649023437, 61.92591857910139, 777.86...  \n",
       "3  [512.4059445800781, 92.41173934936492, 1459.27...  \n",
       "4  [2853.2402990722658, 58.738909721374334, 811.7...  "
      ]
     },
     "execution_count": 3,
     "metadata": {},
     "output_type": "execute_result"
    }
   ],
   "source": [
    "from utils.gradient_walk_utils import query_locations\n",
    "\n",
    "# al_df, debugging_list = query_locations([0,.5,.5,0], 3, projected_path=None, debugging_return=True)\n",
    "# achieved_loc, perc_pred, tr, gn, prds, lstr, ps = debugging_list[0]\n",
    "# query_locations([0,.5,.5,0], 3, projected_path=True, max_steps = 100)\n",
    "\n",
    "\n",
    "# al_df = query_locations([0,1,0,0], 1000, lt=.5, debugging=True, max_steps=10)\n",
    "al_df = query_locations([0,1,0,0], 5, lt=.5, debugging=True, max_steps=10)\n",
    "# achieved_loc, perc_pred, tr, gn, prds, lstr, ps = debugging_list[0]\n",
    "\n",
    "al_df.head()"
   ]
  },
  {
   "cell_type": "markdown",
   "id": "d60dccd0",
   "metadata": {},
   "source": [
    "# Color Scene by label categories and label pallete: VIS 2024 figure"
   ]
  },
  {
   "cell_type": "code",
   "execution_count": null,
   "id": "be430bc1",
   "metadata": {},
   "outputs": [],
   "source": [
    "from utils.gradient_walk_utils import analyze_queried_locations\n",
    "analyze_queried_locations(al_df, n_colors = 5, res_filter_threshold = .5)\n",
    "\n",
    "\n",
    "import matplotlib.pyplot as plt\n",
    "al_df[\"residual\"].hist()\n",
    "plt.title(f\"Unconstrained residuals distirbution\")"
   ]
  },
  {
   "cell_type": "markdown",
   "id": "b64d699c",
   "metadata": {},
   "source": [
    "# Color Scene by label categories and label pallete: VIS 2024 figure\n",
    "\n",
    "Development code Moved to `utils.gradient_walk_utils.analyze_queried_locations`"
   ]
  },
  {
   "cell_type": "code",
   "execution_count": 1,
   "id": "55e0eef6",
   "metadata": {},
   "outputs": [
    {
     "name": "stdout",
     "output_type": "stream",
     "text": [
      "\u001b[1;33m[Open3D WARNING] GLFW Error: Cocoa: Failed to find service port for display\u001b[0;m\n"
     ]
    },
    {
     "data": {
      "text/plain": [
       "[PointCloud with 22435 points.]"
      ]
     },
     "execution_count": 1,
     "metadata": {},
     "output_type": "execute_result"
    }
   ],
   "source": [
    "import open3d as o3d\n",
    "import numpy as np\n",
    "import seaborn as sns\n",
    "\n",
    "\n",
    "from utils.scripts.archive.scene_loading_2 import get_highlighed_o3d_locations\n",
    "from utils.scripts.interest_heuristic_0    import get_o3d_pcd_from_coordinates\n",
    "\n",
    "from utils.gradient_walk_utils import process_locations_visibility_data_frame\n",
    "\n",
    "def analyze_queried_locations(al_df=None, n_colors = 5, res_filter_threshold = .5, draw_o3d=True):\n",
    "    \"\"\"Invistigate queried locations Color Scene by label categories and label pallete: VIS 2024 figure\"\"\"\n",
    "    vis_df, normp, _   = process_locations_visibility_data_frame(\"./utils/assets/test_data/locations_example.csv\")\n",
    "\n",
    "    \n",
    "    targets_array = ((np.vstack(vis_df[\"f_xyz\"])+1)/2)\n",
    "    locs_array    = (vis_df.values)[:,:3]\n",
    "    start_locs    = locs_array#np.vstack(al_df[\"start_locs\"].values)[:,:3]#np.vstack([l[0] for l in locations])[:,:3]\n",
    "    start_targets = ((np.vstack(vis_df[\"f_xyz\"])+1)/2)#np.array([t[0] for t in targets])\n",
    "    \n",
    "    if al_df is not None:\n",
    "        achieved_locs = al_df.values[:,:3]#np.vstack([l[1] for l in locations])[:,:3]\n",
    "        mean_losses   = np.array(al_df[\"residual\"].values)\n",
    "        scaled_residuals = mean_losses / mean_losses.max()\n",
    "        filtered_ids  = np.where(scaled_residuals<res_filter_threshold)[0] #np.where(np.array(mean_losses)<.5)[0]\n",
    "        #err_pallete = sns.color_palette(\"coolwarm\", n_colors=n_colors)\n",
    "        #err_pallete = sns.diverging_palette(125, 5, as_cmap=False, n=n_colors, s=60)# Greento Red\n",
    "        err_pallete = sns.diverging_palette(260, 5, as_cmap=False, n=n_colors, s=60) # Blue to Red\n",
    "        loss_colors = np.array([err_pallete[int(ml*n_colors)-1] for ml in scaled_residuals])\n",
    "\n",
    "    ###Label colors pallete\n",
    "    label_pallete        = sns.color_palette(\"tab10\", n_colors=4) #[Buildings, Water, Trees, Sky]\n",
    "    label_pallete[1]     = label_pallete[0]; label_pallete[0] = (0.549, 0.471, 0.318); label_pallete[3] = (1, 0.847, 0.012) #ffd803\n",
    "    full_dominant_label  = np.argmax(targets_array > np.array(targets_array).mean(axis=0), axis=1)\n",
    "    #start_dominant_label = np.argmax(start_targets > start_targets.mean(axis=0), axis=1)\n",
    "    #start_label_colors = np.take(label_pallete, start_dominant_label, axis=0)\n",
    "    full_locs = locs_array[:,:3][full_dominant_label!=3]\n",
    "    full_label_colors  = np.take(label_pallete, full_dominant_label, axis=0)[full_dominant_label!=3]\n",
    "    # full_label_colors = np.hstack([full_label_colors, np.ones((full_label_colors.shape[0], 1))*.2])\n",
    "\n",
    "    #O3D point cloud assembly:\n",
    "    # full_pcd      = get_o3d_pcd_from_coordinates(locs_array[:,:3], [0,1,0])\n",
    "    full_pcd      = get_o3d_pcd_from_coordinates(full_locs, full_label_colors)\n",
    "    # start_pcd     = get_o3d_pcd_from_coordinates(start_locs, [0,1,0])\n",
    "    # start_pcd    = get_o3d_pcd_from_coordinates(start_locs, start_label_colors)\n",
    "    geometries = [full_pcd]\n",
    "    \n",
    "    if al_df is not None:\n",
    "        adapted_pcd  = get_o3d_pcd_from_coordinates(achieved_locs, loss_colors)\n",
    "        filtered_pcd = get_o3d_pcd_from_coordinates(achieved_locs[filtered_ids], loss_colors[filtered_ids])\n",
    "        geometries.append(filtered_pcd)\n",
    "\n",
    "    if draw_o3d:\n",
    "        # o3d.visualization.draw_geometries([start_pcd])\n",
    "        # o3d.visualization.draw_geometries([full_pcd])\n",
    "        # o3d.visualization.draw_geometries([full_pcd, adapted_pcd])\n",
    "        o3d.visualization.draw_geometries(geometries)\n",
    "\n",
    "    return geometries\n",
    "\n",
    "# analyze_queried_locations(al_df), \n",
    "analyze_queried_locations(None)"
   ]
  },
  {
   "cell_type": "code",
   "execution_count": 27,
   "id": "367c5b2b",
   "metadata": {},
   "outputs": [
    {
     "name": "stdout",
     "output_type": "stream",
     "text": [
      "\u001b[1;33m[Open3D WARNING] GLFW Error: Cocoa: Failed to find service port for display\u001b[0;m\n"
     ]
    }
   ],
   "source": [
    "import open3d as o3d\n",
    "import numpy as np\n",
    "import seaborn as sns\n",
    "\n",
    "\n",
    "from utils.scripts.archive.scene_loading_2 import get_highlighed_o3d_locations\n",
    "from utils.scripts.interest_heuristic_0    import get_o3d_pcd_from_coordinates\n",
    "\n",
    "from utils.gradient_walk_utils import *\n",
    "vis_df, normp, _   = process_locations_visibility_data_frame(\"./utils/assets/test_data/locations_example.csv\")\n",
    "\n",
    "res_filter_threshold = .5\n",
    "targets_array = ((np.vstack(vis_df[\"f_xyz\"])+1)/2)\n",
    "locs_array    = (vis_df.values)[:,:3]\n",
    "start_locs    = locs_array#np.vstack(al_df[\"start_locs\"].values)[:,:3]#np.vstack([l[0] for l in locations])[:,:3]\n",
    "start_targets = ((np.vstack(vis_df[\"f_xyz\"])+1)/2)#np.array([t[0] for t in targets])\n",
    "achieved_locs = al_df.values[:,:3]#np.vstack([l[1] for l in locations])[:,:3]\n",
    "mean_losses   = np.array(al_df[\"residual\"].values)\n",
    "scaled_residuals = mean_losses / mean_losses.max()\n",
    "filtered_ids  = np.where(scaled_residuals<res_filter_threshold)[0] #np.where(np.array(mean_losses)<.5)[0]\n",
    "\n",
    "n_colors = 5\n",
    "err_pallete = sns.color_palette(\"coolwarm\", n_colors=n_colors)\n",
    "err_pallete = sns.diverging_palette(125, 5, as_cmap=False, n=n_colors, s=60)# Greento Red\n",
    "err_pallete = sns.diverging_palette(260, 5, as_cmap=False, n=n_colors, s=60) # Blue to Red\n",
    "loss_colors = np.array([err_pallete[int(ml*n_colors)-1] for ml in scaled_residuals])\n",
    "\n",
    "###Label colors pallete\n",
    "label_pallete = sns.color_palette(\"tab10\", n_colors=4)\n",
    "label_pallete[1] = label_pallete[0]\n",
    "label_pallete[0] = (0.549, 0.471, 0.318)\n",
    "label_pallete[3] = (1, 0.847, 0.012) #ffd803\n",
    "start_dominant_label = np.argmax(start_targets > start_targets.mean(axis=0), axis=1)\n",
    "full_dominant_label = np.argmax(targets_array > np.array(targets_array).mean(axis=0), axis=1)\n",
    "start_label_colors = np.take(label_pallete, start_dominant_label, axis=0)\n",
    "\n",
    "full_locs = locs_array[:,:3][full_dominant_label!=3]\n",
    "full_label_colors  = np.take(label_pallete, full_dominant_label, axis=0)[full_dominant_label!=3]\n",
    "# full_label_colors = np.hstack([full_label_colors, np.ones((full_label_colors.shape[0], 1))*.2])\n",
    "\n",
    "#O3D point cloud assembly:\n",
    "# full_pcd      = get_o3d_pcd_from_coordinates(locs_array[:,:3], [0,1,0])\n",
    "full_pcd      = get_o3d_pcd_from_coordinates(full_locs, full_label_colors)\n",
    "# start_pcd     = get_o3d_pcd_from_coordinates(start_locs, [0,1,0])\n",
    "start_pcd     = get_o3d_pcd_from_coordinates(start_locs, start_label_colors)\n",
    "adapted_pcd  = get_o3d_pcd_from_coordinates(achieved_locs, loss_colors)\n",
    "filtered_pcd = get_o3d_pcd_from_coordinates(achieved_locs[filtered_ids], loss_colors[filtered_ids])\n",
    "\n",
    "\n",
    "# o3d.visualization.draw_geometries([start_pcd])\n",
    "# o3d.visualization.draw_geometries([full_pcd])\n",
    "# o3d.visualization.draw_geometries([full_pcd, adapted_pcd])\n",
    "o3d.visualization.draw_geometries([full_pcd, filtered_pcd])\n"
   ]
  },
  {
   "cell_type": "markdown",
   "id": "82b61509",
   "metadata": {},
   "source": [
    "# Deprecated\n",
    "# Project trajectory points on planes\n",
    "\n",
    "Quick links:\n",
    "\n",
    "- How to project a point onto a plane in 3D? https://stackoverflow.com/a/9605695"
   ]
  },
  {
   "cell_type": "code",
   "execution_count": 6,
   "id": "cceac48c",
   "metadata": {},
   "outputs": [
    {
     "data": {
      "image/png": "[encoded data removed]",
      "text/plain": [
       "<Figure size 640x480 with 1 Axes>"
      ]
     },
     "metadata": {},
     "output_type": "display_data"
    },
    {
     "name": "stdout",
     "output_type": "stream",
     "text": [
      "\u001b[1;33m[Open3D WARNING] GLFW Error: Cocoa: Failed to find service port for display\u001b[0;m\n"
     ]
    }
   ],
   "source": [
    "import open3d as o3d\n",
    "import numpy as np\n",
    "from utils.scripts.archive.scene_loading_2 import get_highlighed_o3d_locations\n",
    "from utils.scripts.interest_heuristic_0    import get_o3d_pcd_from_coordinates\n",
    "from utils.scripts.architectures.train_location_encoder import process_locations_visibility_data_frame\n",
    "\n",
    "\n",
    "vis_df, normp, _   = process_locations_visibility_data_frame(\"./utils/assets/test_data/locations_example.csv\")\n",
    "locs_array    = vis_df.values[:,:3].astype(float)\n",
    "\n",
    "locs_array\n",
    "get_o3d_pcd_from_coordinates(locs_array, colors=[1, 0.5, 0])\n",
    "# o3d.visualization.draw_geometries([get_o3d_pcd_from_coordinates(locs_array, colors=[1, 0.5, 0])])\n",
    "\n",
    "#Determine manually the planes:\n",
    "import matplotlib.pyplot as plt\n",
    "plt.hist(locs_array[:,1])\n",
    "plt.show()\n",
    "\n",
    "#Split locations in multiple planes\n",
    "plane1 = locs_array[np.where(locs_array[:,1] < 55)]\n",
    "plane2 = locs_array[np.where(locs_array[:,1] > 55)]\n",
    "\n",
    "# Display planes in different colors:\n",
    "import seaborn as sns\n",
    "err_pallete = sns.color_palette(\"coolwarm\", n_colors=2)\n",
    "plane1_pcd = get_o3d_pcd_from_coordinates(plane1, colors=err_pallete[0])\n",
    "plane2_pcd = get_o3d_pcd_from_coordinates(plane2, colors=err_pallete[1])\n",
    "o3d.visualization.draw_geometries([plane1_pcd, plane2_pcd])\n",
    "\n"
   ]
  },
  {
   "cell_type": "code",
   "execution_count": 7,
   "id": "ba94afe2",
   "metadata": {
    "scrolled": true
   },
   "outputs": [
    {
     "ename": "ImportError",
     "evalue": "cannot import name 'find_plane' from 'utils.gradient_walk_utils' (/Users/stefancobeli/Desktop/Research/Visibility_Encoder/utils/gradient_walk_utils.py)",
     "output_type": "error",
     "traceback": [
      "\u001b[0;31m---------------------------------------------------------------------------\u001b[0m",
      "\u001b[0;31mImportError\u001b[0m                               Traceback (most recent call last)",
      "Cell \u001b[0;32mIn[7], line 1\u001b[0m\n\u001b[0;32m----> 1\u001b[0m \u001b[38;5;28;01mfrom\u001b[39;00m \u001b[38;5;21;01mutils\u001b[39;00m\u001b[38;5;21;01m.\u001b[39;00m\u001b[38;5;21;01mgradient_walk_utils\u001b[39;00m \u001b[38;5;28;01mimport\u001b[39;00m find_plane\n\u001b[1;32m      3\u001b[0m mins \u001b[38;5;241m=\u001b[39m locs_array\u001b[38;5;241m.\u001b[39mmin(axis\u001b[38;5;241m=\u001b[39m\u001b[38;5;241m0\u001b[39m)[:\u001b[38;5;241m3\u001b[39m]\n\u001b[1;32m      4\u001b[0m maxs \u001b[38;5;241m=\u001b[39m locs_array\u001b[38;5;241m.\u001b[39mmax(axis\u001b[38;5;241m=\u001b[39m\u001b[38;5;241m0\u001b[39m)[:\u001b[38;5;241m3\u001b[39m]\n",
      "\u001b[0;31mImportError\u001b[0m: cannot import name 'find_plane' from 'utils.gradient_walk_utils' (/Users/stefancobeli/Desktop/Research/Visibility_Encoder/utils/gradient_walk_utils.py)"
     ]
    }
   ],
   "source": [
    "from utils.gradient_walk_utils import find_plane\n",
    "\n",
    "mins = locs_array.min(axis=0)[:3]\n",
    "maxs = locs_array.max(axis=0)[:3]\n",
    "plane_equation1, project_point1 = find_plane(plane1, mins, maxs)\n",
    "print(\"Equation of the plane 1:\", plane_equation1)\n",
    "\n",
    "\n",
    "plane_equation2, project_point2 = find_plane(plane2, mins, maxs)\n",
    "print(\"Equation of the plane 2:\", plane_equation2)"
   ]
  },
  {
   "cell_type": "markdown",
   "id": "dfdfa6f2",
   "metadata": {},
   "source": [
    "# Visualization of point projected on closest plane:"
   ]
  },
  {
   "cell_type": "code",
   "execution_count": 2,
   "id": "f1d45837",
   "metadata": {
    "scrolled": true
   },
   "outputs": [
    {
     "ename": "ImportError",
     "evalue": "cannot import name 'find_plane' from 'utils.gradient_walk_utils' (/Users/stefancobeli/Desktop/Research/Visibility_Encoder/utils/gradient_walk_utils.py)",
     "output_type": "error",
     "traceback": [
      "\u001b[0;31m---------------------------------------------------------------------------\u001b[0m",
      "\u001b[0;31mImportError\u001b[0m                               Traceback (most recent call last)",
      "Cell \u001b[0;32mIn[2], line 2\u001b[0m\n\u001b[1;32m      1\u001b[0m \u001b[38;5;28;01mimport\u001b[39;00m \u001b[38;5;21;01mnumpy\u001b[39;00m \u001b[38;5;28;01mas\u001b[39;00m \u001b[38;5;21;01mnp\u001b[39;00m\n\u001b[0;32m----> 2\u001b[0m \u001b[38;5;28;01mfrom\u001b[39;00m \u001b[38;5;21;01mutils\u001b[39;00m\u001b[38;5;21;01m.\u001b[39;00m\u001b[38;5;21;01mgradient_walk_utils\u001b[39;00m \u001b[38;5;28;01mimport\u001b[39;00m find_plane\n\u001b[1;32m      4\u001b[0m new_point \u001b[38;5;241m=\u001b[39m np\u001b[38;5;241m.\u001b[39marray([\u001b[38;5;241m300\u001b[39m, \u001b[38;5;241m-\u001b[39m\u001b[38;5;241m1000\u001b[39m, \u001b[38;5;241m1000\u001b[39m])\n\u001b[1;32m      5\u001b[0m projected_point1 \u001b[38;5;241m=\u001b[39m project_point1(new_point)\n",
      "\u001b[0;31mImportError\u001b[0m: cannot import name 'find_plane' from 'utils.gradient_walk_utils' (/Users/stefancobeli/Desktop/Research/Visibility_Encoder/utils/gradient_walk_utils.py)"
     ]
    }
   ],
   "source": [
    "import numpy as np\n",
    "from utils.gradient_walk_utils import find_plane\n",
    "\n",
    "new_point = np.array([300, -1000, 1000])\n",
    "projected_point1 = project_point1(new_point)\n",
    "t1 = np.linalg.norm(new_point-projected_point1)\n",
    "projected_point2 = project_point2(new_point)\n",
    "t2 = np.linalg.norm(new_point-projected_point2)\n",
    "print(f\"Projected point onto the planes with distances 1:{t1:.2f} 2:{t2:.2f}:\\n\\t\", projected_point1, projected_point2)\n",
    "\n",
    "dist_pallete = [err_pallete[i] for i in np.argsort([t1, t2])]\n",
    "\n",
    "\n",
    "o3d.visualization.draw_geometries([] \n",
    "    +[get_o3d_pcd_from_coordinates(locs_array, colors=[.5, 0.25, .25])]\\\n",
    "         + get_highlighed_o3d_locations(projected_point1, color=dist_pallete[0], npoints=1000, radius=10)\n",
    "         + get_highlighed_o3d_locations(projected_point2, color=dist_pallete[1], npoints=1000, radius=10)\n",
    "         + get_highlighed_o3d_locations(new_point, color=(0,0,1), npoints=1000, radius=10)\n",
    "             )"
   ]
  },
  {
   "cell_type": "markdown",
   "id": "79a1a851",
   "metadata": {},
   "source": [
    "Getting gradient with respect to input positions:\n",
    "\n",
    "See Page 4/9 in iNeRF - A. Gradient-Based SE(3) Optimization\n",
    "\n",
    "\"We iteratively differentiate the loss function through the MLP to obtain the gradient \n",
    "\n",
    "∇SθL(e[S]θT0 | I,Θ) \n",
    "\n",
    "that is used to update the estimated relative transformation\""
   ]
  },
  {
   "cell_type": "code",
   "execution_count": 10,
   "id": "a4b05ada",
   "metadata": {
    "scrolled": true
   },
   "outputs": [
    {
     "data": {
      "text/plain": [
       "array([ 0.45397061, 10.        ,  7.69332218])"
      ]
     },
     "execution_count": 10,
     "metadata": {},
     "output_type": "execute_result"
    }
   ],
   "source": [
    "import numpy as np\n",
    "np.min([locs_array.min(axis=0), locs_array.max(axis=0)], axis = 0)"
   ]
  },
  {
   "cell_type": "code",
   "execution_count": 11,
   "id": "b4d63ad6",
   "metadata": {
    "scrolled": true
   },
   "outputs": [
    {
     "name": "stdout",
     "output_type": "stream",
     "text": [
      "[6087.26009576, -37.42636613, 2791.23803085] [0.45397061, 10.0, 7.69332218] [3001.7009021, 111.92591858, 2170.65]\n",
      "[3001.7009021   10.        2170.65     ] [0.45397061, 10.0, 7.69332218] [3001.7009021, 111.92591858, 2170.65]\n"
     ]
    }
   ],
   "source": [
    "import numpy as np\n",
    "projected_point = [6087.26009576,   -37.42636613, 2791.23803085]\n",
    "mins            = [ 0.45397061, 10.,          7.69332218]\n",
    "maxs            = [3001.7009021,   111.92591858, 2170.65]\n",
    "\n",
    "\n",
    "print(projected_point, mins, maxs)\n",
    "projected_point = np.min([maxs, projected_point], axis = 0)\n",
    "projected_point = np.max([mins, projected_point], axis = 0)\n",
    "print(projected_point, mins, maxs)\n"
   ]
  },
  {
   "cell_type": "code",
   "execution_count": 6,
   "id": "a6143b55",
   "metadata": {
    "scrolled": true
   },
   "outputs": [
    {
     "name": "stderr",
     "output_type": "stream",
     "text": [
      "100%|█████████████████████████████████████████████████████████████████████████████████████████████████████████████████| 30/30 [00:03<00:00,  8.31it/s]\n"
     ]
    }
   ],
   "source": [
    "from utils.gradient_walk_utils import query_locations\n",
    "\n",
    "al_df, debugging_list = query_locations([0,.5,.5,0], 3, projected_path=None, debugging_return=True)\n",
    "achieved_loc, perc_pred, tr, gn, prds, lstr, ps = debugging_list[0]\n",
    "# query_locations([0,.5,.5,0], 3, projected_path=True, max_steps = 100)"
   ]
  },
  {
   "cell_type": "code",
   "execution_count": 7,
   "id": "521b28b9",
   "metadata": {},
   "outputs": [
    {
     "data": {
      "text/plain": [
       "[array([614.66090349, 106.90975189, 222.33747405, 169.27866261,\n",
       "        -13.3054326 , 177.50494015]),\n",
       " array([611.65972786, 103.908503  , 219.33627862, 169.63864457,\n",
       "        -13.66543432, 177.86493293]),\n",
       " array([612.3999012 , 100.9135117 , 218.8799798 , 169.99901139,\n",
       "        -13.97186895, 178.21223822]),\n",
       " array([614.38104133,  97.96498723, 217.96726007, 170.36009538,\n",
       "        -14.27881856, 178.42589179]),\n",
       " array([614.66479377,  95.00313038, 216.12180108, 170.72227799,\n",
       "        -14.60504766, 178.59140387]),\n",
       " array([615.52221565,  92.02045865, 213.86246271, 171.08594071,\n",
       "        -14.94129033, 178.71707526]),\n",
       " array([615.5608509 ,  89.01272816, 211.42709894, 171.45138871,\n",
       "        -15.28590246, 178.76900092]),\n",
       " array([616.52014045,  85.97813267, 208.81448907, 171.81854569,\n",
       "        -15.63657995, 178.77571479]),\n",
       " array([615.67932014,  83.04114575, 208.67972345, 172.18117082,\n",
       "        -15.98987813, 178.74563971]),\n",
       " array([614.14794807,  80.25826306, 209.78513116, 172.53490006,\n",
       "        -16.34917684, 178.70253364]),\n",
       " array([612.182555  ,  77.66533703, 211.52878351, 172.8816713 ,\n",
       "        -16.70999761, 178.61122504]),\n",
       " array([610.03442268,  75.31491322, 213.65823907, 173.22449052,\n",
       "        -17.07448812, 178.47294989]),\n",
       " array([607.70922737,  73.1714272 , 215.98795099, 173.56303727,\n",
       "        -17.43903966, 178.28845588]),\n",
       " array([605.37402229,  71.30944295, 218.30765314, 173.89909684,\n",
       "        -17.79752202, 178.09474555]),\n",
       " array([603.00817756,  69.78902764, 220.13077325, 174.2340883 ,\n",
       "        -18.13329168, 177.95683661]),\n",
       " array([601.62554817,  68.80511279, 221.41434259, 174.56793534,\n",
       "        -18.45786519, 177.97841254]),\n",
       " array([601.23858528,  68.34178919, 222.07993097, 174.90307939,\n",
       "        -18.76873632, 178.08853522]),\n",
       " array([601.39214973,  68.25924201, 222.49820489, 175.24309098,\n",
       "        -19.06732793, 178.25537482]),\n",
       " array([602.03222541,  68.52389664, 222.64597101, 175.58902299,\n",
       "        -19.35237737, 178.43359748]),\n",
       " array([602.98821907,  69.03999371, 222.5306756 , 175.94266068,\n",
       "        -19.63066716, 178.5731391 ]),\n",
       " array([604.14916877,  69.84570832, 222.28439874, 176.30163896,\n",
       "        -19.90022893, 178.63437262]),\n",
       " array([604.95269661,  70.73916669, 221.88583917, 176.66067826,\n",
       "        -20.16591497, 178.58601752]),\n",
       " array([605.45886116,  71.64061684, 221.29739923, 177.0150789 ,\n",
       "        -20.42222448, 178.46817389]),\n",
       " array([605.56207161,  72.55012459, 220.61704034, 177.36531388,\n",
       "        -20.67894216, 178.29875556]),\n",
       " array([605.49737434,  73.43382687, 219.76254815, 177.70750749,\n",
       "        -20.93175741, 178.08769599]),\n",
       " array([605.5070179 ,  74.29002232, 218.88620538, 178.03624284,\n",
       "        -21.16451497, 177.86874762]),\n",
       " array([605.66314582,  74.99210114, 218.18845147, 178.35043656,\n",
       "        -21.35175176, 177.70552436]),\n",
       " array([605.91113166,  75.55398316, 217.69150323, 178.65088212,\n",
       "        -21.47165532, 177.62074653]),\n",
       " array([606.81426887,  76.02225442, 217.41776056, 178.93622147,\n",
       "        -21.51833959, 177.63278571]),\n",
       " array([607.85595588,  76.32555527, 217.34628839, 179.21518266,\n",
       "        -21.5142159 , 177.70927802]),\n",
       " array([608.82757454,  76.51593251, 217.35580987, 179.48694169,\n",
       "        -21.46930929, 177.8166236 ]),\n",
       " array([609.620055  ,  76.73036523, 217.21518487, 179.75676286,\n",
       "        -21.39290853, 177.94920722]),\n",
       " array([610.28442268,  76.93730969, 216.83798761, 180.02701127,\n",
       "        -21.29822774, 178.0910224 ]),\n",
       " array([610.78790168,  77.13875909, 216.25833673, 180.29628312,\n",
       "        -21.18864675, 178.21831122]),\n",
       " array([611.12780647,  77.32772488, 215.53024835, 180.56305253,\n",
       "        -21.06940694, 178.31325141]),\n",
       " array([611.28900032,  77.5099606 , 214.80814142, 180.82431352,\n",
       "        -20.95260854, 178.37184516]),\n",
       " array([611.394347  ,  77.64869637, 214.19046564, 181.07504594,\n",
       "        -20.84630056, 178.3955268 ]),\n",
       " array([611.39245491,  77.73897881, 213.64133233, 181.31006181,\n",
       "        -20.76138921, 178.38302985]),\n",
       " array([611.45031624,  77.80118222, 213.123388  , 181.53110063,\n",
       "        -20.69833989, 178.34914008]),\n",
       " array([611.56902961,  77.82227749, 212.55899591, 181.73872697,\n",
       "        -20.67268224, 178.30090705]),\n",
       " array([611.72778206,  77.76806874, 211.98965997, 181.93172013,\n",
       "        -20.67257161, 178.24028388]),\n",
       " array([611.83349495,  77.66725487, 211.42728204, 182.10994279,\n",
       "        -20.69868322, 178.17615119]),\n",
       " array([611.745055  ,  77.54424901, 211.05496759, 182.27572953,\n",
       "        -20.73753972, 178.11986152]),\n",
       " array([611.47796516,  77.41518731, 210.86484308, 182.43045365,\n",
       "        -20.78506704, 178.07704535]),\n",
       " array([611.06426887,  77.3191113 , 210.798742  , 182.57525956,\n",
       "        -20.82715459, 178.0484809 ]),\n",
       " array([610.4391468 ,  77.26261086, 210.97281427, 182.71428239,\n",
       "        -20.85428853, 178.02846137]),\n",
       " array([609.86773567,  77.19348855, 211.25613946, 182.84814774,\n",
       "        -20.87030263, 178.03073493]),\n",
       " array([609.37237434,  77.11456151, 211.62967462, 182.97941911,\n",
       "        -20.87559743, 178.05278388]),\n",
       " array([608.96752815,  77.02555031, 212.07053155, 183.11040055,\n",
       "        -20.87084813, 178.08931342]),\n",
       " array([608.57147102,  76.96325917, 212.46768731, 183.24292314,\n",
       "        -20.86311956, 178.1193122 ]),\n",
       " array([608.20184211,  76.92748589, 212.80484552, 183.37881791,\n",
       "        -20.8530068 , 178.13861457]),\n",
       " array([607.87274055,  76.91753716, 213.06839532, 183.5195192 ,\n",
       "        -20.84115072, 178.14505378]),\n",
       " array([607.65801887,  76.91618676, 213.25327081, 183.66710221,\n",
       "        -20.8302445 , 178.13632575]),\n",
       " array([607.55200081,  76.92404217, 213.35074396, 183.82123124,\n",
       "        -20.82069249, 178.11468879]),\n",
       " array([607.52380256,  76.88332123, 213.3836419 , 183.97917497,\n",
       "        -20.82440038, 178.0880622 ]),\n",
       " array([607.50317268,  76.84365601, 213.32346124, 184.14133012,\n",
       "        -20.8372521 , 178.06109992]),\n",
       " array([607.49304084,  76.7910294 , 213.11496515, 184.30653703,\n",
       "        -20.86736913, 178.03670112]),\n",
       " array([607.56902961,  76.82845921, 212.65610284, 184.46667802,\n",
       "        -20.91897817, 178.02521125]),\n",
       " array([607.88073616,  76.86985058, 211.94681329, 184.61603105,\n",
       "        -20.98090597, 178.03934089]),\n",
       " array([608.39288215,  76.91368527, 211.04239435, 184.75439774,\n",
       "        -21.04934926, 178.07448188]),\n",
       " array([609.0617054 ,  76.95866532, 210.00131769, 184.88179337,\n",
       "        -21.12034841, 178.12347785]),\n",
       " array([609.57372932,  76.9186768 , 209.14212579, 185.00096452,\n",
       "        -21.17968602, 178.17323676]),\n",
       " array([609.84063606,  76.83155579, 208.80539483, 185.11339127,\n",
       "        -21.21287389, 178.22032538]),\n",
       " array([609.84130745,  76.65908951, 208.76041192, 185.21588456,\n",
       "        -21.23412175, 178.25781623]),\n",
       " array([609.60082893,  76.40822644, 208.97665948, 185.30949723,\n",
       "        -21.24334951, 178.280857  ]),\n",
       " array([609.24133186,  76.21182675, 209.2395379 , 185.39360368,\n",
       "        -21.24205633, 178.28865424]),\n",
       " array([608.80535774,  76.12274594, 209.49027032, 185.46680009,\n",
       "        -21.219027  , 178.27710334]),\n",
       " array([608.33526497,  76.13252301, 209.71896905, 185.53001725,\n",
       "        -21.17717977, 178.24963752]),\n",
       " array([607.97741584,  76.29226536, 209.66635675, 185.58273637,\n",
       "        -21.12666936, 178.20215217]),\n",
       " array([607.74066047,  76.58533425, 209.36173028, 185.62584245,\n",
       "        -21.07081838, 178.14357367]),\n",
       " array([607.57757454,  76.86593289, 208.94016046, 185.66487443,\n",
       "        -21.02651067, 178.09329596]),\n",
       " array([607.63769416,  77.12976212, 208.61636896, 185.70169389,\n",
       "        -20.98871847, 178.06749335]),\n",
       " array([607.6835926 ,  77.38694806, 208.19125909, 185.7365297 ,\n",
       "        -20.94727178, 178.07472602]),\n",
       " array([607.57220344,  77.64586396, 207.74625177, 185.76892411,\n",
       "        -20.90413518, 178.10338202]),\n",
       " array([607.15728645,  77.78189129, 207.48721856, 185.8031038 ,\n",
       "        -20.86425252, 178.14810553]),\n",
       " array([606.4837635 ,  77.80402798, 207.40274591, 185.83929765,\n",
       "        -20.82950445, 178.20074836]),\n",
       " array([605.61126594,  77.69614644, 207.29562921, 185.87683427,\n",
       "        -20.81302114, 178.24815741]),\n",
       " array([604.77459602,  77.59110303, 206.96695489, 185.91196   ,\n",
       "        -20.81014104, 178.2844123 ]),\n",
       " array([604.04009895,  77.51701684, 206.62302179, 185.94639909,\n",
       "        -20.807795  , 178.30994025]),\n",
       " array([603.45922737,  77.57202572, 206.28384942, 185.97647416,\n",
       "        -20.80658574, 178.30478278]),\n",
       " array([603.06390266,  77.74301285, 205.94486017, 186.00299394,\n",
       "        -20.80643316, 178.27269355]),\n",
       " array([602.85662727,  78.02629323, 205.60379571, 186.02408158,\n",
       "        -20.80203481, 178.22125617]),\n",
       " array([602.74401741,  78.32293553, 205.28384942, 186.04370439,\n",
       "        -20.79703374, 178.17508307]),\n",
       " array([602.72631721,  78.62148327, 204.97537774, 186.06218278,\n",
       "        -20.79168554, 178.14117804]),\n",
       " array([602.87060432,  78.88090748, 204.58414239, 186.08055436,\n",
       "        -20.78837819, 178.13284675]),\n",
       " array([602.85931282,  78.97697491, 204.33719415, 186.10403764,\n",
       "        -20.79215856, 178.14859382]),\n",
       " array([602.6546009 ,  78.96588368, 204.27872247, 186.13132035,\n",
       "        -20.79960866, 178.17467109]),\n",
       " array([602.28857307,  78.85751195, 204.38852472, 186.16241776,\n",
       "        -20.80998464, 178.20558539]),\n",
       " array([602.07849006,  78.7692532 , 204.4426629 , 186.19259965,\n",
       "        -20.8179955 , 178.23662177]),\n",
       " array([602.02532844,  78.70283551, 204.44766778, 186.22233903,\n",
       "        -20.82350393, 178.26256171]),\n",
       " array([602.15710334,  78.71891064, 204.37039728, 186.24753129,\n",
       "        -20.8122315 , 178.27446357]),\n",
       " array([602.44647102,  78.80933232, 204.2161004 , 186.26896989,\n",
       "        -20.78627248, 178.27159491]),\n",
       " array([602.85626106,  78.96350903, 203.98691339, 186.28731095,\n",
       "        -20.74821325, 178.25575629]),\n",
       " array([603.37432747,  79.09089512, 203.54160089, 186.31068742,\n",
       "        -20.72341008, 178.23543158]),\n",
       " array([603.67162971,  79.08219571, 203.09421319, 186.3439058 ,\n",
       "        -20.71789022, 178.21237555]),\n",
       " array([603.74639778,  78.95116849, 202.62766046, 186.38656938,\n",
       "        -20.73033376, 178.19029609]),\n",
       " array([603.61303596,  78.70398564, 202.11148614, 186.43854081,\n",
       "        -20.75880666, 178.1727027 ]),\n",
       " array([603.32379036,  78.42737622, 201.50406427, 186.49492204,\n",
       "        -20.78449483, 178.15417853]),\n",
       " array([603.19866829,  78.25357861, 200.59842462, 186.55118119,\n",
       "        -20.8003449 , 178.13800422]),\n",
       " array([603.24804573,  78.18551297, 199.39639825, 186.60818803,\n",
       "        -20.8062119 , 178.12750617]),\n",
       " array([603.24883918,  78.05558247, 198.26108331, 186.67612016,\n",
       "        -20.8086762 , 178.12254706])]"
      ]
     },
     "execution_count": 7,
     "metadata": {},
     "output_type": "execute_result"
    }
   ],
   "source": [
    "tr"
   ]
  },
  {
   "cell_type": "code",
   "execution_count": 2,
   "id": "539add0e",
   "metadata": {
    "scrolled": true
   },
   "outputs": [
    {
     "name": "stderr",
     "output_type": "stream",
     "text": [
      "  0%|                                                                                                                          | 0/30 [00:00<?, ?it/s]/Users/stefancobeli/Desktop/Research/Visibility_Encoder/utils/gradient_walk_utils.py:201: UserWarning: Creating a tensor from a list of numpy.ndarrays is extremely slow. Please consider converting the list to a single numpy.ndarray with numpy.array() before converting to a tensor. (Triggered internally at /Users/runner/work/pytorch/pytorch/pytorch/torch/csrc/utils/tensor_new.cpp:233.)\n",
      "  input_pos       = torch.autograd.Variable(torch.tensor([np.array(projected_input).astype(np.float32)]), requires_grad=True)\n",
      "100%|█████████████████████████████████████████████████████████████████████████████████████████████████████████████████| 30/30 [00:03<00:00,  7.85it/s]\n"
     ]
    }
   ],
   "source": [
    "al_df, debugging_list = query_locations([.4,.6,0,0], 3, projected_path=True, debugging_return=True)\n",
    "achieved_loc, perc_pred, tr, gn, prds, lstr, ps= debugging_list[0]"
   ]
  },
  {
   "cell_type": "code",
   "execution_count": 3,
   "id": "49dc0166",
   "metadata": {},
   "outputs": [
    {
     "name": "stdout",
     "output_type": "stream",
     "text": [
      "\u001b[1;33m[Open3D WARNING] GLFW Error: Cocoa: Failed to find service port for display\u001b[0;m\n"
     ]
    }
   ],
   "source": [
    "import numpy as np\n",
    "from utils.scripts.interest_heuristic_0    import get_o3d_pcd_from_coordinates\n",
    "import open3d as o3d\n",
    "\n",
    "\n",
    "np_trajectory    = np.vstack(tr)[:,:3]\n",
    "trajectory_pcd  = get_o3d_pcd_from_coordinates(np_trajectory)\n",
    "\n",
    "o3d.visualization.draw_geometries([trajectory_pcd])"
   ]
  },
  {
   "cell_type": "code",
   "execution_count": null,
   "id": "c2cebdef",
   "metadata": {},
   "outputs": [],
   "source": [
    "from utils.gradient_walk_utils import query_locations\n",
    "\n",
    "query_locations([0,.5,.5,0], 2)\n",
    "\n",
    "import pandas as pd\n",
    "# pd.DataFrame([[[0,1,0,0], 2, 1]], columns=[\"f_xyz\", \"num_locations\", \"seed\"]).to_json(\"location.json\", orient=\"records\", indent=4)\n",
    "\n",
    "pd.DataFrame([[[0,1,0,0], 2]], columns=[\"f_xyz\", \"num_locations\"]).to_json(\"location.json\", orient=\"records\", indent=4)\n",
    "\n"
   ]
  },
  {
   "cell_type": "markdown",
   "id": "924ce0b4",
   "metadata": {},
   "source": [
    "# !!!!\n",
    "\n",
    "# Stand alone working snippets:\n"
   ]
  },
  {
   "cell_type": "markdown",
   "id": "e33f8a07",
   "metadata": {},
   "source": [
    "# Training set statistics on inter points losses"
   ]
  },
  {
   "cell_type": "code",
   "execution_count": 3,
   "id": "77f78a5e",
   "metadata": {
    "scrolled": true
   },
   "outputs": [
    {
     "name": "stdout",
     "output_type": "stream",
     "text": [
      "Trained encoder with mean loss of:  0.018627514497741554\n",
      "Percentage MSE 0.0093 and RMSE:  0.0965\n"
     ]
    },
    {
     "data": {
      "text/plain": [
       "((26232, 6),\n",
       " (12804, 6),\n",
       " array([[ 592.7,   51.7,  104.6,  170.4,    4.1, -179.3],\n",
       "        [ 592.7,  101.7,  104.6,  172.6,    4.1, -179.5]]))"
      ]
     },
     "execution_count": 3,
     "metadata": {},
     "output_type": "execute_result"
    }
   ],
   "source": [
    "import pandas as pd\n",
    "import numpy as np\n",
    "# vis_df = pd.read_csv(\"./utils/assets/test_data/locations_example.csv\")\n",
    "# rmb_df = pd.read_csv(\"./utils/assets/removed_buildings/removedBuilding.csv\")\n",
    "\n",
    "from utils.scripts.architectures.train_location_encoder import process_locations_visibility_data_frame\n",
    "from utils.scripts.architectures.train_location_encoder import rescale_from_norm_params\n",
    "from utils.gradient_walk_utils import initialize_trained_encoder\n",
    "\n",
    "from utils.gradient_walk_utils import gradient_walk\n",
    "\n",
    "import torch\n",
    "from tqdm.notebook import tqdm\n",
    "criterion                  = torch.nn.MSELoss(reduction='none')\n",
    "\n",
    "\n",
    "trained_encoder, info_dict = initialize_trained_encoder()\n",
    "\n",
    "def tanh_mse_loss_to_per_class_percentage(mean_loss):\n",
    "    \"\"\"tanh_mse_loss_to_per_class_percentage\"\"\"\n",
    "    mse  = (mean_loss) / 2\n",
    "    perc = mse ** .5\n",
    "    return mse, perc\n",
    "tmlcp = tanh_mse_loss_to_per_class_percentage\n",
    "\n",
    "print(\"Trained encoder with mean loss of: \", info_dict[\"final_test_loss\"])\n",
    "print(\"Percentage MSE %.4f and RMSE:  %.4f\" \\\n",
    "      %tanh_mse_loss_to_per_class_percentage(info_dict[\"final_test_loss\"]))\n",
    "\n",
    "\n",
    "vis_df, normp, _   = process_locations_visibility_data_frame(\"./utils/assets/test_data/locations_example.csv\")\n",
    "rmb_df, _, _       = process_locations_visibility_data_frame(\"./utils/assets/removed_buildings/removedBuilding.csv\", normp)\n",
    "\n",
    "locs_array    = vis_df.values[:,:6].astype(float)\n",
    "# targets_array = torch.tensor(np.vstack((vis_df[\"f_xyz\"])))\n",
    "targets_array = (np.vstack((vis_df[\"f_xyz\"]))).tolist()\n",
    "\n",
    "\n",
    "rmb_l_array = rmb_df.values[:,:6].astype(float)\n",
    "rmb_t_array = torch.tensor(np.vstack((rmb_df[\"f_xyz\"])))\n",
    "rmb_t_array = (np.vstack((rmb_df[\"f_xyz\"]))).tolist()\n",
    "\n",
    "locs_array.shape, rmb_l_array.shape, locs_array[:2].round(1)"
   ]
  },
  {
   "cell_type": "code",
   "execution_count": 4,
   "id": "d2d4f845",
   "metadata": {
    "scrolled": true
   },
   "outputs": [
    {
     "data": {
      "application/vnd.jupyter.widget-view+json": {
       "model_id": "f86a729a82274d0399d3eef1c310a9d6",
       "version_major": 2,
       "version_minor": 0
      },
      "text/plain": [
       "  0%|          | 0/1000 [00:00<?, ?it/s]"
      ]
     },
     "metadata": {},
     "output_type": "display_data"
    },
    {
     "name": "stdout",
     "output_type": "stream",
     "text": [
      "0.6081167\n"
     ]
    }
   ],
   "source": [
    "np.random.seed(1)\n",
    "lt = .01#25#.01#1 #loss_threshold\n",
    "\n",
    "num_ps      = [] #number performed_steps\n",
    "mean_losses = [] # final mean losses for each pair input target\n",
    "targets     = [] #(start, achieved, desired)\n",
    "locations   = [] #(start, achieved, desired)\n",
    "#rd_ids = []\n",
    "#inputs      = [] # Trajectory of inputs\n",
    "spatial_differences = [] #(initial, final)\n",
    "\n",
    "n_trials  = 1000#10\n",
    "max_steps = 25#100\n",
    "\n",
    "custom_target_d = None\n",
    "# custom_target_d = [0, .4, .4, .1] #None\n",
    "custom_target_d = [0, 1, 0, 0] #None\n",
    "# custom_target_d = [0, 0, 1, 0] #None\n",
    "# custom_target_d = [0, .5, .5, 0] #None\n",
    "custom_target_d = (np.array(custom_target_d) * 2 - 1).tolist() #None\n",
    "\n",
    "search_intervals = np.ones(4) * .2\n",
    "# search_intervals = None\n",
    "\n",
    "for i in tqdm(range(n_trials)):\n",
    "    crt_id = np.random.randint(0, len(targets_array))\n",
    "    #for j in range(n_trials):\n",
    "    des_id = np.random.randint(0, len(targets_array))\n",
    "    #rd_ids += [crt_id, des_id]\n",
    "\n",
    "    actual_loc, actual_target   = locs_array[crt_id], targets_array[crt_id]\n",
    "    #inputs.append((actual_target))\n",
    "    if custom_target_d is None:\n",
    "        desired_loc, desired_target = locs_array[des_id], targets_array[des_id]\n",
    "    else: \n",
    "        desired_loc    = None\n",
    "        desired_target = custom_target_d\n",
    "    #desired_target = (np.array([0, .4, .4, .1]) * 2 - 1).tolist()\n",
    "\n",
    "    achieved_loc, perc_pred, tr, gn, prds, lstr, ps, fr = gradient_walk(actual_loc, desired_target, search_intervals, max_steps, lt, True)\n",
    "\n",
    "    locations.append((actual_loc, achieved_loc, desired_loc))\n",
    "    #actual_loc = achieved_loc\n",
    "    \n",
    "    \n",
    "    num_ps.append(ps)\n",
    "    mean_losses.append(lstr[-1].mean())\n",
    "    #actual_target =\n",
    "    #desired_target = \n",
    "\n",
    "    start    =  [(at+1)/2 for at in actual_target]\n",
    "    achieved =  perc_pred\n",
    "    desired  =  [(dt+1)/2 for dt in desired_target]\n",
    "    targets.append([np.round(t, 2) for t in [start, achieved, desired]])\n",
    "\n",
    "    \n",
    "##### Print stats about the discovered locations:\n",
    "\n",
    "print(np.mean(mean_losses))\n",
    "\n",
    "\n",
    "# rd_ids\n",
    "#prediction, labes, interval_target"
   ]
  },
  {
   "cell_type": "code",
   "execution_count": 10,
   "id": "03e7086a",
   "metadata": {},
   "outputs": [
    {
     "name": "stdout",
     "output_type": "stream",
     "text": [
      "[\n",
      "    {\n",
      "        \"x\":\"637.1823108640624\",\n",
      "        \"y\":\"-104.69192271582031\",\n",
      "        \"z\":\"531.5575920998438\",\n",
      "        \"xh\":\"201.72719132359376\",\n",
      "        \"yh\":\"-10.912268117148436\",\n",
      "        \"zh\":\"204.65997687246093\",\n",
      "        \"f_xyz\":\"[0.01 0.89 0.08 0.04]\",\n",
      "        \"residuals\":0.0110842511\n",
      "    },\n",
      "    {\n",
      "        \"x\":\"181.5416858640624\",\n",
      "        \"y\":\"74.64675755151367\",\n",
      "        \"z\":\"753.2197319924219\",\n",
      "        \"xh\":\"-2.658283835097656\",\n",
      "        \"yh\":\"-7.963041737753905\",\n",
      "        \"zh\":\"11.618425282495117\",\n",
      "        \"f_xyz\":\"[0.17 0.   0.39 0.21]\",\n",
      "        \"residuals\":1.2261868715\n",
      "    }\n",
      "]\n"
     ]
    }
   ],
   "source": [
    "al_df = pd.DataFrame(columns=[\"x\", \"y\", \"z\", \"xh\", \"yh\", \"zh\", \"f_xyz\", \"residuals\"])\n",
    "al_df[[\"x\", \"y\", \"z\", \"xh\", \"yh\", \"zh\"]] = np.vstack([(l[1]) for l in locations]).astype(str)\n",
    "# al_df[\"f_xyz\"] = np.vstack([[t[1]] for t in targets])\n",
    "# al_df[\"f_xyz\"]     = al_df[\"x\"].apply(lambda x: \"[0 1 0 0]\")\n",
    "al_df[\"f_xyz\"]     = al_df.apply(lambda x: str(np.array(targets[x.name][1])), axis=1)\n",
    "al_df[\"residuals\"] = mean_losses\n",
    "\n",
    "al_df\n",
    "print(al_df[:2].to_json(orient=\"records\", indent=4))"
   ]
  },
  {
   "cell_type": "markdown",
   "id": "7b95a728",
   "metadata": {},
   "source": [
    "# Color Scene by label categories and label pallete: VIS 2024 figure"
   ]
  },
  {
   "cell_type": "code",
   "execution_count": 5,
   "id": "38e4beaa",
   "metadata": {},
   "outputs": [
    {
     "name": "stdout",
     "output_type": "stream",
     "text": [
      "\u001b[1;33m[Open3D WARNING] GLFW Error: Cocoa: Failed to find service port for display\u001b[0;m\n",
      "\u001b[1;33m[Open3D WARNING] GLFW Error: Cocoa: Failed to find service port for display\u001b[0;m\n"
     ]
    }
   ],
   "source": [
    "import open3d as o3d\n",
    "import seaborn as sns\n",
    "\n",
    "\n",
    "from utils.scripts.archive.scene_loading_2 import get_highlighed_o3d_locations\n",
    "from utils.scripts.interest_heuristic_0    import get_o3d_pcd_from_coordinates\n",
    "\n",
    "\n",
    "start_locs    = np.vstack([l[0] for l in locations])[:,:3]\n",
    "achieved_locs = np.vstack([l[1] for l in locations])[:,:3]\n",
    "filtered_ids  = np.where(np.array(mean_losses)<.5)[0]\n",
    "start_targets = np.array([t[0] for t in targets])\n",
    "\n",
    "n_colors = 10\n",
    "err_pallete = sns.color_palette(\"coolwarm\", n_colors=n_colors)\n",
    "err_pallete = sns.diverging_palette(125, 5, as_cmap=False, n=n_colors, s=60)# Greento Red\n",
    "err_pallete = sns.diverging_palette(260, 5, as_cmap=False, n=n_colors, s=60) # Blue to Red\n",
    "loss_colors = np.array([err_pallete[int(ml*5)] for ml in mean_losses])\n",
    "\n",
    "###Label colors pallete\n",
    "label_pallete = sns.color_palette(\"tab10\", n_colors=4)\n",
    "label_pallete[1] = label_pallete[0]\n",
    "label_pallete[0] = (0.549, 0.471, 0.318)\n",
    "label_pallete[3] = (1, 0.847, 0.012) #ffd803\n",
    "start_dominant_label = np.argmax(start_targets > start_targets.mean(axis=0), axis=1)\n",
    "full_dominant_label = np.argmax(targets_array > np.array(targets_array).mean(axis=0), axis=1)\n",
    "start_label_colors = np.take(label_pallete, start_dominant_label, axis=0)\n",
    "\n",
    "full_locs = locs_array[:,:3][full_dominant_label!=3]\n",
    "full_label_colors  = np.take(label_pallete, full_dominant_label, axis=0)[full_dominant_label!=3]\n",
    "# full_label_colors = np.hstack([full_label_colors, np.ones((full_label_colors.shape[0], 1))*.2])\n",
    "\n",
    "#O3D point cloud assembly:\n",
    "# full_pcd      = get_o3d_pcd_from_coordinates(locs_array[:,:3], [0,1,0])\n",
    "full_pcd      = get_o3d_pcd_from_coordinates(full_locs, full_label_colors)\n",
    "# start_pcd     = get_o3d_pcd_from_coordinates(start_locs, [0,1,0])\n",
    "start_pcd     = get_o3d_pcd_from_coordinates(start_locs, start_label_colors)\n",
    "adapted_pcd  = get_o3d_pcd_from_coordinates(achieved_locs, loss_colors)\n",
    "filtered_pcd = get_o3d_pcd_from_coordinates(achieved_locs[filtered_ids], loss_colors[filtered_ids])\n",
    "\n",
    "\n",
    "o3d.visualization.draw_geometries([start_pcd])\n",
    "# o3d.visualization.draw_geometries([full_pcd])\n",
    "# o3d.visualization.draw_geometries([full_pcd, adapted_pcd])\n",
    "o3d.visualization.draw_geometries([full_pcd, filtered_pcd])\n"
   ]
  },
  {
   "cell_type": "code",
   "execution_count": 24,
   "id": "ab7cdf28",
   "metadata": {},
   "outputs": [
    {
     "name": "stdout",
     "output_type": "stream",
     "text": [
      "\u001b[1;33m[Open3D WARNING] GLFW Error: Cocoa: Failed to find service port for display\u001b[0;m\n",
      "\u001b[1;33m[Open3D WARNING] GLFW Error: Cocoa: Failed to find service port for display\u001b[0;m\n",
      "\u001b[1;33m[Open3D WARNING] GLFW Error: Cocoa: Failed to find service port for display\u001b[0;m\n"
     ]
    }
   ],
   "source": [
    "f=[ -0.41, -0.32, -0.85 ];l=[ 1136.07, 245.83, 1283.71 ];u=[ 0.05, -0.94, 0.33 ];z=0.5\n",
    "\n",
    "full_pcd      = get_o3d_pcd_from_coordinates(full_locs, [.8,.8,.8])\n",
    "\n",
    "o3d.visualization.draw_geometries([start_pcd], front=f, lookat=l, up=u, zoom=z)\n",
    "full_pcd      = get_o3d_pcd_from_coordinates(full_locs, full_label_colors)\n",
    "o3d.visualization.draw_geometries([full_pcd], front=f, lookat=l, up=u, zoom=z)\n",
    "\n",
    "full_pcd      = get_o3d_pcd_from_coordinates(full_locs, [.8,.8,.8])\n",
    "o3d.visualization.draw_geometries([full_pcd, filtered_pcd], front=f, lookat=l, up=u, zoom=z)\n",
    "\n"
   ]
  },
  {
   "cell_type": "code",
   "execution_count": 17,
   "id": "906ac9b7",
   "metadata": {},
   "outputs": [
    {
     "data": {
      "text/plain": [
       "((1000, 4), (1000, 3))"
      ]
     },
     "execution_count": 17,
     "metadata": {},
     "output_type": "execute_result"
    }
   ],
   "source": [
    "start_targets = np.array([t[0] for t in targets])\n",
    "\n",
    "start_targets.shape, start_locs.shape"
   ]
  },
  {
   "cell_type": "code",
   "execution_count": 37,
   "id": "da2878d9",
   "metadata": {},
   "outputs": [
    {
     "data": {
      "image/png": "[encoded data removed]",
      "text/plain": [
       "<Figure size 400x100 with 1 Axes>"
      ]
     },
     "metadata": {},
     "output_type": "display_data"
    }
   ],
   "source": [
    "label_pallete = sns.color_palette(\"tab10\", n_colors=4)\n",
    "\n",
    "label_pallete[1] = label_pallete[0]\n",
    "label_pallete[0] = (0.549, 0.471, 0.318)\n",
    "label_pallete[3] = (1, 0.847, 0.012) #ffd803\n",
    "\n",
    "dominant_label = np.argmax(start_targets > start_targets.mean(axis=0), axis=1)\n",
    "\n",
    "label_colors = np.take(label_pallete, dominant_label, axis=0)\n",
    "\n",
    "sns.palplot(label_pallete)"
   ]
  },
  {
   "cell_type": "markdown",
   "id": "4c5f439b",
   "metadata": {},
   "source": [
    "# Two main approaches to find a desired_target:\n",
    "- search intervals and enforce hypothetical target;\n",
    "- compare hypothetical target to all tragets in training set. Use gradient towards target from training set with small KL divergence with respect to hypothetical target."
   ]
  },
  {
   "cell_type": "code",
   "execution_count": 1,
   "id": "24492f5f",
   "metadata": {},
   "outputs": [
    {
     "name": "stderr",
     "output_type": "stream",
     "text": [
      " 16%|████████████████████████▌                                                                                                                               | 81/500 [00:06<00:33, 12.47it/s]"
     ]
    },
    {
     "name": "stdout",
     "output_type": "stream",
     "text": [
      "(50, 9)\n"
     ]
    },
    {
     "name": "stderr",
     "output_type": "stream",
     "text": [
      "\n"
     ]
    },
    {
     "data": {
      "text/html": [
       "<div>\n",
       "<style scoped>\n",
       "    .dataframe tbody tr th:only-of-type {\n",
       "        vertical-align: middle;\n",
       "    }\n",
       "\n",
       "    .dataframe tbody tr th {\n",
       "        vertical-align: top;\n",
       "    }\n",
       "\n",
       "    .dataframe thead th {\n",
       "        text-align: right;\n",
       "    }\n",
       "</style>\n",
       "<table border=\"1\" class=\"dataframe\">\n",
       "  <thead>\n",
       "    <tr style=\"text-align: right;\">\n",
       "      <th></th>\n",
       "      <th>x</th>\n",
       "      <th>y</th>\n",
       "      <th>z</th>\n",
       "      <th>xh</th>\n",
       "      <th>yh</th>\n",
       "      <th>zh</th>\n",
       "      <th>f_xyz</th>\n",
       "      <th>residual</th>\n",
       "      <th>steps</th>\n",
       "    </tr>\n",
       "  </thead>\n",
       "  <tbody>\n",
       "    <tr>\n",
       "      <th>0</th>\n",
       "      <td>620.036620</td>\n",
       "      <td>-144.229795</td>\n",
       "      <td>553.288610</td>\n",
       "      <td>199.783695</td>\n",
       "      <td>-10.982405</td>\n",
       "      <td>202.697315</td>\n",
       "      <td>[0.01, 0.93, 0.06, 0.03]</td>\n",
       "      <td>0.042807</td>\n",
       "      <td>22</td>\n",
       "    </tr>\n",
       "    <tr>\n",
       "      <th>1</th>\n",
       "      <td>557.894774</td>\n",
       "      <td>121.516020</td>\n",
       "      <td>283.005102</td>\n",
       "      <td>-153.188580</td>\n",
       "      <td>-11.619032</td>\n",
       "      <td>-144.958263</td>\n",
       "      <td>[0.03, 0.91, 0.03, 0.03]</td>\n",
       "      <td>0.043397</td>\n",
       "      <td>12</td>\n",
       "    </tr>\n",
       "    <tr>\n",
       "      <th>2</th>\n",
       "      <td>3079.251647</td>\n",
       "      <td>-30.897214</td>\n",
       "      <td>632.412054</td>\n",
       "      <td>-40.025975</td>\n",
       "      <td>124.277643</td>\n",
       "      <td>-33.112557</td>\n",
       "      <td>[0.05, 0.9, 0.02, 0.06]</td>\n",
       "      <td>0.059137</td>\n",
       "      <td>74</td>\n",
       "    </tr>\n",
       "    <tr>\n",
       "      <th>3</th>\n",
       "      <td>2639.674987</td>\n",
       "      <td>-176.304533</td>\n",
       "      <td>1875.992284</td>\n",
       "      <td>-38.864052</td>\n",
       "      <td>81.403497</td>\n",
       "      <td>-7.025837</td>\n",
       "      <td>[0.2, 0.76, 0.02, 0.09]</td>\n",
       "      <td>0.136743</td>\n",
       "      <td>74</td>\n",
       "    </tr>\n",
       "    <tr>\n",
       "      <th>4</th>\n",
       "      <td>943.200713</td>\n",
       "      <td>-21.801725</td>\n",
       "      <td>736.350347</td>\n",
       "      <td>-30.485325</td>\n",
       "      <td>56.560678</td>\n",
       "      <td>-13.253216</td>\n",
       "      <td>[0.01, 0.93, 0.05, 0.03]</td>\n",
       "      <td>0.038152</td>\n",
       "      <td>14</td>\n",
       "    </tr>\n",
       "    <tr>\n",
       "      <th>5</th>\n",
       "      <td>724.808226</td>\n",
       "      <td>-62.005796</td>\n",
       "      <td>254.348791</td>\n",
       "      <td>214.102771</td>\n",
       "      <td>-2.688807</td>\n",
       "      <td>-167.513455</td>\n",
       "      <td>[0.02, 0.91, 0.02, 0.05]</td>\n",
       "      <td>0.045208</td>\n",
       "      <td>74</td>\n",
       "    </tr>\n",
       "    <tr>\n",
       "      <th>6</th>\n",
       "      <td>959.370818</td>\n",
       "      <td>21.666754</td>\n",
       "      <td>485.169592</td>\n",
       "      <td>-32.460343</td>\n",
       "      <td>69.327920</td>\n",
       "      <td>-15.324844</td>\n",
       "      <td>[0.01, 0.92, 0.03, 0.05]</td>\n",
       "      <td>0.042240</td>\n",
       "      <td>51</td>\n",
       "    </tr>\n",
       "    <tr>\n",
       "      <th>7</th>\n",
       "      <td>1758.824675</td>\n",
       "      <td>-62.199644</td>\n",
       "      <td>698.708196</td>\n",
       "      <td>-31.514302</td>\n",
       "      <td>30.968470</td>\n",
       "      <td>-41.574993</td>\n",
       "      <td>[0.04, 0.86, 0.03, 0.05]</td>\n",
       "      <td>0.064992</td>\n",
       "      <td>74</td>\n",
       "    </tr>\n",
       "    <tr>\n",
       "      <th>8</th>\n",
       "      <td>2693.265441</td>\n",
       "      <td>-173.738447</td>\n",
       "      <td>877.594488</td>\n",
       "      <td>-32.792363</td>\n",
       "      <td>94.539259</td>\n",
       "      <td>-33.235579</td>\n",
       "      <td>[0.18, 0.77, 0.01, 0.13]</td>\n",
       "      <td>0.135994</td>\n",
       "      <td>74</td>\n",
       "    </tr>\n",
       "    <tr>\n",
       "      <th>9</th>\n",
       "      <td>915.260070</td>\n",
       "      <td>145.330866</td>\n",
       "      <td>1426.277593</td>\n",
       "      <td>-32.952481</td>\n",
       "      <td>58.175806</td>\n",
       "      <td>-51.210365</td>\n",
       "      <td>[0.02, 0.69, 0.12, 0.17]</td>\n",
       "      <td>0.153878</td>\n",
       "      <td>74</td>\n",
       "    </tr>\n",
       "  </tbody>\n",
       "</table>\n",
       "</div>"
      ],
      "text/plain": [
       "             x           y            z          xh          yh          zh  \\\n",
       "0   620.036620 -144.229795   553.288610  199.783695  -10.982405  202.697315   \n",
       "1   557.894774  121.516020   283.005102 -153.188580  -11.619032 -144.958263   \n",
       "2  3079.251647  -30.897214   632.412054  -40.025975  124.277643  -33.112557   \n",
       "3  2639.674987 -176.304533  1875.992284  -38.864052   81.403497   -7.025837   \n",
       "4   943.200713  -21.801725   736.350347  -30.485325   56.560678  -13.253216   \n",
       "5   724.808226  -62.005796   254.348791  214.102771   -2.688807 -167.513455   \n",
       "6   959.370818   21.666754   485.169592  -32.460343   69.327920  -15.324844   \n",
       "7  1758.824675  -62.199644   698.708196  -31.514302   30.968470  -41.574993   \n",
       "8  2693.265441 -173.738447   877.594488  -32.792363   94.539259  -33.235579   \n",
       "9   915.260070  145.330866  1426.277593  -32.952481   58.175806  -51.210365   \n",
       "\n",
       "                      f_xyz  residual  steps  \n",
       "0  [0.01, 0.93, 0.06, 0.03]  0.042807     22  \n",
       "1  [0.03, 0.91, 0.03, 0.03]  0.043397     12  \n",
       "2   [0.05, 0.9, 0.02, 0.06]  0.059137     74  \n",
       "3   [0.2, 0.76, 0.02, 0.09]  0.136743     74  \n",
       "4  [0.01, 0.93, 0.05, 0.03]  0.038152     14  \n",
       "5  [0.02, 0.91, 0.02, 0.05]  0.045208     74  \n",
       "6  [0.01, 0.92, 0.03, 0.05]  0.042240     51  \n",
       "7  [0.04, 0.86, 0.03, 0.05]  0.064992     74  \n",
       "8  [0.18, 0.77, 0.01, 0.13]  0.135994     74  \n",
       "9  [0.02, 0.69, 0.12, 0.17]  0.153878     74  "
      ]
     },
     "execution_count": 1,
     "metadata": {},
     "output_type": "execute_result"
    },
    {
     "data": {
      "image/png": "[encoded data removed]",
      "text/plain": [
       "<Figure size 640x480 with 1 Axes>"
      ]
     },
     "metadata": {},
     "output_type": "display_data"
    }
   ],
   "source": [
    "from utils.gradient_walk_utils import query_locations\n",
    "import numpy as np\n",
    "\n",
    "# print(query_locations([0,1,0,0], 2).to_json(orient=\"records\", indent=4))\n",
    "\n",
    "al_df = query_locations([0,1,0,0], 50, search_intervals=np.ones(4)*.01, lt=0.01, at=20, max_steps=75)\n",
    "\n",
    "print(al_df.shape)\n",
    "al_df.hist(\"residual\")\n",
    "\n",
    "al_df.head(10)"
   ]
  },
  {
   "cell_type": "code",
   "execution_count": 2,
   "id": "bb7a6101",
   "metadata": {},
   "outputs": [
    {
     "data": {
      "text/plain": [
       "array([[<Axes: title={'center': 'steps'}>]], dtype=object)"
      ]
     },
     "execution_count": 2,
     "metadata": {},
     "output_type": "execute_result"
    },
    {
     "data": {
      "image/png": "[encoded data removed]",
      "text/plain": [
       "<Figure size 640x480 with 1 Axes>"
      ]
     },
     "metadata": {},
     "output_type": "display_data"
    }
   ],
   "source": [
    "\n",
    "al_df.hist(\"steps\")"
   ]
  },
  {
   "cell_type": "code",
   "execution_count": null,
   "id": "20fbab38",
   "metadata": {},
   "outputs": [],
   "source": []
  },
  {
   "cell_type": "code",
   "execution_count": 3,
   "id": "0cbba71d",
   "metadata": {},
   "outputs": [
    {
     "data": {
      "text/plain": [
       "array([[<Axes: title={'center': 'residual'}>]], dtype=object)"
      ]
     },
     "execution_count": 3,
     "metadata": {},
     "output_type": "execute_result"
    },
    {
     "data": {
      "image/png": "[encoded data removed]",
      "text/plain": [
       "<Figure size 640x480 with 1 Axes>"
      ]
     },
     "metadata": {},
     "output_type": "display_data"
    }
   ],
   "source": [
    "al_df.hist(\"residual\")"
   ]
  },
  {
   "cell_type": "code",
   "execution_count": 3,
   "id": "fb79c715",
   "metadata": {},
   "outputs": [
    {
     "data": {
      "text/plain": [
       "(tensor([0, 1, 0, 0]), tensor([0.0100, 0.9000, 0.0600, 0.0400]))"
      ]
     },
     "execution_count": 3,
     "metadata": {},
     "output_type": "execute_result"
    }
   ],
   "source": [
    "import torch \n",
    "\n",
    "torch.tensor([0,1,0,0]), torch.tensor([0.01, 0.9, 0.06, 0.04])"
   ]
  },
  {
   "cell_type": "code",
   "execution_count": 8,
   "id": "18937b17",
   "metadata": {},
   "outputs": [
    {
     "data": {
      "text/plain": [
       "(tensor(0.0038), tensor(0.0618), tensor(0.0525), tensor(0.0028))"
      ]
     },
     "execution_count": 8,
     "metadata": {},
     "output_type": "execute_result"
    }
   ],
   "source": [
    "des, act = torch.tensor([0,1,0,0]), torch.tensor([0.01, 0.9, 0.06, 0.04])\n",
    "\n",
    "criterion                  = torch.nn.MSELoss(reduction='none')\n",
    "# criterion                  = torch.nn.R(reduction='none')\n",
    "\n",
    "criterion(des, act).mean(), criterion(des, act).mean()**.5\\\n",
    ", torch.sqrt(criterion(des, act)).mean(), torch.sqrt(criterion(des, act)).mean()**2"
   ]
  },
  {
   "cell_type": "code",
   "execution_count": null,
   "id": "93a8e6ba",
   "metadata": {},
   "outputs": [],
   "source": []
  },
  {
   "cell_type": "code",
   "execution_count": 1,
   "id": "cda2ac27",
   "metadata": {},
   "outputs": [
    {
     "data": {
      "application/vnd.jupyter.widget-view+json": {
       "model_id": "6a96ffd7ecc84bf9b5eafd7030235351",
       "version_major": 2,
       "version_minor": 0
      },
      "text/plain": [
       "  0%|          | 0/20 [00:00<?, ?it/s]"
      ]
     },
     "metadata": {},
     "output_type": "display_data"
    },
    {
     "name": "stdout",
     "output_type": "stream",
     "text": [
      "0.020593633875250816 tensor([0., 1., 0., 0.]) tensor([0.0143, 0.7944, 0.1027, 0.1713])\n",
      "0.03087294101715088 tensor([0., 1., 0., 0.]) tensor([0.0575, 0.6989, 0.0462, 0.1654])\n",
      "[\n",
      "    {\n",
      "        \"x\":496.9694812742,\n",
      "        \"y\":-32.3100333726,\n",
      "        \"z\":288.8317620217,\n",
      "        \"xh\":186.2677034086,\n",
      "        \"yh\":-28.706297353,\n",
      "        \"zh\":192.5462531176,\n",
      "        \"f_xyz\":[\n",
      "            0.0099999998,\n",
      "            0.7900000215,\n",
      "            0.1000000015,\n",
      "            0.1700000018\n",
      "        ],\n",
      "        \"residual\":0.0205936339\n",
      "    },\n",
      "    {\n",
      "        \"x\":512.4688709227,\n",
      "        \"y\":120.5593437637,\n",
      "        \"z\":298.4493157327,\n",
      "        \"xh\":-163.6238066012,\n",
      "        \"yh\":-20.0221466572,\n",
      "        \"zh\":-159.9092369947,\n",
      "        \"f_xyz\":[\n",
      "            0.0599999987,\n",
      "            0.6999999881,\n",
      "            0.0500000007,\n",
      "            0.1700000018\n",
      "        ],\n",
      "        \"residual\":0.030872941\n",
      "    }\n",
      "]\n"
     ]
    }
   ],
   "source": [
    "import pandas as pd\n",
    "import numpy as np\n",
    "# vis_df = pd.read_csv(\"./utils/assets/test_data/locations_example.csv\")\n",
    "# rmb_df = pd.read_csv(\"./utils/assets/removed_buildings/removedBuilding.csv\")\n",
    "\n",
    "from utils.scripts.architectures.train_location_encoder import process_locations_visibility_data_frame\n",
    "from utils.scripts.architectures.train_location_encoder import rescale_from_norm_params\n",
    "from utils.gradient_walk_utils import initialize_trained_encoder\n",
    "\n",
    "from utils.gradient_walk_utils import gradient_walk\n",
    "\n",
    "import torch\n",
    "from tqdm.notebook import tqdm\n",
    "\n",
    "\n",
    "def query_locations(desired_distribution, num_locations=10, search_intervals=np.ones(4) * .2, lt=.2, seed=1):\n",
    "    '''\n",
    "    search_intervals:  \n",
    "    lt:                loss threshold\n",
    "    return num_locations with desired_distribution plus minus the search_intervals with a loss threshold smaller than lt'''\n",
    "    \n",
    "    np.random.seed(seed)\n",
    "    \n",
    "    vis_df, normp, _   = process_locations_visibility_data_frame(\"./utils/assets/test_data/locations_example.csv\")  \n",
    "    locs_array         = vis_df.values[:,:6].astype(float)\n",
    "    targets_array = (np.vstack((vis_df[\"f_xyz\"]))).tolist()\n",
    "    \n",
    "    num_ps      = [] #number performed_steps\n",
    "    mean_losses = [] # final mean losses for each pair input target\n",
    "    targets     = [] #(achieved, desired)\n",
    "    locations   = [] #(start, achieved)\n",
    "    spatial_differences = [] #(initial, final)\n",
    "    residuals   = []\n",
    "\n",
    "    n_trials  = num_locations\n",
    "    max_steps = 100\n",
    "\n",
    "    custom_target_d = desired_distribution #Distribution in percentages \n",
    "    desired_target  = (np.array(custom_target_d) * 2 - 1).tolist() #Distribution in tanh\n",
    "\n",
    "\n",
    "    for i in tqdm(range(n_trials * 10)):\n",
    "        \n",
    "        crt_id = np.random.randint(0, len(locs_array))\n",
    "        \n",
    "        #des_id = np.random.randint(0, len(targets_array))\n",
    "        #rd_ids += [crt_id, des_id]\n",
    "\n",
    "        actual_loc    = locs_array[crt_id]\n",
    "        actual_target = targets_array[crt_id]\n",
    "\n",
    "            \n",
    "        achieved_loc, perc_pred, tr, gn, prds, lstr, ps, fr = gradient_walk(actual_loc, desired_target, search_intervals, max_steps, lt, True)\n",
    "\n",
    "        if lstr[-1].mean() < lt:\n",
    "            locations.append((actual_loc, achieved_loc))\n",
    "\n",
    "            num_ps.append(ps)\n",
    "            mean_losses.append(lstr[-1].mean())\n",
    "\n",
    "            start    =  [(at+1)/2 for at in actual_target]\n",
    "            achieved =  perc_pred\n",
    "            desired  =  [(dt+1)/2 for dt in desired_target]\n",
    "            targets.append([np.round(t, 2) for t in [achieved, desired]])\n",
    "        \n",
    "        if len(locations) >= num_locations:\n",
    "            break\n",
    "         \n",
    "    #print(vis_df.columns.values)\n",
    "    #print(vis_df.iloc[0])\n",
    "    \n",
    "    #print(pd.DataFrame(data=locations[0], columns=vis_df.columns.values[:6]))\n",
    "    \n",
    "    ach_locs = [l[1] for l in locations]\n",
    "    al_df    = pd.DataFrame(data=ach_locs, columns=vis_df.columns.values[:6])#achived locations data frame\n",
    "    \n",
    "    al_df[\"f_xyz\"]     = [t[0] for t in targets]\n",
    "    al_df[\"residual\"]  = residuals\n",
    "    al_df[\"steps\"]     = num_ps\n",
    "    \n",
    "    return al_df\n",
    "\n",
    "print(query_locations([0,1,0,0], 2).to_json(orient=\"records\", indent=4))\n"
   ]
  },
  {
   "cell_type": "code",
   "execution_count": 9,
   "id": "3ccdd49c",
   "metadata": {},
   "outputs": [
    {
     "data": {
      "application/vnd.jupyter.widget-view+json": {
       "model_id": "4417dd3beccd4e5dae95f1b6420e1e24",
       "version_major": 2,
       "version_minor": 0
      },
      "text/plain": [
       "  0%|          | 0/20 [00:00<?, ?it/s]"
      ]
     },
     "metadata": {},
     "output_type": "display_data"
    },
    {
     "data": {
      "text/html": [
       "<div>\n",
       "<style scoped>\n",
       "    .dataframe tbody tr th:only-of-type {\n",
       "        vertical-align: middle;\n",
       "    }\n",
       "\n",
       "    .dataframe tbody tr th {\n",
       "        vertical-align: top;\n",
       "    }\n",
       "\n",
       "    .dataframe thead th {\n",
       "        text-align: right;\n",
       "    }\n",
       "</style>\n",
       "<table border=\"1\" class=\"dataframe\">\n",
       "  <thead>\n",
       "    <tr style=\"text-align: right;\">\n",
       "      <th></th>\n",
       "      <th>x</th>\n",
       "      <th>y</th>\n",
       "      <th>z</th>\n",
       "      <th>xh</th>\n",
       "      <th>yh</th>\n",
       "      <th>zh</th>\n",
       "      <th>f_xyz</th>\n",
       "    </tr>\n",
       "  </thead>\n",
       "  <tbody>\n",
       "    <tr>\n",
       "      <th>0</th>\n",
       "      <td>440.023803</td>\n",
       "      <td>43.190476</td>\n",
       "      <td>251.506078</td>\n",
       "      <td>-178.001675</td>\n",
       "      <td>-33.960242</td>\n",
       "      <td>-178.166576</td>\n",
       "      <td>[0.02, 0.34, 0.3, 0.3]</td>\n",
       "    </tr>\n",
       "    <tr>\n",
       "      <th>1</th>\n",
       "      <td>515.269286</td>\n",
       "      <td>89.596335</td>\n",
       "      <td>1436.671331</td>\n",
       "      <td>-11.123353</td>\n",
       "      <td>16.716114</td>\n",
       "      <td>-10.747158</td>\n",
       "      <td>[0.03, 0.08, 0.56, 0.14]</td>\n",
       "    </tr>\n",
       "  </tbody>\n",
       "</table>\n",
       "</div>"
      ],
      "text/plain": [
       "            x          y            z          xh         yh          zh  \\\n",
       "0  440.023803  43.190476   251.506078 -178.001675 -33.960242 -178.166576   \n",
       "1  515.269286  89.596335  1436.671331  -11.123353  16.716114  -10.747158   \n",
       "\n",
       "                      f_xyz  \n",
       "0    [0.02, 0.34, 0.3, 0.3]  \n",
       "1  [0.03, 0.08, 0.56, 0.14]  "
      ]
     },
     "execution_count": 9,
     "metadata": {},
     "output_type": "execute_result"
    }
   ],
   "source": [
    "query_locations([0,.5,.5,0], 2)"
   ]
  },
  {
   "cell_type": "code",
   "execution_count": 4,
   "id": "746a3de5",
   "metadata": {},
   "outputs": [
    {
     "name": "stdout",
     "output_type": "stream",
     "text": [
      "\u001b[1;33m[Open3D WARNING] GLFW Error: Cocoa: Failed to find service port for display\u001b[0;m\n",
      "\u001b[1;33m[Open3D WARNING] GLFW Error: Cocoa: Failed to find service port for display\u001b[0;m\n",
      "\u001b[1;33m[Open3D WARNING] GLFW Error: Cocoa: Failed to find service port for display\u001b[0;m\n"
     ]
    }
   ],
   "source": [
    "import open3d as o3d\n",
    "import seaborn as sns\n",
    "\n",
    "\n",
    "from utils.scripts.archive.scene_loading_2 import get_highlighed_o3d_locations\n",
    "from utils.scripts.interest_heuristic_0    import get_o3d_pcd_from_coordinates\n",
    "\n",
    "\n",
    "start_locs    = np.vstack([l[0] for l in locations])[:,:3]\n",
    "achieved_locs = np.vstack([l[1] for l in locations])[:,:3]\n",
    "filtered_ids  = np.where(np.array(mean_losses)<.5)[0]\n",
    "\n",
    "n_colors = 10\n",
    "err_pallete = sns.color_palette(\"coolwarm\", n_colors=n_colors)\n",
    "loss_colors = np.array([err_pallete[int(ml*5)] for ml in mean_losses])\n",
    "\n",
    "full_pcd      = get_o3d_pcd_from_coordinates(locs_array[:,:3], [0,1,0])\n",
    "start_pcd     = get_o3d_pcd_from_coordinates(start_locs, [0,1,0])\n",
    "adapted_pcd  = get_o3d_pcd_from_coordinates(achieved_locs, loss_colors)\n",
    "filtered_pcd = get_o3d_pcd_from_coordinates(achieved_locs[filtered_ids], loss_colors[filtered_ids])\n",
    "\n",
    "\n",
    "o3d.visualization.draw_geometries([start_pcd])\n",
    "o3d.visualization.draw_geometries([full_pcd, adapted_pcd])\n",
    "o3d.visualization.draw_geometries([full_pcd, filtered_pcd])\n"
   ]
  },
  {
   "cell_type": "markdown",
   "id": "af31e4fd",
   "metadata": {},
   "source": [
    "# Algorithm for desired target search:\n",
    "\n",
    "- check closest 100 points in training set according to KL div\n",
    "- select randomly on of the 100 points as _adapted desired target_.\n",
    "\n",
    "\n",
    "- Intialize points."
   ]
  },
  {
   "cell_type": "code",
   "execution_count": 3,
   "id": "3cc6c02c",
   "metadata": {},
   "outputs": [
    {
     "data": {
      "image/png": "[encoded data removed]",
      "text/plain": [
       "<Figure size 640x480 with 2 Axes>"
      ]
     },
     "metadata": {},
     "output_type": "display_data"
    }
   ],
   "source": [
    "import matplotlib.pyplot as plt\n",
    "\n",
    "fig, ax = plt.subplots(1, 2)\n",
    "\n",
    "ax[0].hist(num_ps); ax[0].set_title(\"Num opimization steps\", fontsize=9)\n",
    "ax[1].hist(mean_losses); ax[1].set_title(\"Final losses\", fontsize=9)\n",
    "\n",
    "# sum(num_ps) / 360\n",
    "plt.suptitle(f\"Statistics on optimizing for maxium {max_steps} steps\" \\\n",
    "             f\"with a loss threshold {lt} \\n\"\n",
    "             f\"~{sum(num_ps) // 650}s,  MSE %.3f and RMSE %.3f\\n\" \\\n",
    "             f\"{'Searching for {custom_target_d}'if custom_target_d is None else ''}\"\n",
    "             %tmlcp(lt), fontsize=10)\n",
    "\n",
    "\n",
    "# ax[0].hist(num_ps)\n",
    "\n",
    "# plt.grid(True)\n",
    "fig.savefig(f'{lt}_{max_steps}_{n_trials}_{custom_target_d}.png')\n",
    "plt.show()"
   ]
  },
  {
   "cell_type": "code",
   "execution_count": 35,
   "id": "45f861ed",
   "metadata": {},
   "outputs": [
    {
     "data": {
      "image/png": "[encoded data removed]",
      "text/plain": [
       "<Figure size 640x480 with 2 Axes>"
      ]
     },
     "metadata": {},
     "output_type": "display_data"
    }
   ],
   "source": [
    "import matplotlib.pyplot as plt\n",
    "\n",
    "fig, ax = plt.subplots(1, 2)\n",
    "\n",
    "ax[0].hist(num_ps); ax[0].set_title(\"Num opimization steps\", fontsize=9)\n",
    "ax[1].hist(mean_losses); ax[1].set_title(\"Final losses\", fontsize=9)\n",
    "\n",
    "# sum(num_ps) / 360\n",
    "plt.suptitle(f\"Statistics on optimizing for maxium {max_steps} steps\" \\\n",
    "             f\"with a loss threshold {lt} \\n\"\n",
    "             f\"~{sum(num_ps) // 360}s,  MSE %.3f and RMSE %.3f\\n\" \\\n",
    "             f\"{'Searching for {custom_target_d}'if custom_target_d is None else ''}\"\n",
    "             %tmlcp(lt), fontsize=10)\n",
    "\n",
    "\n",
    "# ax[0].hist(num_ps)\n",
    "\n",
    "# plt.grid(True)\n",
    "fig.savefig(f'{lt}_{max_steps}_{n_trials}.png')\n",
    "plt.show()"
   ]
  },
  {
   "cell_type": "code",
   "execution_count": 89,
   "id": "30c2b199",
   "metadata": {},
   "outputs": [
    {
     "name": "stdout",
     "output_type": "stream",
     "text": [
      "0.7752796233941897\n",
      "0.0\n"
     ]
    }
   ],
   "source": [
    "import numpy as np\n",
    "\n",
    "# https://datascience.stackexchange.com/a/9264\n",
    "# https://en.wikipedia.org/wiki/Kullback–Leibler_divergence#Definition\n",
    "\n",
    "def KL(a, b):\n",
    "    eps = 1e-8\n",
    "    p = np.array(a) + eps\n",
    "    q = np.array(b) + eps\n",
    "#     p=p/2+1\n",
    "#     q=q/2+1\n",
    "    #print(a,b, np.log(a / b))\n",
    "\n",
    "    return np.sum(np.where(p != eps, p * np.log(p / q), 0), axis=0)\n",
    "\n",
    "\n",
    "values1 = [1.346112,1.337432,1.246655]\n",
    "values2 = [1.033836,1.082015,1.117323]\n",
    "\n",
    "print(KL(values1, values2))\n",
    "print(KL(custom_target_d, custom_target_d))\n"
   ]
  },
  {
   "cell_type": "code",
   "execution_count": 100,
   "id": "c996c569",
   "metadata": {
    "scrolled": true
   },
   "outputs": [
    {
     "data": {
      "text/plain": [
       "array([-0.49973106, -0.5       , -0.17945957, -0.49854088])"
      ]
     },
     "execution_count": 100,
     "metadata": {},
     "output_type": "execute_result"
    }
   ],
   "source": [
    "(np.array(targets_array[16647])+1)"
   ]
  },
  {
   "cell_type": "code",
   "execution_count": 71,
   "id": "d79f32b5",
   "metadata": {},
   "outputs": [
    {
     "data": {
      "text/plain": [
       "array([[-0.98396111, -0.98882866, -0.47459793,  0.43447495],\n",
       "       [-0.91848183, -0.78049278, -0.81696129,  0.4926033 ],\n",
       "       [-0.98211098, -0.98875046, -0.45773888, -0.10448074],\n",
       "       ...,\n",
       "       [-0.34233665, -0.99995995, -0.84386063,  0.15462303],\n",
       "       [ 1.        , -1.        , -1.        , -1.        ],\n",
       "       [-0.11776161, -0.9999485 , -0.84516335, -0.06767082]])"
      ]
     },
     "execution_count": 71,
     "metadata": {},
     "output_type": "execute_result"
    }
   ],
   "source": [
    "np.array(targets_array)"
   ]
  },
  {
   "cell_type": "markdown",
   "id": "4dac56ec",
   "metadata": {},
   "source": [
    "# Cleaner Development Drafts"
   ]
  },
  {
   "cell_type": "code",
   "execution_count": 138,
   "id": "67bc4f6a",
   "metadata": {},
   "outputs": [
    {
     "data": {
      "text/plain": [
       "(array([0.1506536 , 0.5338762 , 0.18415096, 0.14912218], dtype=float32),\n",
       " [0, 0.4, 0.4, 0.1],\n",
       " array([0.15, 0.15, 0.15, 0.15]),\n",
       " array([ True,  True, False,  True]),\n",
       " array([0.        , 0.53387618, 0.4       , 0.14912218]))"
      ]
     },
     "execution_count": 138,
     "metadata": {},
     "output_type": "execute_result"
    }
   ],
   "source": [
    "prediction = achieved; desired_target = desired; intervals = np.ones(4) * .15#.1#.05\n",
    "\n",
    "def interval_desired_target_loss(prediction, desired_target, intervals):\n",
    "    '''Compute target if prediction can be within interval of desired_target:\n",
    "    interval_target = interval_desired_target_loss(prediction, desired_target, intervals)\n",
    "    '''\n",
    "\n",
    "    pred_in_interval = np.logical_and(prediction < desired_target + intervals, \n",
    "                                    prediction > desired_target - intervals)\n",
    "\n",
    "    interval_target = torch.tensor(np.where(pred_in_interval, prediction, desired_target))\n",
    "    \n",
    "    return interval_target\n",
    "\n",
    "prediction, desired_target, intervals, pred_in_interval\\\n",
    ", interval_desired_target_loss(prediction, desired_target, intervals)# interval_target"
   ]
  },
  {
   "cell_type": "markdown",
   "id": "e1f0391c",
   "metadata": {},
   "source": [
    "# Working Plotting path on gradient"
   ]
  },
  {
   "cell_type": "markdown",
   "id": "33a511ac",
   "metadata": {},
   "source": [
    "# Further Away locations - not working as well"
   ]
  },
  {
   "cell_type": "code",
   "execution_count": 8,
   "id": "1fbb98f3",
   "metadata": {},
   "outputs": [],
   "source": [
    "import numpy as np\n",
    "from tqdm.notebook import tqdm\n",
    "#Buildings - location_single_-27_75_56_with_predictions\n",
    "loc_B    = ([-28.18, 75.22, 56.60, -166.60, -54.17, -169.07])\n",
    "loc_B    = ([-29.18, 74.22, 55.60, -166.60, -54.17, -169.07])\n",
    "target_B = ([0.8818, 2.282e-05, 0.0364, 0.0305])\n",
    "\n",
    "#Trees - location_single_161_60_96_with_predictions\n",
    "loc_T    = ([162.98, 59.27, 96.73, 178.64, -59.61, 178.82])\n",
    "target_T = ([0.7534, 5.9236e-07, 0.1012, 0.1453])\n",
    "\n",
    "#Water - location_single_353_102_188_with_predictions\n",
    "loc_W    = ([354.59, 103.53, 188.29, -167.69, -44.74, -171.26])\n",
    "target_W = ([0.1380, 0.4763, 0.1468, 0.2387])\n",
    "\n",
    "actual_loc, actual_target, desired_loc, desired_target = loc_B, target_B, loc_T, target_T\n",
    "# actual_loc, actual_target, desired_loc, desired_target = loc_B, target_B, loc_W, target_W\n",
    "# actual_loc, desired_target = (loc_A), target_T"
   ]
  },
  {
   "cell_type": "code",
   "execution_count": 9,
   "id": "031e2049",
   "metadata": {},
   "outputs": [],
   "source": [
    "actual_loc, actual_target, desired_loc, desired_target = loc_B, target_B, loc_T, target_T\n",
    "# actual_loc, actual_target, desired_loc, desired_target = loc_B, target_B, loc_W, target_W\n",
    "\n",
    "actual_loc, perc_pred, trajectory, gradients_norm, predictions, loss_trajectory, performed_steps = \\\n",
    "gradient_walk(actual_loc, desired_target, n_steps=100, debugging_return=True)"
   ]
  },
  {
   "cell_type": "code",
   "execution_count": 19,
   "id": "e2bb3446",
   "metadata": {
    "scrolled": true
   },
   "outputs": [
    {
     "name": "stdout",
     "output_type": "stream",
     "text": [
      "\u001b[1;33m[Open3D WARNING] GLFW Error: Cocoa: Failed to find service port for display\u001b[0;m\n"
     ]
    }
   ],
   "source": [
    "import open3d as o3d\n",
    "import seaborn as sns\n",
    "\n",
    "\n",
    "from utils.scripts.archive.scene_loading_2 import get_highlighed_o3d_locations\n",
    "from utils.scripts.interest_heuristic_0    import get_o3d_pcd_from_coordinates\n",
    "\n",
    "# sns.color_palette(\"coolwarm\", as_cmap=True)\n",
    "n_colors = 10\n",
    "err_pallete = sns.color_palette(\"coolwarm\", n_colors=n_colors)\n",
    "\n",
    "initial_distance = np.linalg.norm(np.array(actual_loc[:3]) - np.array(desired_loc[:3]))\n",
    "\n",
    "dist_to_color = lambda x : err_pallete[\\\n",
    "               int(9 * min(1, np.linalg.norm(np.array(actual_loc[:3]) - np.array(x[:3])) / initial_distance))]\n",
    "\n",
    "# sns.palplot([dist_to_color(loc_A)])\n",
    "# sns.palplot([dist_to_color(loc_B)])\n",
    "\n",
    "\n",
    "trajectory_color = [dist_to_color(p) for p in trajectory]\n",
    "np_trajectory    = np.vstack(trajectory)[:,:3]\n",
    "trajectory_pcd  = get_o3d_pcd_from_coordinates(np_trajectory, trajectory_color)\n",
    "\n",
    "\n",
    "start_pcd  = get_highlighed_o3d_locations(actual_loc[:3], color=dist_to_color(actual_loc[:3]))[0]\n",
    "target_pcd = get_highlighed_o3d_locations(desired_loc[:3], color=dist_to_color(desired_loc[:3]))[0]\n",
    "\n",
    "\n",
    "\n",
    "o3d.visualization.draw_geometries([start_pcd, trajectory_pcd, target_pcd])\n"
   ]
  },
  {
   "cell_type": "code",
   "execution_count": 3,
   "id": "cd524cb8",
   "metadata": {
    "scrolled": true
   },
   "outputs": [
    {
     "data": {
      "text/plain": [
       "[(0.000106757376, 1.028698, 0.8083174, 1.1757668),\n",
       " (0.017741634, 0.81752163, 0.70872897, 1.1821309),\n",
       " (0.23263036, 0.6847286, 0.7062645, 1.2229704),\n",
       " (0.00034953663, 1.1236348, 0.87607324, 1.2566737),\n",
       " (0.094771646, 0.8248713, 0.7547935, 1.2746598),\n",
       " (0.06875753, 0.85176814, 0.7610365, 1.2718524),\n",
       " (0.26514137, 0.7449025, 0.756238, 1.2700056),\n",
       " (0.07685365, 0.82985616, 0.7531704, 1.2761153),\n",
       " (0.07086684, 0.7756297, 0.7276691, 1.2885503),\n",
       " (0.021111459, 0.77068216, 0.7150538, 1.2977394),\n",
       " (0.019525466, 0.82835305, 0.7425864, 1.2941139),\n",
       " (0.016255474, 0.82689536, 0.7399969, 1.2899414),\n",
       " (0.013668431, 0.8072549, 0.72933733, 1.2891712),\n",
       " (0.04634001, 0.76631606, 0.7167856, 1.2881703),\n",
       " (0.103757806, 0.78025246, 0.73740166, 1.2853439),\n",
       " (0.08914316, 0.756585, 0.7224027, 1.2872977),\n",
       " (0.05044953, 0.72652876, 0.69810736, 1.2889224),\n",
       " (0.045880627, 0.7412083, 0.703462, 1.2855506),\n",
       " (0.044489954, 0.75443107, 0.70930797, 1.2838798),\n",
       " (0.07463785, 0.7382038, 0.709203, 1.2857666),\n",
       " (0.078072995, 0.72612226, 0.7052956, 1.290865),\n",
       " (0.091370426, 0.7042791, 0.69837093, 1.2935549),\n",
       " (0.12064952, 0.69307625, 0.70006514, 1.2934587),\n",
       " (0.12759416, 0.683666, 0.697267, 1.294142),\n",
       " (0.10646595, 0.68136287, 0.6908418, 1.2941756),\n",
       " (0.067748524, 0.7058987, 0.6931053, 1.2928752),\n",
       " (0.041632976, 0.7105453, 0.68852377, 1.2913716),\n",
       " (0.024450509, 0.7189972, 0.6885201, 1.2916353),\n",
       " (0.029864352, 0.71515435, 0.68777347, 1.2909209),\n",
       " (0.046683643, 0.7041936, 0.68646896, 1.2908049),\n",
       " (0.09865783, 0.66917825, 0.6819705, 1.2908674),\n",
       " (0.15875408, 0.64124763, 0.6829872, 1.2906995),\n",
       " (0.16804218, 0.62495816, 0.67743975, 1.2918005),\n",
       " (0.15846756, 0.60185826, 0.6639419, 1.2935836),\n",
       " (0.1391858, 0.6087992, 0.6620225, 1.2913058),\n",
       " (0.067338504, 0.64938074, 0.663832, 1.2892281),\n",
       " (0.03868108, 0.68084705, 0.67231214, 1.2888734),\n",
       " (0.03758602, 0.6849997, 0.6741478, 1.2890058),\n",
       " (0.08710331, 0.6352699, 0.6615089, 1.2883925),\n",
       " (0.15378489, 0.6196201, 0.66980875, 1.2862101),\n",
       " (0.16040769, 0.61495346, 0.66898036, 1.2856069),\n",
       " (0.114033446, 0.61824614, 0.658889, 1.2850302),\n",
       " (0.050400518, 0.65766716, 0.6630225, 1.2863553),\n",
       " (0.039954446, 0.6574232, 0.6606686, 1.2878735),\n",
       " (0.054816283, 0.62904006, 0.65056527, 1.2893647),\n",
       " (0.078769036, 0.6034314, 0.6443161, 1.2916323),\n",
       " (0.10029327, 0.58624166, 0.6418034, 1.2944369),\n",
       " (0.09186223, 0.59257, 0.6431938, 1.2957729),\n",
       " (0.06807235, 0.6143703, 0.64835757, 1.2966174),\n",
       " (0.06201763, 0.6146011, 0.6471131, 1.2972324),\n",
       " (0.07565968, 0.5878562, 0.637002, 1.2966359),\n",
       " (0.07700824, 0.58348876, 0.6348388, 1.2953696),\n",
       " (0.060999922, 0.60936695, 0.6433523, 1.2936755),\n",
       " (0.057986286, 0.61729056, 0.6465528, 1.2936438),\n",
       " (0.071944594, 0.6011748, 0.64223874, 1.2946607),\n",
       " (0.09059341, 0.57773143, 0.6355381, 1.2960962),\n",
       " (0.082353584, 0.57826483, 0.63404787, 1.2973083),\n",
       " (0.061476197, 0.5976865, 0.6386854, 1.2978923),\n",
       " (0.05452793, 0.60439116, 0.64028823, 1.2978429),\n",
       " (0.060526144, 0.5941597, 0.636552, 1.2973624),\n",
       " (0.07939572, 0.5810128, 0.63450885, 1.296614),\n",
       " (0.080202825, 0.5824852, 0.6352275, 1.2957368),\n",
       " (0.06667668, 0.5893687, 0.6352334, 1.2955195),\n",
       " (0.060401477, 0.5927374, 0.63553244, 1.2962536),\n",
       " (0.07144095, 0.58547556, 0.63482535, 1.2969095),\n",
       " (0.08411979, 0.5782187, 0.63445926, 1.2972798),\n",
       " (0.08365788, 0.5783877, 0.63448906, 1.2975231),\n",
       " (0.07259814, 0.5824852, 0.63382494, 1.2977312),\n",
       " (0.061413284, 0.5871034, 0.63331896, 1.2976557),\n",
       " (0.05839054, 0.5891901, 0.633471, 1.2971132),\n",
       " (0.066024736, 0.5860785, 0.63359356, 1.2961925),\n",
       " (0.07913333, 0.5787698, 0.6331169, 1.2957946),\n",
       " (0.08077773, 0.5768632, 0.632712, 1.2963437),\n",
       " (0.070567645, 0.58126974, 0.6326364, 1.2974387),\n",
       " (0.06332426, 0.5854097, 0.6330445, 1.2980343),\n",
       " (0.0671985, 0.58302844, 0.63278484, 1.2978839),\n",
       " (0.07665304, 0.57773924, 0.63235545, 1.2972904),\n",
       " (0.07655235, 0.57733744, 0.6320156, 1.2968351),\n",
       " (0.066904694, 0.58291644, 0.63234204, 1.2966306),\n",
       " (0.06215456, 0.5859272, 0.63268423, 1.2967279),\n",
       " (0.06761904, 0.58207124, 0.63218546, 1.2969804),\n",
       " (0.07481508, 0.5777497, 0.6318772, 1.2971944),\n",
       " (0.07431813, 0.577854, 0.6318606, 1.2974164),\n",
       " (0.06950706, 0.58092606, 0.6322219, 1.2975284),\n",
       " (0.06852209, 0.5815431, 0.6322454, 1.2973735),\n",
       " (0.0717884, 0.5789022, 0.6316932, 1.2971799),\n",
       " (0.072709054, 0.57850564, 0.6316782, 1.2969925),\n",
       " (0.06888478, 0.58093387, 0.6319269, 1.2969551),\n",
       " (0.06603831, 0.582605, 0.6320586, 1.2969861),\n",
       " (0.06849697, 0.580549, 0.6316924, 1.2971748),\n",
       " (0.0725068, 0.57828903, 0.6315857, 1.2972581),\n",
       " (0.0731599, 0.5782981, 0.6317656, 1.2973062),\n",
       " (0.07061156, 0.5796738, 0.6318238, 1.2973357),\n",
       " (0.068884484, 0.58034533, 0.6317069, 1.2972524),\n",
       " (0.06996824, 0.5795782, 0.63158405, 1.2972116),\n",
       " (0.070807114, 0.5794418, 0.6317002, 1.2971101),\n",
       " (0.069459125, 0.5801376, 0.6316997, 1.2970645),\n",
       " (0.06852808, 0.5803955, 0.63163555, 1.2972231),\n",
       " (0.069632836, 0.57971454, 0.63158363, 1.2972726),\n",
       " (0.071525075, 0.5788772, 0.63162625, 1.2972256)]"
      ]
     },
     "execution_count": 3,
     "metadata": {},
     "output_type": "execute_result"
    }
   ],
   "source": [
    "[(l.min(), np.median(l), l.mean(), l.max()) for l in loss_trajectory]"
   ]
  },
  {
   "cell_type": "code",
   "execution_count": 4,
   "id": "ff4477db",
   "metadata": {
    "scrolled": false
   },
   "outputs": [
    {
     "data": {
      "text/plain": [
       "[<matplotlib.lines.Line2D at 0x17646a8e0>]"
      ]
     },
     "execution_count": 4,
     "metadata": {},
     "output_type": "execute_result"
    },
    {
     "data": {
      "image/png": "[encoded data removed]",
      "text/plain": [
       "<Figure size 640x480 with 1 Axes>"
      ]
     },
     "metadata": {},
     "output_type": "display_data"
    }
   ],
   "source": [
    "import matplotlib.pyplot as plt\n",
    "\n",
    "# plt.plot(gradients_norm)\n",
    "plt.plot([g[0] for g in gradients_norm])\n",
    "# plt.plot([g[1] for g in gradients_norm])\n",
    "\n",
    "\n",
    "# plt.plot([p[1] for p in predictions])"
   ]
  },
  {
   "cell_type": "code",
   "execution_count": 9,
   "id": "9e51505c",
   "metadata": {},
   "outputs": [
    {
     "name": "stdout",
     "output_type": "stream",
     "text": [
      "Before optimization:\n",
      "tensor([[-0.3713,  0.0227, -0.3024]], requires_grad=True) tensor([[-0.5231, -0.2513, -0.4255]], grad_fn=<SliceBackward0>)\n",
      "\n",
      "Obtained Gradients:\n",
      "tensor([[-8.7415, -8.6844, -6.0632]]) tensor([[5.3432, 0.7635, 2.7487]])\n",
      "\n",
      "After optimization:\n",
      "tensor([[-0.3613,  0.0327, -0.2924]], requires_grad=True) tensor([[-0.5331, -0.2613, -0.4355]], grad_fn=<AsStridedBackward0>)\n"
     ]
    }
   ],
   "source": [
    "\n",
    "#print(\"Before optimization:\")\n",
    "#print(input_pos, input_dir)\n",
    "\n",
    "# optimizer  = torch.optim.Adam(params=[input_pos, input_dir], lr=lrate)\n",
    "# optimizer.step()\n",
    "#print(\"\\nAfter optimization:\")\n",
    "#print(input_pos, input_dir)\n",
    "\n",
    "#print(\"\\nObtained Gradients:\")\n",
    "#print(input_pos.grad, input_dir.grad)"
   ]
  },
  {
   "cell_type": "markdown",
   "id": "92ae2c06",
   "metadata": {},
   "source": [
    "# Working _Manual_ Gradient Walk"
   ]
  },
  {
   "cell_type": "code",
   "execution_count": 10,
   "id": "df5c9edd",
   "metadata": {
    "scrolled": true
   },
   "outputs": [
    {
     "data": {
      "application/vnd.jupyter.widget-view+json": {
       "model_id": "280cfaa0a54c42a3a621539690c5140a",
       "version_major": 2,
       "version_minor": 0
      },
      "text/plain": [
       "  0%|          | 0/20 [00:00<?, ?it/s]"
      ]
     },
     "metadata": {},
     "output_type": "display_data"
    },
    {
     "ename": "NameError",
     "evalue": "name 'get_gradient_from_location_and_output' is not defined",
     "output_type": "error",
     "traceback": [
      "\u001b[0;31m---------------------------------------------------------------------------\u001b[0m",
      "\u001b[0;31mNameError\u001b[0m                                 Traceback (most recent call last)",
      "Cell \u001b[0;32mIn[10], line 18\u001b[0m\n\u001b[1;32m     15\u001b[0m gr_step \u001b[38;5;241m=\u001b[39m \u001b[38;5;241m.5\u001b[39m\n\u001b[1;32m     17\u001b[0m \u001b[38;5;28;01mfor\u001b[39;00m i \u001b[38;5;129;01min\u001b[39;00m parsing_bar:\n\u001b[0;32m---> 18\u001b[0m     pos_grad, dir_grad, prediction \u001b[38;5;241m=\u001b[39m \u001b[43mget_gradient_from_location_and_output\u001b[49m(actual_loc, desired_target)\n\u001b[1;32m     20\u001b[0m     pos_grad_norm                  \u001b[38;5;241m=\u001b[39m np\u001b[38;5;241m.\u001b[39mlinalg\u001b[38;5;241m.\u001b[39mnorm(pos_grad)\n\u001b[1;32m     21\u001b[0m     gradients_norm\u001b[38;5;241m.\u001b[39mappend(pos_grad_norm)\n",
      "\u001b[0;31mNameError\u001b[0m: name 'get_gradient_from_location_and_output' is not defined"
     ]
    }
   ],
   "source": [
    "import matplotlib.pyplot as plt\n",
    "\n",
    "\n",
    "actual_loc, actual_target, desired_loc, desired_target = loc_B, target_B, loc_W, target_W\n",
    "# actual_loc, actual_target, desired_loc, desired_target = loc_B, target_B, loc_T, target_T\n",
    "# actual_loc, actual_target, desired_loc, desired_target = loc_T, target_T, loc_B, target_B\n",
    "\n",
    "trajectory     = [actual_loc]\n",
    "gradients_norm = []\n",
    "predictions    = []\n",
    "\n",
    "n_steps        = 20\n",
    "parsing_bar    = tqdm(range(n_steps))\n",
    "\n",
    "gr_step = .5\n",
    "\n",
    "for i in parsing_bar:\n",
    "    pos_grad, dir_grad, prediction = get_gradient_from_location_and_output(actual_loc, desired_target)\n",
    "    \n",
    "    pos_grad_norm                  = np.linalg.norm(pos_grad)\n",
    "    gradients_norm.append(pos_grad_norm)\n",
    "    \n",
    "    #actual_loc = actual_loc + pos_grad\n",
    "    actual_loc = np.hstack([actual_loc[:3] - gr_step * pos_grad[0].numpy(), actual_loc[3:]])\n",
    "    trajectory.append(actual_loc)\n",
    "    \n",
    "    perc_pred  = (prediction[0] + 1) / 2\n",
    "    predictions.append(perc_pred)\n",
    "    \n",
    "    #parsing_bar.set_description(f\"Water prediction {predictions[-1][1]:.4f}\")\n",
    "    parsing_bar.set_description(f\"Gradient norm {pos_grad_norm:.4f}\")\n",
    "\n",
    "#     if pos_grad_norm < 1.184:\n",
    "#         break\n",
    "loc_B, actual_loc, desired_loc#, loc_W"
   ]
  },
  {
   "cell_type": "code",
   "execution_count": 14,
   "id": "612f11d4",
   "metadata": {
    "scrolled": false
   },
   "outputs": [
    {
     "data": {
      "text/plain": [
       "[<matplotlib.lines.Line2D at 0x32af2b6d0>]"
      ]
     },
     "execution_count": 14,
     "metadata": {},
     "output_type": "execute_result"
    },
    {
     "data": {
      "image/png": "[encoded data removed]",
      "text/plain": [
       "<Figure size 640x480 with 1 Axes>"
      ]
     },
     "metadata": {},
     "output_type": "display_data"
    }
   ],
   "source": [
    "plt.plot(gradients_norm)\n",
    "\n",
    "\n",
    "# plt.plot([p[1] for p in predictions])"
   ]
  },
  {
   "cell_type": "code",
   "execution_count": 3,
   "id": "298c5710",
   "metadata": {
    "scrolled": false
   },
   "outputs": [
    {
     "data": {
      "text/plain": [
       "[<matplotlib.lines.Line2D at 0x30d663d30>]"
      ]
     },
     "execution_count": 3,
     "metadata": {},
     "output_type": "execute_result"
    },
    {
     "data": {
      "image/png": "[encoded data removed]",
      "text/plain": [
       "<Figure size 640x480 with 1 Axes>"
      ]
     },
     "metadata": {},
     "output_type": "display_data"
    }
   ],
   "source": [
    "plt.plot(gradients_norm)\n",
    "\n",
    "\n",
    "# plt.plot([p[1] for p in predictions])"
   ]
  },
  {
   "cell_type": "markdown",
   "id": "f8c73cc5",
   "metadata": {},
   "source": [
    "# Working Plotting path on gradient"
   ]
  },
  {
   "cell_type": "code",
   "execution_count": 15,
   "id": "77c0d8b2",
   "metadata": {},
   "outputs": [
    {
     "name": "stdout",
     "output_type": "stream",
     "text": [
      "\u001b[1;33m[Open3D WARNING] GLFW Error: Cocoa: Failed to find service port for display\u001b[0;m\n",
      "\u001b[1;33m[Open3D WARNING] GLFW Error: Cocoa: Failed to find service port for display\u001b[0;m\n"
     ]
    }
   ],
   "source": [
    "import open3d as o3d\n",
    "import seaborn as sns\n",
    "\n",
    "\n",
    "from utils.scripts.archive.scene_loading_2 import get_highlighed_o3d_locations\n",
    "from utils.scripts.interest_heuristic_0    import get_o3d_pcd_from_coordinates\n",
    "\n",
    "# sns.color_palette(\"coolwarm\", as_cmap=True)\n",
    "n_colors = 10\n",
    "err_pallete = sns.color_palette(\"coolwarm\", n_colors=n_colors)\n",
    "\n",
    "initial_distance = np.linalg.norm(np.array(actual_loc[:3]) - np.array(desired_loc[:3]))\n",
    "\n",
    "dist_to_color = lambda x : err_pallete[\\\n",
    "               int(9 * min(1, np.linalg.norm(np.array(actual_loc[:3]) - np.array(x[:3])) / initial_distance))]\n",
    "\n",
    "# sns.palplot([dist_to_color(loc_A)])\n",
    "# sns.palplot([dist_to_color(loc_B)])\n",
    "\n",
    "\n",
    "trajectory_color = [dist_to_color(p) for p in trajectory]\n",
    "trajectory_pcd = get_o3d_pcd_from_coordinates(np.vstack(trajectory)[:,:3], trajectory_color)\n",
    "\n",
    "\n",
    "start_pcd  = get_highlighed_o3d_locations(actual_loc[:3], color=dist_to_color(actual_loc[:3]))[0]\n",
    "target_pcd = get_highlighed_o3d_locations(desired_loc[:3], color=dist_to_color(desired_loc[:3]))[0]\n",
    "\n",
    "\n",
    "\n",
    "o3d.visualization.draw_geometries([start_pcd, trajectory_pcd, target_pcd])\n"
   ]
  },
  {
   "cell_type": "code",
   "execution_count": 6,
   "id": "ddd62923",
   "metadata": {},
   "outputs": [
    {
     "data": {
      "text/plain": [
       "[<matplotlib.lines.Line2D at 0x165d9a7c0>]"
      ]
     },
     "execution_count": 6,
     "metadata": {},
     "output_type": "execute_result"
    },
    {
     "data": {
      "image/png": "[encoded data removed]",
      "text/plain": [
       "<Figure size 640x480 with 1 Axes>"
      ]
     },
     "metadata": {},
     "output_type": "display_data"
    }
   ],
   "source": [
    "\n",
    "\n",
    "# plt.plot(gradients_norm)\n",
    "\n",
    "plt.plot([p[1] for p in predictions])"
   ]
  },
  {
   "cell_type": "markdown",
   "id": "0bf1b1ce",
   "metadata": {},
   "source": [
    "# Motivation, why gradient should be a thing!\n",
    "\n",
    "- In which papers is this hinted?\n",
    "- Why not just jumping from one place to the next?\n",
    "\n",
    "\n",
    "- What constitutes a good path?\n",
    "    - the shortest path? (if points A and B are well defined)\n",
    "    - Along the gradient? - Would this not get stuck in a local minima? - case in which A is defined, but destination B is hypothetical. \n",
    "    - maximizing availability to data (aside of some categories)?\n",
    "\n",
    "\n",
    "    \n",
    "Smootheness of camera movement?"
   ]
  },
  {
   "cell_type": "code",
   "execution_count": 1,
   "id": "3c430147",
   "metadata": {},
   "outputs": [
    {
     "data": {
      "text/plain": [
       "([349.039, 99.0, 199.612, -169.108, -53.737, -171.181], [0.15, 0.85, 0, 0])"
      ]
     },
     "execution_count": 1,
     "metadata": {},
     "output_type": "execute_result"
    }
   ],
   "source": [
    "import torch\n",
    "\n",
    "# Taken from location_single_350_100_199_with_predictions.csv\n",
    "mock_location = [349.039, 99.0, 199.612, -169.108, -53.737, -171.181]\n",
    "# predicted - [0.15886150300502777, 0.41812682151794434, 0.12527874112129211, 0.2977328896522522]]\n",
    "\n",
    "# target_location (+1 on y) - 349.039, 100.0, 199.612, -169.108, -53.737, -171.181\n",
    "# mock_target   = [0.15875327587127686, 0.42250925302505493, 0.11981145292520523, 0.2989259660243988]\n",
    "mock_target   = [0.15, 0.85, 0, 0]\n",
    "\n",
    "far_away_target  = [0.15, 0.85, 0, 0]\n",
    "# far_away_target  = torch.tensor([2*mt -1 for mt in far_away_target])\n",
    "\n",
    "#(+1 on y)\n",
    "close_target     = [0.15875327587127686, 0.42250925302505493, 0.11981145292520523, 0.2989259660243988]\n",
    "# close_target     = torch.tensor([2*mt -1 for mt in close_target])\n",
    "\n",
    "mock_target     = [2*mt -1 for mt in mock_target]\n",
    "\n",
    "mock_target = close_target\n",
    "mock_target = far_away_target\n",
    "\n",
    "\n",
    "\n",
    "mock_location, mock_target"
   ]
  },
  {
   "cell_type": "code",
   "execution_count": 8,
   "id": "bb19a5fa",
   "metadata": {},
   "outputs": [
    {
     "data": {
      "text/plain": [
       "[<matplotlib.lines.Line2D at 0x165e6e2b0>]"
      ]
     },
     "execution_count": 8,
     "metadata": {},
     "output_type": "execute_result"
    },
    {
     "data": {
      "image/png": "[encoded data removed]",
      "text/plain": [
       "<Figure size 640x480 with 1 Axes>"
      ]
     },
     "metadata": {},
     "output_type": "display_data"
    }
   ],
   "source": [
    "plt.plot(gradients_norm)"
   ]
  },
  {
   "cell_type": "code",
   "execution_count": 3,
   "id": "68f3ce16",
   "metadata": {},
   "outputs": [
    {
     "data": {
      "text/plain": [
       "[<matplotlib.lines.Line2D at 0x16a339430>]"
      ]
     },
     "execution_count": 3,
     "metadata": {},
     "output_type": "execute_result"
    },
    {
     "data": {
      "image/png": "[encoded data removed]",
      "text/plain": [
       "<Figure size 640x480 with 1 Axes>"
      ]
     },
     "metadata": {},
     "output_type": "display_data"
    }
   ],
   "source": [
    "import matplotlib.pyplot as plt\n",
    "\n",
    "# plt.plot(gradients_norm)\n",
    "# Water predictions\n",
    "plt.plot([p[1] for p in predictions])"
   ]
  },
  {
   "cell_type": "markdown",
   "id": "acc1c162",
   "metadata": {},
   "source": [
    "# Development Drafts"
   ]
  },
  {
   "cell_type": "markdown",
   "id": "3a28a1fd",
   "metadata": {},
   "source": [
    "What is the general term of the sequence [3, 10, 10, 11, −1, 14, −228, −357, −528, −747, −1020, −1353, −1752, −2223, −2772, −3405, −4128, −4947,−5868, −6897, −8040, −9303, −10692, −12213, −13872, −15675, −17628, −19737]?"
   ]
  },
  {
   "cell_type": "markdown",
   "id": "b019091f",
   "metadata": {},
   "source": [
    "What is the general term of the sequence [−228, −357, −528, −747, −1020, −1353, −1752, −2223, −2772, −3405, −4128, −4947,−5868, −6897, −8040, −9303, −10692, −12213, −13872, −15675, −17628, −19737]?"
   ]
  },
  {
   "cell_type": "markdown",
   "id": "f9c82e9d",
   "metadata": {},
   "source": [
    "Can you evaluate the polynomial -x^3 - 2x in the integers between 6 all the way up to 9? How many evaluations do you need to make? Give me the list resulting from these evaluations."
   ]
  },
  {
   "cell_type": "markdown",
   "id": "f3b44bda",
   "metadata": {},
   "source": [
    "Can you evaluate the polynomial -x^3 - 2x in 6, 7 and 8?"
   ]
  },
  {
   "cell_type": "markdown",
   "id": "c050e642",
   "metadata": {},
   "source": [
    "Can you evaluate -x^3 - 2x in 6?"
   ]
  },
  {
   "cell_type": "markdown",
   "id": "35d37f98",
   "metadata": {},
   "source": [
    "What will be the next three terms in the following sequence:"
   ]
  },
  {
   "cell_type": "markdown",
   "id": "b2ec1a4c",
   "metadata": {},
   "source": [
    "What is the general term of the sequence 7 9 11 13 15?"
   ]
  },
  {
   "cell_type": "markdown",
   "id": "70302a88",
   "metadata": {},
   "source": [
    "What is the general term of the sequence 2 5 8 11 14?"
   ]
  },
  {
   "cell_type": "markdown",
   "id": "155f5af1",
   "metadata": {},
   "source": [
    "What is the general term of the sequence 7 2 9 5 11 8 13 11 15 14?"
   ]
  },
  {
   "cell_type": "markdown",
   "id": "98f60510",
   "metadata": {},
   "source": [
    "What was the polynomial producing the following sequence [−228, −357, −528, −747, −1020, −1353, −1752, −2223, −2772, −3405, −4128, −4947,−5868, −6897, −8040, −9303, −10692, −12213, −13872, −15675, −17628, −19737]?"
   ]
  },
  {
   "cell_type": "markdown",
   "id": "ee960df8",
   "metadata": {},
   "source": [
    "Can you evaluate the polynomial -x^3 - 2*x in the integers between 6 all the way up to 9? How many evaluations do you need to make? Give me the list resulting from these evaluations."
   ]
  },
  {
   "cell_type": "markdown",
   "id": "f4bf3ade",
   "metadata": {},
   "source": [
    "What is the general term of the sequence: [2, −6, −42, −148, −366, −738, −1306, −2112, −3198, −4606, −6378, −8556, −11182, −14298, −17946, −22168, −27006, −32502, −38698, −45636, −53358, −61906, −71322, −81648, −92926, −105198, −118506, −132892, −148398, −165066] ?    \n",
    "    "
   ]
  },
  {
   "cell_type": "markdown",
   "id": "1c98da99",
   "metadata": {},
   "source": [
    "# Optimizer approach adapted from iNeRF:\n",
    "\n",
    "http://yenchenlin.me/inerf/\n",
    "\n",
    "https://github.com/yenchenlin/iNeRF-public/blob/ab99c08cdbade1e92c152b6619c3066c01a4401b/pixel-nerf/pose_estimation.ipynb#L4"
   ]
  },
  {
   "cell_type": "markdown",
   "id": "ddcbae7e",
   "metadata": {},
   "source": [
    "# Moved into `utils.gradient_walk_utils` - method:\n",
    "\n",
    "\n",
    "`gradient_walk(actual_loc, desired_target, n_steps=10, loss_threshold=0, debugging_return=False, optimizer=None):`"
   ]
  },
  {
   "cell_type": "code",
   "execution_count": 85,
   "id": "2b0ee900",
   "metadata": {},
   "outputs": [],
   "source": [
    "from utils.gradient_walk_utils import get_gradient_from_location_and_output\n",
    "import numpy as np\n",
    "from tqdm.notebook import tqdm\n",
    "\n",
    "# location_single_281_100_152_with_predictions\n",
    "loc_B    = [280.2720261907330, 99.0, 152.49499332367300, -171.72398701418900, -63.62013971538380, -172.57562258088200]\n",
    "target_B = [0.4373362958431244, 0.018862038850784302, 0.23208248615264893, 0.2356959581375122]\n",
    "\n",
    "# location_single_316_100_169_with_predictions # location with water\n",
    "loc_W    = [317.7068051391730, 100.0, 169.88643037743400, -171.72398701418900, -63.62013971538380, -172.57562258088200]\n",
    "target_W = [0.26498448848724365, 0.11160671710968018, 0.2832949161529541, 0.2719825506210327]\n",
    "\n",
    "# location_single_361_75_190_with_predictions - location with trees\n",
    "loc_W    = [362.7868246127380, 74.2463380641929, 190.57535887016000, -143.4386147347180, -60.25751826014710, -147.2216146560020]\n",
    "target_W = [0.16828903555870056, 0.030713021755218506, 0.47408124804496765, 0.051927417516708374]\n",
    "\n",
    "# get_gradient_from_location_and_output(mock_location, mock_target)\n",
    "# actual_loc, actual_target, desired_loc, desired_target = loc_B, target_B, loc_W, target_W\n",
    "# actual_loc, actual_target, desired_loc, desired_target = loc_B, target_B, loc_T, target_T"
   ]
  },
  {
   "cell_type": "markdown",
   "id": "69d75568",
   "metadata": {},
   "source": [
    "# Closer locations - working better"
   ]
  },
  {
   "cell_type": "code",
   "execution_count": 3,
   "id": "e5b504c8",
   "metadata": {},
   "outputs": [],
   "source": [
    "from utils.gradient_walk_utils import get_gradient_from_location_and_output\n",
    "import numpy as np\n",
    "from tqdm.notebook import tqdm\n",
    "\n",
    "loc_B    = [200.06402539249700, 130.766330167011, 148.70992037289600, -166.6068699698310, -54.17356605787240, -169.07315436340900]\n",
    "target_B = [0.6230433583259583, 0.001851409673690796, 0.06430435180664062, 0.1719646453857422]\n",
    "\n",
    "loc_B    = [292.0386197208470, 129.766330167011, 153.59994498944500, -165.8778459809970, -52.81646305112490, -168.66551861996300]\n",
    "target_B = [0.363048255443573, 0.03436896204948425, 0.16084513068199158, 0.23941662907600403]\n",
    "\n",
    "loc_T    = [321.6292486480970, 129.766330167011, 232.67945877255800, -166.60686996983100, -54.17356605787240, -169.07315436340900]\n",
    "target_T = [0.1720944494009018, 0.36286360025405884, 0.12994933128356934, 0.3350926637649536]\n",
    "\n",
    "loc_W    = [323.30009927537400, 129.766330167011, 176.59786501643500, -165.8778459809970, -52.81646305112490, -168.66551861996300]\n",
    "target_W = [0.24161949753761292, 0.17246410250663757, 0.1669216752052307, 0.29214417934417725]\n",
    "\n",
    "# actual_loc, actual_target, desired_loc, desired_target = loc_B, target_B, loc_W, target_W\n",
    "# actual_loc, actual_target, desired_loc, desired_target = loc_B, target_B, loc_T, target_T\n"
   ]
  },
  {
   "cell_type": "code",
   "execution_count": 2,
   "id": "34f79d03",
   "metadata": {
    "scrolled": true
   },
   "outputs": [
    {
     "data": {
      "application/vnd.jupyter.widget-view+json": {
       "model_id": "d15dbb490f914ab496684b2decb3afbc",
       "version_major": 2,
       "version_minor": 0
      },
      "text/plain": [
       "  0%|          | 0/100 [00:00<?, ?it/s]"
      ]
     },
     "metadata": {},
     "output_type": "display_data"
    }
   ],
   "source": [
    "from utils.gradient_walk_utils import initialize_trained_encoder, intialize_input_as_tensor\n",
    "from utils.scripts.architectures.train_location_encoder import rescale_from_norm_params \n",
    "import torch\n",
    "\n",
    "criterion       = torch.nn.MSELoss(reduction='none')\n",
    "\n",
    "\n",
    "trained_encoder, info_dict = initialize_trained_encoder()\n",
    "\n",
    "sample_batch               = intialize_input_as_tensor(actual_loc, desired_target, info_dict)\n",
    "lrate = 1e-2#.05#1e-2#.05 #1e-2\n",
    "\n",
    "loss_threshold = np.inf #.45\n",
    "\n",
    "trajectory      = [np.array(actual_loc)]\n",
    "gradients_norm  = []\n",
    "predictions     = []\n",
    "loss_trajectory = []\n",
    "\n",
    "\n",
    "input_pos = torch.autograd.Variable(sample_batch[\"input_pos_raw\"], requires_grad=True)\n",
    "input_dir = sample_batch[\"input_dir_raw\"]\n",
    "\n",
    "optimizer  = torch.optim.Adam(params=[input_pos, input_dir], lr=lrate)\n",
    "\n",
    "n_steps        = 100\n",
    "parsing_bar    = tqdm(range(n_steps))\n",
    "\n",
    "for i in parsing_bar:\n",
    "    \n",
    "    # project input_pos (and input_dir) on search space.\n",
    "    \n",
    "    \n",
    "    ##### a. Predict output distribution\n",
    "    output     = trained_encoder(input_pos, input_dir, from_raw=True)\n",
    "    prediction = (output.detach().numpy())\n",
    "    labels     = sample_batch[\"output\"]\n",
    "\n",
    "    ##### b. Compute loss\n",
    "    loss      = criterion(output,labels)\n",
    "    \n",
    "    ##### c. Gradient step using optimizer:\n",
    "    optimizer.zero_grad()\n",
    "    loss.mean().backward()\n",
    "    pos_grad, dir_grad = input_pos.grad, input_dir.grad\n",
    "    optimizer.step()\n",
    "\n",
    "    ##### d. Log found gradients and predictions\n",
    "    loss_trajectory.append(loss.detach().numpy())\n",
    "    \n",
    "    pos_grad_norm     = (np.linalg.norm(pos_grad), np.linalg.norm(dir_grad))\n",
    "    gradients_norm.append(pos_grad_norm)\n",
    "    \n",
    "    perc_pred         = (prediction[0] + 1) / 2\n",
    "    predictions.append(perc_pred)\n",
    "    \n",
    "    parsing_bar.set_description(f\"Gradient norm: loc {pos_grad_norm[0]:.4f}, dir {pos_grad_norm[0]:.4f}\")\n",
    "    \n",
    "    ##### add location to trajectory\n",
    "    scaled_loc = rescale_from_norm_params(input_pos.detach().numpy()[0], info_dict[\"xyz_centroid\"], info_dict[\"xyz_max-min\"])\n",
    "    scaled_dir = rescale_from_norm_params(input_dir.detach().numpy()[0], info_dict[\"xyzh_centroid\"], info_dict[\"xyzh_max-min\"])\n",
    "    \n",
    "    actual_loc = np.hstack([scaled_loc, scaled_dir])\n",
    "    #actual_loc = input_pos.detach().numpy()[0]\n",
    "    trajectory.append(actual_loc)\n",
    "\n",
    "    \n",
    "    if loss.mean() < loss_threshold:\n",
    "        break\n",
    "    "
   ]
  },
  {
   "cell_type": "markdown",
   "id": "909d384c",
   "metadata": {},
   "source": [
    "## Moved to `utils.gradient_walk_utils.py`"
   ]
  },
  {
   "cell_type": "code",
   "execution_count": 3,
   "id": "88fc69c0",
   "metadata": {},
   "outputs": [
    {
     "name": "stdout",
     "output_type": "stream",
     "text": [
      "Input postion: tensor([[-0.3524,  0.0124, -0.2871]], requires_grad=True)\n",
      "Input direction: tensor([[-0.5321, -0.2538, -0.4324]], grad_fn=<SliceBackward0>)\n",
      "Predictions: [[-0.5908712  -0.10116171 -0.68952453 -0.47916803]]\n",
      "\n",
      "Desired Output: tensor([[0.1500, 0.8500, 0.0000, 0.0000]])\n",
      "\n",
      "Gradient to position: tensor([[-12.1792, -13.2660,  -7.7759]])\n",
      "Gradient to direction: tensor([[-14.3884,  -2.9593,   1.0788]])\n"
     ]
    },
    {
     "data": {
      "text/plain": [
       "(tensor([[-12.1792, -13.2660,  -7.7759]]),\n",
       " tensor([[-14.3884,  -2.9593,   1.0788]]))"
      ]
     },
     "execution_count": 3,
     "metadata": {},
     "output_type": "execute_result"
    }
   ],
   "source": [
    "\n",
    "# Taken from location_single_350_100_199_with_predictions.csv\n",
    "mock_location = [349.039, 99.0, 199.612, -169.108, -53.737, -171.181]\n",
    "mock_target   = [0.15, 0.85, 0, 0]\n",
    "\n",
    "# location_single_281_100_152_with_predictions\n",
    "loc_A    = [280.2720261907330, 99.0, 152.49499332367300, -171.72398701418900, -63.62013971538380, -172.57562258088200]\n",
    "target_A = [0.4373362958431244, 0.018862038850784302, 0.23208248615264893, 0.2356959581375122]\n",
    "\n",
    "# location_single_316_100_169_with_predictions # location with water\n",
    "loc_B    = [317.7068051391730, 100.0, 169.88643037743400, -171.72398701418900, -63.62013971538380, -172.57562258088200]\n",
    "target_B = [0.26498448848724365, 0.11160671710968018, 0.2832949161529541, 0.2719825506210327]\n",
    "\n",
    "# location_single_361_75_190_with_predictions - location with trees\n",
    "loc_B    = [362.7868246127380, 74.2463380641929, 190.57535887016000, -143.4386147347180, -60.25751826014710, -147.2216146560020]\n",
    "target_B = [0.16828903555870056, 0.030713021755218506, 0.47408124804496765, 0.051927417516708374]\n",
    "\n",
    "\n",
    "# location_single_173_75_39_with_predictions = trees within buildings\n",
    "loc_A    = [174.94570176880000\t74.24633806419280\t39.02996354213910\t-143.318755841433\t-60.34948900437360\t-147.08363363844800]\n",
    "target_A = [0.7874480485916138, 0.00013068318367004395, 0.1790778636932373, 0.01974925398826599]\n",
    "\n",
    "get_gradient_from_location_and_output(mock_location, mock_target)"
   ]
  },
  {
   "cell_type": "code",
   "execution_count": 1,
   "id": "75c5f18f",
   "metadata": {},
   "outputs": [],
   "source": [
    "#1. Load trained model.\n",
    "import os\n",
    "from server import *\n",
    "def initialize_trained_encoder():\n",
    "    \n",
    "    mv = 350                     #model version\n",
    "    mp = \"./utils/assets/models/\"# path to models folder\n",
    "    info_dict       = parse_training_info(mp, mv)\n",
    "    trained_encoder = network.nerf.NeRF(pos_dim=info_dict[\"enc_input_size\"], output_dim=info_dict[\"num_present_classes\"]\\\n",
    "        ,  view_dir_dim=info_dict[\"enc_input_size\"], feat_dim=256)\n",
    "    trained_encoder.load_state_dict(torch.load(f\"{mp}/encoder_{mv}.pt\"))\n",
    "    \n",
    "    return trained_encoder, info_dict\n",
    "\n",
    "def intialize_input_as_tensor(mock_location, info_dict):\n",
    "    \n",
    "    \n",
    "    norm_params     = (info_dict[\"xyz_centroid\"], info_dict[\"xyz_max-min\"], info_dict[\"xyzh_centroid\"], info_dict[\"xyzh_max-min\"])\n",
    "    \n",
    "    test_df    = pd.DataFrame(mock_location, [\"x\", \"y\", \"z\", \"xh\", \"yh\", \"zh\"]).T\n",
    "    test_df[\"f_xyz\"] = [mock_target]\n",
    "    test_df[\"image_name\"] = \"no_image_name\"\n",
    "    test_name  = \"_\".join(test_df[[\"x\", \"y\", \"z\"]].astype(int).values[0].astype(str))\n",
    "\n",
    "    test_path = f\"./utils/assets/test_data/location_single_{test_name}.csv\"\n",
    "\n",
    "    # test_df = curr_neigborhood\n",
    "    test_df.to_csv(test_path, index=False)\n",
    "    ml = True # skip label normalization\n",
    "    test_df, _, _   = process_locations_visibility_data_frame(test_path, norm_params, selected_label_indexes=info_dict[\"sli\"], missing_labels=ml)\n",
    "\n",
    "    #1.Data loader from points\n",
    "    ml = False # don't skip labels in the dataloader\n",
    "    test_dl  = get_location_visibility_loaders(test_df, missing_labels=ml, only_test=True, batch_size=16, return_raw=True)\n",
    "\n",
    "    sample_batch = test_dl.sampler.data_source[:1]\n",
    "    \n",
    "    return sample_batch\n",
    "\n",
    "import torch\n",
    "\n",
    "# Taken from location_single_350_100_199_with_predictions.csv\n",
    "mock_location = [349.039, 99.0, 199.612, -169.108, -53.737, -171.181]\n",
    "mock_target   = [0.15, 0.85, 0, 0]\n"
   ]
  },
  {
   "cell_type": "code",
   "execution_count": 4,
   "id": "052dec18",
   "metadata": {},
   "outputs": [
    {
     "data": {
      "text/plain": [
       "(tensor([[-12.1792, -13.2660,  -7.7759]]),\n",
       " tensor([[-14.3884,  -2.9593,   1.0788]]))"
      ]
     },
     "execution_count": 4,
     "metadata": {},
     "output_type": "execute_result"
    }
   ],
   "source": [
    "\n",
    "def get_gradient_from_location_and_output(mock_location, mock_target):\n",
    "    \n",
    "    trained_encoder, info_dict = initialize_trained_encoder()\n",
    "\n",
    "    sample_batch = intialize_input_as_tensor(mock_location, info_dict)\n",
    "    \n",
    "    #mock_target     = [0.15875327587127686, 0.42250925302505493, 0.11981145292520523, 0.2989259660243988]\n",
    "    mock_target     = torch.tensor([2*mt -1 for mt in mock_target])\n",
    "\n",
    "    # input_pos = sample_batch[\"input_pos_raw\"]\n",
    "    # https://discuss.pytorch.org/t/newbie-getting-the-gradient-with-respect-to-the-input/12709/2\n",
    "    input_pos = torch.autograd.Variable(sample_batch[\"input_pos_raw\"], requires_grad=True)\n",
    "    input_dir = sample_batch[\"input_dir_raw\"]\n",
    "\n",
    "\n",
    "    #print(\"Input postion:\", input_pos)\n",
    "    #print(\"Input direction:\", input_dir)\n",
    "    output = trained_encoder(input_pos, input_dir, from_raw=True)\n",
    "    #optimizer.zero_grad()\n",
    "    prediction = (output.detach().numpy())\n",
    "\n",
    "    # if gt_labels:\n",
    "    labels    = sample_batch[\"output\"]\n",
    "    \n",
    "    \n",
    "    criterion       = torch.nn.MSELoss(reduction='none')\n",
    "    loss      = criterion(output,labels)\n",
    "    loss.mean().backward()\n",
    "\n",
    "    #print(\"Predictions:\", prediction)\n",
    "    #print(\"\\nDesired Output:\", labels)\n",
    "\n",
    "    #print(\"\\nGradient to position:\", input_pos.grad)\n",
    "    #print(\"Gradient to direction:\", input_dir.grad)\n",
    "    \n",
    "    return input_pos.grad, input_dir.grad\n",
    "\n",
    "get_gradient_from_location_and_output(mock_location, mock_target)"
   ]
  },
  {
   "cell_type": "markdown",
   "id": "a6e3dcc6",
   "metadata": {},
   "source": [
    "close_target gradient - (+1 on y)"
   ]
  },
  {
   "cell_type": "markdown",
   "id": "2e5dbea5",
   "metadata": {},
   "source": [
    "far_away_target gradient"
   ]
  },
  {
   "cell_type": "code",
   "execution_count": 2,
   "id": "0e4209b2",
   "metadata": {},
   "outputs": [],
   "source": [
    "#1. Load trained model.\n",
    "import os\n",
    "from server import *\n",
    "\n",
    "mv = 350                     #model version\n",
    "mp = \"./utils/assets/models/\"# path to models folder\n",
    "info_dict       = parse_training_info(mp, mv)\n",
    "norm_params     = (info_dict[\"xyz_centroid\"], info_dict[\"xyz_max-min\"], info_dict[\"xyzh_centroid\"], info_dict[\"xyzh_max-min\"])\n",
    "trained_encoder = network.nerf.NeRF(pos_dim=info_dict[\"enc_input_size\"], output_dim=info_dict[\"num_present_classes\"]\\\n",
    "    ,  view_dir_dim=info_dict[\"enc_input_size\"], feat_dim=256)\n",
    "trained_encoder.load_state_dict(torch.load(f\"{mp}/encoder_{mv}.pt\"))\n",
    "\n",
    "# location to appropiate data format:\n",
    "test_df    = pd.DataFrame(mock_location, [\"x\", \"y\", \"z\", \"xh\", \"yh\", \"zh\"]).T\n",
    "test_df[\"f_xyz\"] = [mock_target]\n",
    "test_df[\"image_name\"] = \"no_image_name\"\n",
    "test_name  = \"_\".join(test_df[[\"x\", \"y\", \"z\"]].astype(int).values[0].astype(str))\n",
    "\n",
    "test_path = f\"./utils/assets/test_data/location_single_{test_name}.csv\"\n",
    "# Generate points close to the \n",
    "# curr_loc           = test_df\n",
    "# curr_neigborhood   = pd.concat(9*[curr_loc]).reset_index(drop=True) \n",
    "\n",
    "# neigborhood_deltas = np.hstack([\n",
    "#             np.vstack([(i,j) for i in range(-1, 2) for j in range(-1, 2)]),\\\n",
    "#             np.zeros(9).reshape((-1, 1))\\\n",
    "# ])\n",
    "\n",
    "# curr_neigborhood[[\"x\", \"y\", \"z\"]] = curr_neigborhood[[\"x\", \"y\", \"z\"]] + neigborhood_deltas\n",
    "\n",
    "# test_df = curr_neigborhood\n",
    "test_df.to_csv(test_path, index=False)\n",
    "ml = True\n",
    "test_df, _, _   = process_locations_visibility_data_frame(test_path, norm_params, selected_label_indexes=info_dict[\"sli\"], missing_labels=ml)\n",
    "\n",
    "ml = False\n",
    "#1.Data loader from points\n",
    "test_dl  = get_location_visibility_loaders(test_df, missing_labels=ml, only_test=True, batch_size=16, return_raw=True)\n",
    "\n",
    "\n",
    "# #2. Encoder details\n",
    "# _, criterion, optimizer, scheduler = get_location_visibility_encoder(info_dict[\"pos_enc_dim\"], info_dict[\"num_present_classes\"], feat_dim=256)\n",
    "\n",
    "\n",
    "# os.remove(test_path)\n",
    "\n",
    "\n",
    "\n",
    "#2. Pass input location \n",
    "\n",
    "#3. Return gradient with respect to what the input should look like to output\n",
    "\n"
   ]
  },
  {
   "cell_type": "code",
   "execution_count": 11,
   "id": "3940602e",
   "metadata": {},
   "outputs": [
    {
     "name": "stdout",
     "output_type": "stream",
     "text": [
      "Input postion: tensor([[-0.3524,  0.0124, -0.2871]], requires_grad=True)\n",
      "Input direction: tensor([[-0.5321, -0.2538, -0.4324]], grad_fn=<SliceBackward0>)\n",
      "Predictions: [[-0.5908712  -0.10116171 -0.68952453 -0.47916803]]\n",
      "Desired Output: tensor([[-0.7000,  0.7000, -1.0000, -1.0000]])\n",
      "\n",
      "Gradient to position: tensor([[-18.6906, -24.8154, -14.8778]])\n",
      "Gradient to direction: tensor([[-10.0889,  -4.5091,   0.8392]])\n"
     ]
    }
   ],
   "source": [
    "sample_batch = test_dl.sampler.data_source[:1]\n",
    "\n",
    "# input_pos = sample_batch[\"input_pos_raw\"]\n",
    "# https://discuss.pytorch.org/t/newbie-getting-the-gradient-with-respect-to-the-input/12709/2\n",
    "input_pos = torch.autograd.Variable(sample_batch[\"input_pos_raw\"], requires_grad=True)\n",
    "input_dir = sample_batch[\"input_dir_raw\"]\n",
    "\n",
    "\n",
    "print(\"Input postion:\", input_pos)\n",
    "print(\"Input direction:\", input_dir)\n",
    "output = trained_encoder(input_pos, input_dir, from_raw=True)\n",
    "optimizer.zero_grad()\n",
    "prediction = (output.detach().numpy())\n",
    "\n",
    "# if gt_labels:\n",
    "labels    = sample_batch[\"output\"]\n",
    "loss      = criterion(output,labels)\n",
    "loss.mean().backward()\n",
    "\n",
    "print(\"Predictions:\", prediction)\n",
    "print(\"\\nDesired Output:\", labels)\n",
    "\n",
    "print(\"\\nGradient to position:\", input_pos.grad)\n",
    "print(\"Gradient to direction:\", input_dir.grad)\n",
    "\n",
    "pos      = sample_batch[\"input_pos_raw\"]#[:,0]\n",
    "view_dir = sample_batch[\"input_dir_raw\"]\n",
    "\n",
    "\n",
    "# input_matrix   = np.vstack([vis_df[n[0]], vis_df[n[1]], vis_df[n[2]]\\\n",
    "#                             , vis_df[n[3]], vis_df[n[4]], vis_df[n[5]]]).T.astype(np.float32)\n",
    "\n",
    "input_matrix = torch.vstack([pos[:, 0], pos[:, 1], pos[:, 2]\\\n",
    "                             , view_dir[:, 0], view_dir[:, 1], view_dir[:, 2]])\n",
    "\n",
    "print(input_matrix)\n",
    "                           \n",
    "\n",
    "encoded_input = self.positional_encoder.encode(torch.tensor(input_matrix))\n",
    "print(encoded_input)\n",
    "\n"
   ]
  },
  {
   "cell_type": "code",
   "execution_count": 23,
   "id": "e9482638",
   "metadata": {},
   "outputs": [
    {
     "name": "stdout",
     "output_type": "stream",
     "text": [
      "Encoded input: tensor([-0.3451,  0.0124, -0.2832, -0.5073, -0.2511, -0.4191,  0.9386,  0.9999,\n",
      "         0.9591,  0.8618]);\n"
     ]
    },
    {
     "data": {
      "text/plain": [
       "tensor([-0.3524,  0.0062, -0.0718, -0.0665, -0.0159, -0.0135,  0.0190,  0.0122,\n",
       "         0.0050,  0.0020])"
      ]
     },
     "execution_count": 23,
     "metadata": {},
     "output_type": "execute_result"
    }
   ],
   "source": [
    "e1 = test_dl.sampler.data_source[0][\"input_pos\"][:10]\n",
    "print(f\"Encoded input: {e1};\")\n",
    "\n",
    "freq_bands = 2 ** torch.arange(0.0, 10, dtype=torch.float32)\n",
    "\n",
    "# decode = lambda e: torch.arcsin(e) / 2**0\n",
    "decode = lambda e: torch.arcsin(e) / freq_bands\n",
    "\n",
    "decode(e1)"
   ]
  }
 ],
 "metadata": {
  "kernelspec": {
   "display_name": "Python [conda env:visibility_encoder]",
   "language": "python",
   "name": "conda-env-visibility_encoder-py"
  },
  "language_info": {
   "codemirror_mode": {
    "name": "ipython",
    "version": 3
   },
   "file_extension": ".py",
   "mimetype": "text/x-python",
   "name": "python",
   "nbconvert_exporter": "python",
   "pygments_lexer": "ipython3",
   "version": "3.9.13"
  }
 },
 "nbformat": 4,
 "nbformat_minor": 5
}
