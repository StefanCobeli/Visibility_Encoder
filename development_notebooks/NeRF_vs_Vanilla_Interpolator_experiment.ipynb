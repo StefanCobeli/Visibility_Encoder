{
 "cells": [
  {
   "cell_type": "markdown",
   "id": "e8fc7f07",
   "metadata": {},
   "source": [
    "Steps:\n",
    "\n",
    "\n",
    "1. Read data.\n",
    "2. Train test splits.\n",
    "3. Split train in multiple fragments 50, 100, ..., 20k\n",
    "\n",
    "\n",
    "4. Train Ridge / dummy regressor on field.\n",
    "5. Train NeRF on train split.\n",
    "5. record the two performances on test set."
   ]
  },
  {
   "cell_type": "code",
   "execution_count": null,
   "id": "570e024f",
   "metadata": {},
   "outputs": [],
   "source": [
    "import numpy as np\n",
    "train_percentages = np.arange(10, 101, 10)"
   ]
  },
  {
   "cell_type": "markdown",
   "id": "375339cf",
   "metadata": {},
   "source": [
    "# 0. Data Preparation / Splits"
   ]
  },
  {
   "cell_type": "code",
   "execution_count": 1,
   "id": "bcfe7eaf",
   "metadata": {},
   "outputs": [],
   "source": [
    "# 1. Read data.\n",
    "from utils.scripts.architectures.train_location_encoder import process_locations_visibility_data_frame\n",
    "import numpy as np\n",
    "import pandas as pd\n",
    "\n",
    "data_loc = \"./utils/assets/data\"\n",
    "\n",
    "vis_df_n, norm_params, non_empty_classes = process_locations_visibility_data_frame(f\"{data_loc}/locations.csv\")\n",
    "\n",
    "vis_raw_df = pd.read_csv(f\"{data_loc}/locations.csv\")\n",
    "np.random.seed(1)\n",
    "vis_raw_df = vis_raw_df.sample(frac=1)\n",
    "\n",
    "# 2. Train test splits.\n",
    "np.random.seed(1)\n",
    "visual_df = vis_df_n.sample(frac=1)\n",
    "visual_df.to_json(f\"{data_loc}/splits/full_dataset_{visual_df.shape[0]}.json\", orient=\"records\", indent=4)\n",
    "test_df       = visual_df[:5000]\n",
    "full_train_df = visual_df[5000:]\n",
    "test_df.to_json(f\"{data_loc}/splits/test_set_{test_df.shape[0]}.json\", orient=\"records\", indent=4)\n",
    "\n",
    "# 3. Split train in multiple fragments 50, 100, ..., 20k\n",
    "train_fractions = train_percentages/100#[1, .8, .6, .4, .2, .1]\n",
    "\n",
    "for fraction in train_fractions:\n",
    "    num_train_samples = int(fraction * full_train_df.shape[0])\n",
    "    train_df = full_train_df[:num_train_samples]\n",
    "    \n",
    "    file_name = f\"./utils/assets/data/splits/train_set_{int(fraction * 100)}-percent\"\n",
    "    train_df.to_json(f\"{file_name}.json\", orient=\"records\", indent=4)\n",
    "    \n",
    "    vis_raw_df[5000:5000+num_train_samples].to_csv(f\"{file_name}.csv\", index=False)\n",
    "    \n",
    "\n"
   ]
  },
  {
   "cell_type": "markdown",
   "id": "7191d6e1",
   "metadata": {},
   "source": [
    "# 1. Train simple ground truth interpolator"
   ]
  },
  {
   "cell_type": "code",
   "execution_count": 3,
   "id": "b5d7b3ee",
   "metadata": {},
   "outputs": [
    {
     "data": {
      "text/plain": [
       "(2123, 4)"
      ]
     },
     "execution_count": 3,
     "metadata": {},
     "output_type": "execute_result"
    }
   ],
   "source": [
    "import pandas as pd\n",
    "test_df  = pd.read_json(f\"{data_loc}/splits/test_set_5000.json\")\n",
    "\n",
    "# train_percentage = 10\n",
    "\n",
    "# train_df = pd.read_json(f\"{data_loc}/splits/train_set_{train_percentage}-percent.json\")\n",
    "\n",
    "\n",
    "# import numpy as np\n",
    "\n",
    "# train_df[[\"xn\", \"yn\", \"zn\", \"xhn\", \"yhn\", \"zhn\"]].values.shape\n",
    "# np.vstack(train_df[\"f_xyz\"].values).shape"
   ]
  },
  {
   "cell_type": "code",
   "execution_count": 2,
   "id": "44982618",
   "metadata": {},
   "outputs": [
    {
     "data": {
      "image/png": "[encoded data removed]",
      "text/plain": [
       "<Figure size 640x480 with 1 Axes>"
      ]
     },
     "metadata": {},
     "output_type": "display_data"
    }
   ],
   "source": [
    "# 4. Train Ridge / dummy regressor on field.\n",
    "\n",
    "from sklearn.linear_model import Ridge\n",
    "import numpy as np\n",
    "import matplotlib.pyplot as plt\n",
    "\n",
    "\n",
    "\n",
    "# train_percentages = [10, 20, 40, 60, 80, 100]\n",
    "\n",
    "r2_scores = []\n",
    "\n",
    "\n",
    "# for i, percentage in tqdm(enumerate(train_percentages)):\n",
    "\n",
    "for percentage in train_percentages:\n",
    "    \n",
    "    test_df  = pd.read_json(f\"{data_loc}/splits/test_set_5000.json\")\n",
    "    train_df = pd.read_json(f\"{data_loc}/splits/train_set_{percentage}-percent.json\")\n",
    "\n",
    "    X = train_df[[\"xn\", \"yn\", \"zn\", \"xhn\", \"yhn\", \"zhn\"]].values\n",
    "    y = np.vstack(train_df[\"f_xyz\"].values)\n",
    "\n",
    "    clf = Ridge(alpha=1.0)\n",
    "    clf.fit(X, y)\n",
    "\n",
    "    X_test = test_df[[\"xn\", \"yn\", \"zn\", \"xhn\", \"yhn\", \"zhn\"]].values\n",
    "    y_test = np.vstack(test_df[\"f_xyz\"].values)\n",
    "\n",
    "    r2_score = clf.score(X_test, y_test)\n",
    "    r2_scores.append(r2_score)\n",
    "\n",
    "    \n",
    "vanilla_predictions = clf.predict(X_test)\n",
    "vanilla_predictions.shape    \n",
    "\n",
    "plt.plot(r2_scores, label=\"Ridge\")\n",
    "plt.legend()\n",
    "plt.show()\n",
    "\n"
   ]
  },
  {
   "cell_type": "markdown",
   "id": "cace9a95",
   "metadata": {},
   "source": [
    "# 2. Train `NeRF` interpolator."
   ]
  },
  {
   "cell_type": "code",
   "execution_count": 116,
   "id": "27108d54",
   "metadata": {
    "scrolled": true
   },
   "outputs": [
    {
     "name": "stdout",
     "output_type": "stream",
     "text": [
      "1. Training on 10% of the data:\n",
      "Found 4 classes appearing more than 5.0%: [' building' ' water' ' tree' ' sky']\n",
      "Training data percentace 100.00% - 1,698 samples, for 350 epochs:\n"
     ]
    },
    {
     "name": "stderr",
     "output_type": "stream",
     "text": [
      "Epoch 350 / 350- Training loss 0.15626 - test loss 0.20956: 100%|█████████████████████████████████████████████████████████████████████████████████████████████| 350/350 [01:02<00:00,  5.63it/s]\n"
     ]
    },
    {
     "name": "stdout",
     "output_type": "stream",
     "text": [
      "Model weights saved at:\n",
      "\t./utils/assets/data/splits/models/encoder_10.pt\n",
      "\n",
      "Training for \n",
      "\t350     epochs took: \n",
      "\t62s, for an average of: \n",
      "\t0.2s per epoch.\n",
      "2. Training on 20% of the data:\n",
      "Found 4 classes appearing more than 5.0%: [' building' ' water' ' tree' ' sky']\n",
      "Training data percentace 100.00% - 3,396 samples, for 350 epochs:\n"
     ]
    },
    {
     "name": "stderr",
     "output_type": "stream",
     "text": [
      "Epoch 350 / 350- Training loss 0.13251 - test loss 0.17443: 100%|█████████████████████████████████████████████████████████████████████████████████████████████| 350/350 [02:18<00:00,  2.53it/s]\n"
     ]
    },
    {
     "name": "stdout",
     "output_type": "stream",
     "text": [
      "Model weights saved at:\n",
      "\t./utils/assets/data/splits/models/encoder_20.pt\n",
      "\n",
      "Training for \n",
      "\t350     epochs took: \n",
      "\t138s, for an average of: \n",
      "\t0.4s per epoch.\n",
      "3. Training on 30% of the data:\n",
      "Found 4 classes appearing more than 5.0%: [' building' ' water' ' tree' ' sky']\n",
      "Training data percentace 100.00% - 5,095 samples, for 350 epochs:\n"
     ]
    },
    {
     "name": "stderr",
     "output_type": "stream",
     "text": [
      "Epoch 350 / 350- Training loss 0.12003 - test loss 0.17384: 100%|█████████████████████████████████████████████████████████████████████████████████████████████| 350/350 [03:30<00:00,  1.67it/s]\n"
     ]
    },
    {
     "name": "stdout",
     "output_type": "stream",
     "text": [
      "Model weights saved at:\n",
      "\t./utils/assets/data/splits/models/encoder_30.pt\n",
      "\n",
      "Training for \n",
      "\t350     epochs took: \n",
      "\t210s, for an average of: \n",
      "\t0.6s per epoch.\n",
      "4. Training on 40% of the data:\n",
      "Found 4 classes appearing more than 5.0%: [' building' ' water' ' tree' ' sky']\n",
      "Training data percentace 100.00% - 6,793 samples, for 350 epochs:\n"
     ]
    },
    {
     "name": "stderr",
     "output_type": "stream",
     "text": [
      "Epoch 350 / 350- Training loss 0.11689 - test loss 0.16071: 100%|█████████████████████████████████████████████████████████████████████████████████████████████| 350/350 [04:46<00:00,  1.22it/s]\n"
     ]
    },
    {
     "name": "stdout",
     "output_type": "stream",
     "text": [
      "Model weights saved at:\n",
      "\t./utils/assets/data/splits/models/encoder_40.pt\n",
      "\n",
      "Training for \n",
      "\t350     epochs took: \n",
      "\t286s, for an average of: \n",
      "\t0.8s per epoch.\n",
      "5. Training on 50% of the data:\n",
      "Found 4 classes appearing more than 5.0%: [' building' ' water' ' tree' ' sky']\n",
      "Training data percentace 100.00% - 8,492 samples, for 350 epochs:\n"
     ]
    },
    {
     "name": "stderr",
     "output_type": "stream",
     "text": [
      "Epoch 350 / 350- Training loss 0.11651 - test loss 0.14906: 100%|█████████████████████████████████████████████████████████████████████████████████████████████| 350/350 [05:56<00:00,  1.02s/it]\n"
     ]
    },
    {
     "name": "stdout",
     "output_type": "stream",
     "text": [
      "Model weights saved at:\n",
      "\t./utils/assets/data/splits/models/encoder_50.pt\n",
      "\n",
      "Training for \n",
      "\t350     epochs took: \n",
      "\t357s, for an average of: \n",
      "\t1.0s per epoch.\n",
      "6. Training on 60% of the data:\n",
      "Found 4 classes appearing more than 5.0%: [' building' ' water' ' tree' ' sky']\n",
      "Training data percentace 100.00% - 10,191 samples, for 350 epochs:\n"
     ]
    },
    {
     "name": "stderr",
     "output_type": "stream",
     "text": [
      "Epoch 350 / 350- Training loss 0.11035 - test loss 0.14591: 100%|█████████████████████████████████████████████████████████████████████████████████████████████| 350/350 [07:09<00:00,  1.23s/it]\n"
     ]
    },
    {
     "name": "stdout",
     "output_type": "stream",
     "text": [
      "Model weights saved at:\n",
      "\t./utils/assets/data/splits/models/encoder_60.pt\n",
      "\n",
      "Training for \n",
      "\t350     epochs took: \n",
      "\t430s, for an average of: \n",
      "\t1.2s per epoch.\n",
      "7. Training on 70% of the data:\n",
      "Found 4 classes appearing more than 5.0%: [' building' ' water' ' tree' ' sky']\n",
      "Training data percentace 100.00% - 11,889 samples, for 350 epochs:\n"
     ]
    },
    {
     "name": "stderr",
     "output_type": "stream",
     "text": [
      "Epoch 350 / 350- Training loss 0.11217 - test loss 0.14889: 100%|█████████████████████████████████████████████████████████████████████████████████████████████| 350/350 [08:37<00:00,  1.48s/it]\n"
     ]
    },
    {
     "name": "stdout",
     "output_type": "stream",
     "text": [
      "Model weights saved at:\n",
      "\t./utils/assets/data/splits/models/encoder_70.pt\n",
      "\n",
      "Training for \n",
      "\t350     epochs took: \n",
      "\t517s, for an average of: \n",
      "\t1.5s per epoch.\n",
      "8. Training on 80% of the data:\n",
      "Found 4 classes appearing more than 5.0%: [' building' ' water' ' tree' ' sky']\n",
      "Training data percentace 100.00% - 13,588 samples, for 350 epochs:\n"
     ]
    },
    {
     "name": "stderr",
     "output_type": "stream",
     "text": [
      "Epoch 350 / 350- Training loss 0.10583 - test loss 0.13912: 100%|█████████████████████████████████████████████████████████████████████████████████████████████| 350/350 [09:58<00:00,  1.71s/it]\n"
     ]
    },
    {
     "name": "stdout",
     "output_type": "stream",
     "text": [
      "Model weights saved at:\n",
      "\t./utils/assets/data/splits/models/encoder_80.pt\n",
      "\n",
      "Training for \n",
      "\t350     epochs took: \n",
      "\t598s, for an average of: \n",
      "\t1.7s per epoch.\n",
      "9. Training on 90% of the data:\n",
      "Found 4 classes appearing more than 5.0%: [' building' ' water' ' tree' ' sky']\n",
      "Training data percentace 100.00% - 15,286 samples, for 350 epochs:\n"
     ]
    },
    {
     "name": "stderr",
     "output_type": "stream",
     "text": [
      "Epoch 350 / 350- Training loss 0.10413 - test loss 0.13661: 100%|█████████████████████████████████████████████████████████████████████████████████████████████| 350/350 [10:42<00:00,  1.84s/it]\n"
     ]
    },
    {
     "name": "stdout",
     "output_type": "stream",
     "text": [
      "Model weights saved at:\n",
      "\t./utils/assets/data/splits/models/encoder_90.pt\n",
      "\n",
      "Training for \n",
      "\t350     epochs took: \n",
      "\t643s, for an average of: \n",
      "\t1.8s per epoch.\n",
      "10. Training on 100% of the data:\n",
      "Found 4 classes appearing more than 5.0%: [' building' ' water' ' tree' ' sky']\n",
      "Training data percentace 100.00% - 16,985 samples, for 350 epochs:\n"
     ]
    },
    {
     "name": "stderr",
     "output_type": "stream",
     "text": [
      "Epoch 350 / 350- Training loss 0.10339 - test loss 0.13922: 100%|█████████████████████████████████████████████████████████████████████████████████████████████| 350/350 [11:39<00:00,  2.00s/it]"
     ]
    },
    {
     "name": "stdout",
     "output_type": "stream",
     "text": [
      "Model weights saved at:\n",
      "\t./utils/assets/data/splits/models/encoder_100.pt\n",
      "\n",
      "Training for \n",
      "\t350     epochs took: \n",
      "\t699s, for an average of: \n",
      "\t2.0s per epoch.\n"
     ]
    },
    {
     "name": "stderr",
     "output_type": "stream",
     "text": [
      "\n"
     ]
    }
   ],
   "source": [
    "from utils.scripts.architectures.train_location_encoder \\\n",
    "import get_location_visibility_encoder, process_locations_visibility_data_frame\\\n",
    ", get_location_visibility_loaders, run_one_epoch_location_encoder, train_model_on_data\n",
    "\n",
    "\n",
    "from utils.scripts.architectures.torch_nerf_src import network\n",
    "\n",
    "import numpy as np\n",
    "import pandas as pd\n",
    "import torch\n",
    "\n",
    "\n",
    "from tqdm.notebook import tqdm\n",
    "\n",
    "data_loc   = \"./utils/assets/data\"\n",
    "ne  = 350\n",
    "sli = [0,1,5,6] #[' building' ' water' ' road ' ' sidewalk' ' surface' ' tree' ' sky']\n",
    "\n",
    "\n",
    "# train_percentages = np.arange(10, 101, 10)\n",
    "\n",
    "for i, percentage in enumerate(train_percentages):\n",
    "    print(f\"{i+1}. Training on {percentage}% of the data:\")\n",
    "    file_store = f\"{data_loc}/splits/train_set_{percentage}-percent.csv\"\n",
    "    model_name = f\"encoder_{percentage}.pt\"\n",
    "    # Train NeRF for ne epochs\n",
    "    encoder_net, tr_losses_history, test_losses_history, vdf \\\n",
    "    = train_model_on_data(data_path=file_store, num_epochs=ne, selected_label_indexes=sli, model_name=model_name)\n",
    "\n",
    "\n"
   ]
  },
  {
   "cell_type": "markdown",
   "id": "2507e081",
   "metadata": {},
   "source": [
    "# 2.b Compute `NeRF` predictions"
   ]
  },
  {
   "cell_type": "code",
   "execution_count": 117,
   "id": "036a23b3",
   "metadata": {
    "scrolled": true
   },
   "outputs": [
    {
     "name": "stderr",
     "output_type": "stream",
     "text": [
      "\r",
      "0it [00:00, ?it/s]"
     ]
    },
    {
     "name": "stdout",
     "output_type": "stream",
     "text": [
      "Surface not initialized properly. Can only predict from raw position and direction.\n"
     ]
    },
    {
     "name": "stderr",
     "output_type": "stream",
     "text": [
      "\r",
      "1it [00:16, 16.82s/it]"
     ]
    },
    {
     "name": "stdout",
     "output_type": "stream",
     "text": [
      "Surface not initialized properly. Can only predict from raw position and direction.\n"
     ]
    },
    {
     "name": "stderr",
     "output_type": "stream",
     "text": [
      "\r",
      "2it [00:33, 16.57s/it]"
     ]
    },
    {
     "name": "stdout",
     "output_type": "stream",
     "text": [
      "Surface not initialized properly. Can only predict from raw position and direction.\n"
     ]
    },
    {
     "name": "stderr",
     "output_type": "stream",
     "text": [
      "\r",
      "3it [00:49, 16.40s/it]"
     ]
    },
    {
     "name": "stdout",
     "output_type": "stream",
     "text": [
      "Surface not initialized properly. Can only predict from raw position and direction.\n"
     ]
    },
    {
     "name": "stderr",
     "output_type": "stream",
     "text": [
      "\r",
      "4it [01:05, 16.23s/it]"
     ]
    },
    {
     "name": "stdout",
     "output_type": "stream",
     "text": [
      "Surface not initialized properly. Can only predict from raw position and direction.\n"
     ]
    },
    {
     "name": "stderr",
     "output_type": "stream",
     "text": [
      "\r",
      "5it [01:21, 16.34s/it]"
     ]
    },
    {
     "name": "stdout",
     "output_type": "stream",
     "text": [
      "Surface not initialized properly. Can only predict from raw position and direction.\n"
     ]
    },
    {
     "name": "stderr",
     "output_type": "stream",
     "text": [
      "\r",
      "6it [01:39, 16.90s/it]"
     ]
    },
    {
     "name": "stdout",
     "output_type": "stream",
     "text": [
      "Surface not initialized properly. Can only predict from raw position and direction.\n"
     ]
    },
    {
     "name": "stderr",
     "output_type": "stream",
     "text": [
      "\r",
      "7it [01:56, 16.83s/it]"
     ]
    },
    {
     "name": "stdout",
     "output_type": "stream",
     "text": [
      "Surface not initialized properly. Can only predict from raw position and direction.\n"
     ]
    },
    {
     "name": "stderr",
     "output_type": "stream",
     "text": [
      "\r",
      "8it [02:12, 16.52s/it]"
     ]
    },
    {
     "name": "stdout",
     "output_type": "stream",
     "text": [
      "Surface not initialized properly. Can only predict from raw position and direction.\n"
     ]
    },
    {
     "name": "stderr",
     "output_type": "stream",
     "text": [
      "\r",
      "9it [02:28, 16.40s/it]"
     ]
    },
    {
     "name": "stdout",
     "output_type": "stream",
     "text": [
      "Surface not initialized properly. Can only predict from raw position and direction.\n"
     ]
    },
    {
     "name": "stderr",
     "output_type": "stream",
     "text": [
      "10it [02:45, 16.57s/it]\n"
     ]
    }
   ],
   "source": [
    "from tqdm import tqdm\n",
    "# train_percentages = np.arange(10, 101, 10)\n",
    "\n",
    "# Initialize NeRFS model with weights of trainedNeRF model\n",
    "model_path      = \"./utils/assets/data/splits/models\"\n",
    "info_dict       = pd.read_json(f\"{model_path}/training_info_50.json\").to_dict()[0]\n",
    "norm_params                = (torch.tensor(info_dict[\"xyz_centroid\"]), torch.tensor(info_dict[\"xyz_max-min\"]), torch.tensor(info_dict[\"xyzh_centroid\"]), torch.tensor(info_dict[\"xyzh_max-min\"]))\n",
    "    \n",
    "nerf_predictions_per_percentage = {}\n",
    "nerf_predictions = []\n",
    "\n",
    "for i, percentage in tqdm(enumerate(train_percentages)):\n",
    "    trained_encoder            = network.nerfs.NeRFS(norm_params=norm_params, surface_type=\"square\", pos_dim=info_dict[\"enc_input_size\"], output_dim=info_dict[\"num_present_classes\"],  view_dir_dim=info_dict[\"enc_input_size\"])\n",
    "    trained_encoder.load_state_dict(torch.load(f\"{model_path}/encoder_{percentage}.pt\"))\n",
    "    \n",
    "    for i in range(test_df.shape[0]):\n",
    "        xyz  = torch.tensor(test_df.values[:,:6][i].astype(float)[:3])\n",
    "        xyzh = torch.tensor(test_df.values[:,:6][i].astype(float)[3:])\n",
    "\n",
    "        _,_, prediction = trained_encoder.predict_from_raw(xyz, xyzh)\n",
    "\n",
    "\n",
    "        nerf_predictions.append(prediction.detach().numpy()[0])\n",
    "    \n",
    "    nerf_predictions = np.vstack(nerf_predictions)\n",
    "    nerf_predictions_per_percentage[percentage] = nerf_predictions\n",
    "    nerf_predictions = []\n",
    "    \n",
    "# nerf_predictions.shape"
   ]
  },
  {
   "cell_type": "markdown",
   "id": "4c7203cb",
   "metadata": {},
   "source": [
    "# 3.  comparison between `NeRF` and vanilla interpolator"
   ]
  },
  {
   "cell_type": "markdown",
   "id": "4a050e9a",
   "metadata": {},
   "source": [
    "# Try a number of different vanilla regressors:"
   ]
  },
  {
   "cell_type": "code",
   "execution_count": 118,
   "id": "4d60ca68",
   "metadata": {},
   "outputs": [
    {
     "name": "stdout",
     "output_type": "stream",
     "text": [
      "1 Neighbor test:\n"
     ]
    },
    {
     "name": "stderr",
     "output_type": "stream",
     "text": [
      "100%|███████████████████████████████████████████████████████████████████████████████████████████████████████████████████████████████████████████████████████████| 10/10 [00:01<00:00,  8.04it/s]\n"
     ]
    },
    {
     "name": "stdout",
     "output_type": "stream",
     "text": [
      "2 Neighbors test:\n"
     ]
    },
    {
     "name": "stderr",
     "output_type": "stream",
     "text": [
      "100%|███████████████████████████████████████████████████████████████████████████████████████████████████████████████████████████████████████████████████████████| 10/10 [00:01<00:00,  9.69it/s]\n"
     ]
    },
    {
     "name": "stdout",
     "output_type": "stream",
     "text": [
      "3 Neighbors test:\n"
     ]
    },
    {
     "name": "stderr",
     "output_type": "stream",
     "text": [
      "100%|███████████████████████████████████████████████████████████████████████████████████████████████████████████████████████████████████████████████████████████| 10/10 [00:01<00:00,  8.13it/s]\n"
     ]
    },
    {
     "name": "stdout",
     "output_type": "stream",
     "text": [
      "4 Neighbors test:\n"
     ]
    },
    {
     "name": "stderr",
     "output_type": "stream",
     "text": [
      "100%|███████████████████████████████████████████████████████████████████████████████████████████████████████████████████████████████████████████████████████████| 10/10 [00:01<00:00,  8.97it/s]\n"
     ]
    },
    {
     "name": "stdout",
     "output_type": "stream",
     "text": [
      "10 Neighbors test:\n"
     ]
    },
    {
     "name": "stderr",
     "output_type": "stream",
     "text": [
      "100%|███████████████████████████████████████████████████████████████████████████████████████████████████████████████████████████████████████████████████████████| 10/10 [00:01<00:00,  8.61it/s]\n"
     ]
    }
   ],
   "source": [
    "# 4. Train Ridge / dummy regressor on field.\n",
    "\n",
    "import numpy as np\n",
    "import matplotlib.pyplot as plt\n",
    "\n",
    "from sklearn.neighbors import KNeighborsRegressor\n",
    "\n",
    "from sklearn.ensemble import RandomForestRegressor\n",
    "from sklearn.linear_model import Ridge\n",
    "\n",
    "vanilla_predictors = {\n",
    "                    \"1 Neighbor\" : KNeighborsRegressor(n_neighbors=1),\\\n",
    "                    \"2 Neighbors\" : KNeighborsRegressor(n_neighbors=2),\\\n",
    "                    \"3 Neighbors\" : KNeighborsRegressor(n_neighbors=5),\\\n",
    "                    \"4 Neighbors\" : KNeighborsRegressor(n_neighbors=10),\\\n",
    "                    \"10 Neighbors\" : KNeighborsRegressor(n_neighbors=15),\\\n",
    "#                     \"20 Neighbors\" : KNeighborsRegressor(n_neighbors=20),\\\n",
    "#                     \"50 Neighbors\" : KNeighborsRegressor(n_neighbors=50),\\\n",
    "#                      \"Random Forest\" : RandomForestRegressor(max_depth=7, random_state=0),\n",
    "#                      \"Ridge\" : Ridge(alpha=1.0),\\\n",
    "                     }\n",
    "\n",
    "predictors_map = {}\n",
    "\n",
    "for predictor_name in vanilla_predictors:\n",
    "    print(f\"{predictor_name} test:\")\n",
    "    \n",
    "    predictor = vanilla_predictors[predictor_name]\n",
    "    \n",
    "    vanilla_predictions_per_percentage = {}\n",
    "    vanilla_predictions = []\n",
    "\n",
    "\n",
    "    test_df  = pd.read_json(f\"{data_loc}/splits/test_set_5000.json\")\n",
    "    X_test = test_df[[\"xn\", \"yn\", \"zn\", \"xhn\", \"yhn\", \"zhn\"]].values\n",
    "    y_test = np.vstack(test_df[\"f_xyz\"].values)\n",
    "\n",
    "    for percentage in tqdm(train_percentages):\n",
    "\n",
    "        train_df = pd.read_json(f\"{data_loc}/splits/train_set_{percentage}-percent.json\")\n",
    "\n",
    "        X = train_df[[\"xn\", \"yn\", \"zn\", \"xhn\", \"yhn\", \"zhn\"]].values\n",
    "        y = np.vstack(train_df[\"f_xyz\"].values)\n",
    "\n",
    "        predictor.fit(X, y)\n",
    "\n",
    "        vanilla_predictions = predictor.predict(X_test)\n",
    "\n",
    "        vanilla_predictions_per_percentage[percentage] = vanilla_predictions\n",
    "    \n",
    "    predictors_map[predictor_name] = vanilla_predictions_per_percentage\n"
   ]
  },
  {
   "cell_type": "markdown",
   "id": "f8fdefae",
   "metadata": {},
   "source": [
    "# 3.b. Criterion comparisons between NeRF and vanilla interpolator¶"
   ]
  },
  {
   "cell_type": "code",
   "execution_count": 119,
   "id": "f4c6532a",
   "metadata": {},
   "outputs": [
    {
     "name": "stderr",
     "output_type": "stream",
     "text": [
      "10it [00:00, 8511.17it/s]\n",
      "10it [00:00, 8525.01it/s]\n",
      "10it [00:00, 9515.21it/s]\n"
     ]
    },
    {
     "data": {
      "image/png": "[encoded data removed]",
      "text/plain": [
       "<Figure size 640x480 with 1 Axes>"
      ]
     },
     "metadata": {},
     "output_type": "display_data"
    }
   ],
   "source": [
    "import torch\n",
    "criterion   = torch.nn.MSELoss(reduction='none')\n",
    "y_test = np.vstack(test_df[\"f_xyz\"].values)\n",
    "\n",
    "nerf_mses = []\n",
    "vanilla_mses = []\n",
    "vanilla_mses_per_predictor = {}\n",
    "\n",
    "# Compute criterion for both NERF and Vanilla.\n",
    "#Needs to already be computed:\n",
    "#1. vanilla_predictions_per_percentage\n",
    "#2. nerf_predictions_per_percentage\n",
    "\n",
    "for i, percentage in tqdm(enumerate(train_percentages)):\n",
    "    nerf_predictions = nerf_predictions_per_percentage[percentage]\n",
    "    nerf_mse         = criterion(torch.tensor(nerf_predictions), torch.tensor(y_test)).mean()\n",
    "\n",
    "    nerf_mses.append(nerf_mse.detach().numpy())\n",
    "\n",
    "for predictor_name in list(predictors_map.keys()):#[::-1]:\n",
    "    if predictor_name in [\"Ridge\", \"Random Forest\", \"4 Neighbors\", \"3 Neighbors\", \"1 Neighbor\"]:\n",
    "        continue\n",
    "    \n",
    "    vanilla_predictions_per_percentage = predictors_map[predictor_name]\n",
    "    \n",
    "    for i, percentage in tqdm(enumerate(train_percentages)):\n",
    "        vanilla_predictions = vanilla_predictions_per_percentage[percentage]\n",
    "        vanilla_mse         = criterion(torch.tensor(vanilla_predictions), torch.tensor(y_test)).mean()\n",
    "\n",
    "        vanilla_mses.append(vanilla_mse.detach().numpy())\n",
    "        \n",
    "    vanilla_mses_per_predictor[predictor_name] = vanilla_mses\n",
    "    vanilla_mses = []\n",
    "\n",
    "import matplotlib.pyplot as plt\n",
    "\n",
    "plt.plot(nerf_mses, label=\"Ours\")\n",
    "for predictor_name in vanilla_mses_per_predictor:\n",
    "    vanilla_mses = vanilla_mses_per_predictor[predictor_name]\n",
    "    plt.plot(vanilla_mses, label=predictor_name)\n",
    "plt.legend(title=\"Interpolators\")\n",
    "\n",
    "num_train_samples_str = (train_df.shape[0] * train_percentages/100).astype(int).astype(str)\n",
    "num_samples_in_k      = [f\"{s[:-3]}k\" for s in num_train_samples_str]\n",
    "\n",
    "plt.xticks(np.arange(len(nerf_mses)), labels=[f\"{tp}%\\n{nk}\" for \\\n",
    "                                              tp, nk in zip(train_percentages, num_samples_in_k)])\n",
    "plt.xlabel(\"Training set percentage\")\n",
    "plt.ylabel(\"MSE\")\n",
    "plt.title(\"Test Set Mean MSE as training set grows from 2k to 21k samples.\")\n",
    "plt.grid()\n",
    "\n",
    "\n",
    "plt.show()"
   ]
  },
  {
   "cell_type": "code",
   "execution_count": 120,
   "id": "6db914bc",
   "metadata": {},
   "outputs": [
    {
     "data": {
      "text/plain": [
       "({'2 Neighbors': [array(0.06613313),\n",
       "   array(0.05529187),\n",
       "   array(0.04693144),\n",
       "   array(0.04165714),\n",
       "   array(0.0392525),\n",
       "   array(0.03587293),\n",
       "   array(0.03293495),\n",
       "   array(0.03151467),\n",
       "   array(0.02966525),\n",
       "   array(0.027962)],\n",
       "  '10 Neighbors': [array(0.06927672),\n",
       "   array(0.05956095),\n",
       "   array(0.05365669),\n",
       "   array(0.0503753),\n",
       "   array(0.0474295),\n",
       "   array(0.04546499),\n",
       "   array(0.04379572),\n",
       "   array(0.04198186),\n",
       "   array(0.04025225),\n",
       "   array(0.03872206)]},\n",
       " [array(0.04602801),\n",
       "  array(0.0361216),\n",
       "  array(0.03260414),\n",
       "  array(0.02865824),\n",
       "  array(0.02595226),\n",
       "  array(0.02516615),\n",
       "  array(0.02533949),\n",
       "  array(0.02201948),\n",
       "  array(0.02098029),\n",
       "  array(0.02119102)])"
      ]
     },
     "execution_count": 120,
     "metadata": {},
     "output_type": "execute_result"
    }
   ],
   "source": [
    "vanilla_mses_per_predictor, nerf_mses"
   ]
  },
  {
   "cell_type": "code",
   "execution_count": 51,
   "id": "cae62e30",
   "metadata": {},
   "outputs": [
    {
     "data": {
      "text/plain": [
       "['2k', '4k', '6k', '8k', '10k', '12k', '14k', '16k', '19k', '21k']"
      ]
     },
     "execution_count": 51,
     "metadata": {},
     "output_type": "execute_result"
    }
   ],
   "source": [
    "num_train_samples_str = (train_df.shape[0] * train_percentages/100).astype(int).astype(str)\n",
    "num_samples_in_k = [f\"{s[:-3]}k\" for s in num_train_samples_str]\n",
    "num_samples_in_k"
   ]
  },
  {
   "cell_type": "code",
   "execution_count": 49,
   "id": "13e38fd5",
   "metadata": {},
   "outputs": [
    {
     "data": {
      "text/plain": [
       "(array([ 10,  20,  30,  40,  50,  60,  70,  80,  90, 100]),\n",
       " array(['2123', '4246', '6369', '8492', '10616', '12739', '14862', '16985', '19108', '21232'], dtype='<U21'))"
      ]
     },
     "execution_count": 49,
     "metadata": {},
     "output_type": "execute_result"
    }
   ],
   "source": [
    "train_percentages, (train_df.shape[0] * train_percentages/100).astype(int).astype(str)"
   ]
  },
  {
   "cell_type": "code",
   "execution_count": 16,
   "id": "946a7dd8",
   "metadata": {},
   "outputs": [
    {
     "data": {
      "text/plain": [
       "[<matplotlib.lines.Line2D at 0x3129963a0>]"
      ]
     },
     "execution_count": 16,
     "metadata": {},
     "output_type": "execute_result"
    },
    {
     "data": {
      "image/png": "[encoded data removed]",
      "text/plain": [
       "<Figure size 640x480 with 1 Axes>"
      ]
     },
     "metadata": {},
     "output_type": "display_data"
    }
   ],
   "source": []
  },
  {
   "cell_type": "code",
   "execution_count": null,
   "id": "7ec5a34b",
   "metadata": {},
   "outputs": [],
   "source": []
  },
  {
   "cell_type": "code",
   "execution_count": 36,
   "id": "9204a001",
   "metadata": {},
   "outputs": [
    {
     "data": {
      "text/plain": [
       "(tensor(0.0420, dtype=torch.float64), tensor(0.1628, dtype=torch.float64))"
      ]
     },
     "execution_count": 36,
     "metadata": {},
     "output_type": "execute_result"
    }
   ],
   "source": [
    "criterion(torch.tensor(nerf_predictions), torch.tensor(y_test)).mean()\\\n",
    "          , criterion(torch.tensor(vanilla_predictions), torch.tensor(y_test)).mean()"
   ]
  },
  {
   "cell_type": "code",
   "execution_count": 39,
   "id": "3c908bfd",
   "metadata": {},
   "outputs": [
    {
     "data": {
      "text/plain": [
       "(tensor(0.0420, dtype=torch.float64), tensor(0.1628, dtype=torch.float64))"
      ]
     },
     "execution_count": 39,
     "metadata": {},
     "output_type": "execute_result"
    }
   ],
   "source": [
    "criterion(torch.tensor(nerf_predictions), torch.tensor(y_test)).mean(axis=1).mean()\\\n",
    "          , criterion(torch.tensor(vanilla_predictions), torch.tensor(y_test)).mean(axis=1).mean()"
   ]
  },
  {
   "cell_type": "code",
   "execution_count": 38,
   "id": "00f14dcb",
   "metadata": {},
   "outputs": [
    {
     "data": {
      "text/plain": [
       "(tensor([0.0762, 0.0137, 0.0344, 0.0437], dtype=torch.float64),\n",
       " tensor([0.3179, 0.0571, 0.0746, 0.2015], dtype=torch.float64))"
      ]
     },
     "execution_count": 38,
     "metadata": {},
     "output_type": "execute_result"
    }
   ],
   "source": [
    "criterion(torch.tensor(nerf_predictions), torch.tensor(y_test)).mean(axis=0)\\\n",
    "          , criterion(torch.tensor(vanilla_predictions), torch.tensor(y_test)).mean(axis=0)"
   ]
  },
  {
   "cell_type": "markdown",
   "id": "e0f0d253",
   "metadata": {},
   "source": [
    "# 4. Replicate interpolation test for multiple training percentages and models."
   ]
  },
  {
   "cell_type": "code",
   "execution_count": null,
   "id": "456e1f19",
   "metadata": {},
   "outputs": [],
   "source": []
  },
  {
   "cell_type": "markdown",
   "id": "42c506f4",
   "metadata": {},
   "source": [
    "# Drafts"
   ]
  },
  {
   "cell_type": "code",
   "execution_count": 33,
   "id": "0a47ed78",
   "metadata": {
    "scrolled": true
   },
   "outputs": [
    {
     "data": {
      "text/plain": [
       "(tensor([4.7924e-03, 1.8183e-07, 2.3490e-02, 8.3328e-04], dtype=torch.float64),\n",
       " tensor([2.6367, 0.0028, 0.2110, 1.0106], dtype=torch.float64),\n",
       " tensor(0.0073, dtype=torch.float64),\n",
       " tensor(0.9653, dtype=torch.float64))"
      ]
     },
     "execution_count": 33,
     "metadata": {},
     "output_type": "execute_result"
    }
   ],
   "source": [
    "criterion   = torch.nn.MSELoss(reduction='none')\n",
    "\n",
    "criterion(torch.tensor(nerf_predictions[0]), torch.tensor(y_test[0]))\\\n",
    "          , criterion(torch.tensor(vanilla_predictions[0]), torch.tensor(y_test[0])),\\\n",
    "criterion(torch.tensor(nerf_predictions[0]), torch.tensor(y_test[0])).mean()\\\n",
    "          , criterion(torch.tensor(vanilla_predictions[0]), torch.tensor(y_test[0])).mean()"
   ]
  },
  {
   "cell_type": "code",
   "execution_count": 29,
   "id": "04290fc1",
   "metadata": {},
   "outputs": [
    {
     "data": {
      "text/plain": [
       "(array([ 0.8190328 , -0.9995736 , -0.8460536 , -0.91780937], dtype=float32),\n",
       " array([-0.735547  , -0.94720399, -0.54001446,  0.11634165]),\n",
       " array([ 0.88825989, -1.        , -0.99931717, -0.88894272]))"
      ]
     },
     "execution_count": 29,
     "metadata": {},
     "output_type": "execute_result"
    }
   ],
   "source": [
    "nerf_predictions[0], vanilla_predictions[0], y_test[0]"
   ]
  },
  {
   "cell_type": "markdown",
   "id": "c95f9b38",
   "metadata": {},
   "source": [
    "# Test `NeRFS` and `NeRF` return the same resutls"
   ]
  },
  {
   "cell_type": "code",
   "execution_count": 44,
   "id": "1de05274",
   "metadata": {},
   "outputs": [
    {
     "name": "stdout",
     "output_type": "stream",
     "text": [
      "NeRF prediction\n",
      "tensor([2152.9542,   23.2385,  958.9914], dtype=torch.float64) tensor([ 7.3868, 80.1305, -7.2787], dtype=torch.float64) tensor([[-0.4327, -0.7639, -0.6330, -0.2706]], grad_fn=<TanhBackward0>)\n",
      "\n",
      "NeRFS prediction\n",
      "(tensor([2152.9542,   23.2385,  958.9914], dtype=torch.float64), tensor([ 7.3868, 80.1305, -7.2787], dtype=torch.float64), tensor([[-0.4327, -0.7639, -0.6330, -0.2706]], grad_fn=<TanhBackward0>))\n"
     ]
    }
   ],
   "source": [
    "import torch\n",
    "\n",
    "xyz  = torch.tensor(vdf.values[:,:6][0].astype(float)[:3])\n",
    "xyzh = torch.tensor(vdf.values[:,:6][0].astype(float)[3:])\n",
    "\n",
    "#1. NeRF - !needs normalized inputs.\n",
    "norm_pos = (xyz - norm_params[0]) / norm_params[1]\n",
    "pos      = norm_pos.unsqueeze(0)\n",
    "view_dir = (xyzh - norm_params[2]) / norm_params[3]\n",
    "view_dir = view_dir.unsqueeze(0)\n",
    "\n",
    "print(\"NeRF prediction\")\n",
    "print(xyz, xyzh, encoder_net(pos, view_dir, from_raw=True)) #NeRF needs normalized inputs.\n",
    "\n",
    "\n",
    "#2. NeRFS \n",
    "print(\"\\nNeRFS prediction\")\n",
    "print(trained_encoder.predict_from_raw(xyz, xyzh))"
   ]
  },
  {
   "cell_type": "code",
   "execution_count": null,
   "id": "2b1eff30",
   "metadata": {},
   "outputs": [],
   "source": [
    "\n",
    "train_df[[\"xn\", \"yn\", \"zn\", \"xhn\", \"yhn\", \"zhn\"]].values.shape\n",
    "np.vstack(train_df[\"f_xyz\"].values).shape"
   ]
  },
  {
   "cell_type": "code",
   "execution_count": null,
   "id": "1ff3190e",
   "metadata": {},
   "outputs": [],
   "source": [
    "\n",
    "n_samples, n_features = 10, 5\n",
    "rng = np.random.RandomState(0)\n",
    "y = rng.randn(n_samples)\n",
    "X = rng.randn(n_samples, n_features)\n",
    "clf = Ridge(alpha=1.0)\n",
    "clf.fit(X, y)"
   ]
  },
  {
   "cell_type": "code",
   "execution_count": null,
   "id": "2b92f651",
   "metadata": {},
   "outputs": [],
   "source": [
    "# 4. Train Ridge / dummy regressor on field.\n",
    "# 5. Train NeRF on train split.\n",
    "# 5. record the two performances on test set."
   ]
  }
 ],
 "metadata": {
  "kernelspec": {
   "display_name": "Python [conda env:visibility_encoder]",
   "language": "python",
   "name": "conda-env-visibility_encoder-py"
  },
  "language_info": {
   "codemirror_mode": {
    "name": "ipython",
    "version": 3
   },
   "file_extension": ".py",
   "mimetype": "text/x-python",
   "name": "python",
   "nbconvert_exporter": "python",
   "pygments_lexer": "ipython3",
   "version": "3.9.13"
  }
 },
 "nbformat": 4,
 "nbformat_minor": 5
}
