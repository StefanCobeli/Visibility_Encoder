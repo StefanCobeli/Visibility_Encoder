{
 "cells": [
  {
   "cell_type": "markdown",
   "id": "57469ce4",
   "metadata": {},
   "source": [
    "# Summary:\n",
    "\n",
    "\n",
    "1. Novel Perception defintion:\n",
    "- from string to pytorch operation.\n",
    "\n",
    "2. Related Work Measurment Definitions: using existing dataset."
   ]
  },
  {
   "cell_type": "markdown",
   "id": "6c7d92c3",
   "metadata": {},
   "source": [
    "# 1. Novel perception as tensor:"
   ]
  },
  {
   "cell_type": "code",
   "execution_count": 1,
   "id": "d2b60190",
   "metadata": {},
   "outputs": [
    {
     "name": "stdout",
     "output_type": "stream",
     "text": [
      "Result: tensor(-5.3909)\n"
     ]
    }
   ],
   "source": [
    "# Moved to atils.scripts.architectures.torch_nerf_src.network.NeRFS\n",
    "\n",
    "import re\n",
    "import torch\n",
    "import torch.nn as nn\n",
    "\n",
    "# Example encoder output size (can be adjusted based on your network's output dimension)\n",
    "output_size = 10\n",
    "encoder_outputs = torch.randn(output_size)  # Example tensor with 10 outputs\n",
    "\n",
    "# The expression string\n",
    "expression = \"1 + 6 / (2 + 6)\"\n",
    "\n",
    "# Function to convert string expression to a reusable tensor operation\n",
    "def expression_to_tensor_op(expression):\n",
    "    '''\n",
    "        tranforms id operations to torch tensor operation on vecotr with ids\n",
    "        \"1 / ( 1 + 4 )\" -> tensor_operation {tensor -> tensor[1]/(tensor[1] + tensor[4])}\n",
    "        Usage of returned operation: apply tensor_operation on encoder_outputs\n",
    "        result = tensor_operation(encoder_outputs)\n",
    "    '''\n",
    "    # Replace each number in the expression with a tensor indexing operation\n",
    "    expr_with_placeholders = re.sub(r'(\\d+)', lambda x: f'encoder_outputs[{x.group(1)}]', expression)\n",
    "    \n",
    "    # Define a function that performs the operation when called\n",
    "    def tensor_operation(encoder_outputs):\n",
    "        # Safely evaluate the modified expression with encoder_outputs\n",
    "        return eval(expr_with_placeholders, {\"encoder_outputs\": encoder_outputs})\n",
    "    \n",
    "    # Return the tensor operation as a callable function\n",
    "    return tensor_operation\n",
    "\n",
    "\n",
    "\n",
    "def category_to_index_expression(category_expression, category_names):\n",
    "    \"\"\"\n",
    "    Transoform category expression string to logits index expression string.\n",
    "    Example:\n",
    "    \"water / ( water + surface )\" -> '1 / ( 1 + 4 )'\n",
    "    \"\"\"\n",
    "    \n",
    "    cat_exp_tokens = category_expression.split(\" \")\n",
    "    #Replace categories with indexes\n",
    "    ind_exp_tokens = [str(category_names.index(s)) if s in category_names else s for s in cat_exp_tokens]\n",
    "    \n",
    "    index_expression = \" \".join(ind_exp_tokens)\n",
    "    \n",
    "    return index_expression\n",
    "\n",
    "##############################\n",
    "##### Testing one formula #####\n",
    "\n",
    "# Create the tensor operation\n",
    "# tensor_operation = expression_to_tensor_op(expression)\n",
    "\n",
    "# # Usage: apply tensor_operation on encoder_outputs\n",
    "# result = tensor_operation(encoder_outputs)\n",
    "# print(\"Result:\", result)\n",
    "# category_names = ['building', 'water', 'road', 'sidewalk', 'surface', 'tree', 'sky', \"miscellaneous\"]\n",
    "# category_expression = \"water / ( water + surface )\"\n",
    "# encoder_outputs = torch.arange(8) / 1\n",
    "\n",
    "# encoder_outputs = torch.autograd.Variable(encoder_outputs, requires_grad=True) \n",
    "### #Create the index operation string\n",
    "# index_expression    = category_to_index_expression(category_expression, category_names)\n",
    "\n",
    "### # Create the tensor operation\n",
    "# tensor_operation = expression_to_tensor_op(index_expression)\n",
    "\n",
    "### # Usage: apply tensor_operation on encoder_outputs\n",
    "# result = tensor_operation(encoder_outputs)\n",
    "# print(\"\\nInput:\", dict(zip(category_names, encoder_outputs)))\n",
    "# print(\"\\nResult:\", {category_expression : result})\n",
    "\n"
   ]
  },
  {
   "cell_type": "code",
   "execution_count": 2,
   "id": "3170caac",
   "metadata": {},
   "outputs": [
    {
     "data": {
      "text/plain": [
       "0.9955867116"
      ]
     },
     "execution_count": 2,
     "metadata": {},
     "output_type": "execute_result"
    }
   ],
   "source": [
    "'''Moved from Urban Perception Metrics Analysis.ipynb to test_location_encoder.py - March 17th 2025'''\n",
    "def formula_and_dict_to_perception(formula_expression, f_xyz_semantics_dict):\n",
    "    \"\"\"\n",
    "        Parse perception string formulas to value.\n",
    "        Replace each semantic string in the formula_expression with it's value in f_xyz_semantics_dict\n",
    "        Return the value of the evaluated formula.\n",
    "    \"\"\"\n",
    "    form_literals = formula_expression.split(\" \")\n",
    "    for i in range(len(form_literals)):\n",
    "        literal = form_literals[i] #on of the sematics\n",
    "        if literal in f_xyz_semantics_dict:\n",
    "            form_literals[i] = str(f_xyz_semantics_dict[literal])\n",
    "    \n",
    "    numerical_formula = \" \".join(form_literals)\n",
    "    try:\n",
    "        index_value = eval(numerical_formula)\n",
    "    except:#Division by 0\n",
    "        index_value = 0\n",
    "    return index_value #eval(numerical_formula)\n",
    "    #print(\"Semantics: \", f_xyz_semantics_dict)\n",
    "    #print(\"Semantics formula: \", formula_expression)\n",
    "    #print(\"Numerical formula: \", numerical_formula)\n",
    "    #print(\"Evaluated formula: \", eval(numerical_formula))\n",
    "    \n",
    "    \n",
    "import pandas as pd\n",
    "perc_def = pd.read_json('./utils/assets/data/perception_metrics/predefinedPerceptions.json')\n",
    "predefined_formulas_dict = {p: perc_def[p].values[0][\"expression\"] for p in perc_def}\n",
    "test_as_query_df = pd.read_json(\"./utils/assets/data/semantics/test_set_as_query.json\")\n",
    "from utils.test_location_encoder import formula_and_dict_to_perception\n",
    "formula_and_dict_to_perception(formula_expression=predefined_formulas_dict[\"enclosure\"]\\\n",
    "                               , f_xyz_semantics_dict = test_as_query_df[\"f_xyz\"].values[0])\n"
   ]
  },
  {
   "cell_type": "code",
   "execution_count": null,
   "id": "7270e9c6",
   "metadata": {},
   "outputs": [],
   "source": [
    "def encoder_outputs_to_indexes(self, encoder_output: torch.Tensor):\n",
    "    '''\n",
    "    Apply index formulas to encoder_output\n",
    "    '''\n",
    "    \n",
    "    results = []\n",
    "    for ce in this.category_expressions:\n",
    "        #Create the index operation string\n",
    "        index_expression = category_to_index_expression(ce, this.category_names)\n",
    "        # Create the tensor operation\n",
    "        tensor_operation = expression_to_tensor_op(index_expression)\n",
    "\n",
    "        # Usage: apply tensor_operation on encoder_outputs\n",
    "        result = tensor_operation(encoder_outputs)\n",
    "        results.append(result)\n",
    "    \n",
    "    return torch.vstack(results)"
   ]
  },
  {
   "cell_type": "markdown",
   "id": "66aa20df",
   "metadata": {},
   "source": [
    "## Testing end to end input angles to prediction to gradient propagation."
   ]
  },
  {
   "cell_type": "code",
   "execution_count": 8,
   "id": "5818d9f6",
   "metadata": {},
   "outputs": [
    {
     "name": "stdout",
     "output_type": "stream",
     "text": [
      "Surface not initialized properly. Can only predict from raw position and direction.\n",
      "\n",
      "Input: {'building': 0.46274295, 'water': 8.225441e-06, 'road': 0.004007727, 'sidewalk': 0.0026765764, 'surface': 0.00989157, 'tree': 0.013746381, 'sky': 0.5069622}\n",
      "\n",
      "Result: {'water / ( water + surface )': array(0.50499105, dtype=float32)}\n",
      "Gradients:\n",
      "\txyz:  tensor([-6.2079e-06,  1.9403e-04, -1.3833e-04], dtype=torch.float64)\n",
      "\txyzh:  tensor([-0.0001, -0.0014,  0.0003], dtype=torch.float64)\n",
      "\n",
      "Result: {'building': array(-0.07451408, dtype=float32)}\n",
      "Gradients:\n",
      "\txyz:  tensor([-8.9609e-05, -7.9803e-03,  1.5807e-03], dtype=torch.float64)\n",
      "\txyzh:  tensor([ 0.0084, -0.0153,  0.0264], dtype=torch.float64)\n",
      "\n",
      "Result: {'tree / ( tree + road )': array(0.49504265, dtype=float32)}\n",
      "Gradients:\n",
      "\txyz:  tensor([-0.0001, -0.0080,  0.0016], dtype=torch.float64)\n",
      "\txyzh:  tensor([ 0.0079, -0.0152,  0.0269], dtype=torch.float64)\n",
      "\n",
      "Mean Gradients:\n",
      "\txyz:  tensor([-0.0002, -0.0106,  0.0022], dtype=torch.float64)\n",
      "\txyzh:  tensor([ 0.0106, -0.0202,  0.0358], dtype=torch.float64)\n",
      "\n",
      "Full Output of custom formulas:\n",
      " tensor([[ 0.5050],\n",
      "        [-0.0745],\n",
      "        [ 0.4950]], grad_fn=<CatBackward0>)\n"
     ]
    }
   ],
   "source": [
    "from utils.scripts.architectures.torch_nerf_src import network\n",
    "import pandas as pd\n",
    "\n",
    "info_dict_path       = \"./utils/assets/data/full_semantics/models/training_info_1000.json\"\n",
    "trained_model_path   = \"./utils/assets/data/full_semantics/models/encoder_1000.pt\"\n",
    "data_path            = \"./utils/assets/data/full_semantics/test_set_4800.json\"\n",
    "\n",
    "test_df = pd.read_json(data_path)\n",
    "\n",
    "# Initialize NeRFS model with weights of trainedNeRF model\n",
    "info_dict       = pd.read_json(info_dict_path).to_dict()[0]\n",
    "# return info_dict\n",
    "norm_params     = (torch.tensor(info_dict[\"xyz_centroid\"]), torch.tensor(info_dict[\"xyz_max-min\"]), torch.tensor(info_dict[\"xyzh_centroid\"]), torch.tensor(info_dict[\"xyzh_max-min\"]))\n",
    "\n",
    "\n",
    "trained_encoder            = network.nerfs.NeRFS(norm_params=norm_params, surface_type=\"square\", pos_dim=info_dict[\"enc_input_size\"], output_dim=info_dict[\"num_present_classes\"],  view_dir_dim=info_dict[\"enc_input_size\"])\n",
    "trained_encoder.load_state_dict(torch.load(trained_model_path))\n",
    "\n",
    "xyz  = torch.autograd.Variable(torch.tensor(test_df.values[:,:6][0].astype(float)[:3]), requires_grad=True)\n",
    "xyzh = torch.autograd.Variable(torch.tensor(test_df.values[:,:6][0].astype(float)[3:]), requires_grad=True)\n",
    "\n",
    "#Needs nerfs to be initalized with p, c and r parameters.\n",
    "# input_a, input_b = torch.autograd.Variable(torch.tensor([.5]), requires_grad=True), torch.autograd.Variable(torch.tensor([.5]), requires_grad=True)\n",
    "\n",
    "\n",
    "_, latent_features, prediction = trained_encoder.predict_from_raw(xyz, xyzh, return_latent_features=True)\n",
    "\n",
    "\n",
    "category_names = ['building', 'water', 'road', 'sidewalk', 'surface', 'tree', 'sky', \"miscellaneous\"]\n",
    "category_expressions = [\"water / ( water + surface )\", \n",
    "                        \"building\",\n",
    "                        \"tree / ( tree + road )\"]\n",
    "\n",
    "\n",
    "encoder_outputs = prediction[0]\n",
    "print(\"\\nInput:\", dict(zip(category_names, (encoder_outputs.detach().numpy()+1)/2)))\n",
    "\n",
    "results = []\n",
    "for ce in category_expressions:\n",
    "    #Create the index operation string\n",
    "    index_expression    = category_to_index_expression(ce, category_names)\n",
    "    # Create the tensor operation\n",
    "    tensor_operation = expression_to_tensor_op(index_expression)\n",
    "\n",
    "    # Usage: apply tensor_operation on encoder_outputs\n",
    "    result = tensor_operation(encoder_outputs)\n",
    "    results.append(result)\n",
    "\n",
    "    print(\"\\nResult:\", {ce : result.detach().numpy()})\n",
    "    result.backward(retain_graph=True)\n",
    "    print(\"Gradients:\")\n",
    "    print(\"\\txyz: \", xyz.grad)\n",
    "    print(\"\\txyzh: \", xyzh.grad)\n",
    "\n",
    "\n",
    "torch.vstack(results).mean().backward(retain_graph=True)\n",
    "\n",
    "print(\"\\nMean Gradients:\")\n",
    "print(\"\\txyz: \", xyz.grad)\n",
    "print(\"\\txyzh: \", xyzh.grad)\n",
    "\n",
    "print(\"\\nFull Output of custom formulas:\\n\", torch.vstack(results))\n",
    "\n"
   ]
  },
  {
   "cell_type": "markdown",
   "id": "104563f9",
   "metadata": {},
   "source": [
    "# 2. Measurements definition\n",
    "\n",
    "\n",
    "Measurements defined in:\n",
    "\n",
    "Measuring human perceptions of streetscapes to better inform urban renewal: A perspective of scene semantic parsing\n",
    "\n",
    "\n",
    "https://www.sciencedirect.com/science/article/pii/S0264275120314347?ref=pdf_download&fr=RR-2&rr=8c5b7ead683160a5"
   ]
  },
  {
   "cell_type": "code",
   "execution_count": 1,
   "id": "dfe27f5d",
   "metadata": {},
   "outputs": [
    {
     "data": {
      "text/plain": [
       "(1048576, 1048576, 1.0, 1.0, (21432, 8))"
      ]
     },
     "execution_count": 1,
     "metadata": {},
     "output_type": "execute_result"
    }
   ],
   "source": [
    "import numpy as np\n",
    "import pandas as pd\n",
    "\n",
    "# category_names = ['building', ' water', 'tree', 'sky']\n",
    "#[' building' ' water' ' road ' ' sidewalk' ' surface' ' tree' ' sky', \"miscellaneous\"]\n",
    "train_df = pd.read_json(\"./utils/assets/data/splits_physical/train_set_100-percent.json\")\n",
    "semantics_pixels     = np.vstack(train_df[\"f_xyz_raw\"].values)\n",
    "semantic_percentages = semantics_pixels / semantics_pixels.sum(axis=1)[:, np.newaxis]\n",
    "\n",
    "\n",
    "test_df         = pd.read_json(\"./utils/assets/data/splits_physical/test_set_4800.json\")\n",
    "test_pixels     = np.vstack(test_df[\"f_xyz_raw\"].values)\n",
    "test_semantic_percentages = test_pixels / test_pixels.sum(axis=1)[:, np.newaxis]\n",
    "\n",
    "\n",
    "semantics_pixels.sum(axis=1).min(), semantics_pixels.sum(axis=1).max(), \\\n",
    "semantic_percentages.sum(axis=1).min(), semantic_percentages.sum(axis=1).max(), semantic_percentages.shape\n"
   ]
  },
  {
   "cell_type": "markdown",
   "id": "5fdbab02",
   "metadata": {},
   "source": [
    "__Greeness__ - trees percentage\n",
    "\n",
    "__Openness__ - sky percentage\n",
    "\n",
    "__Imageability__ - buildings + street signs or street furniture or miscellaneous\n",
    "\n",
    "Bn denotes the proportion of building pixels, Tn denotes the proportion of tree pixels, Rn denotes the proportion of road pixels, p1n denotes the proportion of pavement pixels, and Fn denotes the proportion of fence pixels. The equation denotes the extent to which street canyons are visually enclosed by a street wall and corresponding horizontal elements.\n",
    "\n",
    "\n",
    "__Encolusre__ - buildings + trees / road or road-like + pavement or sidewalk + fences\n",
    "\n",
    "P1n denotes the proportion of pavement pixels, Fn denotes the proportion of fence pixels, and Rn denotes the proportion of road pixels. The equation denotes the visual impact of the perceptible road conditions on the walking experience.\n",
    "\n",
    "__Walkability__ - pavement or sidewalk + fences / road\n",
    "\n",
    "Bn denotes the proportion of building pixels, and Sn denotes the proportion of sign symbol pixels. The equation denotes the impression of the street in terms of richness and diversity shaped by buildings, sign symbols and other street furniture."
   ]
  },
  {
   "cell_type": "markdown",
   "id": "ab3523ef",
   "metadata": {},
   "source": [
    "# Conclusion of metrics in our own classes\n",
    "\n",
    "[0:' building' 1:' water' 2:' road ' 3:' sidewalk' 4:' surface' 5:' tree' 6:' sky', 7:\"miscellaneous\"]\n",
    "\n",
    "__Greeness__ - trees \n",
    "\n",
    "__Openness__ - sky \n",
    "\n",
    "__Imageability__ - buildings  + miscellaneous\n",
    "\n",
    "__Enclosure__ - (buildings  + trees)  / (road + surface + sidewalk + miscellaneous + buildings  + trees) (+ buildings  + trees added in order to have a maxiumum of 1)\n",
    "\n",
    "__Walkability__ - sidewalk / (road + sidewalk) (we added sidewalk here because we are interested in  percentage of sidewalks out of the total road + sidewalk / a maxium of 1)\n",
    "\n",
    "additional:\n",
    "__Serenity__ Water + Sky (or just water)\n",
    "\n",
    "__Depth Score__ - 1 - 100 based on depth histogram mode. "
   ]
  },
  {
   "cell_type": "code",
   "execution_count": 2,
   "id": "60c357c1",
   "metadata": {
    "scrolled": true
   },
   "outputs": [],
   "source": [
    "sp                 = semantic_percentages \n",
    "\n",
    "perception_metrics = [\"greenness\", \"openness\", \"imageability\", \"encolusre\", \"walkability\", \"serenity\"]\n",
    "\n",
    "train_df[\"greenness\"]     = sp[:,5] # trees\n",
    "train_df[\"openness\"]     = sp[:,6] # sky\n",
    "train_df[\"imageability\"] = sp[:,0] + sp[:,7] #buildings + misc\n",
    "\n",
    "#eclosure:\n",
    "enc_num = (sp[:,0] + sp[:,5])\n",
    "enc_den = (sp[:,2] + sp[:,3] + sp[:,4] + sp[:,7] + sp[:,0] + sp[:,5])\n",
    "train_df[\"encolusre\"]    = np.divide(enc_num, enc_den, out=np.zeros_like(enc_num), where=enc_den!=0)\n",
    "# train_df[\"encolusre\"]    = (sp[:,0] + sp[:,5]) / (sp[:,2] + sp[:,3] + sp[:,4] + sp[:,7] + sp[:,0] + sp[:,5])\n",
    "\n",
    "#walkability:\n",
    "walk_num = (sp[:,4])\n",
    "walk_den = (sp[:,2] + sp[:,4])\n",
    "train_df[\"walkability\"]    = np.divide(walk_num, walk_den, out=np.zeros_like(walk_num), where=walk_den!=0)\n",
    "# train_df[\"walkability\"]  = (sp[:,4] ) / (sp[:,2] + sp[:,4]) # sidewalk / road + sidewalk \n",
    "\n",
    "\n",
    "train_df[\"serenity\"]     = sp[:,2] + sp[:,6] #water + sky\n",
    "\n",
    "\n",
    "train_df[\"f_xyz_perception\"] = train_df[perception_metrics].values.tolist()\n",
    "\n",
    "pd.DataFrame(perception_metrics, columns=[\"class\"])\\\n",
    ".to_csv(\"./utils/assets/data/perception_metrics/classes_index.csv\", index_label=\"color\")\n",
    "\n",
    "train_df.to_csv(\"./utils/assets/data/perception_metrics/train_set_100-percent.csv\", index=False)\n",
    "train_df.to_json(\"./utils/assets/data/perception_metrics/train_set_100-percent.json\", indent=4, orient=\"records\")\n",
    "\n",
    "# train_df.head()"
   ]
  },
  {
   "cell_type": "code",
   "execution_count": 2,
   "id": "9abf9f61",
   "metadata": {
    "scrolled": true
   },
   "outputs": [],
   "source": [
    "sp                 = test_semantic_percentages \n",
    "\n",
    "perception_metrics = [\"greenness\", \"openness\", \"imageability\", \"encolusre\", \"walkability\", \"serenity\"]\n",
    "\n",
    "test_df[\"greenness\"]     = sp[:,5] # trees\n",
    "test_df[\"openness\"]     = sp[:,6] # sky\n",
    "test_df[\"imageability\"] = sp[:,0] + sp[:,7] #buildings + misc\n",
    "\n",
    "#eclosure:\n",
    "enc_num = (sp[:,0] + sp[:,5])\n",
    "enc_den = (sp[:,2] + sp[:,3] + sp[:,4] + sp[:,7] + sp[:,0] + sp[:,5])\n",
    "test_df[\"encolusre\"]    = np.divide(enc_num, enc_den, out=np.zeros_like(enc_num), where=enc_den!=0)\n",
    "# test_df[\"encolusre\"]    = (sp[:,0] + sp[:,5]) / (sp[:,2] + sp[:,3] + sp[:,4] + sp[:,7] + sp[:,0] + sp[:,5])\n",
    "\n",
    "#walkability:\n",
    "walk_num = (sp[:,4])\n",
    "walk_den = (sp[:,2] + sp[:,4])\n",
    "test_df[\"walkability\"]    = np.divide(walk_num, walk_den, out=np.zeros_like(walk_num), where=walk_den!=0)\n",
    "# test_df[\"walkability\"]  = (sp[:,4] ) / (sp[:,2] + sp[:,4]) # sidewalk / road + sidewalk \n",
    "\n",
    "\n",
    "test_df[\"serenity\"]     = sp[:,2] + sp[:,6] #water + sky\n",
    "\n",
    "\n",
    "test_df[\"f_xyz_perception\"] = test_df[perception_metrics].values.tolist()\n",
    "\n",
    "# pd.DataFrame(perception_metrics, columns=[\"class\"])\\\n",
    "# .to_csv(\"./utils/assets/data/perception_metrics/classes_index.csv\", index_label=\"color\")\n",
    "\n",
    "test_df.to_csv(\"./utils/assets/data/perception_metrics/test_set_4800.csv\", index=False)\n",
    "test_df.to_json(\"./utils/assets/data/perception_metrics/test_set_4800.json\", indent=4, orient=\"records\")\n",
    "\n",
    "# test_df.head()"
   ]
  },
  {
   "cell_type": "markdown",
   "id": "0edf8ee8",
   "metadata": {},
   "source": [
    "# Train encoder on Perception metrics"
   ]
  },
  {
   "cell_type": "code",
   "execution_count": 4,
   "id": "e21e54d6",
   "metadata": {
    "scrolled": true
   },
   "outputs": [
    {
     "name": "stdout",
     "output_type": "stream",
     "text": [
      "Selected label indexes: [0 1 2 3 4 5] [ True  True  True  True  True  True]\n",
      "Train model based on selected label indexes: ['greeness' 'openness' 'imageability' 'encolusre' 'walkability' 'serenity']\n",
      "Training data percentace 100.00% - 17,145 samples, for 350 epochs:\n"
     ]
    },
    {
     "name": "stderr",
     "output_type": "stream",
     "text": [
      "Epoch 350 / 350- Training loss 0.07542 - test loss 0.09254: 100%|█████████████████████████████████████████████████████████████████████████████████████████████| 350/350 [10:09<00:00,  1.74s/it]"
     ]
    },
    {
     "name": "stdout",
     "output_type": "stream",
     "text": [
      "Model weights saved at:\n",
      "\t./utils/assets/data/perception_metrics/models/encoder_350.pt\n",
      "\n",
      "Training for \n",
      "\t350     epochs took: \n",
      "\t609s, for an average of: \n",
      "\t1.7s per epoch.\n"
     ]
    },
    {
     "name": "stderr",
     "output_type": "stream",
     "text": [
      "\n"
     ]
    }
   ],
   "source": [
    "\n",
    "from utils.scripts.architectures.train_location_encoder import train_model_on_data\n",
    "\n",
    "\n",
    "file_store = \"./utils/assets/data/perception_metrics/train_set_100-percent.json\"\n",
    "ne = 350\n",
    "model_name = f\"encoder_{ne}.pt\"\n",
    "\n",
    "# Train NeRF for ne epochs\n",
    "encoder_net, tr_losses_history, test_losses_history, vdf \\\n",
    "    = train_model_on_data(data_path=file_store, num_epochs=ne, model_name=model_name, label_name=\"f_xyz_perception\")\n"
   ]
  },
  {
   "cell_type": "code",
   "execution_count": 82,
   "id": "fc39d0c5",
   "metadata": {},
   "outputs": [
    {
     "data": {
      "text/plain": [
       "array([ True,  True])"
      ]
     },
     "execution_count": 82,
     "metadata": {},
     "output_type": "execute_result"
    }
   ],
   "source": [
    "np.ones_like([2,3]).astype(bool)"
   ]
  },
  {
   "cell_type": "code",
   "execution_count": 72,
   "id": "7bc9b68c",
   "metadata": {
    "scrolled": false
   },
   "outputs": [
    {
     "data": {
      "text/plain": [
       "<matplotlib.legend.Legend at 0x13d976880>"
      ]
     },
     "execution_count": 72,
     "metadata": {},
     "output_type": "execute_result"
    },
    {
     "data": {
      "image/png": "[encoded data removed]",
      "text/plain": [
       "<Figure size 640x480 with 1 Axes>"
      ]
     },
     "metadata": {},
     "output_type": "display_data"
    }
   ],
   "source": [
    "import matplotlib.pyplot as plt\n",
    "\n",
    "for pm in perception_metrics:#[::-1]:\n",
    "    train_df[pm].hist(label=pm, alpha=.5)#, color=pm[0])#sort_values()\n",
    "#     break\n",
    "# train_df[\"walkability\"].hist(label=\"w\", alpha=.5)\n",
    "plt.legend()"
   ]
  },
  {
   "cell_type": "code",
   "execution_count": null,
   "id": "b7d0ef66",
   "metadata": {},
   "outputs": [],
   "source": []
  }
 ],
 "metadata": {
  "kernelspec": {
   "display_name": "Python [conda env:visibility_encoder]",
   "language": "python",
   "name": "conda-env-visibility_encoder-py"
  },
  "language_info": {
   "codemirror_mode": {
    "name": "ipython",
    "version": 3
   },
   "file_extension": ".py",
   "mimetype": "text/x-python",
   "name": "python",
   "nbconvert_exporter": "python",
   "pygments_lexer": "ipython3",
   "version": "3.9.13"
  }
 },
 "nbformat": 4,
 "nbformat_minor": 5
}
